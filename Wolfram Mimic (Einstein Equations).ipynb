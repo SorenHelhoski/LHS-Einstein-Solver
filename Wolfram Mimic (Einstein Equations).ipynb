{
 "cells": [
  {
   "cell_type": "code",
   "execution_count": 33,
   "metadata": {},
   "outputs": [],
   "source": [
    "def P(text): #  convert string to polynomial list  \n",
    "    text = text.replace(' ','')\n",
    "    text = text.replace('^-','~')\n",
    "    terms0 = text.split('+')\n",
    "    terms = []\n",
    "    for i in range(len(terms0)):\n",
    "        each = terms0[i]\n",
    "        if '-' not in each:\n",
    "            terms.append(each)\n",
    "        else:\n",
    "            new_each = each.split('-')\n",
    "            terms.append(new_each[0])\n",
    "            for j in range(len(new_each)-1):\n",
    "                terms.append('-'+new_each[j+1])\n",
    "    if '' in terms:\n",
    "        terms.remove('')\n",
    "            \n",
    "    expanded = []\n",
    "    for each in terms:\n",
    "        term = term_convert(each)\n",
    "        expanded.append(term)\n",
    "    return simplify(expanded)\n",
    "\n",
    "def term_convert(text):\n",
    "    numbers = ['0','1','2','3','4','5','6','7','8','9','0','.','-','^','~','j']\n",
    "    text = text.replace(' ','')\n",
    "    splits = [0]\n",
    "    for i in range(len(text)):\n",
    "        cha = text[i]\n",
    "        if cha not in numbers:\n",
    "            splits.append(i)\n",
    "    var = []\n",
    "    for j in range(len(splits)-1):\n",
    "        phrase = text[splits[j]:splits[j+1]]\n",
    "        if phrase == '':\n",
    "            var.append('1')\n",
    "        else:\n",
    "            var.append(phrase)\n",
    "    var.append(text[splits[-1]:])\n",
    "    expanded = []\n",
    "    expanded.append(eval(var[0]))\n",
    "    variables = []\n",
    "    powers = []\n",
    "    for i in range(1,len(var)):\n",
    "        each = var[i]\n",
    "        if '^' in each:\n",
    "            split = each.split('^')\n",
    "            variables.append(split[0])\n",
    "            powers.append(eval(split[1]))\n",
    "        elif '~' in each:\n",
    "            split = each.split('~')\n",
    "            variables.append(split[0])\n",
    "            powers.append(-eval(split[1]))\n",
    "        else:\n",
    "            variables.append(each)\n",
    "            powers.append(1)\n",
    "        \n",
    "    expanded.append(variables)\n",
    "    expanded.append(list(powers))\n",
    "    return expanded\n",
    "\n",
    "    \n",
    "def contract(collapsed):\n",
    "    poly_out = ''\n",
    "    for each in collapsed:\n",
    "        coeff = str(each[0])\n",
    "        poly_out += ' +'+ coeff\n",
    "        for i in range(len(each[1])):\n",
    "            poly_out += each[1][i] + '^' + str(each[2][i]) + '?'\n",
    "    \n",
    "    poly_out = poly_out.replace('(-0','')\n",
    "    poly_out = poly_out.replace(')','')\n",
    "            \n",
    "    poly_out = poly_out.replace('+-','-')\n",
    "    poly_out = poly_out.replace('^1?','')\n",
    "    if poly_out[:2] == ' +':\n",
    "        poly_out = poly_out[2:]\n",
    "    else:\n",
    "        poly_out = poly_out[1:]\n",
    "    poly_out = poly_out.replace('?','')\n",
    "    return poly_out\n",
    "    \n",
    "    \n",
    "def multiply(term1,term2):\n",
    "    term_out = []\n",
    "    coeff = term1[0]*term2[0]\n",
    "    term_out.append(coeff)\n",
    "    var_pow = {}\n",
    "    for i in range(len(term1[1])):\n",
    "        if term1[1][i] in var_pow.keys():\n",
    "            var_pow[term1[1][i]] += term1[2][i]\n",
    "        else:\n",
    "            var_pow[term1[1][i]] = term1[2][i]\n",
    "    for i in range(len(term2[1])):\n",
    "        if term2[1][i] in var_pow.keys():\n",
    "            var_pow[term2[1][i]] += term2[2][i] \n",
    "        else:\n",
    "            var_pow[term2[1][i]] = term2[2][i]\n",
    "    variables = []\n",
    "    powers = []\n",
    "    for each in var_pow.keys():\n",
    "        variables.append(each)\n",
    "        powers.append(var_pow[each])\n",
    "    term_out.append(variables)\n",
    "    term_out.append(powers)\n",
    "    return term_out\n",
    "\n",
    "\n",
    "def add(P1,P2):\n",
    "    added = [[0,[],[]]]\n",
    "    for each in P1:\n",
    "        added.append(each)\n",
    "    for each in P2:\n",
    "        added.append(each)   \n",
    "    return simplify(added)\n",
    "\n",
    "def addi(polys):\n",
    "    added = polys[0]\n",
    "    for i in range(1,len(polys)):\n",
    "        added = add(added,polys[i])\n",
    "    return simplify(added)\n",
    "    \n",
    "\n",
    "def mult(P1,P2):\n",
    "    multiplied = [[0,[],[]]]\n",
    "    for each in P1:\n",
    "        for every in P2:\n",
    "            multiplied.append(multiply(each,every))\n",
    "    return simplify(multiplied)\n",
    "\n",
    "def multi(polys):\n",
    "    multiplied = polys[0]\n",
    "    for i in range(1,len(polys)):\n",
    "        multiplied = mult(multiplied,polys[i])\n",
    "    return simplify(multiplied)\n",
    "\n",
    "def split_complex(P):\n",
    "    split_P = []\n",
    "    for each in P:\n",
    "        coeff = each[0]\n",
    "        if type(coeff) != complex:\n",
    "            split_P.append(each)\n",
    "        else:\n",
    "            if coeff.real != 0:\n",
    "                split_P.append([coeff.real,each[1],each[2]])\n",
    "            if coeff.imag != 0:\n",
    "                split_P.append([float(coeff.imag)*1j,each[1],each[2]])\n",
    "    return split_P\n",
    "\n",
    "def remove_raised_0(P):\n",
    "    kept = []\n",
    "    for each in P:\n",
    "        coeff = each[0]\n",
    "        variables = []\n",
    "        powers = []\n",
    "        for i in range(len(each[1])):\n",
    "            if each[2][i] != 0:\n",
    "                variables.append(each[1][i])\n",
    "                powers.append(each[2][i])\n",
    "        kept.append([coeff,variables,powers])\n",
    "    if kept == []:\n",
    "        return [[0,[],[]]]\n",
    "    return kept\n",
    "    \n",
    "\n",
    "def combine_like_terms(P):\n",
    "    like_terms = {}\n",
    "    for i in range(len(P)):\n",
    "        term = P[i]\n",
    "        alpha = term[1]\n",
    "        powers = term[2]\n",
    "        if len(alpha) > 1:\n",
    "            alpha, powers = zip(*sorted(zip(alpha, powers)))\n",
    "        alpha = list(alpha)\n",
    "        powers = list(powers)\n",
    "        T = str([alpha,powers])\n",
    "        if T in like_terms:\n",
    "            like_terms[T] += term[0]\n",
    "        else:\n",
    "            like_terms[T] = term[0]\n",
    "    collapsed = []\n",
    "    for each in like_terms.keys():\n",
    "        coeff = like_terms[each]\n",
    "        varpow = eval(each[1:-1])\n",
    "        if type(coeff) == float and coeff == int(coeff):\n",
    "            coeff = int(coeff)\n",
    "        if type(coeff) == complex and coeff.imag == int(coeff.imag):\n",
    "            coeff = int(coeff.imag)*1j\n",
    "        if like_terms[each] != 0:\n",
    "            collapsed.append([coeff,varpow[0],varpow[1]])\n",
    "    if collapsed == []:\n",
    "        return [[0,[],[]]]\n",
    "    return collapsed\n",
    "\n",
    "def simplify(P):\n",
    "    P = split_complex(P)\n",
    "    P = remove_raised_0(P)\n",
    "    P = combine_like_terms(P)\n",
    "    return P\n",
    "\n",
    "def partial_term(var, P0):\n",
    "    chain = {}\n",
    "    func  = []\n",
    "    \n",
    "    for each in Chains.keys():\n",
    "        if var == each:\n",
    "            chain = Chains[var] \n",
    "            func = list(chain.keys())\n",
    "            func.append(var) \n",
    "    chain[var] = [[1,[],[]]]\n",
    "    func.sort()\n",
    "\n",
    "    term = P0[0]\n",
    "    cond = True\n",
    "    for each in func:\n",
    "        if each in term[1]:\n",
    "            chosen_variable = each\n",
    "            cond = False\n",
    "            break\n",
    "    if cond:\n",
    "        return [[0,[],[]]]\n",
    "    \n",
    "    f_coeff = term[0]\n",
    "    f_variables = []\n",
    "    f_powers = []\n",
    "    \n",
    "    g_coeff = 1\n",
    "    g_variables = []\n",
    "    g_powers = []\n",
    "    \n",
    "    df_coeff = term[0]\n",
    "    df_variables = []\n",
    "    df_powers = []\n",
    "    \n",
    "    for i in range(len(term[1])):\n",
    "        if term[1][i] == chosen_variable:\n",
    "            f_variables.append(term[1][i])\n",
    "            f_powers.append(term[2][i])\n",
    "            \n",
    "            df_coeff *= term[2][i]\n",
    "            df_variables.append(term[1][i])\n",
    "            df_powers.append(term[2][i]-1)\n",
    "        else:\n",
    "            g_variables.append(term[1][i])\n",
    "            g_powers.append(term[2][i])\n",
    "            \n",
    "    f = [[f_coeff,f_variables,f_powers]]\n",
    "    g = [[g_coeff,g_variables,g_powers]]\n",
    "    \n",
    "    P1 = [[df_coeff,df_variables,df_powers]]\n",
    "    \n",
    "    chain_rule = chain[chosen_variable]\n",
    "    \n",
    "    if type(chain_rule)== str:\n",
    "        if '_' in chain_rule:\n",
    "            chain_rule = [[1,[chain_rule],[1]]]\n",
    "        else:\n",
    "            chain_rule = P(chain_rule)\n",
    "    \n",
    "    df = mult(P1,chain_rule)\n",
    "    \n",
    "    return add(mult(g,df),mult(f,partial_term(var,g)))       \n",
    "\n",
    "\n",
    "\n",
    "def partial(var, P):\n",
    "    derivative = [[0,[],[]]]\n",
    "    for term in P:\n",
    "        term_derivative = partial_term(var,[term])\n",
    "        for every in term_derivative:            \n",
    "            derivative.append(every)\n",
    "    return simplify(derivative)\n",
    "\n",
    "\n",
    "def order(var,P,num,size):\n",
    "    if type(var) != list:\n",
    "        var = [var]\n",
    "    if size == 'small':\n",
    "        size = 1\n",
    "    if size == 'large':\n",
    "        size = -1\n",
    "    expression = [[0,[],[]]]\n",
    "    for each in P:\n",
    "        Order = 0 \n",
    "        for i in range(len(each[2])):\n",
    "            if each[1][i] in var :\n",
    "                Order += each[2][i]\n",
    "        if not (Order*size > num):\n",
    "            expression.append(each)\n",
    "    return simplify(expression)\n",
    "\n",
    "def substitute(P1,function,substitution): #can only substitute for positive integer powers \n",
    "    substituted = [[0,[],[]]]\n",
    "    for term in P1:\n",
    "        new_P = [term]\n",
    "        if function in term[1]:\n",
    "            power = term[2][term[1].index(function)]\n",
    "            if not (power > 0 and type(power)==int):\n",
    "                substituted = add(substituted,new_P)\n",
    "                continue\n",
    "            new_P = mult(new_P,[[1,[function],[-power]]])\n",
    "            for j in range(power):\n",
    "                new_P = mult(new_P,substitution)\n",
    "        substituted = add(substituted,new_P)\n",
    "    return simplify(substituted)\n",
    "\n",
    "\n",
    "Chains = {'x':{ 'S':'1C','C':'-1S', 'e':'1e'}}"
   ]
  },
  {
   "cell_type": "code",
   "execution_count": null,
   "metadata": {},
   "outputs": [],
   "source": []
  },
  {
   "cell_type": "code",
   "execution_count": 34,
   "metadata": {},
   "outputs": [
    {
     "data": {
      "text/plain": [
       "'1 +1C^-2S^2'"
      ]
     },
     "execution_count": 34,
     "metadata": {},
     "output_type": "execute_result"
    }
   ],
   "source": [
    "PS = P('1S')\n",
    "PC = P('1C^-1')\n",
    "\n",
    "PT = mult(PS,PC)\n",
    "\n",
    "contract(partial('x',PT))"
   ]
  },
  {
   "cell_type": "code",
   "execution_count": 35,
   "metadata": {},
   "outputs": [
    {
     "data": {
      "text/plain": [
       "[[1j, ['x', 'y'], [1, 2]], [5, ['t'], [1]]]"
      ]
     },
     "execution_count": 35,
     "metadata": {},
     "output_type": "execute_result"
    }
   ],
   "source": [
    "P1 = P('1jxy^2+5t')\n",
    "P2 = P('y')\n",
    "P3 = P('z+a^4')\n",
    "\n",
    "P1"
   ]
  },
  {
   "cell_type": "code",
   "execution_count": 36,
   "metadata": {},
   "outputs": [
    {
     "data": {
      "text/plain": [
       "'1jxy^2 +5t +1y +1z +1a^4'"
      ]
     },
     "execution_count": 36,
     "metadata": {},
     "output_type": "execute_result"
    }
   ],
   "source": [
    "contract(addi([P1,P2,P3]))"
   ]
  },
  {
   "cell_type": "code",
   "execution_count": 37,
   "metadata": {},
   "outputs": [
    {
     "data": {
      "text/plain": [
       "'1jxy^3 +5ty'"
      ]
     },
     "execution_count": 37,
     "metadata": {},
     "output_type": "execute_result"
    }
   ],
   "source": [
    "contract(mult(P1,P2))"
   ]
  },
  {
   "cell_type": "code",
   "execution_count": 38,
   "metadata": {},
   "outputs": [
    {
     "data": {
      "text/plain": [
       "'1z'"
      ]
     },
     "execution_count": 38,
     "metadata": {},
     "output_type": "execute_result"
    }
   ],
   "source": [
    "contract(order(['a','x'],P3,3,'small'))"
   ]
  },
  {
   "cell_type": "code",
   "execution_count": 39,
   "metadata": {},
   "outputs": [
    {
     "data": {
      "text/plain": [
       "'-2S^2 +2C^2'"
      ]
     },
     "execution_count": 39,
     "metadata": {},
     "output_type": "execute_result"
    }
   ],
   "source": [
    "P0= P('S^2')\n",
    "\n",
    "contract(partial('x',partial('x',P0)))"
   ]
  },
  {
   "cell_type": "code",
   "execution_count": 40,
   "metadata": {},
   "outputs": [
    {
     "data": {
      "text/plain": [
       "True"
      ]
     },
     "execution_count": 40,
     "metadata": {},
     "output_type": "execute_result"
    }
   ],
   "source": [
    "x = P('-1jx+1x^-1+1+2')\n",
    "y = P('-1.0jx+x^-1+3')\n",
    "x == y"
   ]
  },
  {
   "cell_type": "code",
   "execution_count": 41,
   "metadata": {},
   "outputs": [
    {
     "data": {
      "text/plain": [
       "'3CS^2T^4e^5x^7 +5S^3T^4e^5x^7 +7S^3T^4e^5x^6'"
      ]
     },
     "execution_count": 41,
     "metadata": {},
     "output_type": "execute_result"
    }
   ],
   "source": [
    "PT = P('x^7T^4e^5S^3')\n",
    "\n",
    "contract(partial('x',PT))"
   ]
  },
  {
   "cell_type": "code",
   "execution_count": 42,
   "metadata": {},
   "outputs": [
    {
     "data": {
      "text/plain": [
       "'1C'"
      ]
     },
     "execution_count": 42,
     "metadata": {},
     "output_type": "execute_result"
    }
   ],
   "source": [
    "P0 = P('1S')\n",
    "\n",
    "soln = P0\n",
    "\n",
    "for i in range(101):\n",
    "    soln = partial('x',soln)\n",
    "    \n",
    "contract(soln)"
   ]
  },
  {
   "cell_type": "code",
   "execution_count": null,
   "metadata": {},
   "outputs": [],
   "source": []
  },
  {
   "cell_type": "code",
   "execution_count": 43,
   "metadata": {},
   "outputs": [],
   "source": [
    "def matrix_convert(Matrix):\n",
    "    cond = False\n",
    "    if type(Matrix[0][0]) == str:\n",
    "        cond = True\n",
    "    matrix = []\n",
    "    for row in range(4):\n",
    "        whole_row = []\n",
    "        for column in range(4):\n",
    "            if cond:\n",
    "                whole_row.append(P(Matrix[row][column]))\n",
    "            else:\n",
    "                whole_row.append(contract(Matrix[row][column]))\n",
    "        matrix.append(whole_row)\n",
    "    return matrix \n",
    "\n",
    "def matrix_order(Order_list, Matrix, num, size):\n",
    "    matrix = []\n",
    "    for row in range(4):\n",
    "        whole_row = []\n",
    "        for column in range(4):\n",
    "            whole_row.append(contract( order(Order_list,Matrix[row][column],num,size) ))\n",
    "        matrix.append(whole_row)\n",
    "    return matrix \n",
    "    \n",
    "    \n",
    "def christoffel(beta,mu,nu,metric,metric_con):\n",
    "    x = list(Chains.keys())\n",
    "    value = [[0,[],[]]]\n",
    "    for a in range(4):\n",
    "        paren1= partial(x[nu],metric[a][mu])\n",
    "        paren2= partial(x[mu],metric[a][nu])\n",
    "        paren3= mult(P('-1'),partial(x[a],metric[mu][nu]))\n",
    "        paren = addi([paren1,paren2,paren3])\n",
    "        value = add(value,multi([P('0.5'), metric_con[beta][a],paren]))\n",
    "    return value\n",
    "\n",
    "def Christoffel(metric,metric_con):\n",
    "    not_a_tensor = []\n",
    "    for depth in range(4):\n",
    "        matrix = []\n",
    "        for row in range(4):\n",
    "            whole_row = []\n",
    "            for column in range(4):\n",
    "                whole_row.append(christoffel(depth,row,column,metric,metric_con))\n",
    "            matrix.append(whole_row)\n",
    "        not_a_tensor.append(matrix)\n",
    "    return not_a_tensor\n",
    "\n",
    "def ricci_tensor(mu,nu,metric,metric_con):\n",
    "    x = list(Chains.keys())\n",
    "    Christ_Symbol = Christoffel(metric,metric_con)\n",
    "    \n",
    "    first  = [[0,[],[]]]\n",
    "    for a in range(4):\n",
    "        first = add(first,partial(x[a],Christ_Symbol[a][mu][nu]))\n",
    "    \n",
    "    second = [[0,[],[]]]\n",
    "    for a in range(4):\n",
    "        second = add(second,partial(x[nu],Christ_Symbol[a][mu][a]))\n",
    "    second = mult(P('-1'),second)\n",
    "    \n",
    "    third  = [[0,[],[]]]\n",
    "    for b in range(4):\n",
    "        for a in range(4):\n",
    "            third = add(third,mult(Christ_Symbol[a][b][a],Christ_Symbol[b][mu][nu]))\n",
    "    \n",
    "    fourth = [[0,[],[]]]\n",
    "    for b in range(4):\n",
    "        for a in range(4):\n",
    "            fourth = add(fourth,mult(Christ_Symbol[a][b][nu],Christ_Symbol[b][mu][a]))\n",
    "    fourth = mult(P('-1'),fourth)\n",
    "    \n",
    "    return addi([first,second,third,fourth])\n",
    "\n",
    "def Ricci_Tensor(metric,metric_con):\n",
    "    matrix = []\n",
    "    for row in range(4):\n",
    "        whole_row = []\n",
    "        for column in range(4):\n",
    "            whole_row.append(ricci_tensor(row,column,metric,metric_con))\n",
    "        matrix.append(whole_row)\n",
    "    return matrix\n",
    "\n",
    "def Ricci_Scalar(metric,metric_con):\n",
    "    Tensor = Ricci_Tensor(metric,metric_con)\n",
    "    scalar = [[0,[],[]]]\n",
    "    for row in range(4):\n",
    "        for column in range(4):\n",
    "            scalar = add(scalar,mult(metric_con[row][column],Tensor[row][column]))\n",
    "    return scalar\n",
    "\n",
    "def Einstein_Tensor(R_Tensor,R_Scalar,metric):\n",
    "    Tensor = []\n",
    "    for i in range(4):\n",
    "        row = []\n",
    "        for j in range(4):\n",
    "            row.append( add(R_Tensor[i][j],multi([P('-0.5'),metric[i][j],R_Scalar])))\n",
    "        Tensor.append(row)\n",
    "    return Tensor"
   ]
  },
  {
   "cell_type": "markdown",
   "metadata": {},
   "source": [
    "# Any Spacially Equivalent Diagaonal Metric"
   ]
  },
  {
   "cell_type": "code",
   "execution_count": 44,
   "metadata": {},
   "outputs": [],
   "source": [
    "A0 =[['f', '0', '0', '0'], \\\n",
    "    [ '0', 'g', '0', '0'], \\\n",
    "    [ '0', '0', 'g', '0'], \\\n",
    "    [ '0', '0', '0', 'g']]\n",
    "\n",
    "A0_con =[['f^-1', '0', '0', '0'], \\\n",
    "    [ '0', 'g^-1', '0', '0'], \\\n",
    "    [ '0', '0', 'g^-1', '0'], \\\n",
    "    [ '0', '0', '0', 'g^-1']]\n",
    "\n",
    "Chains = {'t':{'f':'f_t', 'g':'g_t', 'f_t':'f_tt', 'f_x':'f_tx', 'f_y':'f_ty' , 'f_z':'f_tz', 'g_t':'g_tt', 'g_x':'g_tx', 'g_y':'g_ty', 'g_z':'g_tz' }, \\\n",
    "          'x':{'f':'f_x', 'g':'g_x', 'f_t':'f_tx', 'f_x':'f_xx', 'f_y':'f_xy' , 'f_z':'f_xz', 'g_t':'g_tx', 'g_x':'g_xx', 'g_y':'g_xy', 'g_z':'g_xz' }, \\\n",
    "          'y':{'f':'f_y', 'g':'g_y', 'f_t':'f_ty', 'f_x':'f_xy', 'f_y':'f_yy' , 'f_z':'f_yz', 'g_t':'g_ty', 'g_x':'g_xy', 'g_y':'g_yy', 'g_z':'g_yz' }, \\\n",
    "          'z':{'f':'f_z', 'g':'g_z', 'f_t':'f_tz', 'f_x':'f_xz', 'f_y':'f_yz' , 'f_z':'f_zz', 'g_t':'g_tz', 'g_x':'g_xz', 'g_y':'g_yz', 'g_z':'g_zz' }}\n",
    "\n",
    "A      = matrix_convert(A0)\n",
    "A_con  = matrix_convert(A0_con)"
   ]
  },
  {
   "cell_type": "code",
   "execution_count": 45,
   "metadata": {},
   "outputs": [
    {
     "data": {
      "text/plain": [
       "[['0.5f^-1f_t', '0.5f^-1f_x', '0.5f^-1f_y', '0.5f^-1f_z'],\n",
       " ['0.5f^-1f_x', '-0.5f^-1g_t', '0', '0'],\n",
       " ['0.5f^-1f_y', '0', '-0.5f^-1g_t', '0'],\n",
       " ['0.5f^-1f_z', '0', '0', '-0.5f^-1g_t']]"
      ]
     },
     "execution_count": 45,
     "metadata": {},
     "output_type": "execute_result"
    }
   ],
   "source": [
    "matrix_convert(Christoffel(A,A_con)[0])"
   ]
  },
  {
   "cell_type": "code",
   "execution_count": 46,
   "metadata": {},
   "outputs": [
    {
     "data": {
      "text/plain": [
       "[['-0.5f_xg^-1', '0.5g^-1g_t', '0', '0'],\n",
       " ['0.5g^-1g_t', '0.5g^-1g_x', '0.5g^-1g_y', '0.5g^-1g_z'],\n",
       " ['0', '0.5g^-1g_y', '-0.5g^-1g_x', '0'],\n",
       " ['0', '0.5g^-1g_z', '0', '-0.5g^-1g_x']]"
      ]
     },
     "execution_count": 46,
     "metadata": {},
     "output_type": "execute_result"
    }
   ],
   "source": [
    "matrix_convert(Christoffel(A,A_con)[1])"
   ]
  },
  {
   "cell_type": "code",
   "execution_count": 47,
   "metadata": {},
   "outputs": [
    {
     "data": {
      "text/plain": [
       "[['-0.5f_yg^-1', '0', '0.5g^-1g_t', '0'],\n",
       " ['0', '-0.5g^-1g_y', '0.5g^-1g_x', '0'],\n",
       " ['0.5g^-1g_t', '0.5g^-1g_x', '0.5g^-1g_y', '0.5g^-1g_z'],\n",
       " ['0', '0', '0.5g^-1g_z', '-0.5g^-1g_y']]"
      ]
     },
     "execution_count": 47,
     "metadata": {},
     "output_type": "execute_result"
    }
   ],
   "source": [
    "matrix_convert(Christoffel(A,A_con)[2])"
   ]
  },
  {
   "cell_type": "code",
   "execution_count": 48,
   "metadata": {},
   "outputs": [
    {
     "data": {
      "text/plain": [
       "[['-0.5f_zg^-1', '0', '0', '0.5g^-1g_t'],\n",
       " ['0', '-0.5g^-1g_z', '0', '0.5g^-1g_x'],\n",
       " ['0', '0', '-0.5g^-1g_z', '0.5g^-1g_y'],\n",
       " ['0.5g^-1g_t', '0.5g^-1g_x', '0.5g^-1g_y', '0.5g^-1g_z']]"
      ]
     },
     "execution_count": 48,
     "metadata": {},
     "output_type": "execute_result"
    }
   ],
   "source": [
    "matrix_convert(Christoffel(A,A_con)[3])"
   ]
  },
  {
   "cell_type": "code",
   "execution_count": 49,
   "metadata": {},
   "outputs": [
    {
     "data": {
      "text/plain": [
       "[['-0.5f_xxg^-1 -0.25f_xg^-2g_x -0.5f_yyg^-1 -0.25f_yg^-2g_y -0.5f_zzg^-1 -0.25f_zg^-2g_z +0.75g^-2g_t^2 -1.5g^-1g_tt +0.75f^-1f_tg^-1g_t +0.25f^-1f_x^2g^-1 +0.25f^-1f_y^2g^-1 +0.25f^-1f_z^2g^-1',\n",
       "  '1g^-2g_tg_x -1g^-1g_tx +0.5f^-1f_xg^-1g_t',\n",
       "  '1g^-2g_tg_y -1g^-1g_ty +0.5f^-1f_yg^-1g_t',\n",
       "  '1g^-2g_tg_z -1g^-1g_tz +0.5f^-1f_zg^-1g_t'],\n",
       " ['1g^-2g_tg_x -1g^-1g_tx +0.5f^-1f_xg^-1g_t',\n",
       "  '0.25f^-2f_tg_t -0.5f^-1g_tt +1g^-2g_x^2 -1g^-1g_xx +0.25g^-2g_y^2 -0.5g^-1g_yy +0.25g^-2g_z^2 -0.5g^-1g_zz +0.25f^-2f_x^2 -0.5f^-1f_xx -0.25f^-1g^-1g_t^2 +0.25f^-1f_xg^-1g_x -0.25f^-1f_yg^-1g_y -0.25f^-1f_zg^-1g_z',\n",
       "  '0.75g^-2g_xg_y -0.5g^-1g_xy +0.25f^-2f_xf_y -0.5f^-1f_xy +0.25f^-1f_xg^-1g_y +0.25f^-1f_yg^-1g_x',\n",
       "  '0.75g^-2g_xg_z -0.5g^-1g_xz +0.25f^-2f_xf_z -0.5f^-1f_xz +0.25f^-1f_xg^-1g_z +0.25f^-1f_zg^-1g_x'],\n",
       " ['1g^-2g_tg_y -1g^-1g_ty +0.5f^-1f_yg^-1g_t',\n",
       "  '0.75g^-2g_xg_y -0.5g^-1g_xy +0.25f^-2f_xf_y -0.5f^-1f_xy +0.25f^-1f_xg^-1g_y +0.25f^-1f_yg^-1g_x',\n",
       "  '0.25f^-2f_tg_t -0.5f^-1g_tt +0.25g^-2g_x^2 -0.5g^-1g_xx +1g^-2g_y^2 -1g^-1g_yy +0.25g^-2g_z^2 -0.5g^-1g_zz +0.25f^-2f_y^2 -0.5f^-1f_yy -0.25f^-1g^-1g_t^2 -0.25f^-1f_xg^-1g_x +0.25f^-1f_yg^-1g_y -0.25f^-1f_zg^-1g_z',\n",
       "  '0.75g^-2g_yg_z -0.5g^-1g_yz +0.25f^-2f_yf_z -0.5f^-1f_yz +0.25f^-1f_yg^-1g_z +0.25f^-1f_zg^-1g_y'],\n",
       " ['1g^-2g_tg_z -1g^-1g_tz +0.5f^-1f_zg^-1g_t',\n",
       "  '0.75g^-2g_xg_z -0.5g^-1g_xz +0.25f^-2f_xf_z -0.5f^-1f_xz +0.25f^-1f_xg^-1g_z +0.25f^-1f_zg^-1g_x',\n",
       "  '0.75g^-2g_yg_z -0.5g^-1g_yz +0.25f^-2f_yf_z -0.5f^-1f_yz +0.25f^-1f_yg^-1g_z +0.25f^-1f_zg^-1g_y',\n",
       "  '0.25f^-2f_tg_t -0.5f^-1g_tt +0.25g^-2g_x^2 -0.5g^-1g_xx +0.25g^-2g_y^2 -0.5g^-1g_yy +1g^-2g_z^2 -1g^-1g_zz +0.25f^-2f_z^2 -0.5f^-1f_zz -0.25f^-1g^-1g_t^2 -0.25f^-1f_xg^-1g_x -0.25f^-1f_yg^-1g_y +0.25f^-1f_zg^-1g_z']]"
      ]
     },
     "execution_count": 49,
     "metadata": {},
     "output_type": "execute_result"
    }
   ],
   "source": [
    "matrix_convert(Ricci_Tensor(A,A_con))"
   ]
  },
  {
   "cell_type": "code",
   "execution_count": 50,
   "metadata": {},
   "outputs": [
    {
     "data": {
      "text/plain": [
       "'-1f^-1f_xxg^-1 -1f^-1f_yyg^-1 -0.5f^-1f_yg^-2g_y -1f^-1f_zzg^-1 -0.5f^-1f_zg^-2g_z -3f^-1g^-1g_tt +1.5f^-2f_tg^-1g_t +0.5f^-2f_x^2g^-1 +0.5f^-2f_y^2g^-1 +0.5f^-2f_z^2g^-1 +1.5g^-3g_x^2 -2g^-2g_xx +1.5g^-3g_y^2 -2g^-2g_yy +1.5g^-3g_z^2 -2g^-2g_zz -0.5f^-1f_xg^-2g_x'"
      ]
     },
     "execution_count": 50,
     "metadata": {},
     "output_type": "execute_result"
    }
   ],
   "source": [
    "contract(Ricci_Scalar(A,A_con))"
   ]
  },
  {
   "cell_type": "code",
   "execution_count": 51,
   "metadata": {},
   "outputs": [],
   "source": [
    "RT = Ricci_Tensor(A,A_con)"
   ]
  },
  {
   "cell_type": "code",
   "execution_count": 52,
   "metadata": {},
   "outputs": [
    {
     "data": {
      "text/plain": [
       "'-0.5f_xxg^-1 -0.25f_xg^-2g_x -0.5f_yyg^-1 -0.25f_yg^-2g_y -0.5f_zzg^-1 -0.25f_zg^-2g_z +0.75g^-2g_t^2 -1.5g^-1g_tt +0.75f^-1f_tg^-1g_t +0.25f^-1f_x^2g^-1 +0.25f^-1f_y^2g^-1 +0.25f^-1f_z^2g^-1'"
      ]
     },
     "execution_count": 52,
     "metadata": {},
     "output_type": "execute_result"
    }
   ],
   "source": [
    "contract(RT[0][0])"
   ]
  },
  {
   "cell_type": "code",
   "execution_count": null,
   "metadata": {},
   "outputs": [],
   "source": []
  },
  {
   "cell_type": "code",
   "execution_count": null,
   "metadata": {},
   "outputs": [],
   "source": []
  },
  {
   "cell_type": "markdown",
   "metadata": {},
   "source": [
    "# Flat Metric"
   ]
  },
  {
   "cell_type": "code",
   "execution_count": 22,
   "metadata": {},
   "outputs": [],
   "source": [
    "g0 =[['-1', '0', '0', '0'], \\\n",
    "    [ '0', '1', '0', '0'], \\\n",
    "    [ '0', '0', '1', '0'], \\\n",
    "    [ '0', '0', '0', '1']]\n",
    "\n",
    "Chains = {'t':{}, 'x':{}, 'y':{}, 'z':{}}\n",
    "\n",
    "g      = matrix_convert(g0)\n",
    "g_con  = matrix_convert(g0)"
   ]
  },
  {
   "cell_type": "code",
   "execution_count": 23,
   "metadata": {},
   "outputs": [
    {
     "data": {
      "text/plain": [
       "[['0', '0', '0', '0'],\n",
       " ['0', '0', '0', '0'],\n",
       " ['0', '0', '0', '0'],\n",
       " ['0', '0', '0', '0']]"
      ]
     },
     "execution_count": 23,
     "metadata": {},
     "output_type": "execute_result"
    }
   ],
   "source": [
    "matrix_convert(Christoffel(g,g_con)[0])"
   ]
  },
  {
   "cell_type": "code",
   "execution_count": 24,
   "metadata": {},
   "outputs": [
    {
     "data": {
      "text/plain": [
       "[['0', '0', '0', '0'],\n",
       " ['0', '0', '0', '0'],\n",
       " ['0', '0', '0', '0'],\n",
       " ['0', '0', '0', '0']]"
      ]
     },
     "execution_count": 24,
     "metadata": {},
     "output_type": "execute_result"
    }
   ],
   "source": [
    "matrix_convert(Christoffel(g,g_con)[1])"
   ]
  },
  {
   "cell_type": "code",
   "execution_count": 25,
   "metadata": {},
   "outputs": [
    {
     "data": {
      "text/plain": [
       "[['0', '0', '0', '0'],\n",
       " ['0', '0', '0', '0'],\n",
       " ['0', '0', '0', '0'],\n",
       " ['0', '0', '0', '0']]"
      ]
     },
     "execution_count": 25,
     "metadata": {},
     "output_type": "execute_result"
    }
   ],
   "source": [
    "matrix_convert(Christoffel(g,g_con)[2])"
   ]
  },
  {
   "cell_type": "code",
   "execution_count": 26,
   "metadata": {},
   "outputs": [
    {
     "data": {
      "text/plain": [
       "[['0', '0', '0', '0'],\n",
       " ['0', '0', '0', '0'],\n",
       " ['0', '0', '0', '0'],\n",
       " ['0', '0', '0', '0']]"
      ]
     },
     "execution_count": 26,
     "metadata": {},
     "output_type": "execute_result"
    }
   ],
   "source": [
    "matrix_convert(Christoffel(g,g_con)[3])"
   ]
  },
  {
   "cell_type": "code",
   "execution_count": 27,
   "metadata": {},
   "outputs": [
    {
     "data": {
      "text/plain": [
       "[['0', '0', '0', '0'],\n",
       " ['0', '0', '0', '0'],\n",
       " ['0', '0', '0', '0'],\n",
       " ['0', '0', '0', '0']]"
      ]
     },
     "execution_count": 27,
     "metadata": {},
     "output_type": "execute_result"
    }
   ],
   "source": [
    "matrix_convert(Ricci_Tensor(g,g_con))"
   ]
  },
  {
   "cell_type": "code",
   "execution_count": 28,
   "metadata": {},
   "outputs": [
    {
     "data": {
      "text/plain": [
       "'0'"
      ]
     },
     "execution_count": 28,
     "metadata": {},
     "output_type": "execute_result"
    }
   ],
   "source": [
    "contract(Ricci_Scalar(g,g_con))"
   ]
  },
  {
   "cell_type": "code",
   "execution_count": null,
   "metadata": {},
   "outputs": [],
   "source": []
  },
  {
   "cell_type": "code",
   "execution_count": null,
   "metadata": {},
   "outputs": [],
   "source": []
  },
  {
   "cell_type": "code",
   "execution_count": null,
   "metadata": {},
   "outputs": [],
   "source": []
  },
  {
   "cell_type": "code",
   "execution_count": null,
   "metadata": {},
   "outputs": [],
   "source": []
  },
  {
   "cell_type": "code",
   "execution_count": null,
   "metadata": {},
   "outputs": [],
   "source": []
  },
  {
   "cell_type": "code",
   "execution_count": null,
   "metadata": {},
   "outputs": [],
   "source": []
  },
  {
   "cell_type": "code",
   "execution_count": null,
   "metadata": {},
   "outputs": [],
   "source": []
  },
  {
   "cell_type": "markdown",
   "metadata": {},
   "source": [
    "# Scwarchild Metric"
   ]
  },
  {
   "cell_type": "markdown",
   "metadata": {},
   "source": [
    "$$K \\equiv 1 - \\frac{2GM}{c^2r} \\ \\ \\ \\ \\ \\ \\ \\ \\ \\ K \\equiv 1 - \\frac{r_s}{r}$$"
   ]
  },
  {
   "cell_type": "markdown",
   "metadata": {},
   "source": [
    "$$ S \\equiv \\sin(\\theta) \\ \\ \\ \\ \\ \\ \\ C \\equiv \\cos(\\theta) $$"
   ]
  },
  {
   "cell_type": "code",
   "execution_count": 36,
   "metadata": {},
   "outputs": [],
   "source": [
    "\n",
    "#K = [[1,[],[]],[-2,['G','M','c','r'],[1,1,-2,-1]]]\n",
    "\n",
    "K = [[1,[],[]],[-1,['r','r_s'],[-1,1]]]\n",
    "\n",
    "schwar0 =[[ '-1K', '0', '0', '0'], \\\n",
    "          [ '0', '1 K^-1', '0', '0'], \\\n",
    "          [ '0', '0', '1r^2', '0'], \\\n",
    "          [ '0', '0', '0', '1r^2S^2']]\n",
    "\n",
    "schwar_con0 =[  ['-1K^-1', '0', '0', '0'], \\\n",
    "                [ '0', 'K' , '0', '0'], \\\n",
    "                [ '0', '0', '1r^-2', '0'], \\\n",
    "                [ '0', '0', '0', '1r^-2S^-2']]\n",
    "\n",
    "# for mks\n",
    "Chains_ = { \\\n",
    "             't':{},\\\n",
    "             'r':{ 'K':[[2,['G','M','c','r'],[1,1,-2,-2]]]  },\\\n",
    "             'theta':{ 'S':'C','C':'-1S' },\\\n",
    "             'phi':{}\\\n",
    "             }\n",
    "# for c=1                    \n",
    "Chains = { \\\n",
    "             't':{},\\\n",
    "             'r':{ 'K':partial('r',K)  },\\\n",
    "             'theta':{ 'S':'C','C':'-1S' },\\\n",
    "             'phi':{}\\\n",
    "             }\n",
    "\n",
    "schwar     = matrix_convert(schwar0)\n",
    "schwar_con = matrix_convert(schwar_con0)"
   ]
  },
  {
   "cell_type": "code",
   "execution_count": 37,
   "metadata": {},
   "outputs": [
    {
     "data": {
      "text/plain": [
       "[['0', '0.5K^-1r^-2r_s', '0', '0'],\n",
       " ['0.5K^-1r^-2r_s', '0', '0', '0'],\n",
       " ['0', '0', '0', '0'],\n",
       " ['0', '0', '0', '0']]"
      ]
     },
     "execution_count": 37,
     "metadata": {},
     "output_type": "execute_result"
    }
   ],
   "source": [
    "matrix_convert(Christoffel(schwar,schwar_con)[0])"
   ]
  },
  {
   "cell_type": "code",
   "execution_count": 38,
   "metadata": {},
   "outputs": [
    {
     "data": {
      "text/plain": [
       "[['0.5Kr^-2r_s', '0', '0', '0'],\n",
       " ['0', '-0.5K^-1r^-2r_s', '0', '0'],\n",
       " ['0', '0', '-1Kr', '0'],\n",
       " ['0', '0', '0', '-1KS^2r']]"
      ]
     },
     "execution_count": 38,
     "metadata": {},
     "output_type": "execute_result"
    }
   ],
   "source": [
    "matrix_convert(Christoffel(schwar,schwar_con)[1])"
   ]
  },
  {
   "cell_type": "code",
   "execution_count": 39,
   "metadata": {},
   "outputs": [
    {
     "data": {
      "text/plain": [
       "[['0', '0', '0', '0'],\n",
       " ['0', '0', '1r^-1', '0'],\n",
       " ['0', '1r^-1', '0', '0'],\n",
       " ['0', '0', '0', '-1CS']]"
      ]
     },
     "execution_count": 39,
     "metadata": {},
     "output_type": "execute_result"
    }
   ],
   "source": [
    "matrix_convert(Christoffel(schwar,schwar_con)[2])"
   ]
  },
  {
   "cell_type": "code",
   "execution_count": 40,
   "metadata": {},
   "outputs": [
    {
     "data": {
      "text/plain": [
       "[['0', '0', '0', '0'],\n",
       " ['0', '0', '0', '1r^-1'],\n",
       " ['0', '0', '0', '1CS^-1'],\n",
       " ['0', '1r^-1', '1CS^-1', '0']]"
      ]
     },
     "execution_count": 40,
     "metadata": {},
     "output_type": "execute_result"
    }
   ],
   "source": [
    "matrix_convert(Christoffel(schwar,schwar_con)[3])"
   ]
  },
  {
   "cell_type": "code",
   "execution_count": 41,
   "metadata": {},
   "outputs": [
    {
     "data": {
      "text/plain": [
       "[['0', '0', '0', '0'],\n",
       " ['0', '0', '0', '0'],\n",
       " ['0', '0', '1 -1r^-1r_s -1K', '0'],\n",
       " ['0', '0', '0', '-1S^2r^-1r_s -1KS^2 +1S^2']]"
      ]
     },
     "execution_count": 41,
     "metadata": {},
     "output_type": "execute_result"
    }
   ],
   "source": [
    "matrix_convert(Ricci_Tensor(schwar,schwar_con))"
   ]
  },
  {
   "cell_type": "code",
   "execution_count": 42,
   "metadata": {},
   "outputs": [
    {
     "data": {
      "text/plain": [
       "'0'"
      ]
     },
     "execution_count": 42,
     "metadata": {},
     "output_type": "execute_result"
    }
   ],
   "source": [
    "YY = ricci_tensor(2,2,schwar,schwar_con)\n",
    "\n",
    "contract(substitute(YY,'K',K))"
   ]
  },
  {
   "cell_type": "code",
   "execution_count": 46,
   "metadata": {},
   "outputs": [
    {
     "data": {
      "text/plain": [
       "'0'"
      ]
     },
     "execution_count": 46,
     "metadata": {},
     "output_type": "execute_result"
    }
   ],
   "source": [
    "ZZ = ricci_tensor(3,3,schwar,schwar_con)\n",
    "\n",
    "contract(substitute(ZZ,'K',K))"
   ]
  },
  {
   "cell_type": "code",
   "execution_count": 47,
   "metadata": {},
   "outputs": [
    {
     "data": {
      "text/plain": [
       "'2r^-2 -2r^-3r_s -2Kr^-2'"
      ]
     },
     "execution_count": 47,
     "metadata": {},
     "output_type": "execute_result"
    }
   ],
   "source": [
    "R = Ricci_Scalar(schwar,schwar_con)\n",
    "contract(R)"
   ]
  },
  {
   "cell_type": "code",
   "execution_count": 48,
   "metadata": {},
   "outputs": [
    {
     "data": {
      "text/plain": [
       "'0'"
      ]
     },
     "execution_count": 48,
     "metadata": {},
     "output_type": "execute_result"
    }
   ],
   "source": [
    "contract(substitute(R,'K',K))"
   ]
  },
  {
   "cell_type": "markdown",
   "metadata": {},
   "source": [
    "# Einstein and Rosen"
   ]
  },
  {
   "cell_type": "markdown",
   "metadata": {},
   "source": [
    "$$ K \\equiv 1 - \\frac{r_s}{r} - \\frac{\\epsilon^2}{2r^2} $$"
   ]
  },
  {
   "cell_type": "code",
   "execution_count": 49,
   "metadata": {},
   "outputs": [],
   "source": [
    "Kw = [[1,[],[]],[-1,['r','r_s'],[-1,1]],[-0.5,['e','r'],[2,-2]]]\n",
    "Chains = { \\\n",
    "             't':{},\\\n",
    "             'r':{ 'K':partial('r',Kw)  },\\\n",
    "             'theta':{ 'S':'C','C':'-1S' },\\\n",
    "             'phi':{}\\\n",
    "             }"
   ]
  },
  {
   "cell_type": "code",
   "execution_count": 50,
   "metadata": {},
   "outputs": [
    {
     "data": {
      "text/plain": [
       "'2r^-2 -2r^-3r_s -2Kr^-2 -1e^2r^-4'"
      ]
     },
     "execution_count": 50,
     "metadata": {},
     "output_type": "execute_result"
    }
   ],
   "source": [
    "R = Ricci_Scalar(schwar,schwar_con)\n",
    "contract(R)\n"
   ]
  },
  {
   "cell_type": "code",
   "execution_count": 51,
   "metadata": {},
   "outputs": [
    {
     "data": {
      "text/plain": [
       "'0'"
      ]
     },
     "execution_count": 51,
     "metadata": {},
     "output_type": "execute_result"
    }
   ],
   "source": [
    "contract(substitute(R,'K',Kw))"
   ]
  },
  {
   "cell_type": "code",
   "execution_count": null,
   "metadata": {},
   "outputs": [],
   "source": []
  },
  {
   "cell_type": "code",
   "execution_count": null,
   "metadata": {},
   "outputs": [],
   "source": []
  },
  {
   "cell_type": "code",
   "execution_count": null,
   "metadata": {},
   "outputs": [],
   "source": []
  },
  {
   "cell_type": "code",
   "execution_count": null,
   "metadata": {},
   "outputs": [],
   "source": []
  },
  {
   "cell_type": "code",
   "execution_count": null,
   "metadata": {},
   "outputs": [],
   "source": []
  },
  {
   "cell_type": "code",
   "execution_count": null,
   "metadata": {},
   "outputs": [],
   "source": []
  },
  {
   "cell_type": "markdown",
   "metadata": {},
   "source": [
    "# Friedman-Robertson-Walker"
   ]
  },
  {
   "cell_type": "code",
   "execution_count": 52,
   "metadata": {},
   "outputs": [],
   "source": [
    "#c = 1\n",
    "frw0 = [['-1', '0', '0', '0'], \\\n",
    "        [ '0', 'a^2', '0', '0'], \\\n",
    "        [ '0', '0', 'a^2', '0'], \\\n",
    "        [ '0', '0', '0', 'a^2']]\n",
    "\n",
    "frw_con0 = [['-1', '0', '0', '0'], \\\n",
    "            [ '0', 'a^-2', '0', '0'], \\\n",
    "            [ '0', '0', 'a^-2', '0'], \\\n",
    "            [ '0', '0', '0', 'a^-2']]\n",
    "\n",
    "\n",
    "Chains = { \\\n",
    "             't':{'a':'a_t',    'a_t':'a_tt'},\\\n",
    "             'x':{ },\\\n",
    "             'y':{ },\\\n",
    "             'z':{ } \\\n",
    "             }\n",
    "\n",
    "frw     = matrix_convert(frw0)\n",
    "frw_con = matrix_convert(frw_con0)"
   ]
  },
  {
   "cell_type": "code",
   "execution_count": 53,
   "metadata": {},
   "outputs": [
    {
     "data": {
      "text/plain": [
       "[['0', '0', '0', '0'],\n",
       " ['0', '1aa_t', '0', '0'],\n",
       " ['0', '0', '1aa_t', '0'],\n",
       " ['0', '0', '0', '1aa_t']]"
      ]
     },
     "execution_count": 53,
     "metadata": {},
     "output_type": "execute_result"
    }
   ],
   "source": [
    "matrix_convert(Christoffel(frw,frw_con)[0])"
   ]
  },
  {
   "cell_type": "code",
   "execution_count": 54,
   "metadata": {},
   "outputs": [
    {
     "data": {
      "text/plain": [
       "[['0', '1a^-1a_t', '0', '0'],\n",
       " ['1a^-1a_t', '0', '0', '0'],\n",
       " ['0', '0', '0', '0'],\n",
       " ['0', '0', '0', '0']]"
      ]
     },
     "execution_count": 54,
     "metadata": {},
     "output_type": "execute_result"
    }
   ],
   "source": [
    "matrix_convert(Christoffel(frw,frw_con)[1])"
   ]
  },
  {
   "cell_type": "code",
   "execution_count": 55,
   "metadata": {},
   "outputs": [
    {
     "data": {
      "text/plain": [
       "[['0', '0', '1a^-1a_t', '0'],\n",
       " ['0', '0', '0', '0'],\n",
       " ['1a^-1a_t', '0', '0', '0'],\n",
       " ['0', '0', '0', '0']]"
      ]
     },
     "execution_count": 55,
     "metadata": {},
     "output_type": "execute_result"
    }
   ],
   "source": [
    "matrix_convert(Christoffel(frw,frw_con)[2])"
   ]
  },
  {
   "cell_type": "code",
   "execution_count": 56,
   "metadata": {},
   "outputs": [
    {
     "data": {
      "text/plain": [
       "[['0', '0', '0', '1a^-1a_t'],\n",
       " ['0', '0', '0', '0'],\n",
       " ['0', '0', '0', '0'],\n",
       " ['1a^-1a_t', '0', '0', '0']]"
      ]
     },
     "execution_count": 56,
     "metadata": {},
     "output_type": "execute_result"
    }
   ],
   "source": [
    "matrix_convert(Christoffel(frw,frw_con)[3])"
   ]
  },
  {
   "cell_type": "code",
   "execution_count": 57,
   "metadata": {},
   "outputs": [
    {
     "data": {
      "text/plain": [
       "[['-3a^-1a_tt', '0', '0', '0'],\n",
       " ['0', '2a_t^2 +1aa_tt', '0', '0'],\n",
       " ['0', '0', '2a_t^2 +1aa_tt', '0'],\n",
       " ['0', '0', '0', '2a_t^2 +1aa_tt']]"
      ]
     },
     "execution_count": 57,
     "metadata": {},
     "output_type": "execute_result"
    }
   ],
   "source": [
    "matrix_convert(Ricci_Tensor(frw,frw_con))"
   ]
  },
  {
   "cell_type": "code",
   "execution_count": 58,
   "metadata": {},
   "outputs": [
    {
     "data": {
      "text/plain": [
       "'6a^-1a_tt +6a^-2a_t^2'"
      ]
     },
     "execution_count": 58,
     "metadata": {},
     "output_type": "execute_result"
    }
   ],
   "source": [
    "scalar_string0 = contract(Ricci_Scalar(frw,frw_con))\n",
    "scalar_string0"
   ]
  },
  {
   "cell_type": "code",
   "execution_count": 59,
   "metadata": {},
   "outputs": [
    {
     "name": "stdout",
     "output_type": "stream",
     "text": [
      "$$6a^{-1}\\ddot{a} +6a^{-2}\\dot{a}^{2}$$\n"
     ]
    }
   ],
   "source": [
    "upper = 1000\n",
    "\n",
    "scalar_string = scalar_string0\n",
    "\n",
    "for power in range(upper):\n",
    "    scalar_string = scalar_string.replace('^{}'.format(power),'^[{}]'.format(power))\n",
    "    scalar_string = scalar_string.replace('^-{}'.format(power),'^[-{}]'.format(power))\n",
    "scalar_string = scalar_string.replace('[','{')  \n",
    "scalar_string = scalar_string.replace(']','}')\n",
    "\n",
    "scalar_string = scalar_string.replace('a_tt','QQ7QQ')\n",
    "scalar_string = scalar_string.replace('a_t','QQ8QQ')\n",
    "scalar_string = scalar_string.replace('a','QQ9QQ')\n",
    "\n",
    "scalar_string = scalar_string.replace('QQ7QQ','\\ddot{a}')\n",
    "scalar_string = scalar_string.replace('QQ8QQ','\\dot{a}')\n",
    "scalar_string = scalar_string.replace('QQ9QQ','a')\n",
    "\n",
    "print('$$'+ scalar_string +'$$')"
   ]
  },
  {
   "cell_type": "markdown",
   "metadata": {},
   "source": [
    "$$6a^{-1}\\ddot{a} +6a^{-2}\\dot{a}^{2}$$"
   ]
  },
  {
   "cell_type": "code",
   "execution_count": null,
   "metadata": {},
   "outputs": [],
   "source": []
  },
  {
   "cell_type": "code",
   "execution_count": null,
   "metadata": {},
   "outputs": [],
   "source": []
  },
  {
   "cell_type": "code",
   "execution_count": null,
   "metadata": {},
   "outputs": [],
   "source": []
  },
  {
   "cell_type": "code",
   "execution_count": null,
   "metadata": {},
   "outputs": [],
   "source": []
  },
  {
   "cell_type": "code",
   "execution_count": null,
   "metadata": {},
   "outputs": [],
   "source": []
  },
  {
   "cell_type": "code",
   "execution_count": null,
   "metadata": {},
   "outputs": [],
   "source": []
  },
  {
   "cell_type": "code",
   "execution_count": null,
   "metadata": {},
   "outputs": [],
   "source": []
  },
  {
   "cell_type": "markdown",
   "metadata": {},
   "source": [
    "# Friedman-Robertson-Walker Perturbed"
   ]
  },
  {
   "cell_type": "markdown",
   "metadata": {},
   "source": [
    "$$ S \\equiv \\Psi \\ \\ \\ P \\equiv \\Phi $$"
   ]
  },
  {
   "cell_type": "code",
   "execution_count": 60,
   "metadata": {},
   "outputs": [],
   "source": [
    "frw0 = [['-1-2S', '0', '0', '0'], \\\n",
    "        [ '0', 'a^2+2a^2P', '0', '0'], \\\n",
    "        [ '0', '0', 'a^2+2a^2P', '0'], \\\n",
    "        [ '0', '0', '0', 'a^2+2a^2P']]\n",
    "\n",
    "frw_con0 = [['-1+2S', '0', '0', '0'], \\\n",
    "            [ '0', 'a^-2 -2a^-2 P', '0', '0'], \\\n",
    "            [ '0', '0', 'a^-2 -2a^-2 P', '0'], \\\n",
    "            [ '0', '0', '0', 'a^-2 -2a^-2 P']]\n",
    "\n",
    "\n",
    "Chains = { \\\n",
    "             't':{'a':'a_t',    'a_t':'a_tt',\\\n",
    "                  'S':'S_t',    'S_t':'S_tt',\\\n",
    "                  'P':'P_t',    'P_t':'P_tt'},\\\n",
    "             'x':{ 'S':[[1j,['k_x','S'],[1,1]]],  'S_t':[[1j,['k_x','S_t'],[1,1]]],\\\n",
    "                   'P':[[1j,['k_x','P'],[1,1]]],  'P_t':[[1j,['k_x','P_t'],[1,1]]]},\\\n",
    "             'y':{ 'S':[[1j,['k_y','S'],[1,1]]],  'S_t':[[1j,['k_y','S_t'],[1,1]]],\\\n",
    "                   'P':[[1j,['k_y','P'],[1,1]]],  'S_t':[[1j,['k_y','P_t'],[1,1]]]},\\\n",
    "             'z':{ 'S':[[1j,['k_z','S'],[1,1]]],  'S_t':[[1j,['k_z','S_t'],[1,1]]],\\\n",
    "                   'P':[[1j,['k_z','P'],[1,1]]],  'P_t':[[1j,['k_z','P_t'],[1,1]]]} \\\n",
    "             }\n",
    "\n",
    "order_variables = ['S','S_t','S_tt','P','P_t','P_tt']\n",
    "\n",
    "\n",
    "frw     = matrix_convert(frw0)\n",
    "frw_con = matrix_convert(frw_con0)"
   ]
  },
  {
   "cell_type": "code",
   "execution_count": 61,
   "metadata": {},
   "outputs": [
    {
     "data": {
      "text/plain": [
       "[['1S_t', '1jSk_x', '1jSk_y', '1jSk_z'],\n",
       " ['1jSk_x', '1aa_t +1P_ta^2 +2Paa_t -2Saa_t', '0', '0'],\n",
       " ['1jSk_y', '0', '1aa_t +1P_ta^2 +2Paa_t -2Saa_t', '0'],\n",
       " ['1jSk_z', '0', '0', '1aa_t +1P_ta^2 +2Paa_t -2Saa_t']]"
      ]
     },
     "execution_count": 61,
     "metadata": {},
     "output_type": "execute_result"
    }
   ],
   "source": [
    "matrix_order(order_variables,Christoffel(frw,frw_con)[0],1,'small')"
   ]
  },
  {
   "cell_type": "code",
   "execution_count": 62,
   "metadata": {},
   "outputs": [
    {
     "data": {
      "text/plain": [
       "[['1jSa^-2k_x', '1a^-1a_t +1P_t', '0', '0'],\n",
       " ['1a^-1a_t +1P_t', '1jPk_x', '1jPk_y', '1jPk_z'],\n",
       " ['0', '1jPk_y', '-1jPk_x', '0'],\n",
       " ['0', '1jPk_z', '0', '-1jPk_x']]"
      ]
     },
     "execution_count": 62,
     "metadata": {},
     "output_type": "execute_result"
    }
   ],
   "source": [
    "matrix_order(order_variables,Christoffel(frw,frw_con)[1],1,'small')"
   ]
  },
  {
   "cell_type": "code",
   "execution_count": 63,
   "metadata": {},
   "outputs": [
    {
     "data": {
      "text/plain": [
       "[['1jSa^-2k_y', '0', '1a^-1a_t +1P_t', '0'],\n",
       " ['0', '-1jPk_y', '1jPk_x', '0'],\n",
       " ['1a^-1a_t +1P_t', '1jPk_x', '1jPk_y', '1jPk_z'],\n",
       " ['0', '0', '1jPk_z', '-1jPk_y']]"
      ]
     },
     "execution_count": 63,
     "metadata": {},
     "output_type": "execute_result"
    }
   ],
   "source": [
    "matrix_order(order_variables,Christoffel(frw,frw_con)[2],1,'small')"
   ]
  },
  {
   "cell_type": "code",
   "execution_count": 64,
   "metadata": {},
   "outputs": [
    {
     "data": {
      "text/plain": [
       "[['1jSa^-2k_z', '0', '0', '1a^-1a_t +1P_t'],\n",
       " ['0', '-1jPk_z', '0', '1jPk_x'],\n",
       " ['0', '0', '-1jPk_z', '1jPk_y'],\n",
       " ['1a^-1a_t +1P_t', '1jPk_x', '1jPk_y', '1jPk_z']]"
      ]
     },
     "execution_count": 64,
     "metadata": {},
     "output_type": "execute_result"
    }
   ],
   "source": [
    "matrix_order(order_variables,Christoffel(frw,frw_con)[3],1,'small')"
   ]
  },
  {
   "cell_type": "code",
   "execution_count": 65,
   "metadata": {},
   "outputs": [
    {
     "data": {
      "text/plain": [
       "[['-1Sa^-2k_x^2 -1Sa^-2k_y^2 -1Sa^-2k_z^2 -3a^-1a_tt -3P_tt +3S_ta^-1a_t -6P_ta^-1a_t',\n",
       "  '-2jP_tk_x +2jSa^-1a_tk_x',\n",
       "  '1jS_tk_y -1jP_tk_y +2jSa^-1a_tk_y',\n",
       "  '-2jP_tk_z +2jSa^-1a_tk_z'],\n",
       " ['-2jP_tk_x +2jSa^-1a_tk_x',\n",
       "  '2a_t^2 +1aa_tt +1P_tta^2 +6P_taa_t +4Pa_t^2 +2Paa_tt -1S_taa_t -4Sa_t^2 -2Saa_tt +2Pk_x^2 +1Pk_y^2 +1Pk_z^2 +1Sk_x^2',\n",
       "  '1Pk_xk_y +1Sk_xk_y',\n",
       "  '1Pk_xk_z +1Sk_xk_z'],\n",
       " ['-3jP_tk_y +2jSa^-1a_tk_y',\n",
       "  '1Pk_xk_y +1Sk_xk_y',\n",
       "  '2a_t^2 +1aa_tt +1P_tta^2 +6P_taa_t +4Pa_t^2 +2Paa_tt -1S_taa_t -4Sa_t^2 -2Saa_tt +1Pk_x^2 +2Pk_y^2 +1Pk_z^2 +1Sk_y^2',\n",
       "  '1Pk_yk_z +1Sk_yk_z'],\n",
       " ['-2jP_tk_z +2jSa^-1a_tk_z',\n",
       "  '1Pk_xk_z +1Sk_xk_z',\n",
       "  '1Pk_yk_z +1Sk_yk_z',\n",
       "  '2a_t^2 +1aa_tt +1P_tta^2 +6P_taa_t +4Pa_t^2 +2Paa_tt -1S_taa_t -4Sa_t^2 -2Saa_tt +1Pk_x^2 +1Pk_y^2 +2Pk_z^2 +1Sk_z^2']]"
      ]
     },
     "execution_count": 65,
     "metadata": {},
     "output_type": "execute_result"
    }
   ],
   "source": [
    "matrix_order(order_variables,Ricci_Tensor(frw,frw_con),1,'small')"
   ]
  },
  {
   "cell_type": "code",
   "execution_count": 69,
   "metadata": {},
   "outputs": [
    {
     "data": {
      "text/plain": [
       "'2Sa^-2k_x^2 -2PSa^-2k_x^2 +2Sa^-2k_y^2 +2Sa^-2k_z^2 +6a^-1a_tt +6P_tt -12PP_tt -72PP_ta^-1a_t -48P^2a^-2a_t^2 -24P^2a^-1a_tt -6S_ta^-1a_t -6P_tS_t +12PP_tS_t +24P^2S_ta^-1a_t -6S^2a^-2k_x^2 +8PS^2a^-2k_x^2 -16P^2Sa^-2k_x^2 +16P^3Sa^-2k_x^2 -6S^2a^-2k_y^2 +8PS^2a^-2k_y^2 -16P^2Sa^-2k_y^2 +16P^3Sa^-2k_y^2 -6S^2a^-2k_z^2 -16P^2Sa^-2k_z^2 +16P^3Sa^-2k_z^2 +24P_ta^-1a_t -24PP_t^2 -48P^2P_ta^-1a_t +24P^2P_t^2 +96P^3P_ta^-1a_t +96P^4a^-2a_t^2 -12Sa^-1a_tt -12P_ttS +24PP_ttS +144PP_tSa^-1a_t +96P^2Sa^-2a_t^2 +48P^2Sa^-1a_tt +32P^2S^2a^-2k_x^2 -32P^3S^2a^-2k_x^2 +32P^2S^2a^-2k_y^2 -32P^3S^2a^-2k_y^2 +32P^2S^2a^-2k_z^2 -32P^3S^2a^-2k_z^2 -48P_tSa^-1a_t +48PP_t^2S +96P^2P_tSa^-1a_t -48P^2P_t^2S -192P^3P_tSa^-1a_t -192P^4Sa^-2a_t^2 +6a^-2a_t^2 -12Sa^-2a_t^2 +4Pa^-2k_x^2 -22P^2a^-2k_x^2 +4Pa^-2k_y^2 -22P^2a^-2k_y^2 +4Pa^-2k_z^2 -22P^2a^-2k_z^2 +20P^3a^-2k_y^2 +24P^4a^-2k_y^2 +20P^3a^-2k_z^2 +24P^4a^-2k_z^2 +20P^3a^-2k_x^2 -16P^5a^-2k_y^2 -16P^5a^-2k_z^2 +24P^4a^-2k_x^2 -2PSa^-2k_y^2 -2PSa^-2k_z^2 -16P^5a^-2k_x^2 +8PS^2a^-2k_z^2'"
      ]
     },
     "execution_count": 69,
     "metadata": {},
     "output_type": "execute_result"
    }
   ],
   "source": [
    "scalar_string0 = contract(order(order_variables,Ricci_Scalar(frw,frw_con),100000,'small'))\n",
    "scalar_string0"
   ]
  },
  {
   "cell_type": "code",
   "execution_count": null,
   "metadata": {},
   "outputs": [],
   "source": []
  },
  {
   "cell_type": "code",
   "execution_count": null,
   "metadata": {},
   "outputs": [],
   "source": []
  },
  {
   "cell_type": "code",
   "execution_count": null,
   "metadata": {},
   "outputs": [],
   "source": []
  },
  {
   "cell_type": "code",
   "execution_count": 70,
   "metadata": {},
   "outputs": [
    {
     "name": "stdout",
     "output_type": "stream",
     "text": [
      "$$2\\Psi a^{-2}k_x^{2} -2\\Phi \\Psi a^{-2}k_x^{2} +2\\Psi a^{-2}k_y^{2} +2\\Psi a^{-2}k_z^{2} +6a^{-1}\\ddot{a} +6\\Phi_{,00} -12\\Phi \\Phi_{,00} -72\\Phi \\Phi_{,0}H -48\\Phi ^{2}H^{2} -24\\Phi ^{2}a^{-1}\\ddot{a} -6\\Psi_{,0}H -6\\Phi_{,0}\\Psi_{,0} +12\\Phi \\Phi_{,0}\\Psi_{,0} +24\\Phi ^{2}\\Psi_{,0}H -6\\Psi ^{2}a^{-2}k_x^{2} +8\\Phi \\Psi ^{2}a^{-2}k_x^{2} -16\\Phi ^{2}\\Psi a^{-2}k_x^{2} +16\\Phi ^{3}\\Psi a^{-2}k_x^{2} -6\\Psi ^{2}a^{-2}k_y^{2} +8\\Phi \\Psi ^{2}a^{-2}k_y^{2} -16\\Phi ^{2}\\Psi a^{-2}k_y^{2} +16\\Phi ^{3}\\Psi a^{-2}k_y^{2} -6\\Psi ^{2}a^{-2}k_z^{2} -16\\Phi ^{2}\\Psi a^{-2}k_z^{2} +16\\Phi ^{3}\\Psi a^{-2}k_z^{2} +24\\Phi_{,0}H -24\\Phi \\Phi_{,0}^{2} -48\\Phi ^{2}\\Phi_{,0}H +24\\Phi ^{2}\\Phi_{,0}^{2} +96\\Phi ^{3}\\Phi_{,0}H +96\\Phi ^{4}H^{2} -12\\Psi a^{-1}\\ddot{a} -12\\Phi_{,00}\\Psi  +24\\Phi \\Phi_{,00}\\Psi  +144\\Phi \\Phi_{,0}\\Psi H +96\\Phi ^{2}\\Psi H^{2} +48\\Phi ^{2}\\Psi a^{-1}\\ddot{a} +32\\Phi ^{2}\\Psi ^{2}a^{-2}k_x^{2} -32\\Phi ^{3}\\Psi ^{2}a^{-2}k_x^{2} +32\\Phi ^{2}\\Psi ^{2}a^{-2}k_y^{2} -32\\Phi ^{3}\\Psi ^{2}a^{-2}k_y^{2} +32\\Phi ^{2}\\Psi ^{2}a^{-2}k_z^{2} -32\\Phi ^{3}\\Psi ^{2}a^{-2}k_z^{2} -48\\Phi_{,0}\\Psi H +48\\Phi \\Phi_{,0}^{2}\\Psi  +96\\Phi ^{2}\\Phi_{,0}\\Psi H -48\\Phi ^{2}\\Phi_{,0}^{2}\\Psi  -192\\Phi ^{3}\\Phi_{,0}\\Psi H -192\\Phi ^{4}\\Psi H^{2} +6H^{2} -12\\Psi H^{2} +4\\Phi a^{-2}k_x^{2} -22\\Phi ^{2}a^{-2}k_x^{2} +4\\Phi a^{-2}k_y^{2} -22\\Phi ^{2}a^{-2}k_y^{2} +4\\Phi a^{-2}k_z^{2} -22\\Phi ^{2}a^{-2}k_z^{2} +20\\Phi ^{3}a^{-2}k_y^{2} +24\\Phi ^{4}a^{-2}k_y^{2} +20\\Phi ^{3}a^{-2}k_z^{2} +24\\Phi ^{4}a^{-2}k_z^{2} +20\\Phi ^{3}a^{-2}k_x^{2} -16\\Phi ^{5}a^{-2}k_y^{2} -16\\Phi ^{5}a^{-2}k_z^{2} +24\\Phi ^{4}a^{-2}k_x^{2} -2\\Phi \\Psi a^{-2}k_y^{2} -2\\Phi \\Psi a^{-2}k_z^{2} -16\\Phi ^{5}a^{-2}k_x^{2} +8\\Phi \\Psi ^{2}a^{-2}k_z^{2}$$\n"
     ]
    }
   ],
   "source": [
    "upper = 1000\n",
    "\n",
    "scalar_string = scalar_string0\n",
    "\n",
    "scalar_string = scalar_string.replace('S_tt','QQ1QQ')\n",
    "scalar_string = scalar_string.replace('S_t', 'QQ2QQ')\n",
    "scalar_string = scalar_string.replace('S',   'QQ3QQ')\n",
    "scalar_string = scalar_string.replace('P_tt','QQ4QQ')\n",
    "scalar_string = scalar_string.replace('P_t', 'QQ5QQ')\n",
    "scalar_string = scalar_string.replace('P',   'QQ6QQ')\n",
    "scalar_string = scalar_string.replace('a_tt','QQ7QQ')\n",
    "\n",
    "scalar_string = scalar_string.replace('a^-1a_t'.format(power),'H'.format(power))\n",
    "\n",
    "for power in range(2,upper):\n",
    "    scalar_string = scalar_string.replace('a^-{0}a_t^{0}'.format(power),'H^[{}]'.format(power))\n",
    "scalar_string = scalar_string.replace('[','{')  \n",
    "scalar_string = scalar_string.replace(']','}')\n",
    "\n",
    "for power in range(upper):\n",
    "    scalar_string = scalar_string.replace('^{}'.format(power),'^[{}]'.format(power))\n",
    "    scalar_string = scalar_string.replace('^-{}'.format(power),'^[-{}]'.format(power))\n",
    "scalar_string = scalar_string.replace('[','{')  \n",
    "scalar_string = scalar_string.replace(']','}')\n",
    "\n",
    "\n",
    "scalar_string = scalar_string.replace('a_t', 'QQ8QQ')\n",
    "scalar_string = scalar_string.replace('a',   'QQ9QQ')\n",
    "\n",
    "scalar_string = scalar_string.replace('QQ1QQ','\\Psi_{,00}')\n",
    "scalar_string = scalar_string.replace('QQ2QQ','\\Psi_{,0}')\n",
    "scalar_string = scalar_string.replace('QQ3QQ','\\Psi ')\n",
    "scalar_string = scalar_string.replace('QQ4QQ','\\Phi_{,00}')\n",
    "scalar_string = scalar_string.replace('QQ5QQ','\\Phi_{,0}')\n",
    "scalar_string = scalar_string.replace('QQ6QQ','\\Phi ')\n",
    "scalar_string = scalar_string.replace('QQ7QQ','\\ddot{a}')\n",
    "scalar_string = scalar_string.replace('QQ8QQ','\\dot{a}')\n",
    "scalar_string = scalar_string.replace('QQ9QQ','a')\n",
    "\n",
    "print('$$'+ scalar_string +'$$')"
   ]
  },
  {
   "cell_type": "markdown",
   "metadata": {},
   "source": [
    "$$2\\Psi a^{-2}k_x^{2} -2\\Phi \\Psi a^{-2}k_x^{2} +2\\Psi a^{-2}k_y^{2} +2\\Psi a^{-2}k_z^{2} +6a^{-1}\\ddot{a} +6\\Phi_{,00} -12\\Phi \\Phi_{,00} -72\\Phi \\Phi_{,0}H -48\\Phi ^{2}H^{2} -24\\Phi ^{2}a^{-1}\\ddot{a} -6\\Psi_{,0}H -6\\Phi_{,0}\\Psi_{,0} +12\\Phi \\Phi_{,0}\\Psi_{,0} +24\\Phi ^{2}\\Psi_{,0}H -6\\Psi ^{2}a^{-2}k_x^{2} +8\\Phi \\Psi ^{2}a^{-2}k_x^{2} -16\\Phi ^{2}\\Psi a^{-2}k_x^{2} +16\\Phi ^{3}\\Psi a^{-2}k_x^{2} -6\\Psi ^{2}a^{-2}k_y^{2} +8\\Phi \\Psi ^{2}a^{-2}k_y^{2} -16\\Phi ^{2}\\Psi a^{-2}k_y^{2} +16\\Phi ^{3}\\Psi a^{-2}k_y^{2} -6\\Psi ^{2}a^{-2}k_z^{2} -16\\Phi ^{2}\\Psi a^{-2}k_z^{2} +16\\Phi ^{3}\\Psi a^{-2}k_z^{2} +24\\Phi_{,0}H -24\\Phi \\Phi_{,0}^{2} -48\\Phi ^{2}\\Phi_{,0}H +24\\Phi ^{2}\\Phi_{,0}^{2} +96\\Phi ^{3}\\Phi_{,0}H +96\\Phi ^{4}H^{2} -12\\Psi a^{-1}\\ddot{a} -12\\Phi_{,00}\\Psi  +24\\Phi \\Phi_{,00}\\Psi  +144\\Phi \\Phi_{,0}\\Psi H +96\\Phi ^{2}\\Psi H^{2} +48\\Phi ^{2}\\Psi a^{-1}\\ddot{a} +32\\Phi ^{2}\\Psi ^{2}a^{-2}k_x^{2} -32\\Phi ^{3}\\Psi ^{2}a^{-2}k_x^{2} +32\\Phi ^{2}\\Psi ^{2}a^{-2}k_y^{2} -32\\Phi ^{3}\\Psi ^{2}a^{-2}k_y^{2} +32\\Phi ^{2}\\Psi ^{2}a^{-2}k_z^{2} -32\\Phi ^{3}\\Psi ^{2}a^{-2}k_z^{2} -48\\Phi_{,0}\\Psi H +48\\Phi \\Phi_{,0}^{2}\\Psi  +96\\Phi ^{2}\\Phi_{,0}\\Psi H -48\\Phi ^{2}\\Phi_{,0}^{2}\\Psi  -192\\Phi ^{3}\\Phi_{,0}\\Psi H -192\\Phi ^{4}\\Psi H^{2} +6H^{2} -12\\Psi H^{2} +4\\Phi a^{-2}k_x^{2} -22\\Phi ^{2}a^{-2}k_x^{2} +4\\Phi a^{-2}k_y^{2} -22\\Phi ^{2}a^{-2}k_y^{2} +4\\Phi a^{-2}k_z^{2} -22\\Phi ^{2}a^{-2}k_z^{2} +20\\Phi ^{3}a^{-2}k_y^{2} +24\\Phi ^{4}a^{-2}k_y^{2} +20\\Phi ^{3}a^{-2}k_z^{2} +24\\Phi ^{4}a^{-2}k_z^{2} +20\\Phi ^{3}a^{-2}k_x^{2} -16\\Phi ^{5}a^{-2}k_y^{2} -16\\Phi ^{5}a^{-2}k_z^{2} +24\\Phi ^{4}a^{-2}k_x^{2} -2\\Phi \\Psi a^{-2}k_y^{2} -2\\Phi \\Psi a^{-2}k_z^{2} -16\\Phi ^{5}a^{-2}k_x^{2} +8\\Phi \\Psi ^{2}a^{-2}k_z^{2}$$"
   ]
  },
  {
   "cell_type": "code",
   "execution_count": null,
   "metadata": {},
   "outputs": [],
   "source": []
  },
  {
   "cell_type": "code",
   "execution_count": null,
   "metadata": {},
   "outputs": [],
   "source": []
  },
  {
   "cell_type": "code",
   "execution_count": null,
   "metadata": {},
   "outputs": [],
   "source": []
  },
  {
   "cell_type": "code",
   "execution_count": null,
   "metadata": {},
   "outputs": [],
   "source": []
  },
  {
   "cell_type": "markdown",
   "metadata": {},
   "source": [
    "# Alcubierre Metric"
   ]
  },
  {
   "cell_type": "markdown",
   "metadata": {},
   "source": [
    "$$ g_{00} = v_s^2(t)f^2(r_s(t)) -1 \\hspace{3pc} g_{10}=g_{01} = -2v_s(t)f(r_s(t)) \\hspace{3pc} g_{11}=g_{22}=g_{33} = 1 $$"
   ]
  },
  {
   "cell_type": "markdown",
   "metadata": {},
   "source": [
    "$$ g^{00} = -\\left(3v_s^2(t)f^2(r_s(t)) +1\\right)^{-1} \\hspace{3pc} g^{10}=g^{01} = -2v_s(t)f(r_s(t))\\left(3v_s^2(t)f^2(r_s(t)) +1\\right)^{-1}\n",
    "\\hspace{3pc} g^{11}= -\\frac{1}{3} + \\frac{4}{3} \\left(3v_s^2(t)f^2(r_s(t)) +1\\right)^{-1}  \\hspace{3pc} g^{22}=g^{33} = 1 $$"
   ]
  },
  {
   "cell_type": "markdown",
   "metadata": {},
   "source": [
    "$$ v \\equiv v_s(t)= \\frac{dx_s}{dt} \\hspace{3pc} f \\equiv f(r_s(t))= \\frac{\\tanh(\\sigma(r_s+R))-\\tanh(\\sigma(r_s-R))}{2\\tanh(\\sigma R)}  \\hspace{3pc} D \\equiv 3v^2f^2+1 \\hspace{3pc} (\\det(g_{\\mu\\nu}))^2 = D^2$$"
   ]
  },
  {
   "cell_type": "markdown",
   "metadata": {},
   "source": [
    "$$ Tp \\equiv \\tanh(\\sigma(r_s+R)) \\hspace{3pc} Tq \\equiv \\tanh(\\sigma(r_s-R))  \\hspace{3pc} To \\equiv \\tanh(\\sigma R) $$"
   ]
  },
  {
   "cell_type": "markdown",
   "metadata": {},
   "source": [
    "$$b = \\frac{1}{3} \\hspace{3pc} u \\equiv \\sigma \\hspace{3pc} s \\equiv x_s(t) \\hspace{3pc} r \\equiv r_s(t) = \\sqrt{(x-x_s)^2+y^2+z^2}$$"
   ]
  },
  {
   "cell_type": "code",
   "execution_count": 71,
   "metadata": {},
   "outputs": [],
   "source": [
    "#c = 1\n",
    "alc0 = [['1bD - 4b', '-2vf', '0', '0'], \\\n",
    "        [ '-2vf', '1', '0', '0'], \\\n",
    "        [ '0', '0', '1', '0'], \\\n",
    "        [ '0', '0', '0', '1']]\n",
    "\n",
    "alc_con0 = [['-1D^-1', '-2vfD^-1', '0', '0'], \\\n",
    "            [ '-2vfD^-1', '-1b + 4bD^-1', '0', '0'], \\\n",
    "            [ '0', '0', '1', '0'], \\\n",
    "            [ '0', '0', '0', '1']]\n",
    "\n",
    "#================\n",
    "\n",
    "r_squared = P('x^2+s^2-2sx+y^2+z^2')\n",
    "\n",
    "Chains = {'t':{'s':'v','v':'v_t', 'v_t':'v_tt'}, 'x':{}, 'y':{}, 'z':{}}\n",
    "\n",
    "dt_r = mult( [[-.5,['r'],[-1]]] , partial('t',r_squared) )\n",
    "dx_r = mult( [[-.5,['r'],[-1]]] , partial('x',r_squared) )\n",
    "dy_r = mult( [[-.5,['r'],[-1]]] , partial('y',r_squared) )\n",
    "dz_r = mult( [[-.5,['r'],[-1]]] , partial('z',r_squared) )\n",
    "\n",
    "d_Tp = [[1,['u'],[1]],[-1,['u','Tp'],[1,2]]] # d_r\n",
    "d_Tq = [[1,['u'],[1]],[-1,['u','Tq'],[1,2]]] # d_r\n",
    "d_To = [[1,['u'],[1]],[-1,['u','To'],[1,2]]] # d_r\n",
    "\n",
    "dt_Tp = mult(d_Tp,dt_r) ; dt_Tq = mult(d_Tq,dt_r) ; dt_To = mult(d_To,dt_r) ; \n",
    "dx_Tp = mult(d_Tp,dx_r) ; dx_Tq = mult(d_Tq,dx_r) ; dx_To = mult(d_To,dx_r) ; \n",
    "dy_Tp = mult(d_Tp,dy_r) ; dy_Tq = mult(d_Tq,dy_r) ; dy_To = mult(d_To,dy_r) ; \n",
    "dz_Tp = mult(d_Tp,dz_r) ; dz_Tq = mult(d_Tq,dz_r) ; dz_To = mult(d_To,dz_r) ;\n",
    "\n",
    "Tp = [[1,['Tp'],[1]]] ; Tq = [[1,['Tq'],[1]]] ; To = [[1,['To'],[1]]]\n",
    "\n",
    "f = [[0.5,['Tp','To'],[1,-1]],[-0.5,['Tq','To'],[1,-1]]]\n",
    "\n",
    "dt_f = mult([[0.5,['To'],[-2]]], addi([ mult(To,dt_Tp), multi([P('-1'),To,dt_Tq]), multi([P('-1'),Tp,dt_To]), mult(Tq,dt_Tp) ]) )\n",
    "dx_f = mult([[0.5,['To'],[-2]]], addi([ mult(To,dx_Tp), multi([P('-1'),To,dx_Tq]), multi([P('-1'),Tp,dx_To]), mult(Tq,dx_Tp) ]) )\n",
    "dy_f = mult([[0.5,['To'],[-2]]], addi([ mult(To,dy_Tp), multi([P('-1'),To,dy_Tq]), multi([P('-1'),Tp,dy_To]), mult(Tq,dy_Tp) ]) )\n",
    "dz_f = mult([[0.5,['To'],[-2]]], addi([ mult(To,dz_Tp), multi([P('-1'),To,dz_Tq]), multi([P('-1'),Tp,dz_To]), mult(Tq,dz_Tp) ]) )\n",
    "\n",
    "#================\n",
    "\n",
    "Chains = { \\\n",
    "             't':{'s':'v', 'v':'v_t', 'v_t':'v_tt',\\\n",
    "                  'f':dt_f, 'Tp': dt_Tp, 'Tq': dt_Tq, 'To': dt_To, 'r': dt_r},\\\n",
    "             'x':{'f':dx_f, 'Tp': dx_Tp, 'Tq': dx_Tq, 'To': dx_To, 'r': dx_r },\\\n",
    "             'y':{'f':dy_f, 'Tp': dy_Tp, 'Tq': dy_Tq, 'To': dy_To, 'r': dy_r },\\\n",
    "             'z':{'f':dz_f, 'Tp': dz_Tp, 'Tq': dz_Tq, 'To': dz_To, 'r': dz_r } \\\n",
    "             }\n",
    "\n",
    "Alc     = matrix_convert(alc0)\n",
    "Alc_con = matrix_convert(alc_con0)"
   ]
  },
  {
   "cell_type": "code",
   "execution_count": 72,
   "metadata": {},
   "outputs": [
    {
     "data": {
      "text/plain": [
       "[['2D^-1To^-1Tp^2fr^-1suv^3 -2D^-1To^-1Tp^2fr^-1uv^3x -2D^-1To^-1Tq^2fr^-1suv^3 +2D^-1To^-1Tq^2fr^-1uv^3x +2D^-1To^-2Tpfr^-1suv^3 -2D^-1To^-2Tpfr^-1uv^3x -2D^-1Tpfr^-1suv^3 +2D^-1Tpfr^-1uv^3x -2D^-1To^-2Tqfr^-1suv^3 +2D^-1To^-2Tqfr^-1uv^3x +2D^-1To^-2Tp^2Tqfr^-1suv^3 -2D^-1To^-2Tp^2Tqfr^-1uv^3x +4D^-1f^2vv_t',\n",
       "  '0',\n",
       "  '1D^-1To^-1Tp^2fr^-1uv^2y -1D^-1To^-1Tq^2fr^-1uv^2y +1D^-1To^-2Tpfr^-1uv^2y -1D^-1Tpfr^-1uv^2y -1D^-1To^-2Tqfr^-1uv^2y +1D^-1To^-2Tp^2Tqfr^-1uv^2y',\n",
       "  '1D^-1To^-1Tp^2fr^-1uv^2z -1D^-1To^-1Tq^2fr^-1uv^2z +1D^-1To^-2Tpfr^-1uv^2z -1D^-1Tpfr^-1uv^2z -1D^-1To^-2Tqfr^-1uv^2z +1D^-1To^-2Tp^2Tqfr^-1uv^2z'],\n",
       " ['0',\n",
       "  '1D^-1To^-1Tp^2r^-1uvx -1D^-1To^-1Tp^2r^-1suv -1D^-1To^-1Tq^2r^-1uvx +1D^-1To^-1Tq^2r^-1suv +1D^-1To^-2Tpr^-1uvx -1D^-1To^-2Tpr^-1suv -1D^-1Tpr^-1uvx +1D^-1Tpr^-1suv -1D^-1To^-2Tqr^-1uvx +1D^-1To^-2Tqr^-1suv +1D^-1To^-2Tp^2Tqr^-1uvx -1D^-1To^-2Tp^2Tqr^-1suv',\n",
       "  '0.5D^-1To^-1Tp^2r^-1uvy -0.5D^-1To^-1Tq^2r^-1uvy +0.5D^-1To^-2Tpr^-1uvy -0.5D^-1Tpr^-1uvy -0.5D^-1To^-2Tqr^-1uvy +0.5D^-1To^-2Tp^2Tqr^-1uvy',\n",
       "  '0.5D^-1To^-1Tp^2r^-1uvz -0.5D^-1To^-1Tq^2r^-1uvz +0.5D^-1To^-2Tpr^-1uvz -0.5D^-1Tpr^-1uvz -0.5D^-1To^-2Tqr^-1uvz +0.5D^-1To^-2Tp^2Tqr^-1uvz'],\n",
       " ['1D^-1To^-1Tp^2fr^-1uv^2y -1D^-1To^-1Tq^2fr^-1uv^2y +1D^-1To^-2Tpfr^-1uv^2y -1D^-1Tpfr^-1uv^2y -1D^-1To^-2Tqfr^-1uv^2y +1D^-1To^-2Tp^2Tqfr^-1uv^2y',\n",
       "  '0.5D^-1To^-1Tp^2r^-1uvy -0.5D^-1To^-1Tq^2r^-1uvy +0.5D^-1To^-2Tpr^-1uvy -0.5D^-1Tpr^-1uvy -0.5D^-1To^-2Tqr^-1uvy +0.5D^-1To^-2Tp^2Tqr^-1uvy',\n",
       "  '0',\n",
       "  '0'],\n",
       " ['1D^-1To^-1Tp^2fr^-1uv^2z -1D^-1To^-1Tq^2fr^-1uv^2z +1D^-1To^-2Tpfr^-1uv^2z -1D^-1Tpfr^-1uv^2z -1D^-1To^-2Tqfr^-1uv^2z +1D^-1To^-2Tp^2Tqfr^-1uv^2z',\n",
       "  '0.5D^-1To^-1Tp^2r^-1uvz -0.5D^-1To^-1Tq^2r^-1uvz +0.5D^-1To^-2Tpr^-1uvz -0.5D^-1Tpr^-1uvz -0.5D^-1To^-2Tqr^-1uvz +0.5D^-1To^-2Tp^2Tqr^-1uvz',\n",
       "  '0',\n",
       "  '0']]"
      ]
     },
     "execution_count": 72,
     "metadata": {},
     "output_type": "execute_result"
    }
   ],
   "source": [
    "matrix_convert(Christoffel(Alc,Alc_con)[0])"
   ]
  },
  {
   "cell_type": "code",
   "execution_count": 73,
   "metadata": {},
   "outputs": [
    {
     "data": {
      "text/plain": [
       "[['1To^-1Tp^2br^-1suv^2 -1To^-1Tp^2br^-1uv^2x -1To^-1Tq^2br^-1suv^2 +1To^-1Tq^2br^-1uv^2x +1To^-2Tpbr^-1suv^2 -1To^-2Tpbr^-1uv^2x -1Tpbr^-1suv^2 +1Tpbr^-1uv^2x -1To^-2Tqbr^-1suv^2 +1To^-2Tqbr^-1uv^2x +1To^-2Tp^2Tqbr^-1suv^2 -1To^-2Tp^2Tqbr^-1uv^2x +2bfv_t -4D^-1To^-1Tp^2br^-1suv^2 +4D^-1To^-1Tp^2br^-1uv^2x +4D^-1To^-1Tq^2br^-1suv^2 -4D^-1To^-1Tq^2br^-1uv^2x -4D^-1To^-2Tpbr^-1suv^2 +4D^-1To^-2Tpbr^-1uv^2x +4D^-1Tpbr^-1suv^2 -4D^-1Tpbr^-1uv^2x +4D^-1To^-2Tqbr^-1suv^2 -4D^-1To^-2Tqbr^-1uv^2x -4D^-1To^-2Tp^2Tqbr^-1suv^2 +4D^-1To^-2Tp^2Tqbr^-1uv^2x -8D^-1bfv_t',\n",
       "  '0',\n",
       "  '0.5To^-1Tp^2br^-1uvy -0.5To^-1Tq^2br^-1uvy +0.5To^-2Tpbr^-1uvy -0.5Tpbr^-1uvy -0.5To^-2Tqbr^-1uvy +0.5To^-2Tp^2Tqbr^-1uvy -2D^-1To^-1Tp^2br^-1uvy +2D^-1To^-1Tq^2br^-1uvy -2D^-1To^-2Tpbr^-1uvy +2D^-1Tpbr^-1uvy +2D^-1To^-2Tqbr^-1uvy -2D^-1To^-2Tp^2Tqbr^-1uvy',\n",
       "  '0.5To^-1Tp^2br^-1uvz -0.5To^-1Tq^2br^-1uvz +0.5To^-2Tpbr^-1uvz -0.5Tpbr^-1uvz -0.5To^-2Tqbr^-1uvz +0.5To^-2Tp^2Tqbr^-1uvz -2D^-1To^-1Tp^2br^-1uvz +2D^-1To^-1Tq^2br^-1uvz -2D^-1To^-2Tpbr^-1uvz +2D^-1Tpbr^-1uvz +2D^-1To^-2Tqbr^-1uvz -2D^-1To^-2Tp^2Tqbr^-1uvz'],\n",
       " ['0',\n",
       "  '2D^-1To^-1Tp^2fr^-1uv^2x -2D^-1To^-1Tp^2fr^-1suv^2 -2D^-1To^-1Tq^2fr^-1uv^2x +2D^-1To^-1Tq^2fr^-1suv^2 +2D^-1To^-2Tpfr^-1uv^2x -2D^-1To^-2Tpfr^-1suv^2 -2D^-1Tpfr^-1uv^2x +2D^-1Tpfr^-1suv^2 -2D^-1To^-2Tqfr^-1uv^2x +2D^-1To^-2Tqfr^-1suv^2 +2D^-1To^-2Tp^2Tqfr^-1uv^2x -2D^-1To^-2Tp^2Tqfr^-1suv^2',\n",
       "  '1D^-1To^-1Tp^2fr^-1uv^2y -1D^-1To^-1Tq^2fr^-1uv^2y +1D^-1To^-2Tpfr^-1uv^2y -1D^-1Tpfr^-1uv^2y -1D^-1To^-2Tqfr^-1uv^2y +1D^-1To^-2Tp^2Tqfr^-1uv^2y',\n",
       "  '1D^-1To^-1Tp^2fr^-1uv^2z -1D^-1To^-1Tq^2fr^-1uv^2z +1D^-1To^-2Tpfr^-1uv^2z -1D^-1Tpfr^-1uv^2z -1D^-1To^-2Tqfr^-1uv^2z +1D^-1To^-2Tp^2Tqfr^-1uv^2z'],\n",
       " ['0.5To^-1Tp^2br^-1uvy -0.5To^-1Tq^2br^-1uvy +0.5To^-2Tpbr^-1uvy -0.5Tpbr^-1uvy -0.5To^-2Tqbr^-1uvy +0.5To^-2Tp^2Tqbr^-1uvy -2D^-1To^-1Tp^2br^-1uvy +2D^-1To^-1Tq^2br^-1uvy -2D^-1To^-2Tpbr^-1uvy +2D^-1Tpbr^-1uvy +2D^-1To^-2Tqbr^-1uvy -2D^-1To^-2Tp^2Tqbr^-1uvy',\n",
       "  '1D^-1To^-1Tp^2fr^-1uv^2y -1D^-1To^-1Tq^2fr^-1uv^2y +1D^-1To^-2Tpfr^-1uv^2y -1D^-1Tpfr^-1uv^2y -1D^-1To^-2Tqfr^-1uv^2y +1D^-1To^-2Tp^2Tqfr^-1uv^2y',\n",
       "  '0',\n",
       "  '0'],\n",
       " ['0.5To^-1Tp^2br^-1uvz -0.5To^-1Tq^2br^-1uvz +0.5To^-2Tpbr^-1uvz -0.5Tpbr^-1uvz -0.5To^-2Tqbr^-1uvz +0.5To^-2Tp^2Tqbr^-1uvz -2D^-1To^-1Tp^2br^-1uvz +2D^-1To^-1Tq^2br^-1uvz -2D^-1To^-2Tpbr^-1uvz +2D^-1Tpbr^-1uvz +2D^-1To^-2Tqbr^-1uvz -2D^-1To^-2Tp^2Tqbr^-1uvz',\n",
       "  '1D^-1To^-1Tp^2fr^-1uv^2z -1D^-1To^-1Tq^2fr^-1uv^2z +1D^-1To^-2Tpfr^-1uv^2z -1D^-1Tpfr^-1uv^2z -1D^-1To^-2Tqfr^-1uv^2z +1D^-1To^-2Tp^2Tqfr^-1uv^2z',\n",
       "  '0',\n",
       "  '0']]"
      ]
     },
     "execution_count": 73,
     "metadata": {},
     "output_type": "execute_result"
    }
   ],
   "source": [
    "matrix_convert(Christoffel(Alc,Alc_con)[1])"
   ]
  },
  {
   "cell_type": "code",
   "execution_count": 74,
   "metadata": {},
   "outputs": [
    {
     "data": {
      "text/plain": [
       "[['0',\n",
       "  '0.5To^-1Tp^2r^-1uvy -0.5To^-1Tq^2r^-1uvy +0.5To^-2Tpr^-1uvy -0.5Tpr^-1uvy -0.5To^-2Tqr^-1uvy +0.5To^-2Tp^2Tqr^-1uvy',\n",
       "  '0',\n",
       "  '0'],\n",
       " ['0.5To^-1Tp^2r^-1uvy -0.5To^-1Tq^2r^-1uvy +0.5To^-2Tpr^-1uvy -0.5Tpr^-1uvy -0.5To^-2Tqr^-1uvy +0.5To^-2Tp^2Tqr^-1uvy',\n",
       "  '0',\n",
       "  '0',\n",
       "  '0'],\n",
       " ['0', '0', '0', '0'],\n",
       " ['0', '0', '0', '0']]"
      ]
     },
     "execution_count": 74,
     "metadata": {},
     "output_type": "execute_result"
    }
   ],
   "source": [
    "matrix_convert(Christoffel(Alc,Alc_con)[2])"
   ]
  },
  {
   "cell_type": "code",
   "execution_count": 75,
   "metadata": {},
   "outputs": [
    {
     "data": {
      "text/plain": [
       "[['0',\n",
       "  '0.5To^-1Tp^2r^-1uvz -0.5To^-1Tq^2r^-1uvz +0.5To^-2Tpr^-1uvz -0.5Tpr^-1uvz -0.5To^-2Tqr^-1uvz +0.5To^-2Tp^2Tqr^-1uvz',\n",
       "  '0',\n",
       "  '0'],\n",
       " ['0.5To^-1Tp^2r^-1uvz -0.5To^-1Tq^2r^-1uvz +0.5To^-2Tpr^-1uvz -0.5Tpr^-1uvz -0.5To^-2Tqr^-1uvz +0.5To^-2Tp^2Tqr^-1uvz',\n",
       "  '0',\n",
       "  '0',\n",
       "  '0'],\n",
       " ['0', '0', '0', '0'],\n",
       " ['0', '0', '0', '0']]"
      ]
     },
     "execution_count": 75,
     "metadata": {},
     "output_type": "execute_result"
    }
   ],
   "source": [
    "matrix_convert(Christoffel(Alc,Alc_con)[3])"
   ]
  },
  {
   "cell_type": "code",
   "execution_count": 76,
   "metadata": {},
   "outputs": [
    {
     "data": {
      "text/plain": [
       "[['2To^-2Tp^2br^-2su^2v^2x -1To^-2Tp^2br^-2s^2u^2v^2 -4Tp^2br^-2su^2v^2x +2Tp^2br^-2s^2u^2v^2 -8To^-1Tpbr^-2su^2v^2x +4To^-1Tpbr^-2s^2u^2v^2 +4To^-1Tp^3br^-2su^2v^2x -2To^-1Tp^3br^-2s^2u^2v^2 +2To^-1Tp^2br^-3suv^2x -1To^-1Tp^2br^-3s^2uv^2 -1To^-2Tp^2br^-2u^2v^2x^2 +2Tp^2br^-2u^2v^2x^2 +4To^-1Tpbr^-2u^2v^2x^2 -2To^-1Tp^3br^-2u^2v^2x^2 -1To^-1Tp^2br^-3uv^2x^2 -1To^-1Tp^2br^-1uv^2 -4To^-2Tq^2br^-2su^2v^2x +2To^-2Tq^2br^-2s^2u^2v^2 +2Tq^2br^-2su^2v^2x -1Tq^2br^-2s^2u^2v^2 +8To^-1Tqbr^-2su^2v^2x -4To^-1Tqbr^-2s^2u^2v^2 -4To^-1Tq^3br^-2su^2v^2x +2To^-1Tq^3br^-2s^2u^2v^2 -2To^-1Tq^2br^-3suv^2x +1To^-1Tq^2br^-3s^2uv^2 +2To^-2Tq^2br^-2u^2v^2x^2 -1Tq^2br^-2u^2v^2x^2 -4To^-1Tqbr^-2u^2v^2x^2 +2To^-1Tq^3br^-2u^2v^2x^2 +1To^-1Tq^2br^-3uv^2x^2 +1To^-1Tq^2br^-1uv^2 +4To^-3Tpbr^-2su^2v^2x -2To^-3Tpbr^-2s^2u^2v^2 +2To^-2Tpbr^-3suv^2x -1To^-2Tpbr^-3s^2uv^2 -2To^-3Tpbr^-2u^2v^2x^2 -1To^-2Tpbr^-3uv^2x^2 -1To^-2Tpbr^-1uv^2 +2br^-2su^2v^2x -1br^-2s^2u^2v^2 -2Tpbr^-3suv^2x +1Tpbr^-3s^2uv^2 -1br^-2u^2v^2x^2 +1Tpbr^-3uv^2x^2 +1Tpbr^-1uv^2 -4To^-3Tqbr^-2su^2v^2x +2To^-3Tqbr^-2s^2u^2v^2 -2To^-2Tqbr^-3suv^2x +1To^-2Tqbr^-3s^2uv^2 +2To^-3Tqbr^-2u^2v^2x^2 +1To^-2Tqbr^-3uv^2x^2 +1To^-2Tqbr^-1uv^2 +4To^-3Tp^2Tqbr^-2su^2v^2x -2To^-3Tp^2Tqbr^-2s^2u^2v^2 -4To^-1Tp^2Tqbr^-2su^2v^2x +2To^-1Tp^2Tqbr^-2s^2u^2v^2 -4To^-2TpTqbr^-2su^2v^2x +2To^-2TpTqbr^-2s^2u^2v^2 +4To^-2Tp^3Tqbr^-2su^2v^2x -2To^-2Tp^3Tqbr^-2s^2u^2v^2 +2To^-2Tp^2Tq^2br^-2su^2v^2x -1To^-2Tp^2Tq^2br^-2s^2u^2v^2 +2To^-2Tp^2Tqbr^-3suv^2x -1To^-2Tp^2Tqbr^-3s^2uv^2 -2To^-3Tp^2Tqbr^-2u^2v^2x^2 +2To^-1Tp^2Tqbr^-2u^2v^2x^2 +2To^-2TpTqbr^-2u^2v^2x^2 -2To^-2Tp^3Tqbr^-2u^2v^2x^2 -1To^-2Tp^2Tq^2br^-2u^2v^2x^2 -1To^-2Tp^2Tqbr^-3uv^2x^2 -1To^-2Tp^2Tqbr^-1uv^2 +1To^-1Tp^2br^-1uv_tx -1To^-1Tp^2br^-1suv_t -1To^-1Tq^2br^-1uv_tx +1To^-1Tq^2br^-1suv_t +1To^-2Tpbr^-1uv_tx -1To^-2Tpbr^-1suv_t -1Tpbr^-1uv_tx +1Tpbr^-1suv_t -1To^-2Tqbr^-1uv_tx +1To^-2Tqbr^-1suv_t +1To^-2Tp^2Tqbr^-1uv_tx -1To^-2Tp^2Tqbr^-1suv_t -8D^-1To^-2Tp^2br^-2su^2v^2x +4D^-1To^-2Tp^2br^-2s^2u^2v^2 +16D^-1Tp^2br^-2su^2v^2x -8D^-1Tp^2br^-2s^2u^2v^2 +32D^-1To^-1Tpbr^-2su^2v^2x -16D^-1To^-1Tpbr^-2s^2u^2v^2 -16D^-1To^-1Tp^3br^-2su^2v^2x +8D^-1To^-1Tp^3br^-2s^2u^2v^2 -8D^-1To^-1Tp^2br^-3suv^2x +4D^-1To^-1Tp^2br^-3s^2uv^2 +4D^-1To^-2Tp^2br^-2u^2v^2x^2 -8D^-1Tp^2br^-2u^2v^2x^2 -16D^-1To^-1Tpbr^-2u^2v^2x^2 +8D^-1To^-1Tp^3br^-2u^2v^2x^2 +4D^-1To^-1Tp^2br^-3uv^2x^2 +4D^-1To^-1Tp^2br^-1uv^2 +16D^-1To^-2Tq^2br^-2su^2v^2x -8D^-1To^-2Tq^2br^-2s^2u^2v^2 -8D^-1Tq^2br^-2su^2v^2x +4D^-1Tq^2br^-2s^2u^2v^2 -32D^-1To^-1Tqbr^-2su^2v^2x +16D^-1To^-1Tqbr^-2s^2u^2v^2 +16D^-1To^-1Tq^3br^-2su^2v^2x -8D^-1To^-1Tq^3br^-2s^2u^2v^2 +8D^-1To^-1Tq^2br^-3suv^2x -4D^-1To^-1Tq^2br^-3s^2uv^2 -8D^-1To^-2Tq^2br^-2u^2v^2x^2 +4D^-1Tq^2br^-2u^2v^2x^2 +16D^-1To^-1Tqbr^-2u^2v^2x^2 -8D^-1To^-1Tq^3br^-2u^2v^2x^2 -4D^-1To^-1Tq^2br^-3uv^2x^2 -4D^-1To^-1Tq^2br^-1uv^2 -16D^-1To^-3Tpbr^-2su^2v^2x +8D^-1To^-3Tpbr^-2s^2u^2v^2 -8D^-1To^-2Tpbr^-3suv^2x +4D^-1To^-2Tpbr^-3s^2uv^2 +8D^-1To^-3Tpbr^-2u^2v^2x^2 +4D^-1To^-2Tpbr^-3uv^2x^2 +4D^-1To^-2Tpbr^-1uv^2 -8D^-1br^-2su^2v^2x +4D^-1br^-2s^2u^2v^2 +8D^-1Tpbr^-3suv^2x -4D^-1Tpbr^-3s^2uv^2 +4D^-1br^-2u^2v^2x^2 -4D^-1Tpbr^-3uv^2x^2 -4D^-1Tpbr^-1uv^2 +16D^-1To^-3Tqbr^-2su^2v^2x -8D^-1To^-3Tqbr^-2s^2u^2v^2 +8D^-1To^-2Tqbr^-3suv^2x -4D^-1To^-2Tqbr^-3s^2uv^2 -8D^-1To^-3Tqbr^-2u^2v^2x^2 -4D^-1To^-2Tqbr^-3uv^2x^2 -4D^-1To^-2Tqbr^-1uv^2 -16D^-1To^-3Tp^2Tqbr^-2su^2v^2x +8D^-1To^-3Tp^2Tqbr^-2s^2u^2v^2 +16D^-1To^-1Tp^2Tqbr^-2su^2v^2x -8D^-1To^-1Tp^2Tqbr^-2s^2u^2v^2 +16D^-1To^-2TpTqbr^-2su^2v^2x -8D^-1To^-2TpTqbr^-2s^2u^2v^2 -16D^-1To^-2Tp^3Tqbr^-2su^2v^2x +8D^-1To^-2Tp^3Tqbr^-2s^2u^2v^2 -8D^-1To^-2Tp^2Tq^2br^-2su^2v^2x +4D^-1To^-2Tp^2Tq^2br^-2s^2u^2v^2 -8D^-1To^-2Tp^2Tqbr^-3suv^2x +4D^-1To^-2Tp^2Tqbr^-3s^2uv^2 +8D^-1To^-3Tp^2Tqbr^-2u^2v^2x^2 -8D^-1To^-1Tp^2Tqbr^-2u^2v^2x^2 -8D^-1To^-2TpTqbr^-2u^2v^2x^2 +8D^-1To^-2Tp^3Tqbr^-2u^2v^2x^2 +4D^-1To^-2Tp^2Tq^2br^-2u^2v^2x^2 +4D^-1To^-2Tp^2Tqbr^-3uv^2x^2 +4D^-1To^-2Tp^2Tqbr^-1uv^2 -4D^-1To^-1Tp^2br^-1uv_tx +4D^-1To^-1Tp^2br^-1suv_t +4D^-1To^-1Tq^2br^-1uv_tx -4D^-1To^-1Tq^2br^-1suv_t -4D^-1To^-2Tpbr^-1uv_tx +4D^-1To^-2Tpbr^-1suv_t +4D^-1Tpbr^-1uv_tx -4D^-1Tpbr^-1suv_t +4D^-1To^-2Tqbr^-1uv_tx -4D^-1To^-2Tqbr^-1suv_t -4D^-1To^-2Tp^2Tqbr^-1uv_tx +4D^-1To^-2Tp^2Tqbr^-1suv_t +4D^-1To^-2Tp^4bfr^-2su^2v^4x -2D^-1To^-2Tp^4bfr^-2u^2v^4x^2 -8D^-1To^-2Tp^2Tq^2bfr^-2su^2v^4x +4D^-1To^-2Tp^2Tq^2bfr^-2u^2v^4x^2 +8D^-1To^-3Tp^3bfr^-2su^2v^4x -4D^-1To^-3Tp^3bfr^-2u^2v^4x^2 -8D^-1To^-1Tp^3bfr^-2su^2v^4x +4D^-1To^-1Tp^3bfr^-2u^2v^4x^2 -8D^-1To^-3Tp^2Tqbfr^-2su^2v^4x +4D^-1To^-3Tp^2Tqbfr^-2u^2v^4x^2 +8D^-1To^-3Tp^4Tqbfr^-2su^2v^4x -4D^-1To^-3Tp^4Tqbfr^-2u^2v^4x^2 +4D^-1To^-1Tp^2bf^2r^-1uv^2v_tx -16D^-2To^-2Tp^4bfr^-2su^2v^4x +8D^-2To^-2Tp^4bfr^-2u^2v^4x^2 +32D^-2To^-2Tp^2Tq^2bfr^-2su^2v^4x -16D^-2To^-2Tp^2Tq^2bfr^-2u^2v^4x^2 -32D^-2To^-3Tp^3bfr^-2su^2v^4x +16D^-2To^-3Tp^3bfr^-2u^2v^4x^2 +32D^-2To^-1Tp^3bfr^-2su^2v^4x -16D^-2To^-1Tp^3bfr^-2u^2v^4x^2 +32D^-2To^-3Tp^2Tqbfr^-2su^2v^4x -16D^-2To^-3Tp^2Tqbfr^-2u^2v^4x^2 -32D^-2To^-3Tp^4Tqbfr^-2su^2v^4x +16D^-2To^-3Tp^4Tqbfr^-2u^2v^4x^2 -16D^-2To^-1Tp^2bf^2r^-1uv^2v_tx -2D^-1To^-2Tp^4bfr^-2s^2u^2v^4 +4D^-1To^-2Tp^2Tq^2bfr^-2s^2u^2v^4 -4D^-1To^-3Tp^3bfr^-2s^2u^2v^4 +4D^-1To^-1Tp^3bfr^-2s^2u^2v^4 +4D^-1To^-3Tp^2Tqbfr^-2s^2u^2v^4 -4D^-1To^-3Tp^4Tqbfr^-2s^2u^2v^4 -4D^-1To^-1Tp^2bf^2r^-1suv^2v_t +8D^-2To^-2Tp^4bfr^-2s^2u^2v^4 -16D^-2To^-2Tp^2Tq^2bfr^-2s^2u^2v^4 +16D^-2To^-3Tp^3bfr^-2s^2u^2v^4 -16D^-2To^-1Tp^3bfr^-2s^2u^2v^4 -16D^-2To^-3Tp^2Tqbfr^-2s^2u^2v^4 +16D^-2To^-3Tp^4Tqbfr^-2s^2u^2v^4 +16D^-2To^-1Tp^2bf^2r^-1suv^2v_t +4D^-1To^-2Tq^4bfr^-2su^2v^4x -2D^-1To^-2Tq^4bfr^-2u^2v^4x^2 -8D^-1To^-3TpTq^2bfr^-2su^2v^4x +4D^-1To^-3TpTq^2bfr^-2u^2v^4x^2 +8D^-1To^-1TpTq^2bfr^-2su^2v^4x -4D^-1To^-1TpTq^2bfr^-2u^2v^4x^2 +8D^-1To^-3Tq^3bfr^-2su^2v^4x -4D^-1To^-3Tq^3bfr^-2u^2v^4x^2 -8D^-1To^-3Tp^2Tq^3bfr^-2su^2v^4x +4D^-1To^-3Tp^2Tq^3bfr^-2u^2v^4x^2 -4D^-1To^-1Tq^2bf^2r^-1uv^2v_tx -16D^-2To^-2Tq^4bfr^-2su^2v^4x +8D^-2To^-2Tq^4bfr^-2u^2v^4x^2 +32D^-2To^-3TpTq^2bfr^-2su^2v^4x -16D^-2To^-3TpTq^2bfr^-2u^2v^4x^2 -32D^-2To^-1TpTq^2bfr^-2su^2v^4x +16D^-2To^-1TpTq^2bfr^-2u^2v^4x^2 -32D^-2To^-3Tq^3bfr^-2su^2v^4x +16D^-2To^-3Tq^3bfr^-2u^2v^4x^2 +32D^-2To^-3Tp^2Tq^3bfr^-2su^2v^4x -16D^-2To^-3Tp^2Tq^3bfr^-2u^2v^4x^2 +16D^-2To^-1Tq^2bf^2r^-1uv^2v_tx -2D^-1To^-2Tq^4bfr^-2s^2u^2v^4 +4D^-1To^-3TpTq^2bfr^-2s^2u^2v^4 -4D^-1To^-1TpTq^2bfr^-2s^2u^2v^4 -4D^-1To^-3Tq^3bfr^-2s^2u^2v^4 +4D^-1To^-3Tp^2Tq^3bfr^-2s^2u^2v^4 +4D^-1To^-1Tq^2bf^2r^-1suv^2v_t +8D^-2To^-2Tq^4bfr^-2s^2u^2v^4 -16D^-2To^-3TpTq^2bfr^-2s^2u^2v^4 +16D^-2To^-1TpTq^2bfr^-2s^2u^2v^4 +16D^-2To^-3Tq^3bfr^-2s^2u^2v^4 -16D^-2To^-3Tp^2Tq^3bfr^-2s^2u^2v^4 -16D^-2To^-1Tq^2bf^2r^-1suv^2v_t +4D^-1To^-4Tp^2bfr^-2su^2v^4x -2D^-1To^-4Tp^2bfr^-2u^2v^4x^2 -8D^-1To^-2Tp^2bfr^-2su^2v^4x +4D^-1To^-2Tp^2bfr^-2u^2v^4x^2 -8D^-1To^-4TpTqbfr^-2su^2v^4x +4D^-1To^-4TpTqbfr^-2u^2v^4x^2 +8D^-1To^-4Tp^3Tqbfr^-2su^2v^4x -4D^-1To^-4Tp^3Tqbfr^-2u^2v^4x^2 +4D^-1To^-2Tpbf^2r^-1uv^2v_tx -16D^-2To^-4Tp^2bfr^-2su^2v^4x +8D^-2To^-4Tp^2bfr^-2u^2v^4x^2 +32D^-2To^-2Tp^2bfr^-2su^2v^4x -16D^-2To^-2Tp^2bfr^-2u^2v^4x^2 +32D^-2To^-4TpTqbfr^-2su^2v^4x -16D^-2To^-4TpTqbfr^-2u^2v^4x^2 -32D^-2To^-4Tp^3Tqbfr^-2su^2v^4x +16D^-2To^-4Tp^3Tqbfr^-2u^2v^4x^2 -16D^-2To^-2Tpbf^2r^-1uv^2v_tx -2D^-1To^-4Tp^2bfr^-2s^2u^2v^4 +4D^-1To^-2Tp^2bfr^-2s^2u^2v^4 +4D^-1To^-4TpTqbfr^-2s^2u^2v^4 -4D^-1To^-4Tp^3Tqbfr^-2s^2u^2v^4 -4D^-1To^-2Tpbf^2r^-1suv^2v_t +8D^-2To^-4Tp^2bfr^-2s^2u^2v^4 -16D^-2To^-2Tp^2bfr^-2s^2u^2v^4 -16D^-2To^-4TpTqbfr^-2s^2u^2v^4 +16D^-2To^-4Tp^3Tqbfr^-2s^2u^2v^4 +16D^-2To^-2Tpbf^2r^-1suv^2v_t +4D^-1Tp^2bfr^-2su^2v^4x -2D^-1Tp^2bfr^-2u^2v^4x^2 +8D^-1To^-2TpTqbfr^-2su^2v^4x -4D^-1To^-2TpTqbfr^-2u^2v^4x^2 -8D^-1To^-2Tp^3Tqbfr^-2su^2v^4x +4D^-1To^-2Tp^3Tqbfr^-2u^2v^4x^2 -4D^-1Tpbf^2r^-1uv^2v_tx -16D^-2Tp^2bfr^-2su^2v^4x +8D^-2Tp^2bfr^-2u^2v^4x^2 -32D^-2To^-2TpTqbfr^-2su^2v^4x +16D^-2To^-2TpTqbfr^-2u^2v^4x^2 +32D^-2To^-2Tp^3Tqbfr^-2su^2v^4x -16D^-2To^-2Tp^3Tqbfr^-2u^2v^4x^2 +16D^-2Tpbf^2r^-1uv^2v_tx -2D^-1Tp^2bfr^-2s^2u^2v^4 -4D^-1To^-2TpTqbfr^-2s^2u^2v^4 +4D^-1To^-2Tp^3Tqbfr^-2s^2u^2v^4 +4D^-1Tpbf^2r^-1suv^2v_t +8D^-2Tp^2bfr^-2s^2u^2v^4 +16D^-2To^-2TpTqbfr^-2s^2u^2v^4 -16D^-2To^-2Tp^3Tqbfr^-2s^2u^2v^4 -16D^-2Tpbf^2r^-1suv^2v_t +4D^-1To^-4Tq^2bfr^-2su^2v^4x -2D^-1To^-4Tq^2bfr^-2u^2v^4x^2 -8D^-1To^-4Tp^2Tq^2bfr^-2su^2v^4x +4D^-1To^-4Tp^2Tq^2bfr^-2u^2v^4x^2 -4D^-1To^-2Tqbf^2r^-1uv^2v_tx -16D^-2To^-4Tq^2bfr^-2su^2v^4x +8D^-2To^-4Tq^2bfr^-2u^2v^4x^2 +32D^-2To^-4Tp^2Tq^2bfr^-2su^2v^4x -16D^-2To^-4Tp^2Tq^2bfr^-2u^2v^4x^2 +16D^-2To^-2Tqbf^2r^-1uv^2v_tx -2D^-1To^-4Tq^2bfr^-2s^2u^2v^4 +4D^-1To^-4Tp^2Tq^2bfr^-2s^2u^2v^4 +4D^-1To^-2Tqbf^2r^-1suv^2v_t +8D^-2To^-4Tq^2bfr^-2s^2u^2v^4 -16D^-2To^-4Tp^2Tq^2bfr^-2s^2u^2v^4 -16D^-2To^-2Tqbf^2r^-1suv^2v_t +4D^-1To^-4Tp^4Tq^2bfr^-2su^2v^4x -2D^-1To^-4Tp^4Tq^2bfr^-2u^2v^4x^2 +4D^-1To^-2Tp^2Tqbf^2r^-1uv^2v_tx -16D^-2To^-4Tp^4Tq^2bfr^-2su^2v^4x +8D^-2To^-4Tp^4Tq^2bfr^-2u^2v^4x^2 -16D^-2To^-2Tp^2Tqbf^2r^-1uv^2v_tx -2D^-1To^-4Tp^4Tq^2bfr^-2s^2u^2v^4 -4D^-1To^-2Tp^2Tqbf^2r^-1suv^2v_t +8D^-2To^-4Tp^4Tq^2bfr^-2s^2u^2v^4 +16D^-2To^-2Tp^2Tqbf^2r^-1suv^2v_t -0.5To^-2Tp^4br^-2u^2v^2y^2 +1To^-2Tp^2Tq^2br^-2u^2v^2y^2 -1To^-3Tp^3br^-2u^2v^2y^2 +1To^-1Tp^3br^-2u^2v^2y^2 +1To^-3Tp^2Tqbr^-2u^2v^2y^2 -1To^-3Tp^4Tqbr^-2u^2v^2y^2 +2D^-1To^-2Tp^4br^-2u^2v^2y^2 -4D^-1To^-2Tp^2Tq^2br^-2u^2v^2y^2 +4D^-1To^-3Tp^3br^-2u^2v^2y^2 -4D^-1To^-1Tp^3br^-2u^2v^2y^2 -4D^-1To^-3Tp^2Tqbr^-2u^2v^2y^2 +4D^-1To^-3Tp^4Tqbr^-2u^2v^2y^2 -0.5To^-2Tq^4br^-2u^2v^2y^2 +1To^-3TpTq^2br^-2u^2v^2y^2 -1To^-1TpTq^2br^-2u^2v^2y^2 -1To^-3Tq^3br^-2u^2v^2y^2 +1To^-3Tp^2Tq^3br^-2u^2v^2y^2 +2D^-1To^-2Tq^4br^-2u^2v^2y^2 -4D^-1To^-3TpTq^2br^-2u^2v^2y^2 +4D^-1To^-1TpTq^2br^-2u^2v^2y^2 +4D^-1To^-3Tq^3br^-2u^2v^2y^2 -4D^-1To^-3Tp^2Tq^3br^-2u^2v^2y^2 -0.5To^-4Tp^2br^-2u^2v^2y^2 +1To^-2Tp^2br^-2u^2v^2y^2 +1To^-4TpTqbr^-2u^2v^2y^2 -1To^-4Tp^3Tqbr^-2u^2v^2y^2 +2D^-1To^-4Tp^2br^-2u^2v^2y^2 -4D^-1To^-2Tp^2br^-2u^2v^2y^2 -4D^-1To^-4TpTqbr^-2u^2v^2y^2 +4D^-1To^-4Tp^3Tqbr^-2u^2v^2y^2 -0.5Tp^2br^-2u^2v^2y^2 -1To^-2TpTqbr^-2u^2v^2y^2 +1To^-2Tp^3Tqbr^-2u^2v^2y^2 +2D^-1Tp^2br^-2u^2v^2y^2 +4D^-1To^-2TpTqbr^-2u^2v^2y^2 -4D^-1To^-2Tp^3Tqbr^-2u^2v^2y^2 -0.5To^-4Tq^2br^-2u^2v^2y^2 +1To^-4Tp^2Tq^2br^-2u^2v^2y^2 +2D^-1To^-4Tq^2br^-2u^2v^2y^2 -4D^-1To^-4Tp^2Tq^2br^-2u^2v^2y^2 -0.5To^-4Tp^4Tq^2br^-2u^2v^2y^2 +2D^-1To^-4Tp^4Tq^2br^-2u^2v^2y^2 -0.5To^-2Tp^4br^-2u^2v^2z^2 +1To^-2Tp^2Tq^2br^-2u^2v^2z^2 -1To^-3Tp^3br^-2u^2v^2z^2 +1To^-1Tp^3br^-2u^2v^2z^2 +1To^-3Tp^2Tqbr^-2u^2v^2z^2 -1To^-3Tp^4Tqbr^-2u^2v^2z^2 +2D^-1To^-2Tp^4br^-2u^2v^2z^2 -4D^-1To^-2Tp^2Tq^2br^-2u^2v^2z^2 +4D^-1To^-3Tp^3br^-2u^2v^2z^2 -4D^-1To^-1Tp^3br^-2u^2v^2z^2 -4D^-1To^-3Tp^2Tqbr^-2u^2v^2z^2 +4D^-1To^-3Tp^4Tqbr^-2u^2v^2z^2 -0.5To^-2Tq^4br^-2u^2v^2z^2 +1To^-3TpTq^2br^-2u^2v^2z^2 -1To^-1TpTq^2br^-2u^2v^2z^2 -1To^-3Tq^3br^-2u^2v^2z^2 +1To^-3Tp^2Tq^3br^-2u^2v^2z^2 +2D^-1To^-2Tq^4br^-2u^2v^2z^2 -4D^-1To^-3TpTq^2br^-2u^2v^2z^2 +4D^-1To^-1TpTq^2br^-2u^2v^2z^2 +4D^-1To^-3Tq^3br^-2u^2v^2z^2 -4D^-1To^-3Tp^2Tq^3br^-2u^2v^2z^2 -0.5To^-4Tp^2br^-2u^2v^2z^2 +1To^-2Tp^2br^-2u^2v^2z^2 +1To^-4TpTqbr^-2u^2v^2z^2 -1To^-4Tp^3Tqbr^-2u^2v^2z^2 +2D^-1To^-4Tp^2br^-2u^2v^2z^2 -4D^-1To^-2Tp^2br^-2u^2v^2z^2 -4D^-1To^-4TpTqbr^-2u^2v^2z^2 +4D^-1To^-4Tp^3Tqbr^-2u^2v^2z^2 -0.5Tp^2br^-2u^2v^2z^2 -1To^-2TpTqbr^-2u^2v^2z^2 +1To^-2Tp^3Tqbr^-2u^2v^2z^2 +2D^-1Tp^2br^-2u^2v^2z^2 +4D^-1To^-2TpTqbr^-2u^2v^2z^2 -4D^-1To^-2Tp^3Tqbr^-2u^2v^2z^2 -0.5To^-4Tq^2br^-2u^2v^2z^2 +1To^-4Tp^2Tq^2br^-2u^2v^2z^2 +2D^-1To^-4Tq^2br^-2u^2v^2z^2 -4D^-1To^-4Tp^2Tq^2br^-2u^2v^2z^2 -0.5To^-4Tp^4Tq^2br^-2u^2v^2z^2 +2D^-1To^-4Tp^4Tq^2br^-2u^2v^2z^2',\n",
       "  '0.5To^-2Tp^2r^-2u^2vy^2 -1Tp^2r^-2u^2vy^2 -2To^-1Tpr^-2u^2vy^2 +1To^-1Tp^3r^-2u^2vy^2 +0.5To^-1Tp^2r^-3uvy^2 +1To^-1Tp^2r^-1uv -1To^-2Tq^2r^-2u^2vy^2 +0.5Tq^2r^-2u^2vy^2 +2To^-1Tqr^-2u^2vy^2 -1To^-1Tq^3r^-2u^2vy^2 -0.5To^-1Tq^2r^-3uvy^2 -1To^-1Tq^2r^-1uv +1To^-3Tpr^-2u^2vy^2 +0.5To^-2Tpr^-3uvy^2 +1To^-2Tpr^-1uv +0.5r^-2u^2vy^2 -0.5Tpr^-3uvy^2 -1Tpr^-1uv -1To^-3Tqr^-2u^2vy^2 -0.5To^-2Tqr^-3uvy^2 -1To^-2Tqr^-1uv +1To^-3Tp^2Tqr^-2u^2vy^2 -1To^-1Tp^2Tqr^-2u^2vy^2 -1To^-2TpTqr^-2u^2vy^2 +1To^-2Tp^3Tqr^-2u^2vy^2 +0.5To^-2Tp^2Tq^2r^-2u^2vy^2 +0.5To^-2Tp^2Tqr^-3uvy^2 +1To^-2Tp^2Tqr^-1uv +0.5To^-2Tp^2r^-2u^2vz^2 -1Tp^2r^-2u^2vz^2 -2To^-1Tpr^-2u^2vz^2 +1To^-1Tp^3r^-2u^2vz^2 +0.5To^-1Tp^2r^-3uvz^2 -1To^-2Tq^2r^-2u^2vz^2 +0.5Tq^2r^-2u^2vz^2 +2To^-1Tqr^-2u^2vz^2 -1To^-1Tq^3r^-2u^2vz^2 -0.5To^-1Tq^2r^-3uvz^2 +1To^-3Tpr^-2u^2vz^2 +0.5To^-2Tpr^-3uvz^2 +0.5r^-2u^2vz^2 -0.5Tpr^-3uvz^2 -1To^-3Tqr^-2u^2vz^2 -0.5To^-2Tqr^-3uvz^2 +1To^-3Tp^2Tqr^-2u^2vz^2 -1To^-1Tp^2Tqr^-2u^2vz^2 -1To^-2TpTqr^-2u^2vz^2 +1To^-2Tp^3Tqr^-2u^2vz^2 +0.5To^-2Tp^2Tq^2r^-2u^2vz^2 +0.5To^-2Tp^2Tqr^-3uvz^2 -4D^-1To^-2Tp^2fr^-2su^2v^3x +2D^-1To^-2Tp^2fr^-2s^2u^2v^3 +8D^-1Tp^2fr^-2su^2v^3x -4D^-1Tp^2fr^-2s^2u^2v^3 +16D^-1To^-1Tpfr^-2su^2v^3x -8D^-1To^-1Tpfr^-2s^2u^2v^3 -8D^-1To^-1Tp^3fr^-2su^2v^3x +4D^-1To^-1Tp^3fr^-2s^2u^2v^3 -2D^-1To^-2Tp^4r^-2su^2v^3x +1D^-1To^-2Tp^4r^-2s^2u^2v^3 +4D^-1To^-2Tp^2Tq^2r^-2su^2v^3x -2D^-1To^-2Tp^2Tq^2r^-2s^2u^2v^3 -4D^-1To^-3Tp^3r^-2su^2v^3x +2D^-1To^-3Tp^3r^-2s^2u^2v^3 +4D^-1To^-1Tp^3r^-2su^2v^3x -2D^-1To^-1Tp^3r^-2s^2u^2v^3 +4D^-1To^-3Tp^2Tqr^-2su^2v^3x -2D^-1To^-3Tp^2Tqr^-2s^2u^2v^3 -4D^-1To^-3Tp^4Tqr^-2su^2v^3x +2D^-1To^-3Tp^4Tqr^-2s^2u^2v^3 -4D^-1To^-1Tp^2fr^-3suv^3x +2D^-1To^-1Tp^2fr^-3s^2uv^3 +2D^-1To^-2Tp^2fr^-2u^2v^3x^2 -4D^-1Tp^2fr^-2u^2v^3x^2 -8D^-1To^-1Tpfr^-2u^2v^3x^2 +4D^-1To^-1Tp^3fr^-2u^2v^3x^2 +1D^-1To^-2Tp^4r^-2u^2v^3x^2 -2D^-1To^-2Tp^2Tq^2r^-2u^2v^3x^2 +2D^-1To^-3Tp^3r^-2u^2v^3x^2 -2D^-1To^-1Tp^3r^-2u^2v^3x^2 -2D^-1To^-3Tp^2Tqr^-2u^2v^3x^2 +2D^-1To^-3Tp^4Tqr^-2u^2v^3x^2 +2D^-1To^-1Tp^2fr^-3uv^3x^2 +2D^-1To^-1Tp^2fr^-1uv^3 +8D^-1To^-2Tq^2fr^-2su^2v^3x -4D^-1To^-2Tq^2fr^-2s^2u^2v^3 -4D^-1Tq^2fr^-2su^2v^3x +2D^-1Tq^2fr^-2s^2u^2v^3 -16D^-1To^-1Tqfr^-2su^2v^3x +8D^-1To^-1Tqfr^-2s^2u^2v^3 +8D^-1To^-1Tq^3fr^-2su^2v^3x -4D^-1To^-1Tq^3fr^-2s^2u^2v^3 -2D^-1To^-2Tq^4r^-2su^2v^3x +1D^-1To^-2Tq^4r^-2s^2u^2v^3 +4D^-1To^-3TpTq^2r^-2su^2v^3x -2D^-1To^-3TpTq^2r^-2s^2u^2v^3 -4D^-1To^-1TpTq^2r^-2su^2v^3x +2D^-1To^-1TpTq^2r^-2s^2u^2v^3 -4D^-1To^-3Tq^3r^-2su^2v^3x +2D^-1To^-3Tq^3r^-2s^2u^2v^3 +4D^-1To^-3Tp^2Tq^3r^-2su^2v^3x -2D^-1To^-3Tp^2Tq^3r^-2s^2u^2v^3 +4D^-1To^-1Tq^2fr^-3suv^3x -2D^-1To^-1Tq^2fr^-3s^2uv^3 -4D^-1To^-2Tq^2fr^-2u^2v^3x^2 +2D^-1Tq^2fr^-2u^2v^3x^2 +8D^-1To^-1Tqfr^-2u^2v^3x^2 -4D^-1To^-1Tq^3fr^-2u^2v^3x^2 +1D^-1To^-2Tq^4r^-2u^2v^3x^2 -2D^-1To^-3TpTq^2r^-2u^2v^3x^2 +2D^-1To^-1TpTq^2r^-2u^2v^3x^2 +2D^-1To^-3Tq^3r^-2u^2v^3x^2 -2D^-1To^-3Tp^2Tq^3r^-2u^2v^3x^2 -2D^-1To^-1Tq^2fr^-3uv^3x^2 -2D^-1To^-1Tq^2fr^-1uv^3 -8D^-1To^-3Tpfr^-2su^2v^3x +4D^-1To^-3Tpfr^-2s^2u^2v^3 -2D^-1To^-4Tp^2r^-2su^2v^3x +1D^-1To^-4Tp^2r^-2s^2u^2v^3 +4D^-1To^-2Tp^2r^-2su^2v^3x -2D^-1To^-2Tp^2r^-2s^2u^2v^3 +4D^-1To^-4TpTqr^-2su^2v^3x -2D^-1To^-4TpTqr^-2s^2u^2v^3 -4D^-1To^-4Tp^3Tqr^-2su^2v^3x +2D^-1To^-4Tp^3Tqr^-2s^2u^2v^3 -4D^-1To^-2Tpfr^-3suv^3x +2D^-1To^-2Tpfr^-3s^2uv^3 +4D^-1To^-3Tpfr^-2u^2v^3x^2 +1D^-1To^-4Tp^2r^-2u^2v^3x^2 -2D^-1To^-2Tp^2r^-2u^2v^3x^2 -2D^-1To^-4TpTqr^-2u^2v^3x^2 +2D^-1To^-4Tp^3Tqr^-2u^2v^3x^2 +2D^-1To^-2Tpfr^-3uv^3x^2 +2D^-1To^-2Tpfr^-1uv^3 -4D^-1fr^-2su^2v^3x +2D^-1fr^-2s^2u^2v^3 -2D^-1Tp^2r^-2su^2v^3x +1D^-1Tp^2r^-2s^2u^2v^3 -4D^-1To^-2TpTqr^-2su^2v^3x +2D^-1To^-2TpTqr^-2s^2u^2v^3 +4D^-1To^-2Tp^3Tqr^-2su^2v^3x -2D^-1To^-2Tp^3Tqr^-2s^2u^2v^3 +4D^-1Tpfr^-3suv^3x -2D^-1Tpfr^-3s^2uv^3 +2D^-1fr^-2u^2v^3x^2 +1D^-1Tp^2r^-2u^2v^3x^2 +2D^-1To^-2TpTqr^-2u^2v^3x^2 -2D^-1To^-2Tp^3Tqr^-2u^2v^3x^2 -2D^-1Tpfr^-3uv^3x^2 -2D^-1Tpfr^-1uv^3 +8D^-1To^-3Tqfr^-2su^2v^3x -4D^-1To^-3Tqfr^-2s^2u^2v^3 -2D^-1To^-4Tq^2r^-2su^2v^3x +1D^-1To^-4Tq^2r^-2s^2u^2v^3 +4D^-1To^-4Tp^2Tq^2r^-2su^2v^3x -2D^-1To^-4Tp^2Tq^2r^-2s^2u^2v^3 +4D^-1To^-2Tqfr^-3suv^3x -2D^-1To^-2Tqfr^-3s^2uv^3 -4D^-1To^-3Tqfr^-2u^2v^3x^2 +1D^-1To^-4Tq^2r^-2u^2v^3x^2 -2D^-1To^-4Tp^2Tq^2r^-2u^2v^3x^2 -2D^-1To^-2Tqfr^-3uv^3x^2 -2D^-1To^-2Tqfr^-1uv^3 -8D^-1To^-3Tp^2Tqfr^-2su^2v^3x +4D^-1To^-3Tp^2Tqfr^-2s^2u^2v^3 +8D^-1To^-1Tp^2Tqfr^-2su^2v^3x -4D^-1To^-1Tp^2Tqfr^-2s^2u^2v^3 +8D^-1To^-2TpTqfr^-2su^2v^3x -4D^-1To^-2TpTqfr^-2s^2u^2v^3 -8D^-1To^-2Tp^3Tqfr^-2su^2v^3x +4D^-1To^-2Tp^3Tqfr^-2s^2u^2v^3 -4D^-1To^-2Tp^2Tq^2fr^-2su^2v^3x +2D^-1To^-2Tp^2Tq^2fr^-2s^2u^2v^3 -2D^-1To^-4Tp^4Tq^2r^-2su^2v^3x +1D^-1To^-4Tp^4Tq^2r^-2s^2u^2v^3 -4D^-1To^-2Tp^2Tqfr^-3suv^3x +2D^-1To^-2Tp^2Tqfr^-3s^2uv^3 +4D^-1To^-3Tp^2Tqfr^-2u^2v^3x^2 -4D^-1To^-1Tp^2Tqfr^-2u^2v^3x^2 -4D^-1To^-2TpTqfr^-2u^2v^3x^2 +4D^-1To^-2Tp^3Tqfr^-2u^2v^3x^2 +2D^-1To^-2Tp^2Tq^2fr^-2u^2v^3x^2 +1D^-1To^-4Tp^4Tq^2r^-2u^2v^3x^2 +2D^-1To^-2Tp^2Tqfr^-3uv^3x^2 +2D^-1To^-2Tp^2Tqfr^-1uv^3 -4D^-1To^-1Tp^2fr^-1uvv_tx +4D^-1To^-1Tp^2fr^-1suvv_t +4D^-1To^-1Tq^2fr^-1uvv_tx -4D^-1To^-1Tq^2fr^-1suvv_t -4D^-1To^-2Tpfr^-1uvv_tx +4D^-1To^-2Tpfr^-1suvv_t +4D^-1Tpfr^-1uvv_tx -4D^-1Tpfr^-1suvv_t +4D^-1To^-2Tqfr^-1uvv_tx -4D^-1To^-2Tqfr^-1suvv_t -4D^-1To^-2Tp^2Tqfr^-1uvv_tx +4D^-1To^-2Tp^2Tqfr^-1suvv_t -2D^-1To^-2Tp^4br^-2su^2v^3x +1D^-1To^-2Tp^4br^-2u^2v^3x^2 +4D^-1To^-2Tp^2Tq^2br^-2su^2v^3x -2D^-1To^-2Tp^2Tq^2br^-2u^2v^3x^2 -4D^-1To^-3Tp^3br^-2su^2v^3x +2D^-1To^-3Tp^3br^-2u^2v^3x^2 +4D^-1To^-1Tp^3br^-2su^2v^3x -2D^-1To^-1Tp^3br^-2u^2v^3x^2 +4D^-1To^-3Tp^2Tqbr^-2su^2v^3x -2D^-1To^-3Tp^2Tqbr^-2u^2v^3x^2 -4D^-1To^-3Tp^4Tqbr^-2su^2v^3x +2D^-1To^-3Tp^4Tqbr^-2u^2v^3x^2 -2D^-1To^-1Tp^2bfr^-1uvv_tx +8D^-2To^-2Tp^4br^-2su^2v^3x -4D^-2To^-2Tp^4br^-2u^2v^3x^2 -16D^-2To^-2Tp^2Tq^2br^-2su^2v^3x +8D^-2To^-2Tp^2Tq^2br^-2u^2v^3x^2 +16D^-2To^-3Tp^3br^-2su^2v^3x -8D^-2To^-3Tp^3br^-2u^2v^3x^2 -16D^-2To^-1Tp^3br^-2su^2v^3x +8D^-2To^-1Tp^3br^-2u^2v^3x^2 -16D^-2To^-3Tp^2Tqbr^-2su^2v^3x +8D^-2To^-3Tp^2Tqbr^-2u^2v^3x^2 +16D^-2To^-3Tp^4Tqbr^-2su^2v^3x -8D^-2To^-3Tp^4Tqbr^-2u^2v^3x^2 +8D^-2To^-1Tp^2bfr^-1uvv_tx +1D^-1To^-2Tp^4br^-2s^2u^2v^3 -2D^-1To^-2Tp^2Tq^2br^-2s^2u^2v^3 +2D^-1To^-3Tp^3br^-2s^2u^2v^3 -2D^-1To^-1Tp^3br^-2s^2u^2v^3 -2D^-1To^-3Tp^2Tqbr^-2s^2u^2v^3 +2D^-1To^-3Tp^4Tqbr^-2s^2u^2v^3 +2D^-1To^-1Tp^2bfr^-1suvv_t -4D^-2To^-2Tp^4br^-2s^2u^2v^3 +8D^-2To^-2Tp^2Tq^2br^-2s^2u^2v^3 -8D^-2To^-3Tp^3br^-2s^2u^2v^3 +8D^-2To^-1Tp^3br^-2s^2u^2v^3 +8D^-2To^-3Tp^2Tqbr^-2s^2u^2v^3 -8D^-2To^-3Tp^4Tqbr^-2s^2u^2v^3 -8D^-2To^-1Tp^2bfr^-1suvv_t -2D^-1To^-2Tq^4br^-2su^2v^3x +1D^-1To^-2Tq^4br^-2u^2v^3x^2 +4D^-1To^-3TpTq^2br^-2su^2v^3x -2D^-1To^-3TpTq^2br^-2u^2v^3x^2 -4D^-1To^-1TpTq^2br^-2su^2v^3x +2D^-1To^-1TpTq^2br^-2u^2v^3x^2 -4D^-1To^-3Tq^3br^-2su^2v^3x +2D^-1To^-3Tq^3br^-2u^2v^3x^2 +4D^-1To^-3Tp^2Tq^3br^-2su^2v^3x -2D^-1To^-3Tp^2Tq^3br^-2u^2v^3x^2 +2D^-1To^-1Tq^2bfr^-1uvv_tx +8D^-2To^-2Tq^4br^-2su^2v^3x -4D^-2To^-2Tq^4br^-2u^2v^3x^2 -16D^-2To^-3TpTq^2br^-2su^2v^3x +8D^-2To^-3TpTq^2br^-2u^2v^3x^2 +16D^-2To^-1TpTq^2br^-2su^2v^3x -8D^-2To^-1TpTq^2br^-2u^2v^3x^2 +16D^-2To^-3Tq^3br^-2su^2v^3x -8D^-2To^-3Tq^3br^-2u^2v^3x^2 -16D^-2To^-3Tp^2Tq^3br^-2su^2v^3x +8D^-2To^-3Tp^2Tq^3br^-2u^2v^3x^2 -8D^-2To^-1Tq^2bfr^-1uvv_tx +1D^-1To^-2Tq^4br^-2s^2u^2v^3 -2D^-1To^-3TpTq^2br^-2s^2u^2v^3 +2D^-1To^-1TpTq^2br^-2s^2u^2v^3 +2D^-1To^-3Tq^3br^-2s^2u^2v^3 -2D^-1To^-3Tp^2Tq^3br^-2s^2u^2v^3 -2D^-1To^-1Tq^2bfr^-1suvv_t -4D^-2To^-2Tq^4br^-2s^2u^2v^3 +8D^-2To^-3TpTq^2br^-2s^2u^2v^3 -8D^-2To^-1TpTq^2br^-2s^2u^2v^3 -8D^-2To^-3Tq^3br^-2s^2u^2v^3 +8D^-2To^-3Tp^2Tq^3br^-2s^2u^2v^3 +8D^-2To^-1Tq^2bfr^-1suvv_t -2D^-1To^-4Tp^2br^-2su^2v^3x +1D^-1To^-4Tp^2br^-2u^2v^3x^2 +4D^-1To^-2Tp^2br^-2su^2v^3x -2D^-1To^-2Tp^2br^-2u^2v^3x^2 +4D^-1To^-4TpTqbr^-2su^2v^3x -2D^-1To^-4TpTqbr^-2u^2v^3x^2 -4D^-1To^-4Tp^3Tqbr^-2su^2v^3x +2D^-1To^-4Tp^3Tqbr^-2u^2v^3x^2 -2D^-1To^-2Tpbfr^-1uvv_tx +8D^-2To^-4Tp^2br^-2su^2v^3x -4D^-2To^-4Tp^2br^-2u^2v^3x^2 -16D^-2To^-2Tp^2br^-2su^2v^3x +8D^-2To^-2Tp^2br^-2u^2v^3x^2 -16D^-2To^-4TpTqbr^-2su^2v^3x +8D^-2To^-4TpTqbr^-2u^2v^3x^2 +16D^-2To^-4Tp^3Tqbr^-2su^2v^3x -8D^-2To^-4Tp^3Tqbr^-2u^2v^3x^2 +8D^-2To^-2Tpbfr^-1uvv_tx +1D^-1To^-4Tp^2br^-2s^2u^2v^3 -2D^-1To^-2Tp^2br^-2s^2u^2v^3 -2D^-1To^-4TpTqbr^-2s^2u^2v^3 +2D^-1To^-4Tp^3Tqbr^-2s^2u^2v^3 +2D^-1To^-2Tpbfr^-1suvv_t -4D^-2To^-4Tp^2br^-2s^2u^2v^3 +8D^-2To^-2Tp^2br^-2s^2u^2v^3 +8D^-2To^-4TpTqbr^-2s^2u^2v^3 -8D^-2To^-4Tp^3Tqbr^-2s^2u^2v^3 -8D^-2To^-2Tpbfr^-1suvv_t -2D^-1Tp^2br^-2su^2v^3x +1D^-1Tp^2br^-2u^2v^3x^2 -4D^-1To^-2TpTqbr^-2su^2v^3x +2D^-1To^-2TpTqbr^-2u^2v^3x^2 +4D^-1To^-2Tp^3Tqbr^-2su^2v^3x -2D^-1To^-2Tp^3Tqbr^-2u^2v^3x^2 +2D^-1Tpbfr^-1uvv_tx +8D^-2Tp^2br^-2su^2v^3x -4D^-2Tp^2br^-2u^2v^3x^2 +16D^-2To^-2TpTqbr^-2su^2v^3x -8D^-2To^-2TpTqbr^-2u^2v^3x^2 -16D^-2To^-2Tp^3Tqbr^-2su^2v^3x +8D^-2To^-2Tp^3Tqbr^-2u^2v^3x^2 -8D^-2Tpbfr^-1uvv_tx +1D^-1Tp^2br^-2s^2u^2v^3 +2D^-1To^-2TpTqbr^-2s^2u^2v^3 -2D^-1To^-2Tp^3Tqbr^-2s^2u^2v^3 -2D^-1Tpbfr^-1suvv_t -4D^-2Tp^2br^-2s^2u^2v^3 -8D^-2To^-2TpTqbr^-2s^2u^2v^3 +8D^-2To^-2Tp^3Tqbr^-2s^2u^2v^3 +8D^-2Tpbfr^-1suvv_t -2D^-1To^-4Tq^2br^-2su^2v^3x +1D^-1To^-4Tq^2br^-2u^2v^3x^2 +4D^-1To^-4Tp^2Tq^2br^-2su^2v^3x -2D^-1To^-4Tp^2Tq^2br^-2u^2v^3x^2 +2D^-1To^-2Tqbfr^-1uvv_tx +8D^-2To^-4Tq^2br^-2su^2v^3x -4D^-2To^-4Tq^2br^-2u^2v^3x^2 -16D^-2To^-4Tp^2Tq^2br^-2su^2v^3x +8D^-2To^-4Tp^2Tq^2br^-2u^2v^3x^2 -8D^-2To^-2Tqbfr^-1uvv_tx +1D^-1To^-4Tq^2br^-2s^2u^2v^3 -2D^-1To^-4Tp^2Tq^2br^-2s^2u^2v^3 -2D^-1To^-2Tqbfr^-1suvv_t -4D^-2To^-4Tq^2br^-2s^2u^2v^3 +8D^-2To^-4Tp^2Tq^2br^-2s^2u^2v^3 +8D^-2To^-2Tqbfr^-1suvv_t -2D^-1To^-4Tp^4Tq^2br^-2su^2v^3x +1D^-1To^-4Tp^4Tq^2br^-2u^2v^3x^2 -2D^-1To^-2Tp^2Tqbfr^-1uvv_tx +8D^-2To^-4Tp^4Tq^2br^-2su^2v^3x -4D^-2To^-4Tp^4Tq^2br^-2u^2v^3x^2 +8D^-2To^-2Tp^2Tqbfr^-1uvv_tx +1D^-1To^-4Tp^4Tq^2br^-2s^2u^2v^3 +2D^-1To^-2Tp^2Tqbfr^-1suvv_t -4D^-2To^-4Tp^4Tq^2br^-2s^2u^2v^3 -8D^-2To^-2Tp^2Tqbfr^-1suvv_t',\n",
       "  '-1D^-1To^-2Tp^2fr^-2su^2v^3y +1D^-1To^-2Tp^2fr^-2u^2v^3xy +2D^-1Tp^2fr^-2su^2v^3y -2D^-1Tp^2fr^-2u^2v^3xy +4D^-1To^-1Tpfr^-2su^2v^3y -4D^-1To^-1Tpfr^-2u^2v^3xy -2D^-1To^-1Tp^3fr^-2su^2v^3y +2D^-1To^-1Tp^3fr^-2u^2v^3xy -0.5D^-1To^-2Tp^4r^-2su^2v^3y +0.5D^-1To^-2Tp^4r^-2u^2v^3xy +1D^-1To^-2Tp^2Tq^2r^-2su^2v^3y -1D^-1To^-2Tp^2Tq^2r^-2u^2v^3xy -1D^-1To^-3Tp^3r^-2su^2v^3y +1D^-1To^-3Tp^3r^-2u^2v^3xy +1D^-1To^-1Tp^3r^-2su^2v^3y -1D^-1To^-1Tp^3r^-2u^2v^3xy +1D^-1To^-3Tp^2Tqr^-2su^2v^3y -1D^-1To^-3Tp^2Tqr^-2u^2v^3xy -1D^-1To^-3Tp^4Tqr^-2su^2v^3y +1D^-1To^-3Tp^4Tqr^-2u^2v^3xy -1D^-1To^-1Tp^2fr^-3suv^3y +1D^-1To^-1Tp^2fr^-3uv^3xy -2D^-1To^-1Tp^2fr^-1uvv_ty +2D^-1To^-2Tq^2fr^-2su^2v^3y -2D^-1To^-2Tq^2fr^-2u^2v^3xy -1D^-1Tq^2fr^-2su^2v^3y +1D^-1Tq^2fr^-2u^2v^3xy -4D^-1To^-1Tqfr^-2su^2v^3y +4D^-1To^-1Tqfr^-2u^2v^3xy +2D^-1To^-1Tq^3fr^-2su^2v^3y -2D^-1To^-1Tq^3fr^-2u^2v^3xy -0.5D^-1To^-2Tq^4r^-2su^2v^3y +0.5D^-1To^-2Tq^4r^-2u^2v^3xy +1D^-1To^-3TpTq^2r^-2su^2v^3y -1D^-1To^-3TpTq^2r^-2u^2v^3xy -1D^-1To^-1TpTq^2r^-2su^2v^3y +1D^-1To^-1TpTq^2r^-2u^2v^3xy -1D^-1To^-3Tq^3r^-2su^2v^3y +1D^-1To^-3Tq^3r^-2u^2v^3xy +1D^-1To^-3Tp^2Tq^3r^-2su^2v^3y -1D^-1To^-3Tp^2Tq^3r^-2u^2v^3xy +1D^-1To^-1Tq^2fr^-3suv^3y -1D^-1To^-1Tq^2fr^-3uv^3xy +2D^-1To^-1Tq^2fr^-1uvv_ty -2D^-1To^-3Tpfr^-2su^2v^3y +2D^-1To^-3Tpfr^-2u^2v^3xy -0.5D^-1To^-4Tp^2r^-2su^2v^3y +0.5D^-1To^-4Tp^2r^-2u^2v^3xy +1D^-1To^-2Tp^2r^-2su^2v^3y -1D^-1To^-2Tp^2r^-2u^2v^3xy +1D^-1To^-4TpTqr^-2su^2v^3y -1D^-1To^-4TpTqr^-2u^2v^3xy -1D^-1To^-4Tp^3Tqr^-2su^2v^3y +1D^-1To^-4Tp^3Tqr^-2u^2v^3xy -1D^-1To^-2Tpfr^-3suv^3y +1D^-1To^-2Tpfr^-3uv^3xy -2D^-1To^-2Tpfr^-1uvv_ty -1D^-1fr^-2su^2v^3y +1D^-1fr^-2u^2v^3xy -0.5D^-1Tp^2r^-2su^2v^3y +0.5D^-1Tp^2r^-2u^2v^3xy -1D^-1To^-2TpTqr^-2su^2v^3y +1D^-1To^-2TpTqr^-2u^2v^3xy +1D^-1To^-2Tp^3Tqr^-2su^2v^3y -1D^-1To^-2Tp^3Tqr^-2u^2v^3xy +1D^-1Tpfr^-3suv^3y -1D^-1Tpfr^-3uv^3xy +2D^-1Tpfr^-1uvv_ty +2D^-1To^-3Tqfr^-2su^2v^3y -2D^-1To^-3Tqfr^-2u^2v^3xy -0.5D^-1To^-4Tq^2r^-2su^2v^3y +0.5D^-1To^-4Tq^2r^-2u^2v^3xy +1D^-1To^-4Tp^2Tq^2r^-2su^2v^3y -1D^-1To^-4Tp^2Tq^2r^-2u^2v^3xy +1D^-1To^-2Tqfr^-3suv^3y -1D^-1To^-2Tqfr^-3uv^3xy +2D^-1To^-2Tqfr^-1uvv_ty -2D^-1To^-3Tp^2Tqfr^-2su^2v^3y +2D^-1To^-3Tp^2Tqfr^-2u^2v^3xy +2D^-1To^-1Tp^2Tqfr^-2su^2v^3y -2D^-1To^-1Tp^2Tqfr^-2u^2v^3xy +2D^-1To^-2TpTqfr^-2su^2v^3y -2D^-1To^-2TpTqfr^-2u^2v^3xy -2D^-1To^-2Tp^3Tqfr^-2su^2v^3y +2D^-1To^-2Tp^3Tqfr^-2u^2v^3xy -1D^-1To^-2Tp^2Tq^2fr^-2su^2v^3y +1D^-1To^-2Tp^2Tq^2fr^-2u^2v^3xy -0.5D^-1To^-4Tp^4Tq^2r^-2su^2v^3y +0.5D^-1To^-4Tp^4Tq^2r^-2u^2v^3xy -1D^-1To^-2Tp^2Tqfr^-3suv^3y +1D^-1To^-2Tp^2Tqfr^-3uv^3xy -2D^-1To^-2Tp^2Tqfr^-1uvv_ty +0.5To^-2Tp^2br^-2u^2vxy -0.5To^-2Tp^2br^-2su^2vy -1Tp^2br^-2u^2vxy +1Tp^2br^-2su^2vy -2To^-1Tpbr^-2u^2vxy +2To^-1Tpbr^-2su^2vy +1To^-1Tp^3br^-2u^2vxy -1To^-1Tp^3br^-2su^2vy +0.5To^-1Tp^2br^-3uvxy -0.5To^-1Tp^2br^-3suvy -1To^-2Tq^2br^-2u^2vxy +1To^-2Tq^2br^-2su^2vy +0.5Tq^2br^-2u^2vxy -0.5Tq^2br^-2su^2vy +2To^-1Tqbr^-2u^2vxy -2To^-1Tqbr^-2su^2vy -1To^-1Tq^3br^-2u^2vxy +1To^-1Tq^3br^-2su^2vy -0.5To^-1Tq^2br^-3uvxy +0.5To^-1Tq^2br^-3suvy +1To^-3Tpbr^-2u^2vxy -1To^-3Tpbr^-2su^2vy +0.5To^-2Tpbr^-3uvxy -0.5To^-2Tpbr^-3suvy +0.5br^-2u^2vxy -0.5br^-2su^2vy -0.5Tpbr^-3uvxy +0.5Tpbr^-3suvy -1To^-3Tqbr^-2u^2vxy +1To^-3Tqbr^-2su^2vy -0.5To^-2Tqbr^-3uvxy +0.5To^-2Tqbr^-3suvy +1To^-3Tp^2Tqbr^-2u^2vxy -1To^-3Tp^2Tqbr^-2su^2vy -1To^-1Tp^2Tqbr^-2u^2vxy +1To^-1Tp^2Tqbr^-2su^2vy -1To^-2TpTqbr^-2u^2vxy +1To^-2TpTqbr^-2su^2vy +1To^-2Tp^3Tqbr^-2u^2vxy -1To^-2Tp^3Tqbr^-2su^2vy +0.5To^-2Tp^2Tq^2br^-2u^2vxy -0.5To^-2Tp^2Tq^2br^-2su^2vy +0.5To^-2Tp^2Tqbr^-3uvxy -0.5To^-2Tp^2Tqbr^-3suvy -2D^-1To^-2Tp^2br^-2u^2vxy +2D^-1To^-2Tp^2br^-2su^2vy +4D^-1Tp^2br^-2u^2vxy -4D^-1Tp^2br^-2su^2vy +8D^-1To^-1Tpbr^-2u^2vxy -8D^-1To^-1Tpbr^-2su^2vy -4D^-1To^-1Tp^3br^-2u^2vxy +4D^-1To^-1Tp^3br^-2su^2vy -2D^-1To^-1Tp^2br^-3uvxy +2D^-1To^-1Tp^2br^-3suvy +4D^-1To^-2Tq^2br^-2u^2vxy -4D^-1To^-2Tq^2br^-2su^2vy -2D^-1Tq^2br^-2u^2vxy +2D^-1Tq^2br^-2su^2vy -8D^-1To^-1Tqbr^-2u^2vxy +8D^-1To^-1Tqbr^-2su^2vy +4D^-1To^-1Tq^3br^-2u^2vxy -4D^-1To^-1Tq^3br^-2su^2vy +2D^-1To^-1Tq^2br^-3uvxy -2D^-1To^-1Tq^2br^-3suvy -4D^-1To^-3Tpbr^-2u^2vxy +4D^-1To^-3Tpbr^-2su^2vy -2D^-1To^-2Tpbr^-3uvxy +2D^-1To^-2Tpbr^-3suvy -2D^-1br^-2u^2vxy +2D^-1br^-2su^2vy +2D^-1Tpbr^-3uvxy -2D^-1Tpbr^-3suvy +4D^-1To^-3Tqbr^-2u^2vxy -4D^-1To^-3Tqbr^-2su^2vy +2D^-1To^-2Tqbr^-3uvxy -2D^-1To^-2Tqbr^-3suvy -4D^-1To^-3Tp^2Tqbr^-2u^2vxy +4D^-1To^-3Tp^2Tqbr^-2su^2vy +4D^-1To^-1Tp^2Tqbr^-2u^2vxy -4D^-1To^-1Tp^2Tqbr^-2su^2vy +4D^-1To^-2TpTqbr^-2u^2vxy -4D^-1To^-2TpTqbr^-2su^2vy -4D^-1To^-2Tp^3Tqbr^-2u^2vxy +4D^-1To^-2Tp^3Tqbr^-2su^2vy -2D^-1To^-2Tp^2Tq^2br^-2u^2vxy +2D^-1To^-2Tp^2Tq^2br^-2su^2vy -2D^-1To^-2Tp^2Tqbr^-3uvxy +2D^-1To^-2Tp^2Tqbr^-3suvy +1D^-1To^-2Tp^4bfr^-2u^2v^3xy -2D^-1To^-2Tp^2Tq^2bfr^-2u^2v^3xy +2D^-1To^-3Tp^3bfr^-2u^2v^3xy -2D^-1To^-1Tp^3bfr^-2u^2v^3xy -2D^-1To^-3Tp^2Tqbfr^-2u^2v^3xy +2D^-1To^-3Tp^4Tqbfr^-2u^2v^3xy -4D^-2To^-2Tp^4bfr^-2u^2v^3xy +8D^-2To^-2Tp^2Tq^2bfr^-2u^2v^3xy -8D^-2To^-3Tp^3bfr^-2u^2v^3xy +8D^-2To^-1Tp^3bfr^-2u^2v^3xy +8D^-2To^-3Tp^2Tqbfr^-2u^2v^3xy -8D^-2To^-3Tp^4Tqbfr^-2u^2v^3xy -1D^-1To^-2Tp^4bfr^-2su^2v^3y +2D^-1To^-2Tp^2Tq^2bfr^-2su^2v^3y -2D^-1To^-3Tp^3bfr^-2su^2v^3y +2D^-1To^-1Tp^3bfr^-2su^2v^3y +2D^-1To^-3Tp^2Tqbfr^-2su^2v^3y -2D^-1To^-3Tp^4Tqbfr^-2su^2v^3y +4D^-2To^-2Tp^4bfr^-2su^2v^3y -8D^-2To^-2Tp^2Tq^2bfr^-2su^2v^3y +8D^-2To^-3Tp^3bfr^-2su^2v^3y -8D^-2To^-1Tp^3bfr^-2su^2v^3y -8D^-2To^-3Tp^2Tqbfr^-2su^2v^3y +8D^-2To^-3Tp^4Tqbfr^-2su^2v^3y +1D^-1To^-2Tq^4bfr^-2u^2v^3xy -2D^-1To^-3TpTq^2bfr^-2u^2v^3xy +2D^-1To^-1TpTq^2bfr^-2u^2v^3xy +2D^-1To^-3Tq^3bfr^-2u^2v^3xy -2D^-1To^-3Tp^2Tq^3bfr^-2u^2v^3xy -4D^-2To^-2Tq^4bfr^-2u^2v^3xy +8D^-2To^-3TpTq^2bfr^-2u^2v^3xy -8D^-2To^-1TpTq^2bfr^-2u^2v^3xy -8D^-2To^-3Tq^3bfr^-2u^2v^3xy +8D^-2To^-3Tp^2Tq^3bfr^-2u^2v^3xy -1D^-1To^-2Tq^4bfr^-2su^2v^3y +2D^-1To^-3TpTq^2bfr^-2su^2v^3y -2D^-1To^-1TpTq^2bfr^-2su^2v^3y -2D^-1To^-3Tq^3bfr^-2su^2v^3y +2D^-1To^-3Tp^2Tq^3bfr^-2su^2v^3y +4D^-2To^-2Tq^4bfr^-2su^2v^3y -8D^-2To^-3TpTq^2bfr^-2su^2v^3y +8D^-2To^-1TpTq^2bfr^-2su^2v^3y +8D^-2To^-3Tq^3bfr^-2su^2v^3y -8D^-2To^-3Tp^2Tq^3bfr^-2su^2v^3y +1D^-1To^-4Tp^2bfr^-2u^2v^3xy -2D^-1To^-2Tp^2bfr^-2u^2v^3xy -2D^-1To^-4TpTqbfr^-2u^2v^3xy +2D^-1To^-4Tp^3Tqbfr^-2u^2v^3xy -4D^-2To^-4Tp^2bfr^-2u^2v^3xy +8D^-2To^-2Tp^2bfr^-2u^2v^3xy +8D^-2To^-4TpTqbfr^-2u^2v^3xy -8D^-2To^-4Tp^3Tqbfr^-2u^2v^3xy -1D^-1To^-4Tp^2bfr^-2su^2v^3y +2D^-1To^-2Tp^2bfr^-2su^2v^3y +2D^-1To^-4TpTqbfr^-2su^2v^3y -2D^-1To^-4Tp^3Tqbfr^-2su^2v^3y +4D^-2To^-4Tp^2bfr^-2su^2v^3y -8D^-2To^-2Tp^2bfr^-2su^2v^3y -8D^-2To^-4TpTqbfr^-2su^2v^3y +8D^-2To^-4Tp^3Tqbfr^-2su^2v^3y +1D^-1Tp^2bfr^-2u^2v^3xy +2D^-1To^-2TpTqbfr^-2u^2v^3xy -2D^-1To^-2Tp^3Tqbfr^-2u^2v^3xy -4D^-2Tp^2bfr^-2u^2v^3xy -8D^-2To^-2TpTqbfr^-2u^2v^3xy +8D^-2To^-2Tp^3Tqbfr^-2u^2v^3xy -1D^-1Tp^2bfr^-2su^2v^3y -2D^-1To^-2TpTqbfr^-2su^2v^3y +2D^-1To^-2Tp^3Tqbfr^-2su^2v^3y +4D^-2Tp^2bfr^-2su^2v^3y +8D^-2To^-2TpTqbfr^-2su^2v^3y -8D^-2To^-2Tp^3Tqbfr^-2su^2v^3y +1D^-1To^-4Tq^2bfr^-2u^2v^3xy -2D^-1To^-4Tp^2Tq^2bfr^-2u^2v^3xy -4D^-2To^-4Tq^2bfr^-2u^2v^3xy +8D^-2To^-4Tp^2Tq^2bfr^-2u^2v^3xy -1D^-1To^-4Tq^2bfr^-2su^2v^3y +2D^-1To^-4Tp^2Tq^2bfr^-2su^2v^3y +4D^-2To^-4Tq^2bfr^-2su^2v^3y -8D^-2To^-4Tp^2Tq^2bfr^-2su^2v^3y +1D^-1To^-4Tp^4Tq^2bfr^-2u^2v^3xy -4D^-2To^-4Tp^4Tq^2bfr^-2u^2v^3xy -1D^-1To^-4Tp^4Tq^2bfr^-2su^2v^3y +4D^-2To^-4Tp^4Tq^2bfr^-2su^2v^3y -0.5D^-1To^-2Tp^4br^-2su^2v^3y +0.5D^-1To^-2Tp^4br^-2u^2v^3xy +1D^-1To^-2Tp^2Tq^2br^-2su^2v^3y -1D^-1To^-2Tp^2Tq^2br^-2u^2v^3xy -1D^-1To^-3Tp^3br^-2su^2v^3y +1D^-1To^-3Tp^3br^-2u^2v^3xy +1D^-1To^-1Tp^3br^-2su^2v^3y -1D^-1To^-1Tp^3br^-2u^2v^3xy +1D^-1To^-3Tp^2Tqbr^-2su^2v^3y -1D^-1To^-3Tp^2Tqbr^-2u^2v^3xy -1D^-1To^-3Tp^4Tqbr^-2su^2v^3y +1D^-1To^-3Tp^4Tqbr^-2u^2v^3xy -1D^-1To^-1Tp^2bfr^-1uvv_ty +2D^-2To^-2Tp^4br^-2su^2v^3y -2D^-2To^-2Tp^4br^-2u^2v^3xy -4D^-2To^-2Tp^2Tq^2br^-2su^2v^3y +4D^-2To^-2Tp^2Tq^2br^-2u^2v^3xy +4D^-2To^-3Tp^3br^-2su^2v^3y -4D^-2To^-3Tp^3br^-2u^2v^3xy -4D^-2To^-1Tp^3br^-2su^2v^3y +4D^-2To^-1Tp^3br^-2u^2v^3xy -4D^-2To^-3Tp^2Tqbr^-2su^2v^3y +4D^-2To^-3Tp^2Tqbr^-2u^2v^3xy +4D^-2To^-3Tp^4Tqbr^-2su^2v^3y -4D^-2To^-3Tp^4Tqbr^-2u^2v^3xy +4D^-2To^-1Tp^2bfr^-1uvv_ty -0.5D^-1To^-2Tq^4br^-2su^2v^3y +0.5D^-1To^-2Tq^4br^-2u^2v^3xy +1D^-1To^-3TpTq^2br^-2su^2v^3y -1D^-1To^-3TpTq^2br^-2u^2v^3xy -1D^-1To^-1TpTq^2br^-2su^2v^3y +1D^-1To^-1TpTq^2br^-2u^2v^3xy -1D^-1To^-3Tq^3br^-2su^2v^3y +1D^-1To^-3Tq^3br^-2u^2v^3xy +1D^-1To^-3Tp^2Tq^3br^-2su^2v^3y -1D^-1To^-3Tp^2Tq^3br^-2u^2v^3xy +1D^-1To^-1Tq^2bfr^-1uvv_ty +2D^-2To^-2Tq^4br^-2su^2v^3y -2D^-2To^-2Tq^4br^-2u^2v^3xy -4D^-2To^-3TpTq^2br^-2su^2v^3y +4D^-2To^-3TpTq^2br^-2u^2v^3xy +4D^-2To^-1TpTq^2br^-2su^2v^3y -4D^-2To^-1TpTq^2br^-2u^2v^3xy +4D^-2To^-3Tq^3br^-2su^2v^3y -4D^-2To^-3Tq^3br^-2u^2v^3xy -4D^-2To^-3Tp^2Tq^3br^-2su^2v^3y +4D^-2To^-3Tp^2Tq^3br^-2u^2v^3xy -4D^-2To^-1Tq^2bfr^-1uvv_ty -0.5D^-1To^-4Tp^2br^-2su^2v^3y +0.5D^-1To^-4Tp^2br^-2u^2v^3xy +1D^-1To^-2Tp^2br^-2su^2v^3y -1D^-1To^-2Tp^2br^-2u^2v^3xy +1D^-1To^-4TpTqbr^-2su^2v^3y -1D^-1To^-4TpTqbr^-2u^2v^3xy -1D^-1To^-4Tp^3Tqbr^-2su^2v^3y +1D^-1To^-4Tp^3Tqbr^-2u^2v^3xy -1D^-1To^-2Tpbfr^-1uvv_ty +2D^-2To^-4Tp^2br^-2su^2v^3y -2D^-2To^-4Tp^2br^-2u^2v^3xy -4D^-2To^-2Tp^2br^-2su^2v^3y +4D^-2To^-2Tp^2br^-2u^2v^3xy -4D^-2To^-4TpTqbr^-2su^2v^3y +4D^-2To^-4TpTqbr^-2u^2v^3xy +4D^-2To^-4Tp^3Tqbr^-2su^2v^3y -4D^-2To^-4Tp^3Tqbr^-2u^2v^3xy +4D^-2To^-2Tpbfr^-1uvv_ty -0.5D^-1Tp^2br^-2su^2v^3y +0.5D^-1Tp^2br^-2u^2v^3xy -1D^-1To^-2TpTqbr^-2su^2v^3y +1D^-1To^-2TpTqbr^-2u^2v^3xy +1D^-1To^-2Tp^3Tqbr^-2su^2v^3y -1D^-1To^-2Tp^3Tqbr^-2u^2v^3xy +1D^-1Tpbfr^-1uvv_ty +2D^-2Tp^2br^-2su^2v^3y -2D^-2Tp^2br^-2u^2v^3xy +4D^-2To^-2TpTqbr^-2su^2v^3y -4D^-2To^-2TpTqbr^-2u^2v^3xy -4D^-2To^-2Tp^3Tqbr^-2su^2v^3y +4D^-2To^-2Tp^3Tqbr^-2u^2v^3xy -4D^-2Tpbfr^-1uvv_ty -0.5D^-1To^-4Tq^2br^-2su^2v^3y +0.5D^-1To^-4Tq^2br^-2u^2v^3xy +1D^-1To^-4Tp^2Tq^2br^-2su^2v^3y -1D^-1To^-4Tp^2Tq^2br^-2u^2v^3xy +1D^-1To^-2Tqbfr^-1uvv_ty +2D^-2To^-4Tq^2br^-2su^2v^3y -2D^-2To^-4Tq^2br^-2u^2v^3xy -4D^-2To^-4Tp^2Tq^2br^-2su^2v^3y +4D^-2To^-4Tp^2Tq^2br^-2u^2v^3xy -4D^-2To^-2Tqbfr^-1uvv_ty -0.5D^-1To^-4Tp^4Tq^2br^-2su^2v^3y +0.5D^-1To^-4Tp^4Tq^2br^-2u^2v^3xy -1D^-1To^-2Tp^2Tqbfr^-1uvv_ty +2D^-2To^-4Tp^4Tq^2br^-2su^2v^3y -2D^-2To^-4Tp^4Tq^2br^-2u^2v^3xy +4D^-2To^-2Tp^2Tqbfr^-1uvv_ty',\n",
       "  '-1D^-1To^-2Tp^2fr^-2su^2v^3z +1D^-1To^-2Tp^2fr^-2u^2v^3xz +2D^-1Tp^2fr^-2su^2v^3z -2D^-1Tp^2fr^-2u^2v^3xz +4D^-1To^-1Tpfr^-2su^2v^3z -4D^-1To^-1Tpfr^-2u^2v^3xz -2D^-1To^-1Tp^3fr^-2su^2v^3z +2D^-1To^-1Tp^3fr^-2u^2v^3xz -0.5D^-1To^-2Tp^4r^-2su^2v^3z +0.5D^-1To^-2Tp^4r^-2u^2v^3xz +1D^-1To^-2Tp^2Tq^2r^-2su^2v^3z -1D^-1To^-2Tp^2Tq^2r^-2u^2v^3xz -1D^-1To^-3Tp^3r^-2su^2v^3z +1D^-1To^-3Tp^3r^-2u^2v^3xz +1D^-1To^-1Tp^3r^-2su^2v^3z -1D^-1To^-1Tp^3r^-2u^2v^3xz +1D^-1To^-3Tp^2Tqr^-2su^2v^3z -1D^-1To^-3Tp^2Tqr^-2u^2v^3xz -1D^-1To^-3Tp^4Tqr^-2su^2v^3z +1D^-1To^-3Tp^4Tqr^-2u^2v^3xz -1D^-1To^-1Tp^2fr^-3suv^3z +1D^-1To^-1Tp^2fr^-3uv^3xz -2D^-1To^-1Tp^2fr^-1uvv_tz +2D^-1To^-2Tq^2fr^-2su^2v^3z -2D^-1To^-2Tq^2fr^-2u^2v^3xz -1D^-1Tq^2fr^-2su^2v^3z +1D^-1Tq^2fr^-2u^2v^3xz -4D^-1To^-1Tqfr^-2su^2v^3z +4D^-1To^-1Tqfr^-2u^2v^3xz +2D^-1To^-1Tq^3fr^-2su^2v^3z -2D^-1To^-1Tq^3fr^-2u^2v^3xz -0.5D^-1To^-2Tq^4r^-2su^2v^3z +0.5D^-1To^-2Tq^4r^-2u^2v^3xz +1D^-1To^-3TpTq^2r^-2su^2v^3z -1D^-1To^-3TpTq^2r^-2u^2v^3xz -1D^-1To^-1TpTq^2r^-2su^2v^3z +1D^-1To^-1TpTq^2r^-2u^2v^3xz -1D^-1To^-3Tq^3r^-2su^2v^3z +1D^-1To^-3Tq^3r^-2u^2v^3xz +1D^-1To^-3Tp^2Tq^3r^-2su^2v^3z -1D^-1To^-3Tp^2Tq^3r^-2u^2v^3xz +1D^-1To^-1Tq^2fr^-3suv^3z -1D^-1To^-1Tq^2fr^-3uv^3xz +2D^-1To^-1Tq^2fr^-1uvv_tz -2D^-1To^-3Tpfr^-2su^2v^3z +2D^-1To^-3Tpfr^-2u^2v^3xz -0.5D^-1To^-4Tp^2r^-2su^2v^3z +0.5D^-1To^-4Tp^2r^-2u^2v^3xz +1D^-1To^-2Tp^2r^-2su^2v^3z -1D^-1To^-2Tp^2r^-2u^2v^3xz +1D^-1To^-4TpTqr^-2su^2v^3z -1D^-1To^-4TpTqr^-2u^2v^3xz -1D^-1To^-4Tp^3Tqr^-2su^2v^3z +1D^-1To^-4Tp^3Tqr^-2u^2v^3xz -1D^-1To^-2Tpfr^-3suv^3z +1D^-1To^-2Tpfr^-3uv^3xz -2D^-1To^-2Tpfr^-1uvv_tz -1D^-1fr^-2su^2v^3z +1D^-1fr^-2u^2v^3xz -0.5D^-1Tp^2r^-2su^2v^3z +0.5D^-1Tp^2r^-2u^2v^3xz -1D^-1To^-2TpTqr^-2su^2v^3z +1D^-1To^-2TpTqr^-2u^2v^3xz +1D^-1To^-2Tp^3Tqr^-2su^2v^3z -1D^-1To^-2Tp^3Tqr^-2u^2v^3xz +1D^-1Tpfr^-3suv^3z -1D^-1Tpfr^-3uv^3xz +2D^-1Tpfr^-1uvv_tz +2D^-1To^-3Tqfr^-2su^2v^3z -2D^-1To^-3Tqfr^-2u^2v^3xz -0.5D^-1To^-4Tq^2r^-2su^2v^3z +0.5D^-1To^-4Tq^2r^-2u^2v^3xz +1D^-1To^-4Tp^2Tq^2r^-2su^2v^3z -1D^-1To^-4Tp^2Tq^2r^-2u^2v^3xz +1D^-1To^-2Tqfr^-3suv^3z -1D^-1To^-2Tqfr^-3uv^3xz +2D^-1To^-2Tqfr^-1uvv_tz -2D^-1To^-3Tp^2Tqfr^-2su^2v^3z +2D^-1To^-3Tp^2Tqfr^-2u^2v^3xz +2D^-1To^-1Tp^2Tqfr^-2su^2v^3z -2D^-1To^-1Tp^2Tqfr^-2u^2v^3xz +2D^-1To^-2TpTqfr^-2su^2v^3z -2D^-1To^-2TpTqfr^-2u^2v^3xz -2D^-1To^-2Tp^3Tqfr^-2su^2v^3z +2D^-1To^-2Tp^3Tqfr^-2u^2v^3xz -1D^-1To^-2Tp^2Tq^2fr^-2su^2v^3z +1D^-1To^-2Tp^2Tq^2fr^-2u^2v^3xz -0.5D^-1To^-4Tp^4Tq^2r^-2su^2v^3z +0.5D^-1To^-4Tp^4Tq^2r^-2u^2v^3xz -1D^-1To^-2Tp^2Tqfr^-3suv^3z +1D^-1To^-2Tp^2Tqfr^-3uv^3xz -2D^-1To^-2Tp^2Tqfr^-1uvv_tz +0.5To^-2Tp^2br^-2u^2vxz -0.5To^-2Tp^2br^-2su^2vz -1Tp^2br^-2u^2vxz +1Tp^2br^-2su^2vz -2To^-1Tpbr^-2u^2vxz +2To^-1Tpbr^-2su^2vz +1To^-1Tp^3br^-2u^2vxz -1To^-1Tp^3br^-2su^2vz +0.5To^-1Tp^2br^-3uvxz -0.5To^-1Tp^2br^-3suvz -1To^-2Tq^2br^-2u^2vxz +1To^-2Tq^2br^-2su^2vz +0.5Tq^2br^-2u^2vxz -0.5Tq^2br^-2su^2vz +2To^-1Tqbr^-2u^2vxz -2To^-1Tqbr^-2su^2vz -1To^-1Tq^3br^-2u^2vxz +1To^-1Tq^3br^-2su^2vz -0.5To^-1Tq^2br^-3uvxz +0.5To^-1Tq^2br^-3suvz +1To^-3Tpbr^-2u^2vxz -1To^-3Tpbr^-2su^2vz +0.5To^-2Tpbr^-3uvxz -0.5To^-2Tpbr^-3suvz +0.5br^-2u^2vxz -0.5br^-2su^2vz -0.5Tpbr^-3uvxz +0.5Tpbr^-3suvz -1To^-3Tqbr^-2u^2vxz +1To^-3Tqbr^-2su^2vz -0.5To^-2Tqbr^-3uvxz +0.5To^-2Tqbr^-3suvz +1To^-3Tp^2Tqbr^-2u^2vxz -1To^-3Tp^2Tqbr^-2su^2vz -1To^-1Tp^2Tqbr^-2u^2vxz +1To^-1Tp^2Tqbr^-2su^2vz -1To^-2TpTqbr^-2u^2vxz +1To^-2TpTqbr^-2su^2vz +1To^-2Tp^3Tqbr^-2u^2vxz -1To^-2Tp^3Tqbr^-2su^2vz +0.5To^-2Tp^2Tq^2br^-2u^2vxz -0.5To^-2Tp^2Tq^2br^-2su^2vz +0.5To^-2Tp^2Tqbr^-3uvxz -0.5To^-2Tp^2Tqbr^-3suvz -2D^-1To^-2Tp^2br^-2u^2vxz +2D^-1To^-2Tp^2br^-2su^2vz +4D^-1Tp^2br^-2u^2vxz -4D^-1Tp^2br^-2su^2vz +8D^-1To^-1Tpbr^-2u^2vxz -8D^-1To^-1Tpbr^-2su^2vz -4D^-1To^-1Tp^3br^-2u^2vxz +4D^-1To^-1Tp^3br^-2su^2vz -2D^-1To^-1Tp^2br^-3uvxz +2D^-1To^-1Tp^2br^-3suvz +4D^-1To^-2Tq^2br^-2u^2vxz -4D^-1To^-2Tq^2br^-2su^2vz -2D^-1Tq^2br^-2u^2vxz +2D^-1Tq^2br^-2su^2vz -8D^-1To^-1Tqbr^-2u^2vxz +8D^-1To^-1Tqbr^-2su^2vz +4D^-1To^-1Tq^3br^-2u^2vxz -4D^-1To^-1Tq^3br^-2su^2vz +2D^-1To^-1Tq^2br^-3uvxz -2D^-1To^-1Tq^2br^-3suvz -4D^-1To^-3Tpbr^-2u^2vxz +4D^-1To^-3Tpbr^-2su^2vz -2D^-1To^-2Tpbr^-3uvxz +2D^-1To^-2Tpbr^-3suvz -2D^-1br^-2u^2vxz +2D^-1br^-2su^2vz +2D^-1Tpbr^-3uvxz -2D^-1Tpbr^-3suvz +4D^-1To^-3Tqbr^-2u^2vxz -4D^-1To^-3Tqbr^-2su^2vz +2D^-1To^-2Tqbr^-3uvxz -2D^-1To^-2Tqbr^-3suvz -4D^-1To^-3Tp^2Tqbr^-2u^2vxz +4D^-1To^-3Tp^2Tqbr^-2su^2vz +4D^-1To^-1Tp^2Tqbr^-2u^2vxz -4D^-1To^-1Tp^2Tqbr^-2su^2vz +4D^-1To^-2TpTqbr^-2u^2vxz -4D^-1To^-2TpTqbr^-2su^2vz -4D^-1To^-2Tp^3Tqbr^-2u^2vxz +4D^-1To^-2Tp^3Tqbr^-2su^2vz -2D^-1To^-2Tp^2Tq^2br^-2u^2vxz +2D^-1To^-2Tp^2Tq^2br^-2su^2vz -2D^-1To^-2Tp^2Tqbr^-3uvxz +2D^-1To^-2Tp^2Tqbr^-3suvz +1D^-1To^-2Tp^4bfr^-2u^2v^3xz -2D^-1To^-2Tp^2Tq^2bfr^-2u^2v^3xz +2D^-1To^-3Tp^3bfr^-2u^2v^3xz -2D^-1To^-1Tp^3bfr^-2u^2v^3xz -2D^-1To^-3Tp^2Tqbfr^-2u^2v^3xz +2D^-1To^-3Tp^4Tqbfr^-2u^2v^3xz -4D^-2To^-2Tp^4bfr^-2u^2v^3xz +8D^-2To^-2Tp^2Tq^2bfr^-2u^2v^3xz -8D^-2To^-3Tp^3bfr^-2u^2v^3xz +8D^-2To^-1Tp^3bfr^-2u^2v^3xz +8D^-2To^-3Tp^2Tqbfr^-2u^2v^3xz -8D^-2To^-3Tp^4Tqbfr^-2u^2v^3xz -1D^-1To^-2Tp^4bfr^-2su^2v^3z +2D^-1To^-2Tp^2Tq^2bfr^-2su^2v^3z -2D^-1To^-3Tp^3bfr^-2su^2v^3z +2D^-1To^-1Tp^3bfr^-2su^2v^3z +2D^-1To^-3Tp^2Tqbfr^-2su^2v^3z -2D^-1To^-3Tp^4Tqbfr^-2su^2v^3z +4D^-2To^-2Tp^4bfr^-2su^2v^3z -8D^-2To^-2Tp^2Tq^2bfr^-2su^2v^3z +8D^-2To^-3Tp^3bfr^-2su^2v^3z -8D^-2To^-1Tp^3bfr^-2su^2v^3z -8D^-2To^-3Tp^2Tqbfr^-2su^2v^3z +8D^-2To^-3Tp^4Tqbfr^-2su^2v^3z +1D^-1To^-2Tq^4bfr^-2u^2v^3xz -2D^-1To^-3TpTq^2bfr^-2u^2v^3xz +2D^-1To^-1TpTq^2bfr^-2u^2v^3xz +2D^-1To^-3Tq^3bfr^-2u^2v^3xz -2D^-1To^-3Tp^2Tq^3bfr^-2u^2v^3xz -4D^-2To^-2Tq^4bfr^-2u^2v^3xz +8D^-2To^-3TpTq^2bfr^-2u^2v^3xz -8D^-2To^-1TpTq^2bfr^-2u^2v^3xz -8D^-2To^-3Tq^3bfr^-2u^2v^3xz +8D^-2To^-3Tp^2Tq^3bfr^-2u^2v^3xz -1D^-1To^-2Tq^4bfr^-2su^2v^3z +2D^-1To^-3TpTq^2bfr^-2su^2v^3z -2D^-1To^-1TpTq^2bfr^-2su^2v^3z -2D^-1To^-3Tq^3bfr^-2su^2v^3z +2D^-1To^-3Tp^2Tq^3bfr^-2su^2v^3z +4D^-2To^-2Tq^4bfr^-2su^2v^3z -8D^-2To^-3TpTq^2bfr^-2su^2v^3z +8D^-2To^-1TpTq^2bfr^-2su^2v^3z +8D^-2To^-3Tq^3bfr^-2su^2v^3z -8D^-2To^-3Tp^2Tq^3bfr^-2su^2v^3z +1D^-1To^-4Tp^2bfr^-2u^2v^3xz -2D^-1To^-2Tp^2bfr^-2u^2v^3xz -2D^-1To^-4TpTqbfr^-2u^2v^3xz +2D^-1To^-4Tp^3Tqbfr^-2u^2v^3xz -4D^-2To^-4Tp^2bfr^-2u^2v^3xz +8D^-2To^-2Tp^2bfr^-2u^2v^3xz +8D^-2To^-4TpTqbfr^-2u^2v^3xz -8D^-2To^-4Tp^3Tqbfr^-2u^2v^3xz -1D^-1To^-4Tp^2bfr^-2su^2v^3z +2D^-1To^-2Tp^2bfr^-2su^2v^3z +2D^-1To^-4TpTqbfr^-2su^2v^3z -2D^-1To^-4Tp^3Tqbfr^-2su^2v^3z +4D^-2To^-4Tp^2bfr^-2su^2v^3z -8D^-2To^-2Tp^2bfr^-2su^2v^3z -8D^-2To^-4TpTqbfr^-2su^2v^3z +8D^-2To^-4Tp^3Tqbfr^-2su^2v^3z +1D^-1Tp^2bfr^-2u^2v^3xz +2D^-1To^-2TpTqbfr^-2u^2v^3xz -2D^-1To^-2Tp^3Tqbfr^-2u^2v^3xz -4D^-2Tp^2bfr^-2u^2v^3xz -8D^-2To^-2TpTqbfr^-2u^2v^3xz +8D^-2To^-2Tp^3Tqbfr^-2u^2v^3xz -1D^-1Tp^2bfr^-2su^2v^3z -2D^-1To^-2TpTqbfr^-2su^2v^3z +2D^-1To^-2Tp^3Tqbfr^-2su^2v^3z +4D^-2Tp^2bfr^-2su^2v^3z +8D^-2To^-2TpTqbfr^-2su^2v^3z -8D^-2To^-2Tp^3Tqbfr^-2su^2v^3z +1D^-1To^-4Tq^2bfr^-2u^2v^3xz -2D^-1To^-4Tp^2Tq^2bfr^-2u^2v^3xz -4D^-2To^-4Tq^2bfr^-2u^2v^3xz +8D^-2To^-4Tp^2Tq^2bfr^-2u^2v^3xz -1D^-1To^-4Tq^2bfr^-2su^2v^3z +2D^-1To^-4Tp^2Tq^2bfr^-2su^2v^3z +4D^-2To^-4Tq^2bfr^-2su^2v^3z -8D^-2To^-4Tp^2Tq^2bfr^-2su^2v^3z +1D^-1To^-4Tp^4Tq^2bfr^-2u^2v^3xz -4D^-2To^-4Tp^4Tq^2bfr^-2u^2v^3xz -1D^-1To^-4Tp^4Tq^2bfr^-2su^2v^3z +4D^-2To^-4Tp^4Tq^2bfr^-2su^2v^3z -0.5D^-1To^-2Tp^4br^-2su^2v^3z +0.5D^-1To^-2Tp^4br^-2u^2v^3xz +1D^-1To^-2Tp^2Tq^2br^-2su^2v^3z -1D^-1To^-2Tp^2Tq^2br^-2u^2v^3xz -1D^-1To^-3Tp^3br^-2su^2v^3z +1D^-1To^-3Tp^3br^-2u^2v^3xz +1D^-1To^-1Tp^3br^-2su^2v^3z -1D^-1To^-1Tp^3br^-2u^2v^3xz +1D^-1To^-3Tp^2Tqbr^-2su^2v^3z -1D^-1To^-3Tp^2Tqbr^-2u^2v^3xz -1D^-1To^-3Tp^4Tqbr^-2su^2v^3z +1D^-1To^-3Tp^4Tqbr^-2u^2v^3xz -1D^-1To^-1Tp^2bfr^-1uvv_tz +2D^-2To^-2Tp^4br^-2su^2v^3z -2D^-2To^-2Tp^4br^-2u^2v^3xz -4D^-2To^-2Tp^2Tq^2br^-2su^2v^3z +4D^-2To^-2Tp^2Tq^2br^-2u^2v^3xz +4D^-2To^-3Tp^3br^-2su^2v^3z -4D^-2To^-3Tp^3br^-2u^2v^3xz -4D^-2To^-1Tp^3br^-2su^2v^3z +4D^-2To^-1Tp^3br^-2u^2v^3xz -4D^-2To^-3Tp^2Tqbr^-2su^2v^3z +4D^-2To^-3Tp^2Tqbr^-2u^2v^3xz +4D^-2To^-3Tp^4Tqbr^-2su^2v^3z -4D^-2To^-3Tp^4Tqbr^-2u^2v^3xz +4D^-2To^-1Tp^2bfr^-1uvv_tz -0.5D^-1To^-2Tq^4br^-2su^2v^3z +0.5D^-1To^-2Tq^4br^-2u^2v^3xz +1D^-1To^-3TpTq^2br^-2su^2v^3z -1D^-1To^-3TpTq^2br^-2u^2v^3xz -1D^-1To^-1TpTq^2br^-2su^2v^3z +1D^-1To^-1TpTq^2br^-2u^2v^3xz -1D^-1To^-3Tq^3br^-2su^2v^3z +1D^-1To^-3Tq^3br^-2u^2v^3xz +1D^-1To^-3Tp^2Tq^3br^-2su^2v^3z -1D^-1To^-3Tp^2Tq^3br^-2u^2v^3xz +1D^-1To^-1Tq^2bfr^-1uvv_tz +2D^-2To^-2Tq^4br^-2su^2v^3z -2D^-2To^-2Tq^4br^-2u^2v^3xz -4D^-2To^-3TpTq^2br^-2su^2v^3z +4D^-2To^-3TpTq^2br^-2u^2v^3xz +4D^-2To^-1TpTq^2br^-2su^2v^3z -4D^-2To^-1TpTq^2br^-2u^2v^3xz +4D^-2To^-3Tq^3br^-2su^2v^3z -4D^-2To^-3Tq^3br^-2u^2v^3xz -4D^-2To^-3Tp^2Tq^3br^-2su^2v^3z +4D^-2To^-3Tp^2Tq^3br^-2u^2v^3xz -4D^-2To^-1Tq^2bfr^-1uvv_tz -0.5D^-1To^-4Tp^2br^-2su^2v^3z +0.5D^-1To^-4Tp^2br^-2u^2v^3xz +1D^-1To^-2Tp^2br^-2su^2v^3z -1D^-1To^-2Tp^2br^-2u^2v^3xz +1D^-1To^-4TpTqbr^-2su^2v^3z -1D^-1To^-4TpTqbr^-2u^2v^3xz -1D^-1To^-4Tp^3Tqbr^-2su^2v^3z +1D^-1To^-4Tp^3Tqbr^-2u^2v^3xz -1D^-1To^-2Tpbfr^-1uvv_tz +2D^-2To^-4Tp^2br^-2su^2v^3z -2D^-2To^-4Tp^2br^-2u^2v^3xz -4D^-2To^-2Tp^2br^-2su^2v^3z +4D^-2To^-2Tp^2br^-2u^2v^3xz -4D^-2To^-4TpTqbr^-2su^2v^3z +4D^-2To^-4TpTqbr^-2u^2v^3xz +4D^-2To^-4Tp^3Tqbr^-2su^2v^3z -4D^-2To^-4Tp^3Tqbr^-2u^2v^3xz +4D^-2To^-2Tpbfr^-1uvv_tz -0.5D^-1Tp^2br^-2su^2v^3z +0.5D^-1Tp^2br^-2u^2v^3xz -1D^-1To^-2TpTqbr^-2su^2v^3z +1D^-1To^-2TpTqbr^-2u^2v^3xz +1D^-1To^-2Tp^3Tqbr^-2su^2v^3z -1D^-1To^-2Tp^3Tqbr^-2u^2v^3xz +1D^-1Tpbfr^-1uvv_tz +2D^-2Tp^2br^-2su^2v^3z -2D^-2Tp^2br^-2u^2v^3xz +4D^-2To^-2TpTqbr^-2su^2v^3z -4D^-2To^-2TpTqbr^-2u^2v^3xz -4D^-2To^-2Tp^3Tqbr^-2su^2v^3z +4D^-2To^-2Tp^3Tqbr^-2u^2v^3xz -4D^-2Tpbfr^-1uvv_tz -0.5D^-1To^-4Tq^2br^-2su^2v^3z +0.5D^-1To^-4Tq^2br^-2u^2v^3xz +1D^-1To^-4Tp^2Tq^2br^-2su^2v^3z -1D^-1To^-4Tp^2Tq^2br^-2u^2v^3xz +1D^-1To^-2Tqbfr^-1uvv_tz +2D^-2To^-4Tq^2br^-2su^2v^3z -2D^-2To^-4Tq^2br^-2u^2v^3xz -4D^-2To^-4Tp^2Tq^2br^-2su^2v^3z +4D^-2To^-4Tp^2Tq^2br^-2u^2v^3xz -4D^-2To^-2Tqbfr^-1uvv_tz -0.5D^-1To^-4Tp^4Tq^2br^-2su^2v^3z +0.5D^-1To^-4Tp^4Tq^2br^-2u^2v^3xz -1D^-1To^-2Tp^2Tqbfr^-1uvv_tz +2D^-2To^-4Tp^4Tq^2br^-2su^2v^3z -2D^-2To^-4Tp^4Tq^2br^-2u^2v^3xz +4D^-2To^-2Tp^2Tqbfr^-1uvv_tz'],\n",
       " ['0.5To^-2Tp^2r^-2u^2vy^2 -1Tp^2r^-2u^2vy^2 -2To^-1Tpr^-2u^2vy^2 +1To^-1Tp^3r^-2u^2vy^2 +0.5To^-1Tp^2r^-3uvy^2 +1To^-1Tp^2r^-1uv -1To^-2Tq^2r^-2u^2vy^2 +0.5Tq^2r^-2u^2vy^2 +2To^-1Tqr^-2u^2vy^2 -1To^-1Tq^3r^-2u^2vy^2 -0.5To^-1Tq^2r^-3uvy^2 -1To^-1Tq^2r^-1uv +1To^-3Tpr^-2u^2vy^2 +0.5To^-2Tpr^-3uvy^2 +1To^-2Tpr^-1uv +0.5r^-2u^2vy^2 -0.5Tpr^-3uvy^2 -1Tpr^-1uv -1To^-3Tqr^-2u^2vy^2 -0.5To^-2Tqr^-3uvy^2 -1To^-2Tqr^-1uv +1To^-3Tp^2Tqr^-2u^2vy^2 -1To^-1Tp^2Tqr^-2u^2vy^2 -1To^-2TpTqr^-2u^2vy^2 +1To^-2Tp^3Tqr^-2u^2vy^2 +0.5To^-2Tp^2Tq^2r^-2u^2vy^2 +0.5To^-2Tp^2Tqr^-3uvy^2 +1To^-2Tp^2Tqr^-1uv +0.5To^-2Tp^2r^-2u^2vz^2 -1Tp^2r^-2u^2vz^2 -2To^-1Tpr^-2u^2vz^2 +1To^-1Tp^3r^-2u^2vz^2 +0.5To^-1Tp^2r^-3uvz^2 -1To^-2Tq^2r^-2u^2vz^2 +0.5Tq^2r^-2u^2vz^2 +2To^-1Tqr^-2u^2vz^2 -1To^-1Tq^3r^-2u^2vz^2 -0.5To^-1Tq^2r^-3uvz^2 +1To^-3Tpr^-2u^2vz^2 +0.5To^-2Tpr^-3uvz^2 +0.5r^-2u^2vz^2 -0.5Tpr^-3uvz^2 -1To^-3Tqr^-2u^2vz^2 -0.5To^-2Tqr^-3uvz^2 +1To^-3Tp^2Tqr^-2u^2vz^2 -1To^-1Tp^2Tqr^-2u^2vz^2 -1To^-2TpTqr^-2u^2vz^2 +1To^-2Tp^3Tqr^-2u^2vz^2 +0.5To^-2Tp^2Tq^2r^-2u^2vz^2 +0.5To^-2Tp^2Tqr^-3uvz^2 -4D^-1To^-2Tp^2fr^-2su^2v^3x +2D^-1To^-2Tp^2fr^-2u^2v^3x^2 +8D^-1Tp^2fr^-2su^2v^3x -4D^-1Tp^2fr^-2u^2v^3x^2 +16D^-1To^-1Tpfr^-2su^2v^3x -8D^-1To^-1Tpfr^-2u^2v^3x^2 -8D^-1To^-1Tp^3fr^-2su^2v^3x +4D^-1To^-1Tp^3fr^-2u^2v^3x^2 -2D^-1To^-2Tp^4r^-2su^2v^3x +1D^-1To^-2Tp^4r^-2u^2v^3x^2 +4D^-1To^-2Tp^2Tq^2r^-2su^2v^3x -2D^-1To^-2Tp^2Tq^2r^-2u^2v^3x^2 -4D^-1To^-3Tp^3r^-2su^2v^3x +2D^-1To^-3Tp^3r^-2u^2v^3x^2 +4D^-1To^-1Tp^3r^-2su^2v^3x -2D^-1To^-1Tp^3r^-2u^2v^3x^2 +4D^-1To^-3Tp^2Tqr^-2su^2v^3x -2D^-1To^-3Tp^2Tqr^-2u^2v^3x^2 -4D^-1To^-3Tp^4Tqr^-2su^2v^3x +2D^-1To^-3Tp^4Tqr^-2u^2v^3x^2 -4D^-1To^-1Tp^2fr^-3suv^3x +2D^-1To^-1Tp^2fr^-3uv^3x^2 -4D^-1To^-1Tp^2fr^-1uvv_tx +2D^-1To^-2Tp^2fr^-2s^2u^2v^3 -4D^-1Tp^2fr^-2s^2u^2v^3 -8D^-1To^-1Tpfr^-2s^2u^2v^3 +4D^-1To^-1Tp^3fr^-2s^2u^2v^3 +1D^-1To^-2Tp^4r^-2s^2u^2v^3 -2D^-1To^-2Tp^2Tq^2r^-2s^2u^2v^3 +2D^-1To^-3Tp^3r^-2s^2u^2v^3 -2D^-1To^-1Tp^3r^-2s^2u^2v^3 -2D^-1To^-3Tp^2Tqr^-2s^2u^2v^3 +2D^-1To^-3Tp^4Tqr^-2s^2u^2v^3 +2D^-1To^-1Tp^2fr^-3s^2uv^3 +2D^-1To^-1Tp^2fr^-1uv^3 +4D^-1To^-1Tp^2fr^-1suvv_t +8D^-1To^-2Tq^2fr^-2su^2v^3x -4D^-1To^-2Tq^2fr^-2u^2v^3x^2 -4D^-1Tq^2fr^-2su^2v^3x +2D^-1Tq^2fr^-2u^2v^3x^2 -16D^-1To^-1Tqfr^-2su^2v^3x +8D^-1To^-1Tqfr^-2u^2v^3x^2 +8D^-1To^-1Tq^3fr^-2su^2v^3x -4D^-1To^-1Tq^3fr^-2u^2v^3x^2 -2D^-1To^-2Tq^4r^-2su^2v^3x +1D^-1To^-2Tq^4r^-2u^2v^3x^2 +4D^-1To^-3TpTq^2r^-2su^2v^3x -2D^-1To^-3TpTq^2r^-2u^2v^3x^2 -4D^-1To^-1TpTq^2r^-2su^2v^3x +2D^-1To^-1TpTq^2r^-2u^2v^3x^2 -4D^-1To^-3Tq^3r^-2su^2v^3x +2D^-1To^-3Tq^3r^-2u^2v^3x^2 +4D^-1To^-3Tp^2Tq^3r^-2su^2v^3x -2D^-1To^-3Tp^2Tq^3r^-2u^2v^3x^2 +4D^-1To^-1Tq^2fr^-3suv^3x -2D^-1To^-1Tq^2fr^-3uv^3x^2 +4D^-1To^-1Tq^2fr^-1uvv_tx -4D^-1To^-2Tq^2fr^-2s^2u^2v^3 +2D^-1Tq^2fr^-2s^2u^2v^3 +8D^-1To^-1Tqfr^-2s^2u^2v^3 -4D^-1To^-1Tq^3fr^-2s^2u^2v^3 +1D^-1To^-2Tq^4r^-2s^2u^2v^3 -2D^-1To^-3TpTq^2r^-2s^2u^2v^3 +2D^-1To^-1TpTq^2r^-2s^2u^2v^3 +2D^-1To^-3Tq^3r^-2s^2u^2v^3 -2D^-1To^-3Tp^2Tq^3r^-2s^2u^2v^3 -2D^-1To^-1Tq^2fr^-3s^2uv^3 -2D^-1To^-1Tq^2fr^-1uv^3 -4D^-1To^-1Tq^2fr^-1suvv_t -8D^-1To^-3Tpfr^-2su^2v^3x +4D^-1To^-3Tpfr^-2u^2v^3x^2 -2D^-1To^-4Tp^2r^-2su^2v^3x +1D^-1To^-4Tp^2r^-2u^2v^3x^2 +4D^-1To^-2Tp^2r^-2su^2v^3x -2D^-1To^-2Tp^2r^-2u^2v^3x^2 +4D^-1To^-4TpTqr^-2su^2v^3x -2D^-1To^-4TpTqr^-2u^2v^3x^2 -4D^-1To^-4Tp^3Tqr^-2su^2v^3x +2D^-1To^-4Tp^3Tqr^-2u^2v^3x^2 -4D^-1To^-2Tpfr^-3suv^3x +2D^-1To^-2Tpfr^-3uv^3x^2 -4D^-1To^-2Tpfr^-1uvv_tx +4D^-1To^-3Tpfr^-2s^2u^2v^3 +1D^-1To^-4Tp^2r^-2s^2u^2v^3 -2D^-1To^-2Tp^2r^-2s^2u^2v^3 -2D^-1To^-4TpTqr^-2s^2u^2v^3 +2D^-1To^-4Tp^3Tqr^-2s^2u^2v^3 +2D^-1To^-2Tpfr^-3s^2uv^3 +2D^-1To^-2Tpfr^-1uv^3 +4D^-1To^-2Tpfr^-1suvv_t -4D^-1fr^-2su^2v^3x +2D^-1fr^-2u^2v^3x^2 -2D^-1Tp^2r^-2su^2v^3x +1D^-1Tp^2r^-2u^2v^3x^2 -4D^-1To^-2TpTqr^-2su^2v^3x +2D^-1To^-2TpTqr^-2u^2v^3x^2 +4D^-1To^-2Tp^3Tqr^-2su^2v^3x -2D^-1To^-2Tp^3Tqr^-2u^2v^3x^2 +4D^-1Tpfr^-3suv^3x -2D^-1Tpfr^-3uv^3x^2 +4D^-1Tpfr^-1uvv_tx +2D^-1fr^-2s^2u^2v^3 +1D^-1Tp^2r^-2s^2u^2v^3 +2D^-1To^-2TpTqr^-2s^2u^2v^3 -2D^-1To^-2Tp^3Tqr^-2s^2u^2v^3 -2D^-1Tpfr^-3s^2uv^3 -2D^-1Tpfr^-1uv^3 -4D^-1Tpfr^-1suvv_t +8D^-1To^-3Tqfr^-2su^2v^3x -4D^-1To^-3Tqfr^-2u^2v^3x^2 -2D^-1To^-4Tq^2r^-2su^2v^3x +1D^-1To^-4Tq^2r^-2u^2v^3x^2 +4D^-1To^-4Tp^2Tq^2r^-2su^2v^3x -2D^-1To^-4Tp^2Tq^2r^-2u^2v^3x^2 +4D^-1To^-2Tqfr^-3suv^3x -2D^-1To^-2Tqfr^-3uv^3x^2 +4D^-1To^-2Tqfr^-1uvv_tx -4D^-1To^-3Tqfr^-2s^2u^2v^3 +1D^-1To^-4Tq^2r^-2s^2u^2v^3 -2D^-1To^-4Tp^2Tq^2r^-2s^2u^2v^3 -2D^-1To^-2Tqfr^-3s^2uv^3 -2D^-1To^-2Tqfr^-1uv^3 -4D^-1To^-2Tqfr^-1suvv_t -8D^-1To^-3Tp^2Tqfr^-2su^2v^3x +4D^-1To^-3Tp^2Tqfr^-2u^2v^3x^2 +8D^-1To^-1Tp^2Tqfr^-2su^2v^3x -4D^-1To^-1Tp^2Tqfr^-2u^2v^3x^2 +8D^-1To^-2TpTqfr^-2su^2v^3x -4D^-1To^-2TpTqfr^-2u^2v^3x^2 -8D^-1To^-2Tp^3Tqfr^-2su^2v^3x +4D^-1To^-2Tp^3Tqfr^-2u^2v^3x^2 -4D^-1To^-2Tp^2Tq^2fr^-2su^2v^3x +2D^-1To^-2Tp^2Tq^2fr^-2u^2v^3x^2 -2D^-1To^-4Tp^4Tq^2r^-2su^2v^3x +1D^-1To^-4Tp^4Tq^2r^-2u^2v^3x^2 -4D^-1To^-2Tp^2Tqfr^-3suv^3x +2D^-1To^-2Tp^2Tqfr^-3uv^3x^2 -4D^-1To^-2Tp^2Tqfr^-1uvv_tx +4D^-1To^-3Tp^2Tqfr^-2s^2u^2v^3 -4D^-1To^-1Tp^2Tqfr^-2s^2u^2v^3 -4D^-1To^-2TpTqfr^-2s^2u^2v^3 +4D^-1To^-2Tp^3Tqfr^-2s^2u^2v^3 +2D^-1To^-2Tp^2Tq^2fr^-2s^2u^2v^3 +1D^-1To^-4Tp^4Tq^2r^-2s^2u^2v^3 +2D^-1To^-2Tp^2Tqfr^-3s^2uv^3 +2D^-1To^-2Tp^2Tqfr^-1uv^3 +4D^-1To^-2Tp^2Tqfr^-1suvv_t -2D^-1To^-2Tp^4br^-2su^2v^3x +1D^-1To^-2Tp^4br^-2s^2u^2v^3 +4D^-1To^-2Tp^2Tq^2br^-2su^2v^3x -2D^-1To^-2Tp^2Tq^2br^-2s^2u^2v^3 -4D^-1To^-3Tp^3br^-2su^2v^3x +2D^-1To^-3Tp^3br^-2s^2u^2v^3 +4D^-1To^-1Tp^3br^-2su^2v^3x -2D^-1To^-1Tp^3br^-2s^2u^2v^3 +4D^-1To^-3Tp^2Tqbr^-2su^2v^3x -2D^-1To^-3Tp^2Tqbr^-2s^2u^2v^3 -4D^-1To^-3Tp^4Tqbr^-2su^2v^3x +2D^-1To^-3Tp^4Tqbr^-2s^2u^2v^3 +1D^-1To^-2Tp^4br^-2u^2v^3x^2 -2D^-1To^-2Tp^2Tq^2br^-2u^2v^3x^2 +2D^-1To^-3Tp^3br^-2u^2v^3x^2 -2D^-1To^-1Tp^3br^-2u^2v^3x^2 -2D^-1To^-3Tp^2Tqbr^-2u^2v^3x^2 +2D^-1To^-3Tp^4Tqbr^-2u^2v^3x^2 -2D^-1To^-2Tq^4br^-2su^2v^3x +1D^-1To^-2Tq^4br^-2s^2u^2v^3 +4D^-1To^-3TpTq^2br^-2su^2v^3x -2D^-1To^-3TpTq^2br^-2s^2u^2v^3 -4D^-1To^-1TpTq^2br^-2su^2v^3x +2D^-1To^-1TpTq^2br^-2s^2u^2v^3 -4D^-1To^-3Tq^3br^-2su^2v^3x +2D^-1To^-3Tq^3br^-2s^2u^2v^3 +4D^-1To^-3Tp^2Tq^3br^-2su^2v^3x -2D^-1To^-3Tp^2Tq^3br^-2s^2u^2v^3 +1D^-1To^-2Tq^4br^-2u^2v^3x^2 -2D^-1To^-3TpTq^2br^-2u^2v^3x^2 +2D^-1To^-1TpTq^2br^-2u^2v^3x^2 +2D^-1To^-3Tq^3br^-2u^2v^3x^2 -2D^-1To^-3Tp^2Tq^3br^-2u^2v^3x^2 -2D^-1To^-4Tp^2br^-2su^2v^3x +1D^-1To^-4Tp^2br^-2s^2u^2v^3 +4D^-1To^-2Tp^2br^-2su^2v^3x -2D^-1To^-2Tp^2br^-2s^2u^2v^3 +4D^-1To^-4TpTqbr^-2su^2v^3x -2D^-1To^-4TpTqbr^-2s^2u^2v^3 -4D^-1To^-4Tp^3Tqbr^-2su^2v^3x +2D^-1To^-4Tp^3Tqbr^-2s^2u^2v^3 +1D^-1To^-4Tp^2br^-2u^2v^3x^2 -2D^-1To^-2Tp^2br^-2u^2v^3x^2 -2D^-1To^-4TpTqbr^-2u^2v^3x^2 +2D^-1To^-4Tp^3Tqbr^-2u^2v^3x^2 -2D^-1Tp^2br^-2su^2v^3x +1D^-1Tp^2br^-2s^2u^2v^3 -4D^-1To^-2TpTqbr^-2su^2v^3x +2D^-1To^-2TpTqbr^-2s^2u^2v^3 +4D^-1To^-2Tp^3Tqbr^-2su^2v^3x -2D^-1To^-2Tp^3Tqbr^-2s^2u^2v^3 +1D^-1Tp^2br^-2u^2v^3x^2 +2D^-1To^-2TpTqbr^-2u^2v^3x^2 -2D^-1To^-2Tp^3Tqbr^-2u^2v^3x^2 -2D^-1To^-4Tq^2br^-2su^2v^3x +1D^-1To^-4Tq^2br^-2s^2u^2v^3 +4D^-1To^-4Tp^2Tq^2br^-2su^2v^3x -2D^-1To^-4Tp^2Tq^2br^-2s^2u^2v^3 +1D^-1To^-4Tq^2br^-2u^2v^3x^2 -2D^-1To^-4Tp^2Tq^2br^-2u^2v^3x^2 -2D^-1To^-4Tp^4Tq^2br^-2su^2v^3x +1D^-1To^-4Tp^4Tq^2br^-2s^2u^2v^3 +1D^-1To^-4Tp^4Tq^2br^-2u^2v^3x^2 -2D^-1To^-1Tp^2bfr^-1uvv_tx +2D^-1To^-1Tp^2bfr^-1suvv_t +2D^-1To^-1Tq^2bfr^-1uvv_tx -2D^-1To^-1Tq^2bfr^-1suvv_t -2D^-1To^-2Tpbfr^-1uvv_tx +2D^-1To^-2Tpbfr^-1suvv_t +2D^-1Tpbfr^-1uvv_tx -2D^-1Tpbfr^-1suvv_t +2D^-1To^-2Tqbfr^-1uvv_tx -2D^-1To^-2Tqbfr^-1suvv_t -2D^-1To^-2Tp^2Tqbfr^-1uvv_tx +2D^-1To^-2Tp^2Tqbfr^-1suvv_t +8D^-2To^-2Tp^4br^-2su^2v^3x -4D^-2To^-2Tp^4br^-2s^2u^2v^3 -16D^-2To^-2Tp^2Tq^2br^-2su^2v^3x +8D^-2To^-2Tp^2Tq^2br^-2s^2u^2v^3 +16D^-2To^-3Tp^3br^-2su^2v^3x -8D^-2To^-3Tp^3br^-2s^2u^2v^3 -16D^-2To^-1Tp^3br^-2su^2v^3x +8D^-2To^-1Tp^3br^-2s^2u^2v^3 -16D^-2To^-3Tp^2Tqbr^-2su^2v^3x +8D^-2To^-3Tp^2Tqbr^-2s^2u^2v^3 +16D^-2To^-3Tp^4Tqbr^-2su^2v^3x -8D^-2To^-3Tp^4Tqbr^-2s^2u^2v^3 -4D^-2To^-2Tp^4br^-2u^2v^3x^2 +8D^-2To^-2Tp^2Tq^2br^-2u^2v^3x^2 -8D^-2To^-3Tp^3br^-2u^2v^3x^2 +8D^-2To^-1Tp^3br^-2u^2v^3x^2 +8D^-2To^-3Tp^2Tqbr^-2u^2v^3x^2 -8D^-2To^-3Tp^4Tqbr^-2u^2v^3x^2 +8D^-2To^-2Tq^4br^-2su^2v^3x -4D^-2To^-2Tq^4br^-2s^2u^2v^3 -16D^-2To^-3TpTq^2br^-2su^2v^3x +8D^-2To^-3TpTq^2br^-2s^2u^2v^3 +16D^-2To^-1TpTq^2br^-2su^2v^3x -8D^-2To^-1TpTq^2br^-2s^2u^2v^3 +16D^-2To^-3Tq^3br^-2su^2v^3x -8D^-2To^-3Tq^3br^-2s^2u^2v^3 -16D^-2To^-3Tp^2Tq^3br^-2su^2v^3x +8D^-2To^-3Tp^2Tq^3br^-2s^2u^2v^3 -4D^-2To^-2Tq^4br^-2u^2v^3x^2 +8D^-2To^-3TpTq^2br^-2u^2v^3x^2 -8D^-2To^-1TpTq^2br^-2u^2v^3x^2 -8D^-2To^-3Tq^3br^-2u^2v^3x^2 +8D^-2To^-3Tp^2Tq^3br^-2u^2v^3x^2 +8D^-2To^-4Tp^2br^-2su^2v^3x -4D^-2To^-4Tp^2br^-2s^2u^2v^3 -16D^-2To^-2Tp^2br^-2su^2v^3x +8D^-2To^-2Tp^2br^-2s^2u^2v^3 -16D^-2To^-4TpTqbr^-2su^2v^3x +8D^-2To^-4TpTqbr^-2s^2u^2v^3 +16D^-2To^-4Tp^3Tqbr^-2su^2v^3x -8D^-2To^-4Tp^3Tqbr^-2s^2u^2v^3 -4D^-2To^-4Tp^2br^-2u^2v^3x^2 +8D^-2To^-2Tp^2br^-2u^2v^3x^2 +8D^-2To^-4TpTqbr^-2u^2v^3x^2 -8D^-2To^-4Tp^3Tqbr^-2u^2v^3x^2 +8D^-2Tp^2br^-2su^2v^3x -4D^-2Tp^2br^-2s^2u^2v^3 +16D^-2To^-2TpTqbr^-2su^2v^3x -8D^-2To^-2TpTqbr^-2s^2u^2v^3 -16D^-2To^-2Tp^3Tqbr^-2su^2v^3x +8D^-2To^-2Tp^3Tqbr^-2s^2u^2v^3 -4D^-2Tp^2br^-2u^2v^3x^2 -8D^-2To^-2TpTqbr^-2u^2v^3x^2 +8D^-2To^-2Tp^3Tqbr^-2u^2v^3x^2 +8D^-2To^-4Tq^2br^-2su^2v^3x -4D^-2To^-4Tq^2br^-2s^2u^2v^3 -16D^-2To^-4Tp^2Tq^2br^-2su^2v^3x +8D^-2To^-4Tp^2Tq^2br^-2s^2u^2v^3 -4D^-2To^-4Tq^2br^-2u^2v^3x^2 +8D^-2To^-4Tp^2Tq^2br^-2u^2v^3x^2 +8D^-2To^-4Tp^4Tq^2br^-2su^2v^3x -4D^-2To^-4Tp^4Tq^2br^-2s^2u^2v^3 -4D^-2To^-4Tp^4Tq^2br^-2u^2v^3x^2 +8D^-2To^-1Tp^2bfr^-1uvv_tx -8D^-2To^-1Tp^2bfr^-1suvv_t -8D^-2To^-1Tq^2bfr^-1uvv_tx +8D^-2To^-1Tq^2bfr^-1suvv_t +8D^-2To^-2Tpbfr^-1uvv_tx -8D^-2To^-2Tpbfr^-1suvv_t -8D^-2Tpbfr^-1uvv_tx +8D^-2Tpbfr^-1suvv_t -8D^-2To^-2Tqbfr^-1uvv_tx +8D^-2To^-2Tqbfr^-1suvv_t +8D^-2To^-2Tp^2Tqbfr^-1uvv_tx -8D^-2To^-2Tp^2Tqbfr^-1suvv_t',\n",
       "  '2D^-1To^-2Tp^2r^-2su^2v^2x -1D^-1To^-2Tp^2r^-2u^2v^2x^2 -4D^-1Tp^2r^-2su^2v^2x +2D^-1Tp^2r^-2u^2v^2x^2 -8D^-1To^-1Tpr^-2su^2v^2x +4D^-1To^-1Tpr^-2u^2v^2x^2 +4D^-1To^-1Tp^3r^-2su^2v^2x -2D^-1To^-1Tp^3r^-2u^2v^2x^2 +2D^-1To^-1Tp^2r^-3suv^2x -1D^-1To^-1Tp^2r^-3uv^2x^2 +1D^-1To^-1Tp^2r^-1uv_tx -1D^-1To^-2Tp^2r^-2s^2u^2v^2 +2D^-1Tp^2r^-2s^2u^2v^2 +4D^-1To^-1Tpr^-2s^2u^2v^2 -2D^-1To^-1Tp^3r^-2s^2u^2v^2 -1D^-1To^-1Tp^2r^-3s^2uv^2 -1D^-1To^-1Tp^2r^-1uv^2 -1D^-1To^-1Tp^2r^-1suv_t -4D^-1To^-2Tq^2r^-2su^2v^2x +2D^-1To^-2Tq^2r^-2u^2v^2x^2 +2D^-1Tq^2r^-2su^2v^2x -1D^-1Tq^2r^-2u^2v^2x^2 +8D^-1To^-1Tqr^-2su^2v^2x -4D^-1To^-1Tqr^-2u^2v^2x^2 -4D^-1To^-1Tq^3r^-2su^2v^2x +2D^-1To^-1Tq^3r^-2u^2v^2x^2 -2D^-1To^-1Tq^2r^-3suv^2x +1D^-1To^-1Tq^2r^-3uv^2x^2 -1D^-1To^-1Tq^2r^-1uv_tx +2D^-1To^-2Tq^2r^-2s^2u^2v^2 -1D^-1Tq^2r^-2s^2u^2v^2 -4D^-1To^-1Tqr^-2s^2u^2v^2 +2D^-1To^-1Tq^3r^-2s^2u^2v^2 +1D^-1To^-1Tq^2r^-3s^2uv^2 +1D^-1To^-1Tq^2r^-1uv^2 +1D^-1To^-1Tq^2r^-1suv_t +4D^-1To^-3Tpr^-2su^2v^2x -2D^-1To^-3Tpr^-2u^2v^2x^2 +2D^-1To^-2Tpr^-3suv^2x -1D^-1To^-2Tpr^-3uv^2x^2 +1D^-1To^-2Tpr^-1uv_tx -2D^-1To^-3Tpr^-2s^2u^2v^2 -1D^-1To^-2Tpr^-3s^2uv^2 -1D^-1To^-2Tpr^-1uv^2 -1D^-1To^-2Tpr^-1suv_t +2D^-1r^-2su^2v^2x -1D^-1r^-2u^2v^2x^2 -2D^-1Tpr^-3suv^2x +1D^-1Tpr^-3uv^2x^2 -1D^-1Tpr^-1uv_tx -1D^-1r^-2s^2u^2v^2 +1D^-1Tpr^-3s^2uv^2 +1D^-1Tpr^-1uv^2 +1D^-1Tpr^-1suv_t -4D^-1To^-3Tqr^-2su^2v^2x +2D^-1To^-3Tqr^-2u^2v^2x^2 -2D^-1To^-2Tqr^-3suv^2x +1D^-1To^-2Tqr^-3uv^2x^2 -1D^-1To^-2Tqr^-1uv_tx +2D^-1To^-3Tqr^-2s^2u^2v^2 +1D^-1To^-2Tqr^-3s^2uv^2 +1D^-1To^-2Tqr^-1uv^2 +1D^-1To^-2Tqr^-1suv_t +4D^-1To^-3Tp^2Tqr^-2su^2v^2x -2D^-1To^-3Tp^2Tqr^-2u^2v^2x^2 -4D^-1To^-1Tp^2Tqr^-2su^2v^2x +2D^-1To^-1Tp^2Tqr^-2u^2v^2x^2 -4D^-1To^-2TpTqr^-2su^2v^2x +2D^-1To^-2TpTqr^-2u^2v^2x^2 +4D^-1To^-2Tp^3Tqr^-2su^2v^2x -2D^-1To^-2Tp^3Tqr^-2u^2v^2x^2 +2D^-1To^-2Tp^2Tq^2r^-2su^2v^2x -1D^-1To^-2Tp^2Tq^2r^-2u^2v^2x^2 +2D^-1To^-2Tp^2Tqr^-3suv^2x -1D^-1To^-2Tp^2Tqr^-3uv^2x^2 +1D^-1To^-2Tp^2Tqr^-1uv_tx -2D^-1To^-3Tp^2Tqr^-2s^2u^2v^2 +2D^-1To^-1Tp^2Tqr^-2s^2u^2v^2 +2D^-1To^-2TpTqr^-2s^2u^2v^2 -2D^-1To^-2Tp^3Tqr^-2s^2u^2v^2 -1D^-1To^-2Tp^2Tq^2r^-2s^2u^2v^2 -1D^-1To^-2Tp^2Tqr^-3s^2uv^2 -1D^-1To^-2Tp^2Tqr^-1uv^2 -1D^-1To^-2Tp^2Tqr^-1suv_t +4D^-2To^-2Tp^4fr^-2su^2v^4x -2D^-2To^-2Tp^4fr^-2s^2u^2v^4 -8D^-2To^-2Tp^2Tq^2fr^-2su^2v^4x +4D^-2To^-2Tp^2Tq^2fr^-2s^2u^2v^4 +8D^-2To^-3Tp^3fr^-2su^2v^4x -4D^-2To^-3Tp^3fr^-2s^2u^2v^4 -8D^-2To^-1Tp^3fr^-2su^2v^4x +4D^-2To^-1Tp^3fr^-2s^2u^2v^4 -8D^-2To^-3Tp^2Tqfr^-2su^2v^4x +4D^-2To^-3Tp^2Tqfr^-2s^2u^2v^4 +8D^-2To^-3Tp^4Tqfr^-2su^2v^4x -4D^-2To^-3Tp^4Tqfr^-2s^2u^2v^4 -2D^-2To^-2Tp^4fr^-2u^2v^4x^2 +4D^-2To^-2Tp^2Tq^2fr^-2u^2v^4x^2 -4D^-2To^-3Tp^3fr^-2u^2v^4x^2 +4D^-2To^-1Tp^3fr^-2u^2v^4x^2 +4D^-2To^-3Tp^2Tqfr^-2u^2v^4x^2 -4D^-2To^-3Tp^4Tqfr^-2u^2v^4x^2 +4D^-2To^-2Tq^4fr^-2su^2v^4x -2D^-2To^-2Tq^4fr^-2s^2u^2v^4 -8D^-2To^-3TpTq^2fr^-2su^2v^4x +4D^-2To^-3TpTq^2fr^-2s^2u^2v^4 +8D^-2To^-1TpTq^2fr^-2su^2v^4x -4D^-2To^-1TpTq^2fr^-2s^2u^2v^4 +8D^-2To^-3Tq^3fr^-2su^2v^4x -4D^-2To^-3Tq^3fr^-2s^2u^2v^4 -8D^-2To^-3Tp^2Tq^3fr^-2su^2v^4x +4D^-2To^-3Tp^2Tq^3fr^-2s^2u^2v^4 -2D^-2To^-2Tq^4fr^-2u^2v^4x^2 +4D^-2To^-3TpTq^2fr^-2u^2v^4x^2 -4D^-2To^-1TpTq^2fr^-2u^2v^4x^2 -4D^-2To^-3Tq^3fr^-2u^2v^4x^2 +4D^-2To^-3Tp^2Tq^3fr^-2u^2v^4x^2 +4D^-2To^-4Tp^2fr^-2su^2v^4x -2D^-2To^-4Tp^2fr^-2s^2u^2v^4 -8D^-2To^-2Tp^2fr^-2su^2v^4x +4D^-2To^-2Tp^2fr^-2s^2u^2v^4 -8D^-2To^-4TpTqfr^-2su^2v^4x +4D^-2To^-4TpTqfr^-2s^2u^2v^4 +8D^-2To^-4Tp^3Tqfr^-2su^2v^4x -4D^-2To^-4Tp^3Tqfr^-2s^2u^2v^4 -2D^-2To^-4Tp^2fr^-2u^2v^4x^2 +4D^-2To^-2Tp^2fr^-2u^2v^4x^2 +4D^-2To^-4TpTqfr^-2u^2v^4x^2 -4D^-2To^-4Tp^3Tqfr^-2u^2v^4x^2 +4D^-2Tp^2fr^-2su^2v^4x -2D^-2Tp^2fr^-2s^2u^2v^4 +8D^-2To^-2TpTqfr^-2su^2v^4x -4D^-2To^-2TpTqfr^-2s^2u^2v^4 -8D^-2To^-2Tp^3Tqfr^-2su^2v^4x +4D^-2To^-2Tp^3Tqfr^-2s^2u^2v^4 -2D^-2Tp^2fr^-2u^2v^4x^2 -4D^-2To^-2TpTqfr^-2u^2v^4x^2 +4D^-2To^-2Tp^3Tqfr^-2u^2v^4x^2 +4D^-2To^-4Tq^2fr^-2su^2v^4x -2D^-2To^-4Tq^2fr^-2s^2u^2v^4 -8D^-2To^-4Tp^2Tq^2fr^-2su^2v^4x +4D^-2To^-4Tp^2Tq^2fr^-2s^2u^2v^4 -2D^-2To^-4Tq^2fr^-2u^2v^4x^2 +4D^-2To^-4Tp^2Tq^2fr^-2u^2v^4x^2 +4D^-2To^-4Tp^4Tq^2fr^-2su^2v^4x -2D^-2To^-4Tp^4Tq^2fr^-2s^2u^2v^4 -2D^-2To^-4Tp^4Tq^2fr^-2u^2v^4x^2 +4D^-2To^-1Tp^2f^2r^-1uv^2v_tx -4D^-2To^-1Tp^2f^2r^-1suv^2v_t -4D^-2To^-1Tq^2f^2r^-1uv^2v_tx +4D^-2To^-1Tq^2f^2r^-1suv^2v_t +4D^-2To^-2Tpf^2r^-1uv^2v_tx -4D^-2To^-2Tpf^2r^-1suv^2v_t -4D^-2Tpf^2r^-1uv^2v_tx +4D^-2Tpf^2r^-1suv^2v_t -4D^-2To^-2Tqf^2r^-1uv^2v_tx +4D^-2To^-2Tqf^2r^-1suv^2v_t +4D^-2To^-2Tp^2Tqf^2r^-1uv^2v_tx -4D^-2To^-2Tp^2Tqf^2r^-1suv^2v_t -0.5D^-1To^-2Tp^4r^-2u^2v^2y^2 +1D^-1To^-2Tp^2Tq^2r^-2u^2v^2y^2 -1D^-1To^-3Tp^3r^-2u^2v^2y^2 +1D^-1To^-1Tp^3r^-2u^2v^2y^2 +1D^-1To^-3Tp^2Tqr^-2u^2v^2y^2 -1D^-1To^-3Tp^4Tqr^-2u^2v^2y^2 -0.5D^-1To^-2Tq^4r^-2u^2v^2y^2 +1D^-1To^-3TpTq^2r^-2u^2v^2y^2 -1D^-1To^-1TpTq^2r^-2u^2v^2y^2 -1D^-1To^-3Tq^3r^-2u^2v^2y^2 +1D^-1To^-3Tp^2Tq^3r^-2u^2v^2y^2 -0.5D^-1To^-4Tp^2r^-2u^2v^2y^2 +1D^-1To^-2Tp^2r^-2u^2v^2y^2 +1D^-1To^-4TpTqr^-2u^2v^2y^2 -1D^-1To^-4Tp^3Tqr^-2u^2v^2y^2 -0.5D^-1Tp^2r^-2u^2v^2y^2 -1D^-1To^-2TpTqr^-2u^2v^2y^2 +1D^-1To^-2Tp^3Tqr^-2u^2v^2y^2 -0.5D^-1To^-4Tq^2r^-2u^2v^2y^2 +1D^-1To^-4Tp^2Tq^2r^-2u^2v^2y^2 -0.5D^-1To^-4Tp^4Tq^2r^-2u^2v^2y^2 -0.5D^-1To^-2Tp^4r^-2u^2v^2z^2 +1D^-1To^-2Tp^2Tq^2r^-2u^2v^2z^2 -1D^-1To^-3Tp^3r^-2u^2v^2z^2 +1D^-1To^-1Tp^3r^-2u^2v^2z^2 +1D^-1To^-3Tp^2Tqr^-2u^2v^2z^2 -1D^-1To^-3Tp^4Tqr^-2u^2v^2z^2 -0.5D^-1To^-2Tq^4r^-2u^2v^2z^2 +1D^-1To^-3TpTq^2r^-2u^2v^2z^2 -1D^-1To^-1TpTq^2r^-2u^2v^2z^2 -1D^-1To^-3Tq^3r^-2u^2v^2z^2 +1D^-1To^-3Tp^2Tq^3r^-2u^2v^2z^2 -0.5D^-1To^-4Tp^2r^-2u^2v^2z^2 +1D^-1To^-2Tp^2r^-2u^2v^2z^2 +1D^-1To^-4TpTqr^-2u^2v^2z^2 -1D^-1To^-4Tp^3Tqr^-2u^2v^2z^2 -0.5D^-1Tp^2r^-2u^2v^2z^2 -1D^-1To^-2TpTqr^-2u^2v^2z^2 +1D^-1To^-2Tp^3Tqr^-2u^2v^2z^2 -0.5D^-1To^-4Tq^2r^-2u^2v^2z^2 +1D^-1To^-4Tp^2Tq^2r^-2u^2v^2z^2 -0.5D^-1To^-4Tp^4Tq^2r^-2u^2v^2z^2',\n",
       "  '-0.5D^-1To^-2Tp^2r^-2su^2v^2y +0.5D^-1To^-2Tp^2r^-2u^2v^2xy -0.5D^-1Tp^2r^-2su^2v^2y +0.5D^-1Tp^2r^-2u^2v^2xy -2D^-1To^-1Tpr^-2su^2v^2y +2D^-1To^-1Tpr^-2u^2v^2xy +0.5D^-1To^-1Tp^2r^-3suv^2y -0.5D^-1To^-1Tp^2r^-3uv^2xy +0.5D^-1To^-1Tp^2r^-1uv_ty -1D^-1To^-2Tq^2r^-2su^2v^2y +1D^-1To^-2Tq^2r^-2u^2v^2xy +0.5D^-1Tq^2r^-2su^2v^2y -0.5D^-1Tq^2r^-2u^2v^2xy +2D^-1To^-1Tqr^-2su^2v^2y -2D^-1To^-1Tqr^-2u^2v^2xy -1D^-1To^-1Tq^3r^-2su^2v^2y +1D^-1To^-1Tq^3r^-2u^2v^2xy -0.5D^-1To^-1Tq^2r^-3suv^2y +0.5D^-1To^-1Tq^2r^-3uv^2xy -0.5D^-1To^-1Tq^2r^-1uv_ty +1D^-1To^-3Tpr^-2su^2v^2y -1D^-1To^-3Tpr^-2u^2v^2xy +0.5D^-1To^-2Tpr^-3suv^2y -0.5D^-1To^-2Tpr^-3uv^2xy +0.5D^-1To^-2Tpr^-1uv_ty +0.5D^-1r^-2su^2v^2y -0.5D^-1r^-2u^2v^2xy -0.5D^-1Tpr^-3suv^2y +0.5D^-1Tpr^-3uv^2xy -0.5D^-1Tpr^-1uv_ty -1D^-1To^-3Tqr^-2su^2v^2y +1D^-1To^-3Tqr^-2u^2v^2xy -0.5D^-1To^-2Tqr^-3suv^2y +0.5D^-1To^-2Tqr^-3uv^2xy -0.5D^-1To^-2Tqr^-1uv_ty -1D^-1To^-1Tp^2Tqr^-2su^2v^2y +1D^-1To^-1Tp^2Tqr^-2u^2v^2xy -0.5D^-1To^-2Tp^2Tq^2r^-2su^2v^2y +0.5D^-1To^-2Tp^2Tq^2r^-2u^2v^2xy +0.5D^-1To^-2Tp^2Tqr^-3suv^2y -0.5D^-1To^-2Tp^2Tqr^-3uv^2xy +0.5D^-1To^-2Tp^2Tqr^-1uv_ty -1D^-1To^-2Tp^2fr^-2u^2v^2xy +1D^-1To^-2Tp^2fr^-2su^2v^2y +2D^-1Tp^2fr^-2u^2v^2xy -2D^-1Tp^2fr^-2su^2v^2y +4D^-1To^-1Tpfr^-2u^2v^2xy -4D^-1To^-1Tpfr^-2su^2v^2y -2D^-1To^-1Tp^3fr^-2u^2v^2xy +2D^-1To^-1Tp^3fr^-2su^2v^2y -0.5D^-1To^-2Tp^4r^-2u^2v^2xy +0.5D^-1To^-2Tp^4r^-2su^2v^2y -1D^-1To^-3Tp^3r^-2u^2v^2xy +1D^-1To^-3Tp^3r^-2su^2v^2y -1D^-1To^-3Tp^4Tqr^-2u^2v^2xy +1D^-1To^-3Tp^4Tqr^-2su^2v^2y -1D^-1To^-1Tp^2fr^-3uv^2xy +1D^-1To^-1Tp^2fr^-3suv^2y +2D^-1To^-2Tq^2fr^-2u^2v^2xy -2D^-1To^-2Tq^2fr^-2su^2v^2y -1D^-1Tq^2fr^-2u^2v^2xy +1D^-1Tq^2fr^-2su^2v^2y -4D^-1To^-1Tqfr^-2u^2v^2xy +4D^-1To^-1Tqfr^-2su^2v^2y +2D^-1To^-1Tq^3fr^-2u^2v^2xy -2D^-1To^-1Tq^3fr^-2su^2v^2y -0.5D^-1To^-2Tq^4r^-2u^2v^2xy +0.5D^-1To^-2Tq^4r^-2su^2v^2y +1D^-1To^-3TpTq^2r^-2u^2v^2xy -1D^-1To^-3TpTq^2r^-2su^2v^2y -1D^-1To^-1TpTq^2r^-2u^2v^2xy +1D^-1To^-1TpTq^2r^-2su^2v^2y -1D^-1To^-3Tq^3r^-2u^2v^2xy +1D^-1To^-3Tq^3r^-2su^2v^2y +1D^-1To^-3Tp^2Tq^3r^-2u^2v^2xy -1D^-1To^-3Tp^2Tq^3r^-2su^2v^2y +1D^-1To^-1Tq^2fr^-3uv^2xy -1D^-1To^-1Tq^2fr^-3suv^2y -2D^-1To^-3Tpfr^-2u^2v^2xy +2D^-1To^-3Tpfr^-2su^2v^2y -0.5D^-1To^-4Tp^2r^-2u^2v^2xy +0.5D^-1To^-4Tp^2r^-2su^2v^2y +1D^-1To^-4TpTqr^-2u^2v^2xy -1D^-1To^-4TpTqr^-2su^2v^2y -1D^-1To^-4Tp^3Tqr^-2u^2v^2xy +1D^-1To^-4Tp^3Tqr^-2su^2v^2y -1D^-1To^-2Tpfr^-3uv^2xy +1D^-1To^-2Tpfr^-3suv^2y -1D^-1fr^-2u^2v^2xy +1D^-1fr^-2su^2v^2y +1D^-1Tpfr^-3uv^2xy -1D^-1Tpfr^-3suv^2y +2D^-1To^-3Tqfr^-2u^2v^2xy -2D^-1To^-3Tqfr^-2su^2v^2y -0.5D^-1To^-4Tq^2r^-2u^2v^2xy +0.5D^-1To^-4Tq^2r^-2su^2v^2y +1D^-1To^-4Tp^2Tq^2r^-2u^2v^2xy -1D^-1To^-4Tp^2Tq^2r^-2su^2v^2y +1D^-1To^-2Tqfr^-3uv^2xy -1D^-1To^-2Tqfr^-3suv^2y -2D^-1To^-3Tp^2Tqfr^-2u^2v^2xy +2D^-1To^-3Tp^2Tqfr^-2su^2v^2y +2D^-1To^-1Tp^2Tqfr^-2u^2v^2xy -2D^-1To^-1Tp^2Tqfr^-2su^2v^2y +2D^-1To^-2TpTqfr^-2u^2v^2xy -2D^-1To^-2TpTqfr^-2su^2v^2y -2D^-1To^-2Tp^3Tqfr^-2u^2v^2xy +2D^-1To^-2Tp^3Tqfr^-2su^2v^2y -1D^-1To^-2Tp^2Tq^2fr^-2u^2v^2xy +1D^-1To^-2Tp^2Tq^2fr^-2su^2v^2y -0.5D^-1To^-4Tp^4Tq^2r^-2u^2v^2xy +0.5D^-1To^-4Tp^4Tq^2r^-2su^2v^2y -1D^-1To^-2Tp^2Tqfr^-3uv^2xy +1D^-1To^-2Tp^2Tqfr^-3suv^2y +1D^-2To^-2Tp^4fr^-2su^2v^4y -2D^-2To^-2Tp^2Tq^2fr^-2su^2v^4y +2D^-2To^-3Tp^3fr^-2su^2v^4y -2D^-2To^-1Tp^3fr^-2su^2v^4y -2D^-2To^-3Tp^2Tqfr^-2su^2v^4y +2D^-2To^-3Tp^4Tqfr^-2su^2v^4y -1D^-2To^-2Tp^4fr^-2u^2v^4xy +2D^-2To^-2Tp^2Tq^2fr^-2u^2v^4xy -2D^-2To^-3Tp^3fr^-2u^2v^4xy +2D^-2To^-1Tp^3fr^-2u^2v^4xy +2D^-2To^-3Tp^2Tqfr^-2u^2v^4xy -2D^-2To^-3Tp^4Tqfr^-2u^2v^4xy +1D^-2To^-2Tq^4fr^-2su^2v^4y -2D^-2To^-3TpTq^2fr^-2su^2v^4y +2D^-2To^-1TpTq^2fr^-2su^2v^4y +2D^-2To^-3Tq^3fr^-2su^2v^4y -2D^-2To^-3Tp^2Tq^3fr^-2su^2v^4y -1D^-2To^-2Tq^4fr^-2u^2v^4xy +2D^-2To^-3TpTq^2fr^-2u^2v^4xy -2D^-2To^-1TpTq^2fr^-2u^2v^4xy -2D^-2To^-3Tq^3fr^-2u^2v^4xy +2D^-2To^-3Tp^2Tq^3fr^-2u^2v^4xy +1D^-2To^-4Tp^2fr^-2su^2v^4y -2D^-2To^-2Tp^2fr^-2su^2v^4y -2D^-2To^-4TpTqfr^-2su^2v^4y +2D^-2To^-4Tp^3Tqfr^-2su^2v^4y -1D^-2To^-4Tp^2fr^-2u^2v^4xy +2D^-2To^-2Tp^2fr^-2u^2v^4xy +2D^-2To^-4TpTqfr^-2u^2v^4xy -2D^-2To^-4Tp^3Tqfr^-2u^2v^4xy +1D^-2Tp^2fr^-2su^2v^4y +2D^-2To^-2TpTqfr^-2su^2v^4y -2D^-2To^-2Tp^3Tqfr^-2su^2v^4y -1D^-2Tp^2fr^-2u^2v^4xy -2D^-2To^-2TpTqfr^-2u^2v^4xy +2D^-2To^-2Tp^3Tqfr^-2u^2v^4xy +1D^-2To^-4Tq^2fr^-2su^2v^4y -2D^-2To^-4Tp^2Tq^2fr^-2su^2v^4y -1D^-2To^-4Tq^2fr^-2u^2v^4xy +2D^-2To^-4Tp^2Tq^2fr^-2u^2v^4xy +1D^-2To^-4Tp^4Tq^2fr^-2su^2v^4y -1D^-2To^-4Tp^4Tq^2fr^-2u^2v^4xy +2D^-2To^-1Tp^2f^2r^-1uv^2v_ty -2D^-2To^-1Tq^2f^2r^-1uv^2v_ty +2D^-2To^-2Tpf^2r^-1uv^2v_ty -2D^-2Tpf^2r^-1uv^2v_ty -2D^-2To^-2Tqf^2r^-1uv^2v_ty +2D^-2To^-2Tp^2Tqf^2r^-1uv^2v_ty -0.5D^-1To^-2Tp^4br^-2u^2v^2xy +0.5D^-1To^-2Tp^4br^-2su^2v^2y +1D^-1To^-2Tp^2Tq^2br^-2u^2v^2xy -1D^-1To^-2Tp^2Tq^2br^-2su^2v^2y -1D^-1To^-3Tp^3br^-2u^2v^2xy +1D^-1To^-3Tp^3br^-2su^2v^2y +1D^-1To^-1Tp^3br^-2u^2v^2xy -1D^-1To^-1Tp^3br^-2su^2v^2y +1D^-1To^-3Tp^2Tqbr^-2u^2v^2xy -1D^-1To^-3Tp^2Tqbr^-2su^2v^2y -1D^-1To^-3Tp^4Tqbr^-2u^2v^2xy +1D^-1To^-3Tp^4Tqbr^-2su^2v^2y -0.5D^-1To^-2Tq^4br^-2u^2v^2xy +0.5D^-1To^-2Tq^4br^-2su^2v^2y +1D^-1To^-3TpTq^2br^-2u^2v^2xy -1D^-1To^-3TpTq^2br^-2su^2v^2y -1D^-1To^-1TpTq^2br^-2u^2v^2xy +1D^-1To^-1TpTq^2br^-2su^2v^2y -1D^-1To^-3Tq^3br^-2u^2v^2xy +1D^-1To^-3Tq^3br^-2su^2v^2y +1D^-1To^-3Tp^2Tq^3br^-2u^2v^2xy -1D^-1To^-3Tp^2Tq^3br^-2su^2v^2y -0.5D^-1To^-4Tp^2br^-2u^2v^2xy +0.5D^-1To^-4Tp^2br^-2su^2v^2y +1D^-1To^-2Tp^2br^-2u^2v^2xy -1D^-1To^-2Tp^2br^-2su^2v^2y +1D^-1To^-4TpTqbr^-2u^2v^2xy -1D^-1To^-4TpTqbr^-2su^2v^2y -1D^-1To^-4Tp^3Tqbr^-2u^2v^2xy +1D^-1To^-4Tp^3Tqbr^-2su^2v^2y -0.5D^-1Tp^2br^-2u^2v^2xy +0.5D^-1Tp^2br^-2su^2v^2y -1D^-1To^-2TpTqbr^-2u^2v^2xy +1D^-1To^-2TpTqbr^-2su^2v^2y +1D^-1To^-2Tp^3Tqbr^-2u^2v^2xy -1D^-1To^-2Tp^3Tqbr^-2su^2v^2y -0.5D^-1To^-4Tq^2br^-2u^2v^2xy +0.5D^-1To^-4Tq^2br^-2su^2v^2y +1D^-1To^-4Tp^2Tq^2br^-2u^2v^2xy -1D^-1To^-4Tp^2Tq^2br^-2su^2v^2y -0.5D^-1To^-4Tp^4Tq^2br^-2u^2v^2xy +0.5D^-1To^-4Tp^4Tq^2br^-2su^2v^2y +2D^-2To^-2Tp^4br^-2u^2v^2xy -2D^-2To^-2Tp^4br^-2su^2v^2y -4D^-2To^-2Tp^2Tq^2br^-2u^2v^2xy +4D^-2To^-2Tp^2Tq^2br^-2su^2v^2y +4D^-2To^-3Tp^3br^-2u^2v^2xy -4D^-2To^-3Tp^3br^-2su^2v^2y -4D^-2To^-1Tp^3br^-2u^2v^2xy +4D^-2To^-1Tp^3br^-2su^2v^2y -4D^-2To^-3Tp^2Tqbr^-2u^2v^2xy +4D^-2To^-3Tp^2Tqbr^-2su^2v^2y +4D^-2To^-3Tp^4Tqbr^-2u^2v^2xy -4D^-2To^-3Tp^4Tqbr^-2su^2v^2y +2D^-2To^-2Tq^4br^-2u^2v^2xy -2D^-2To^-2Tq^4br^-2su^2v^2y -4D^-2To^-3TpTq^2br^-2u^2v^2xy +4D^-2To^-3TpTq^2br^-2su^2v^2y +4D^-2To^-1TpTq^2br^-2u^2v^2xy -4D^-2To^-1TpTq^2br^-2su^2v^2y +4D^-2To^-3Tq^3br^-2u^2v^2xy -4D^-2To^-3Tq^3br^-2su^2v^2y -4D^-2To^-3Tp^2Tq^3br^-2u^2v^2xy +4D^-2To^-3Tp^2Tq^3br^-2su^2v^2y +2D^-2To^-4Tp^2br^-2u^2v^2xy -2D^-2To^-4Tp^2br^-2su^2v^2y -4D^-2To^-2Tp^2br^-2u^2v^2xy +4D^-2To^-2Tp^2br^-2su^2v^2y -4D^-2To^-4TpTqbr^-2u^2v^2xy +4D^-2To^-4TpTqbr^-2su^2v^2y +4D^-2To^-4Tp^3Tqbr^-2u^2v^2xy -4D^-2To^-4Tp^3Tqbr^-2su^2v^2y +2D^-2Tp^2br^-2u^2v^2xy -2D^-2Tp^2br^-2su^2v^2y +4D^-2To^-2TpTqbr^-2u^2v^2xy -4D^-2To^-2TpTqbr^-2su^2v^2y -4D^-2To^-2Tp^3Tqbr^-2u^2v^2xy +4D^-2To^-2Tp^3Tqbr^-2su^2v^2y +2D^-2To^-4Tq^2br^-2u^2v^2xy -2D^-2To^-4Tq^2br^-2su^2v^2y -4D^-2To^-4Tp^2Tq^2br^-2u^2v^2xy +4D^-2To^-4Tp^2Tq^2br^-2su^2v^2y +2D^-2To^-4Tp^4Tq^2br^-2u^2v^2xy -2D^-2To^-4Tp^4Tq^2br^-2su^2v^2y',\n",
       "  '-0.5D^-1To^-2Tp^2r^-2su^2v^2z +0.5D^-1To^-2Tp^2r^-2u^2v^2xz -0.5D^-1Tp^2r^-2su^2v^2z +0.5D^-1Tp^2r^-2u^2v^2xz -2D^-1To^-1Tpr^-2su^2v^2z +2D^-1To^-1Tpr^-2u^2v^2xz +0.5D^-1To^-1Tp^2r^-3suv^2z -0.5D^-1To^-1Tp^2r^-3uv^2xz +0.5D^-1To^-1Tp^2r^-1uv_tz -1D^-1To^-2Tq^2r^-2su^2v^2z +1D^-1To^-2Tq^2r^-2u^2v^2xz +0.5D^-1Tq^2r^-2su^2v^2z -0.5D^-1Tq^2r^-2u^2v^2xz +2D^-1To^-1Tqr^-2su^2v^2z -2D^-1To^-1Tqr^-2u^2v^2xz -1D^-1To^-1Tq^3r^-2su^2v^2z +1D^-1To^-1Tq^3r^-2u^2v^2xz -0.5D^-1To^-1Tq^2r^-3suv^2z +0.5D^-1To^-1Tq^2r^-3uv^2xz -0.5D^-1To^-1Tq^2r^-1uv_tz +1D^-1To^-3Tpr^-2su^2v^2z -1D^-1To^-3Tpr^-2u^2v^2xz +0.5D^-1To^-2Tpr^-3suv^2z -0.5D^-1To^-2Tpr^-3uv^2xz +0.5D^-1To^-2Tpr^-1uv_tz +0.5D^-1r^-2su^2v^2z -0.5D^-1r^-2u^2v^2xz -0.5D^-1Tpr^-3suv^2z +0.5D^-1Tpr^-3uv^2xz -0.5D^-1Tpr^-1uv_tz -1D^-1To^-3Tqr^-2su^2v^2z +1D^-1To^-3Tqr^-2u^2v^2xz -0.5D^-1To^-2Tqr^-3suv^2z +0.5D^-1To^-2Tqr^-3uv^2xz -0.5D^-1To^-2Tqr^-1uv_tz -1D^-1To^-1Tp^2Tqr^-2su^2v^2z +1D^-1To^-1Tp^2Tqr^-2u^2v^2xz -0.5D^-1To^-2Tp^2Tq^2r^-2su^2v^2z +0.5D^-1To^-2Tp^2Tq^2r^-2u^2v^2xz +0.5D^-1To^-2Tp^2Tqr^-3suv^2z -0.5D^-1To^-2Tp^2Tqr^-3uv^2xz +0.5D^-1To^-2Tp^2Tqr^-1uv_tz -1D^-1To^-2Tp^2fr^-2u^2v^2xz +1D^-1To^-2Tp^2fr^-2su^2v^2z +2D^-1Tp^2fr^-2u^2v^2xz -2D^-1Tp^2fr^-2su^2v^2z +4D^-1To^-1Tpfr^-2u^2v^2xz -4D^-1To^-1Tpfr^-2su^2v^2z -2D^-1To^-1Tp^3fr^-2u^2v^2xz +2D^-1To^-1Tp^3fr^-2su^2v^2z -0.5D^-1To^-2Tp^4r^-2u^2v^2xz +0.5D^-1To^-2Tp^4r^-2su^2v^2z -1D^-1To^-3Tp^3r^-2u^2v^2xz +1D^-1To^-3Tp^3r^-2su^2v^2z -1D^-1To^-3Tp^4Tqr^-2u^2v^2xz +1D^-1To^-3Tp^4Tqr^-2su^2v^2z -1D^-1To^-1Tp^2fr^-3uv^2xz +1D^-1To^-1Tp^2fr^-3suv^2z +2D^-1To^-2Tq^2fr^-2u^2v^2xz -2D^-1To^-2Tq^2fr^-2su^2v^2z -1D^-1Tq^2fr^-2u^2v^2xz +1D^-1Tq^2fr^-2su^2v^2z -4D^-1To^-1Tqfr^-2u^2v^2xz +4D^-1To^-1Tqfr^-2su^2v^2z +2D^-1To^-1Tq^3fr^-2u^2v^2xz -2D^-1To^-1Tq^3fr^-2su^2v^2z -0.5D^-1To^-2Tq^4r^-2u^2v^2xz +0.5D^-1To^-2Tq^4r^-2su^2v^2z +1D^-1To^-3TpTq^2r^-2u^2v^2xz -1D^-1To^-3TpTq^2r^-2su^2v^2z -1D^-1To^-1TpTq^2r^-2u^2v^2xz +1D^-1To^-1TpTq^2r^-2su^2v^2z -1D^-1To^-3Tq^3r^-2u^2v^2xz +1D^-1To^-3Tq^3r^-2su^2v^2z +1D^-1To^-3Tp^2Tq^3r^-2u^2v^2xz -1D^-1To^-3Tp^2Tq^3r^-2su^2v^2z +1D^-1To^-1Tq^2fr^-3uv^2xz -1D^-1To^-1Tq^2fr^-3suv^2z -2D^-1To^-3Tpfr^-2u^2v^2xz +2D^-1To^-3Tpfr^-2su^2v^2z -0.5D^-1To^-4Tp^2r^-2u^2v^2xz +0.5D^-1To^-4Tp^2r^-2su^2v^2z +1D^-1To^-4TpTqr^-2u^2v^2xz -1D^-1To^-4TpTqr^-2su^2v^2z -1D^-1To^-4Tp^3Tqr^-2u^2v^2xz +1D^-1To^-4Tp^3Tqr^-2su^2v^2z -1D^-1To^-2Tpfr^-3uv^2xz +1D^-1To^-2Tpfr^-3suv^2z -1D^-1fr^-2u^2v^2xz +1D^-1fr^-2su^2v^2z +1D^-1Tpfr^-3uv^2xz -1D^-1Tpfr^-3suv^2z +2D^-1To^-3Tqfr^-2u^2v^2xz -2D^-1To^-3Tqfr^-2su^2v^2z -0.5D^-1To^-4Tq^2r^-2u^2v^2xz +0.5D^-1To^-4Tq^2r^-2su^2v^2z +1D^-1To^-4Tp^2Tq^2r^-2u^2v^2xz -1D^-1To^-4Tp^2Tq^2r^-2su^2v^2z +1D^-1To^-2Tqfr^-3uv^2xz -1D^-1To^-2Tqfr^-3suv^2z -2D^-1To^-3Tp^2Tqfr^-2u^2v^2xz +2D^-1To^-3Tp^2Tqfr^-2su^2v^2z +2D^-1To^-1Tp^2Tqfr^-2u^2v^2xz -2D^-1To^-1Tp^2Tqfr^-2su^2v^2z +2D^-1To^-2TpTqfr^-2u^2v^2xz -2D^-1To^-2TpTqfr^-2su^2v^2z -2D^-1To^-2Tp^3Tqfr^-2u^2v^2xz +2D^-1To^-2Tp^3Tqfr^-2su^2v^2z -1D^-1To^-2Tp^2Tq^2fr^-2u^2v^2xz +1D^-1To^-2Tp^2Tq^2fr^-2su^2v^2z -0.5D^-1To^-4Tp^4Tq^2r^-2u^2v^2xz +0.5D^-1To^-4Tp^4Tq^2r^-2su^2v^2z -1D^-1To^-2Tp^2Tqfr^-3uv^2xz +1D^-1To^-2Tp^2Tqfr^-3suv^2z +1D^-2To^-2Tp^4fr^-2su^2v^4z -2D^-2To^-2Tp^2Tq^2fr^-2su^2v^4z +2D^-2To^-3Tp^3fr^-2su^2v^4z -2D^-2To^-1Tp^3fr^-2su^2v^4z -2D^-2To^-3Tp^2Tqfr^-2su^2v^4z +2D^-2To^-3Tp^4Tqfr^-2su^2v^4z -1D^-2To^-2Tp^4fr^-2u^2v^4xz +2D^-2To^-2Tp^2Tq^2fr^-2u^2v^4xz -2D^-2To^-3Tp^3fr^-2u^2v^4xz +2D^-2To^-1Tp^3fr^-2u^2v^4xz +2D^-2To^-3Tp^2Tqfr^-2u^2v^4xz -2D^-2To^-3Tp^4Tqfr^-2u^2v^4xz +1D^-2To^-2Tq^4fr^-2su^2v^4z -2D^-2To^-3TpTq^2fr^-2su^2v^4z +2D^-2To^-1TpTq^2fr^-2su^2v^4z +2D^-2To^-3Tq^3fr^-2su^2v^4z -2D^-2To^-3Tp^2Tq^3fr^-2su^2v^4z -1D^-2To^-2Tq^4fr^-2u^2v^4xz +2D^-2To^-3TpTq^2fr^-2u^2v^4xz -2D^-2To^-1TpTq^2fr^-2u^2v^4xz -2D^-2To^-3Tq^3fr^-2u^2v^4xz +2D^-2To^-3Tp^2Tq^3fr^-2u^2v^4xz +1D^-2To^-4Tp^2fr^-2su^2v^4z -2D^-2To^-2Tp^2fr^-2su^2v^4z -2D^-2To^-4TpTqfr^-2su^2v^4z +2D^-2To^-4Tp^3Tqfr^-2su^2v^4z -1D^-2To^-4Tp^2fr^-2u^2v^4xz +2D^-2To^-2Tp^2fr^-2u^2v^4xz +2D^-2To^-4TpTqfr^-2u^2v^4xz -2D^-2To^-4Tp^3Tqfr^-2u^2v^4xz +1D^-2Tp^2fr^-2su^2v^4z +2D^-2To^-2TpTqfr^-2su^2v^4z -2D^-2To^-2Tp^3Tqfr^-2su^2v^4z -1D^-2Tp^2fr^-2u^2v^4xz -2D^-2To^-2TpTqfr^-2u^2v^4xz +2D^-2To^-2Tp^3Tqfr^-2u^2v^4xz +1D^-2To^-4Tq^2fr^-2su^2v^4z -2D^-2To^-4Tp^2Tq^2fr^-2su^2v^4z -1D^-2To^-4Tq^2fr^-2u^2v^4xz +2D^-2To^-4Tp^2Tq^2fr^-2u^2v^4xz +1D^-2To^-4Tp^4Tq^2fr^-2su^2v^4z -1D^-2To^-4Tp^4Tq^2fr^-2u^2v^4xz +2D^-2To^-1Tp^2f^2r^-1uv^2v_tz -2D^-2To^-1Tq^2f^2r^-1uv^2v_tz +2D^-2To^-2Tpf^2r^-1uv^2v_tz -2D^-2Tpf^2r^-1uv^2v_tz -2D^-2To^-2Tqf^2r^-1uv^2v_tz +2D^-2To^-2Tp^2Tqf^2r^-1uv^2v_tz -0.5D^-1To^-2Tp^4br^-2u^2v^2xz +0.5D^-1To^-2Tp^4br^-2su^2v^2z +1D^-1To^-2Tp^2Tq^2br^-2u^2v^2xz -1D^-1To^-2Tp^2Tq^2br^-2su^2v^2z -1D^-1To^-3Tp^3br^-2u^2v^2xz +1D^-1To^-3Tp^3br^-2su^2v^2z +1D^-1To^-1Tp^3br^-2u^2v^2xz -1D^-1To^-1Tp^3br^-2su^2v^2z +1D^-1To^-3Tp^2Tqbr^-2u^2v^2xz -1D^-1To^-3Tp^2Tqbr^-2su^2v^2z -1D^-1To^-3Tp^4Tqbr^-2u^2v^2xz +1D^-1To^-3Tp^4Tqbr^-2su^2v^2z -0.5D^-1To^-2Tq^4br^-2u^2v^2xz +0.5D^-1To^-2Tq^4br^-2su^2v^2z +1D^-1To^-3TpTq^2br^-2u^2v^2xz -1D^-1To^-3TpTq^2br^-2su^2v^2z -1D^-1To^-1TpTq^2br^-2u^2v^2xz +1D^-1To^-1TpTq^2br^-2su^2v^2z -1D^-1To^-3Tq^3br^-2u^2v^2xz +1D^-1To^-3Tq^3br^-2su^2v^2z +1D^-1To^-3Tp^2Tq^3br^-2u^2v^2xz -1D^-1To^-3Tp^2Tq^3br^-2su^2v^2z -0.5D^-1To^-4Tp^2br^-2u^2v^2xz +0.5D^-1To^-4Tp^2br^-2su^2v^2z +1D^-1To^-2Tp^2br^-2u^2v^2xz -1D^-1To^-2Tp^2br^-2su^2v^2z +1D^-1To^-4TpTqbr^-2u^2v^2xz -1D^-1To^-4TpTqbr^-2su^2v^2z -1D^-1To^-4Tp^3Tqbr^-2u^2v^2xz +1D^-1To^-4Tp^3Tqbr^-2su^2v^2z -0.5D^-1Tp^2br^-2u^2v^2xz +0.5D^-1Tp^2br^-2su^2v^2z -1D^-1To^-2TpTqbr^-2u^2v^2xz +1D^-1To^-2TpTqbr^-2su^2v^2z +1D^-1To^-2Tp^3Tqbr^-2u^2v^2xz -1D^-1To^-2Tp^3Tqbr^-2su^2v^2z -0.5D^-1To^-4Tq^2br^-2u^2v^2xz +0.5D^-1To^-4Tq^2br^-2su^2v^2z +1D^-1To^-4Tp^2Tq^2br^-2u^2v^2xz -1D^-1To^-4Tp^2Tq^2br^-2su^2v^2z -0.5D^-1To^-4Tp^4Tq^2br^-2u^2v^2xz +0.5D^-1To^-4Tp^4Tq^2br^-2su^2v^2z +2D^-2To^-2Tp^4br^-2u^2v^2xz -2D^-2To^-2Tp^4br^-2su^2v^2z -4D^-2To^-2Tp^2Tq^2br^-2u^2v^2xz +4D^-2To^-2Tp^2Tq^2br^-2su^2v^2z +4D^-2To^-3Tp^3br^-2u^2v^2xz -4D^-2To^-3Tp^3br^-2su^2v^2z -4D^-2To^-1Tp^3br^-2u^2v^2xz +4D^-2To^-1Tp^3br^-2su^2v^2z -4D^-2To^-3Tp^2Tqbr^-2u^2v^2xz +4D^-2To^-3Tp^2Tqbr^-2su^2v^2z +4D^-2To^-3Tp^4Tqbr^-2u^2v^2xz -4D^-2To^-3Tp^4Tqbr^-2su^2v^2z +2D^-2To^-2Tq^4br^-2u^2v^2xz -2D^-2To^-2Tq^4br^-2su^2v^2z -4D^-2To^-3TpTq^2br^-2u^2v^2xz +4D^-2To^-3TpTq^2br^-2su^2v^2z +4D^-2To^-1TpTq^2br^-2u^2v^2xz -4D^-2To^-1TpTq^2br^-2su^2v^2z +4D^-2To^-3Tq^3br^-2u^2v^2xz -4D^-2To^-3Tq^3br^-2su^2v^2z -4D^-2To^-3Tp^2Tq^3br^-2u^2v^2xz +4D^-2To^-3Tp^2Tq^3br^-2su^2v^2z +2D^-2To^-4Tp^2br^-2u^2v^2xz -2D^-2To^-4Tp^2br^-2su^2v^2z -4D^-2To^-2Tp^2br^-2u^2v^2xz +4D^-2To^-2Tp^2br^-2su^2v^2z -4D^-2To^-4TpTqbr^-2u^2v^2xz +4D^-2To^-4TpTqbr^-2su^2v^2z +4D^-2To^-4Tp^3Tqbr^-2u^2v^2xz -4D^-2To^-4Tp^3Tqbr^-2su^2v^2z +2D^-2Tp^2br^-2u^2v^2xz -2D^-2Tp^2br^-2su^2v^2z +4D^-2To^-2TpTqbr^-2u^2v^2xz -4D^-2To^-2TpTqbr^-2su^2v^2z -4D^-2To^-2Tp^3Tqbr^-2u^2v^2xz +4D^-2To^-2Tp^3Tqbr^-2su^2v^2z +2D^-2To^-4Tq^2br^-2u^2v^2xz -2D^-2To^-4Tq^2br^-2su^2v^2z -4D^-2To^-4Tp^2Tq^2br^-2u^2v^2xz +4D^-2To^-4Tp^2Tq^2br^-2su^2v^2z +2D^-2To^-4Tp^4Tq^2br^-2u^2v^2xz -2D^-2To^-4Tp^4Tq^2br^-2su^2v^2z'],\n",
       " ['-1D^-1To^-2Tp^2fr^-2su^2v^3y +1D^-1To^-2Tp^2fr^-2u^2v^3xy +2D^-1Tp^2fr^-2su^2v^3y -2D^-1Tp^2fr^-2u^2v^3xy +4D^-1To^-1Tpfr^-2su^2v^3y -4D^-1To^-1Tpfr^-2u^2v^3xy -2D^-1To^-1Tp^3fr^-2su^2v^3y +2D^-1To^-1Tp^3fr^-2u^2v^3xy -0.5D^-1To^-2Tp^4r^-2su^2v^3y +0.5D^-1To^-2Tp^4r^-2u^2v^3xy +1D^-1To^-2Tp^2Tq^2r^-2su^2v^3y -1D^-1To^-2Tp^2Tq^2r^-2u^2v^3xy -1D^-1To^-3Tp^3r^-2su^2v^3y +1D^-1To^-3Tp^3r^-2u^2v^3xy +1D^-1To^-1Tp^3r^-2su^2v^3y -1D^-1To^-1Tp^3r^-2u^2v^3xy +1D^-1To^-3Tp^2Tqr^-2su^2v^3y -1D^-1To^-3Tp^2Tqr^-2u^2v^3xy -1D^-1To^-3Tp^4Tqr^-2su^2v^3y +1D^-1To^-3Tp^4Tqr^-2u^2v^3xy -1D^-1To^-1Tp^2fr^-3suv^3y +1D^-1To^-1Tp^2fr^-3uv^3xy -2D^-1To^-1Tp^2fr^-1uvv_ty +2D^-1To^-2Tq^2fr^-2su^2v^3y -2D^-1To^-2Tq^2fr^-2u^2v^3xy -1D^-1Tq^2fr^-2su^2v^3y +1D^-1Tq^2fr^-2u^2v^3xy -4D^-1To^-1Tqfr^-2su^2v^3y +4D^-1To^-1Tqfr^-2u^2v^3xy +2D^-1To^-1Tq^3fr^-2su^2v^3y -2D^-1To^-1Tq^3fr^-2u^2v^3xy -0.5D^-1To^-2Tq^4r^-2su^2v^3y +0.5D^-1To^-2Tq^4r^-2u^2v^3xy +1D^-1To^-3TpTq^2r^-2su^2v^3y -1D^-1To^-3TpTq^2r^-2u^2v^3xy -1D^-1To^-1TpTq^2r^-2su^2v^3y +1D^-1To^-1TpTq^2r^-2u^2v^3xy -1D^-1To^-3Tq^3r^-2su^2v^3y +1D^-1To^-3Tq^3r^-2u^2v^3xy +1D^-1To^-3Tp^2Tq^3r^-2su^2v^3y -1D^-1To^-3Tp^2Tq^3r^-2u^2v^3xy +1D^-1To^-1Tq^2fr^-3suv^3y -1D^-1To^-1Tq^2fr^-3uv^3xy +2D^-1To^-1Tq^2fr^-1uvv_ty -2D^-1To^-3Tpfr^-2su^2v^3y +2D^-1To^-3Tpfr^-2u^2v^3xy -0.5D^-1To^-4Tp^2r^-2su^2v^3y +0.5D^-1To^-4Tp^2r^-2u^2v^3xy +1D^-1To^-2Tp^2r^-2su^2v^3y -1D^-1To^-2Tp^2r^-2u^2v^3xy +1D^-1To^-4TpTqr^-2su^2v^3y -1D^-1To^-4TpTqr^-2u^2v^3xy -1D^-1To^-4Tp^3Tqr^-2su^2v^3y +1D^-1To^-4Tp^3Tqr^-2u^2v^3xy -1D^-1To^-2Tpfr^-3suv^3y +1D^-1To^-2Tpfr^-3uv^3xy -2D^-1To^-2Tpfr^-1uvv_ty -1D^-1fr^-2su^2v^3y +1D^-1fr^-2u^2v^3xy -0.5D^-1Tp^2r^-2su^2v^3y +0.5D^-1Tp^2r^-2u^2v^3xy -1D^-1To^-2TpTqr^-2su^2v^3y +1D^-1To^-2TpTqr^-2u^2v^3xy +1D^-1To^-2Tp^3Tqr^-2su^2v^3y -1D^-1To^-2Tp^3Tqr^-2u^2v^3xy +1D^-1Tpfr^-3suv^3y -1D^-1Tpfr^-3uv^3xy +2D^-1Tpfr^-1uvv_ty +2D^-1To^-3Tqfr^-2su^2v^3y -2D^-1To^-3Tqfr^-2u^2v^3xy -0.5D^-1To^-4Tq^2r^-2su^2v^3y +0.5D^-1To^-4Tq^2r^-2u^2v^3xy +1D^-1To^-4Tp^2Tq^2r^-2su^2v^3y -1D^-1To^-4Tp^2Tq^2r^-2u^2v^3xy +1D^-1To^-2Tqfr^-3suv^3y -1D^-1To^-2Tqfr^-3uv^3xy +2D^-1To^-2Tqfr^-1uvv_ty -2D^-1To^-3Tp^2Tqfr^-2su^2v^3y +2D^-1To^-3Tp^2Tqfr^-2u^2v^3xy +2D^-1To^-1Tp^2Tqfr^-2su^2v^3y -2D^-1To^-1Tp^2Tqfr^-2u^2v^3xy +2D^-1To^-2TpTqfr^-2su^2v^3y -2D^-1To^-2TpTqfr^-2u^2v^3xy -2D^-1To^-2Tp^3Tqfr^-2su^2v^3y +2D^-1To^-2Tp^3Tqfr^-2u^2v^3xy -1D^-1To^-2Tp^2Tq^2fr^-2su^2v^3y +1D^-1To^-2Tp^2Tq^2fr^-2u^2v^3xy -0.5D^-1To^-4Tp^4Tq^2r^-2su^2v^3y +0.5D^-1To^-4Tp^4Tq^2r^-2u^2v^3xy -1D^-1To^-2Tp^2Tqfr^-3suv^3y +1D^-1To^-2Tp^2Tqfr^-3uv^3xy -2D^-1To^-2Tp^2Tqfr^-1uvv_ty +0.5To^-2Tp^2br^-2u^2vxy -0.5To^-2Tp^2br^-2su^2vy -1Tp^2br^-2u^2vxy +1Tp^2br^-2su^2vy -2To^-1Tpbr^-2u^2vxy +2To^-1Tpbr^-2su^2vy +1To^-1Tp^3br^-2u^2vxy -1To^-1Tp^3br^-2su^2vy +0.5To^-1Tp^2br^-3uvxy -0.5To^-1Tp^2br^-3suvy -1To^-2Tq^2br^-2u^2vxy +1To^-2Tq^2br^-2su^2vy +0.5Tq^2br^-2u^2vxy -0.5Tq^2br^-2su^2vy +2To^-1Tqbr^-2u^2vxy -2To^-1Tqbr^-2su^2vy -1To^-1Tq^3br^-2u^2vxy +1To^-1Tq^3br^-2su^2vy -0.5To^-1Tq^2br^-3uvxy +0.5To^-1Tq^2br^-3suvy +1To^-3Tpbr^-2u^2vxy -1To^-3Tpbr^-2su^2vy +0.5To^-2Tpbr^-3uvxy -0.5To^-2Tpbr^-3suvy +0.5br^-2u^2vxy -0.5br^-2su^2vy -0.5Tpbr^-3uvxy +0.5Tpbr^-3suvy -1To^-3Tqbr^-2u^2vxy +1To^-3Tqbr^-2su^2vy -0.5To^-2Tqbr^-3uvxy +0.5To^-2Tqbr^-3suvy +1To^-3Tp^2Tqbr^-2u^2vxy -1To^-3Tp^2Tqbr^-2su^2vy -1To^-1Tp^2Tqbr^-2u^2vxy +1To^-1Tp^2Tqbr^-2su^2vy -1To^-2TpTqbr^-2u^2vxy +1To^-2TpTqbr^-2su^2vy +1To^-2Tp^3Tqbr^-2u^2vxy -1To^-2Tp^3Tqbr^-2su^2vy +0.5To^-2Tp^2Tq^2br^-2u^2vxy -0.5To^-2Tp^2Tq^2br^-2su^2vy +0.5To^-2Tp^2Tqbr^-3uvxy -0.5To^-2Tp^2Tqbr^-3suvy -2D^-1To^-2Tp^2br^-2u^2vxy +2D^-1To^-2Tp^2br^-2su^2vy +4D^-1Tp^2br^-2u^2vxy -4D^-1Tp^2br^-2su^2vy +8D^-1To^-1Tpbr^-2u^2vxy -8D^-1To^-1Tpbr^-2su^2vy -4D^-1To^-1Tp^3br^-2u^2vxy +4D^-1To^-1Tp^3br^-2su^2vy -2D^-1To^-1Tp^2br^-3uvxy +2D^-1To^-1Tp^2br^-3suvy +4D^-1To^-2Tq^2br^-2u^2vxy -4D^-1To^-2Tq^2br^-2su^2vy -2D^-1Tq^2br^-2u^2vxy +2D^-1Tq^2br^-2su^2vy -8D^-1To^-1Tqbr^-2u^2vxy +8D^-1To^-1Tqbr^-2su^2vy +4D^-1To^-1Tq^3br^-2u^2vxy -4D^-1To^-1Tq^3br^-2su^2vy +2D^-1To^-1Tq^2br^-3uvxy -2D^-1To^-1Tq^2br^-3suvy -4D^-1To^-3Tpbr^-2u^2vxy +4D^-1To^-3Tpbr^-2su^2vy -2D^-1To^-2Tpbr^-3uvxy +2D^-1To^-2Tpbr^-3suvy -2D^-1br^-2u^2vxy +2D^-1br^-2su^2vy +2D^-1Tpbr^-3uvxy -2D^-1Tpbr^-3suvy +4D^-1To^-3Tqbr^-2u^2vxy -4D^-1To^-3Tqbr^-2su^2vy +2D^-1To^-2Tqbr^-3uvxy -2D^-1To^-2Tqbr^-3suvy -4D^-1To^-3Tp^2Tqbr^-2u^2vxy +4D^-1To^-3Tp^2Tqbr^-2su^2vy +4D^-1To^-1Tp^2Tqbr^-2u^2vxy -4D^-1To^-1Tp^2Tqbr^-2su^2vy +4D^-1To^-2TpTqbr^-2u^2vxy -4D^-1To^-2TpTqbr^-2su^2vy -4D^-1To^-2Tp^3Tqbr^-2u^2vxy +4D^-1To^-2Tp^3Tqbr^-2su^2vy -2D^-1To^-2Tp^2Tq^2br^-2u^2vxy +2D^-1To^-2Tp^2Tq^2br^-2su^2vy -2D^-1To^-2Tp^2Tqbr^-3uvxy +2D^-1To^-2Tp^2Tqbr^-3suvy +1D^-1To^-2Tp^4bfr^-2u^2v^3xy -2D^-1To^-2Tp^2Tq^2bfr^-2u^2v^3xy +2D^-1To^-3Tp^3bfr^-2u^2v^3xy -2D^-1To^-1Tp^3bfr^-2u^2v^3xy -2D^-1To^-3Tp^2Tqbfr^-2u^2v^3xy +2D^-1To^-3Tp^4Tqbfr^-2u^2v^3xy -4D^-2To^-2Tp^4bfr^-2u^2v^3xy +8D^-2To^-2Tp^2Tq^2bfr^-2u^2v^3xy -8D^-2To^-3Tp^3bfr^-2u^2v^3xy +8D^-2To^-1Tp^3bfr^-2u^2v^3xy +8D^-2To^-3Tp^2Tqbfr^-2u^2v^3xy -8D^-2To^-3Tp^4Tqbfr^-2u^2v^3xy -1D^-1To^-2Tp^4bfr^-2su^2v^3y +2D^-1To^-2Tp^2Tq^2bfr^-2su^2v^3y -2D^-1To^-3Tp^3bfr^-2su^2v^3y +2D^-1To^-1Tp^3bfr^-2su^2v^3y +2D^-1To^-3Tp^2Tqbfr^-2su^2v^3y -2D^-1To^-3Tp^4Tqbfr^-2su^2v^3y +4D^-2To^-2Tp^4bfr^-2su^2v^3y -8D^-2To^-2Tp^2Tq^2bfr^-2su^2v^3y +8D^-2To^-3Tp^3bfr^-2su^2v^3y -8D^-2To^-1Tp^3bfr^-2su^2v^3y -8D^-2To^-3Tp^2Tqbfr^-2su^2v^3y +8D^-2To^-3Tp^4Tqbfr^-2su^2v^3y +1D^-1To^-2Tq^4bfr^-2u^2v^3xy -2D^-1To^-3TpTq^2bfr^-2u^2v^3xy +2D^-1To^-1TpTq^2bfr^-2u^2v^3xy +2D^-1To^-3Tq^3bfr^-2u^2v^3xy -2D^-1To^-3Tp^2Tq^3bfr^-2u^2v^3xy -4D^-2To^-2Tq^4bfr^-2u^2v^3xy +8D^-2To^-3TpTq^2bfr^-2u^2v^3xy -8D^-2To^-1TpTq^2bfr^-2u^2v^3xy -8D^-2To^-3Tq^3bfr^-2u^2v^3xy +8D^-2To^-3Tp^2Tq^3bfr^-2u^2v^3xy -1D^-1To^-2Tq^4bfr^-2su^2v^3y +2D^-1To^-3TpTq^2bfr^-2su^2v^3y -2D^-1To^-1TpTq^2bfr^-2su^2v^3y -2D^-1To^-3Tq^3bfr^-2su^2v^3y +2D^-1To^-3Tp^2Tq^3bfr^-2su^2v^3y +4D^-2To^-2Tq^4bfr^-2su^2v^3y -8D^-2To^-3TpTq^2bfr^-2su^2v^3y +8D^-2To^-1TpTq^2bfr^-2su^2v^3y +8D^-2To^-3Tq^3bfr^-2su^2v^3y -8D^-2To^-3Tp^2Tq^3bfr^-2su^2v^3y +1D^-1To^-4Tp^2bfr^-2u^2v^3xy -2D^-1To^-2Tp^2bfr^-2u^2v^3xy -2D^-1To^-4TpTqbfr^-2u^2v^3xy +2D^-1To^-4Tp^3Tqbfr^-2u^2v^3xy -4D^-2To^-4Tp^2bfr^-2u^2v^3xy +8D^-2To^-2Tp^2bfr^-2u^2v^3xy +8D^-2To^-4TpTqbfr^-2u^2v^3xy -8D^-2To^-4Tp^3Tqbfr^-2u^2v^3xy -1D^-1To^-4Tp^2bfr^-2su^2v^3y +2D^-1To^-2Tp^2bfr^-2su^2v^3y +2D^-1To^-4TpTqbfr^-2su^2v^3y -2D^-1To^-4Tp^3Tqbfr^-2su^2v^3y +4D^-2To^-4Tp^2bfr^-2su^2v^3y -8D^-2To^-2Tp^2bfr^-2su^2v^3y -8D^-2To^-4TpTqbfr^-2su^2v^3y +8D^-2To^-4Tp^3Tqbfr^-2su^2v^3y +1D^-1Tp^2bfr^-2u^2v^3xy +2D^-1To^-2TpTqbfr^-2u^2v^3xy -2D^-1To^-2Tp^3Tqbfr^-2u^2v^3xy -4D^-2Tp^2bfr^-2u^2v^3xy -8D^-2To^-2TpTqbfr^-2u^2v^3xy +8D^-2To^-2Tp^3Tqbfr^-2u^2v^3xy -1D^-1Tp^2bfr^-2su^2v^3y -2D^-1To^-2TpTqbfr^-2su^2v^3y +2D^-1To^-2Tp^3Tqbfr^-2su^2v^3y +4D^-2Tp^2bfr^-2su^2v^3y +8D^-2To^-2TpTqbfr^-2su^2v^3y -8D^-2To^-2Tp^3Tqbfr^-2su^2v^3y +1D^-1To^-4Tq^2bfr^-2u^2v^3xy -2D^-1To^-4Tp^2Tq^2bfr^-2u^2v^3xy -4D^-2To^-4Tq^2bfr^-2u^2v^3xy +8D^-2To^-4Tp^2Tq^2bfr^-2u^2v^3xy -1D^-1To^-4Tq^2bfr^-2su^2v^3y +2D^-1To^-4Tp^2Tq^2bfr^-2su^2v^3y +4D^-2To^-4Tq^2bfr^-2su^2v^3y -8D^-2To^-4Tp^2Tq^2bfr^-2su^2v^3y +1D^-1To^-4Tp^4Tq^2bfr^-2u^2v^3xy -4D^-2To^-4Tp^4Tq^2bfr^-2u^2v^3xy -1D^-1To^-4Tp^4Tq^2bfr^-2su^2v^3y +4D^-2To^-4Tp^4Tq^2bfr^-2su^2v^3y -0.5D^-1To^-2Tp^4br^-2su^2v^3y +1D^-1To^-2Tp^2Tq^2br^-2su^2v^3y -1D^-1To^-3Tp^3br^-2su^2v^3y +1D^-1To^-1Tp^3br^-2su^2v^3y +1D^-1To^-3Tp^2Tqbr^-2su^2v^3y -1D^-1To^-3Tp^4Tqbr^-2su^2v^3y +0.5D^-1To^-2Tp^4br^-2u^2v^3xy -1D^-1To^-2Tp^2Tq^2br^-2u^2v^3xy +1D^-1To^-3Tp^3br^-2u^2v^3xy -1D^-1To^-1Tp^3br^-2u^2v^3xy -1D^-1To^-3Tp^2Tqbr^-2u^2v^3xy +1D^-1To^-3Tp^4Tqbr^-2u^2v^3xy -0.5D^-1To^-2Tq^4br^-2su^2v^3y +1D^-1To^-3TpTq^2br^-2su^2v^3y -1D^-1To^-1TpTq^2br^-2su^2v^3y -1D^-1To^-3Tq^3br^-2su^2v^3y +1D^-1To^-3Tp^2Tq^3br^-2su^2v^3y +0.5D^-1To^-2Tq^4br^-2u^2v^3xy -1D^-1To^-3TpTq^2br^-2u^2v^3xy +1D^-1To^-1TpTq^2br^-2u^2v^3xy +1D^-1To^-3Tq^3br^-2u^2v^3xy -1D^-1To^-3Tp^2Tq^3br^-2u^2v^3xy -0.5D^-1To^-4Tp^2br^-2su^2v^3y +1D^-1To^-2Tp^2br^-2su^2v^3y +1D^-1To^-4TpTqbr^-2su^2v^3y -1D^-1To^-4Tp^3Tqbr^-2su^2v^3y +0.5D^-1To^-4Tp^2br^-2u^2v^3xy -1D^-1To^-2Tp^2br^-2u^2v^3xy -1D^-1To^-4TpTqbr^-2u^2v^3xy +1D^-1To^-4Tp^3Tqbr^-2u^2v^3xy -0.5D^-1Tp^2br^-2su^2v^3y -1D^-1To^-2TpTqbr^-2su^2v^3y +1D^-1To^-2Tp^3Tqbr^-2su^2v^3y +0.5D^-1Tp^2br^-2u^2v^3xy +1D^-1To^-2TpTqbr^-2u^2v^3xy -1D^-1To^-2Tp^3Tqbr^-2u^2v^3xy -0.5D^-1To^-4Tq^2br^-2su^2v^3y +1D^-1To^-4Tp^2Tq^2br^-2su^2v^3y +0.5D^-1To^-4Tq^2br^-2u^2v^3xy -1D^-1To^-4Tp^2Tq^2br^-2u^2v^3xy -0.5D^-1To^-4Tp^4Tq^2br^-2su^2v^3y +0.5D^-1To^-4Tp^4Tq^2br^-2u^2v^3xy -1D^-1To^-1Tp^2bfr^-1uvv_ty +1D^-1To^-1Tq^2bfr^-1uvv_ty -1D^-1To^-2Tpbfr^-1uvv_ty +1D^-1Tpbfr^-1uvv_ty +1D^-1To^-2Tqbfr^-1uvv_ty -1D^-1To^-2Tp^2Tqbfr^-1uvv_ty +2D^-2To^-2Tp^4br^-2su^2v^3y -4D^-2To^-2Tp^2Tq^2br^-2su^2v^3y +4D^-2To^-3Tp^3br^-2su^2v^3y -4D^-2To^-1Tp^3br^-2su^2v^3y -4D^-2To^-3Tp^2Tqbr^-2su^2v^3y +4D^-2To^-3Tp^4Tqbr^-2su^2v^3y -2D^-2To^-2Tp^4br^-2u^2v^3xy +4D^-2To^-2Tp^2Tq^2br^-2u^2v^3xy -4D^-2To^-3Tp^3br^-2u^2v^3xy +4D^-2To^-1Tp^3br^-2u^2v^3xy +4D^-2To^-3Tp^2Tqbr^-2u^2v^3xy -4D^-2To^-3Tp^4Tqbr^-2u^2v^3xy +2D^-2To^-2Tq^4br^-2su^2v^3y -4D^-2To^-3TpTq^2br^-2su^2v^3y +4D^-2To^-1TpTq^2br^-2su^2v^3y +4D^-2To^-3Tq^3br^-2su^2v^3y -4D^-2To^-3Tp^2Tq^3br^-2su^2v^3y -2D^-2To^-2Tq^4br^-2u^2v^3xy +4D^-2To^-3TpTq^2br^-2u^2v^3xy -4D^-2To^-1TpTq^2br^-2u^2v^3xy -4D^-2To^-3Tq^3br^-2u^2v^3xy +4D^-2To^-3Tp^2Tq^3br^-2u^2v^3xy +2D^-2To^-4Tp^2br^-2su^2v^3y -4D^-2To^-2Tp^2br^-2su^2v^3y -4D^-2To^-4TpTqbr^-2su^2v^3y +4D^-2To^-4Tp^3Tqbr^-2su^2v^3y -2D^-2To^-4Tp^2br^-2u^2v^3xy +4D^-2To^-2Tp^2br^-2u^2v^3xy +4D^-2To^-4TpTqbr^-2u^2v^3xy -4D^-2To^-4Tp^3Tqbr^-2u^2v^3xy +2D^-2Tp^2br^-2su^2v^3y +4D^-2To^-2TpTqbr^-2su^2v^3y -4D^-2To^-2Tp^3Tqbr^-2su^2v^3y -2D^-2Tp^2br^-2u^2v^3xy -4D^-2To^-2TpTqbr^-2u^2v^3xy +4D^-2To^-2Tp^3Tqbr^-2u^2v^3xy +2D^-2To^-4Tq^2br^-2su^2v^3y -4D^-2To^-4Tp^2Tq^2br^-2su^2v^3y -2D^-2To^-4Tq^2br^-2u^2v^3xy +4D^-2To^-4Tp^2Tq^2br^-2u^2v^3xy +2D^-2To^-4Tp^4Tq^2br^-2su^2v^3y -2D^-2To^-4Tp^4Tq^2br^-2u^2v^3xy +4D^-2To^-1Tp^2bfr^-1uvv_ty -4D^-2To^-1Tq^2bfr^-1uvv_ty +4D^-2To^-2Tpbfr^-1uvv_ty -4D^-2Tpbfr^-1uvv_ty -4D^-2To^-2Tqbfr^-1uvv_ty +4D^-2To^-2Tp^2Tqbfr^-1uvv_ty',\n",
       "  '-0.5D^-1To^-2Tp^2r^-2su^2v^2y +0.5D^-1To^-2Tp^2r^-2u^2v^2xy -0.5D^-1Tp^2r^-2su^2v^2y +0.5D^-1Tp^2r^-2u^2v^2xy -2D^-1To^-1Tpr^-2su^2v^2y +2D^-1To^-1Tpr^-2u^2v^2xy +0.5D^-1To^-1Tp^2r^-3suv^2y -0.5D^-1To^-1Tp^2r^-3uv^2xy +0.5D^-1To^-1Tp^2r^-1uv_ty -1D^-1To^-2Tq^2r^-2su^2v^2y +1D^-1To^-2Tq^2r^-2u^2v^2xy +0.5D^-1Tq^2r^-2su^2v^2y -0.5D^-1Tq^2r^-2u^2v^2xy +2D^-1To^-1Tqr^-2su^2v^2y -2D^-1To^-1Tqr^-2u^2v^2xy -1D^-1To^-1Tq^3r^-2su^2v^2y +1D^-1To^-1Tq^3r^-2u^2v^2xy -0.5D^-1To^-1Tq^2r^-3suv^2y +0.5D^-1To^-1Tq^2r^-3uv^2xy -0.5D^-1To^-1Tq^2r^-1uv_ty +1D^-1To^-3Tpr^-2su^2v^2y -1D^-1To^-3Tpr^-2u^2v^2xy +0.5D^-1To^-2Tpr^-3suv^2y -0.5D^-1To^-2Tpr^-3uv^2xy +0.5D^-1To^-2Tpr^-1uv_ty +0.5D^-1r^-2su^2v^2y -0.5D^-1r^-2u^2v^2xy -0.5D^-1Tpr^-3suv^2y +0.5D^-1Tpr^-3uv^2xy -0.5D^-1Tpr^-1uv_ty -1D^-1To^-3Tqr^-2su^2v^2y +1D^-1To^-3Tqr^-2u^2v^2xy -0.5D^-1To^-2Tqr^-3suv^2y +0.5D^-1To^-2Tqr^-3uv^2xy -0.5D^-1To^-2Tqr^-1uv_ty -1D^-1To^-1Tp^2Tqr^-2su^2v^2y +1D^-1To^-1Tp^2Tqr^-2u^2v^2xy -0.5D^-1To^-2Tp^2Tq^2r^-2su^2v^2y +0.5D^-1To^-2Tp^2Tq^2r^-2u^2v^2xy +0.5D^-1To^-2Tp^2Tqr^-3suv^2y -0.5D^-1To^-2Tp^2Tqr^-3uv^2xy +0.5D^-1To^-2Tp^2Tqr^-1uv_ty -1D^-1To^-2Tp^2fr^-2u^2v^2xy +1D^-1To^-2Tp^2fr^-2su^2v^2y +2D^-1Tp^2fr^-2u^2v^2xy -2D^-1Tp^2fr^-2su^2v^2y +4D^-1To^-1Tpfr^-2u^2v^2xy -4D^-1To^-1Tpfr^-2su^2v^2y -2D^-1To^-1Tp^3fr^-2u^2v^2xy +2D^-1To^-1Tp^3fr^-2su^2v^2y -0.5D^-1To^-2Tp^4r^-2u^2v^2xy +0.5D^-1To^-2Tp^4r^-2su^2v^2y -1D^-1To^-3Tp^3r^-2u^2v^2xy +1D^-1To^-3Tp^3r^-2su^2v^2y -1D^-1To^-3Tp^4Tqr^-2u^2v^2xy +1D^-1To^-3Tp^4Tqr^-2su^2v^2y -1D^-1To^-1Tp^2fr^-3uv^2xy +1D^-1To^-1Tp^2fr^-3suv^2y +2D^-1To^-2Tq^2fr^-2u^2v^2xy -2D^-1To^-2Tq^2fr^-2su^2v^2y -1D^-1Tq^2fr^-2u^2v^2xy +1D^-1Tq^2fr^-2su^2v^2y -4D^-1To^-1Tqfr^-2u^2v^2xy +4D^-1To^-1Tqfr^-2su^2v^2y +2D^-1To^-1Tq^3fr^-2u^2v^2xy -2D^-1To^-1Tq^3fr^-2su^2v^2y -0.5D^-1To^-2Tq^4r^-2u^2v^2xy +0.5D^-1To^-2Tq^4r^-2su^2v^2y +1D^-1To^-3TpTq^2r^-2u^2v^2xy -1D^-1To^-3TpTq^2r^-2su^2v^2y -1D^-1To^-1TpTq^2r^-2u^2v^2xy +1D^-1To^-1TpTq^2r^-2su^2v^2y -1D^-1To^-3Tq^3r^-2u^2v^2xy +1D^-1To^-3Tq^3r^-2su^2v^2y +1D^-1To^-3Tp^2Tq^3r^-2u^2v^2xy -1D^-1To^-3Tp^2Tq^3r^-2su^2v^2y +1D^-1To^-1Tq^2fr^-3uv^2xy -1D^-1To^-1Tq^2fr^-3suv^2y -2D^-1To^-3Tpfr^-2u^2v^2xy +2D^-1To^-3Tpfr^-2su^2v^2y -0.5D^-1To^-4Tp^2r^-2u^2v^2xy +0.5D^-1To^-4Tp^2r^-2su^2v^2y +1D^-1To^-4TpTqr^-2u^2v^2xy -1D^-1To^-4TpTqr^-2su^2v^2y -1D^-1To^-4Tp^3Tqr^-2u^2v^2xy +1D^-1To^-4Tp^3Tqr^-2su^2v^2y -1D^-1To^-2Tpfr^-3uv^2xy +1D^-1To^-2Tpfr^-3suv^2y -1D^-1fr^-2u^2v^2xy +1D^-1fr^-2su^2v^2y +1D^-1Tpfr^-3uv^2xy -1D^-1Tpfr^-3suv^2y +2D^-1To^-3Tqfr^-2u^2v^2xy -2D^-1To^-3Tqfr^-2su^2v^2y -0.5D^-1To^-4Tq^2r^-2u^2v^2xy +0.5D^-1To^-4Tq^2r^-2su^2v^2y +1D^-1To^-4Tp^2Tq^2r^-2u^2v^2xy -1D^-1To^-4Tp^2Tq^2r^-2su^2v^2y +1D^-1To^-2Tqfr^-3uv^2xy -1D^-1To^-2Tqfr^-3suv^2y -2D^-1To^-3Tp^2Tqfr^-2u^2v^2xy +2D^-1To^-3Tp^2Tqfr^-2su^2v^2y +2D^-1To^-1Tp^2Tqfr^-2u^2v^2xy -2D^-1To^-1Tp^2Tqfr^-2su^2v^2y +2D^-1To^-2TpTqfr^-2u^2v^2xy -2D^-1To^-2TpTqfr^-2su^2v^2y -2D^-1To^-2Tp^3Tqfr^-2u^2v^2xy +2D^-1To^-2Tp^3Tqfr^-2su^2v^2y -1D^-1To^-2Tp^2Tq^2fr^-2u^2v^2xy +1D^-1To^-2Tp^2Tq^2fr^-2su^2v^2y -0.5D^-1To^-4Tp^4Tq^2r^-2u^2v^2xy +0.5D^-1To^-4Tp^4Tq^2r^-2su^2v^2y -1D^-1To^-2Tp^2Tqfr^-3uv^2xy +1D^-1To^-2Tp^2Tqfr^-3suv^2y +1D^-2To^-2Tp^4fr^-2su^2v^4y -2D^-2To^-2Tp^2Tq^2fr^-2su^2v^4y +2D^-2To^-3Tp^3fr^-2su^2v^4y -2D^-2To^-1Tp^3fr^-2su^2v^4y -2D^-2To^-3Tp^2Tqfr^-2su^2v^4y +2D^-2To^-3Tp^4Tqfr^-2su^2v^4y -1D^-2To^-2Tp^4fr^-2u^2v^4xy +2D^-2To^-2Tp^2Tq^2fr^-2u^2v^4xy -2D^-2To^-3Tp^3fr^-2u^2v^4xy +2D^-2To^-1Tp^3fr^-2u^2v^4xy +2D^-2To^-3Tp^2Tqfr^-2u^2v^4xy -2D^-2To^-3Tp^4Tqfr^-2u^2v^4xy +1D^-2To^-2Tq^4fr^-2su^2v^4y -2D^-2To^-3TpTq^2fr^-2su^2v^4y +2D^-2To^-1TpTq^2fr^-2su^2v^4y +2D^-2To^-3Tq^3fr^-2su^2v^4y -2D^-2To^-3Tp^2Tq^3fr^-2su^2v^4y -1D^-2To^-2Tq^4fr^-2u^2v^4xy +2D^-2To^-3TpTq^2fr^-2u^2v^4xy -2D^-2To^-1TpTq^2fr^-2u^2v^4xy -2D^-2To^-3Tq^3fr^-2u^2v^4xy +2D^-2To^-3Tp^2Tq^3fr^-2u^2v^4xy +1D^-2To^-4Tp^2fr^-2su^2v^4y -2D^-2To^-2Tp^2fr^-2su^2v^4y -2D^-2To^-4TpTqfr^-2su^2v^4y +2D^-2To^-4Tp^3Tqfr^-2su^2v^4y -1D^-2To^-4Tp^2fr^-2u^2v^4xy +2D^-2To^-2Tp^2fr^-2u^2v^4xy +2D^-2To^-4TpTqfr^-2u^2v^4xy -2D^-2To^-4Tp^3Tqfr^-2u^2v^4xy +1D^-2Tp^2fr^-2su^2v^4y +2D^-2To^-2TpTqfr^-2su^2v^4y -2D^-2To^-2Tp^3Tqfr^-2su^2v^4y -1D^-2Tp^2fr^-2u^2v^4xy -2D^-2To^-2TpTqfr^-2u^2v^4xy +2D^-2To^-2Tp^3Tqfr^-2u^2v^4xy +1D^-2To^-4Tq^2fr^-2su^2v^4y -2D^-2To^-4Tp^2Tq^2fr^-2su^2v^4y -1D^-2To^-4Tq^2fr^-2u^2v^4xy +2D^-2To^-4Tp^2Tq^2fr^-2u^2v^4xy +1D^-2To^-4Tp^4Tq^2fr^-2su^2v^4y -1D^-2To^-4Tp^4Tq^2fr^-2u^2v^4xy +2D^-2To^-1Tp^2f^2r^-1uv^2v_ty -2D^-2To^-1Tq^2f^2r^-1uv^2v_ty +2D^-2To^-2Tpf^2r^-1uv^2v_ty -2D^-2Tpf^2r^-1uv^2v_ty -2D^-2To^-2Tqf^2r^-1uv^2v_ty +2D^-2To^-2Tp^2Tqf^2r^-1uv^2v_ty -0.5D^-1To^-2Tp^4br^-2u^2v^2xy +1D^-1To^-2Tp^2Tq^2br^-2u^2v^2xy -1D^-1To^-3Tp^3br^-2u^2v^2xy +1D^-1To^-1Tp^3br^-2u^2v^2xy +1D^-1To^-3Tp^2Tqbr^-2u^2v^2xy -1D^-1To^-3Tp^4Tqbr^-2u^2v^2xy +2D^-2To^-2Tp^4br^-2u^2v^2xy -4D^-2To^-2Tp^2Tq^2br^-2u^2v^2xy +4D^-2To^-3Tp^3br^-2u^2v^2xy -4D^-2To^-1Tp^3br^-2u^2v^2xy -4D^-2To^-3Tp^2Tqbr^-2u^2v^2xy +4D^-2To^-3Tp^4Tqbr^-2u^2v^2xy +0.5D^-1To^-2Tp^4br^-2su^2v^2y -1D^-1To^-2Tp^2Tq^2br^-2su^2v^2y +1D^-1To^-3Tp^3br^-2su^2v^2y -1D^-1To^-1Tp^3br^-2su^2v^2y -1D^-1To^-3Tp^2Tqbr^-2su^2v^2y +1D^-1To^-3Tp^4Tqbr^-2su^2v^2y -2D^-2To^-2Tp^4br^-2su^2v^2y +4D^-2To^-2Tp^2Tq^2br^-2su^2v^2y -4D^-2To^-3Tp^3br^-2su^2v^2y +4D^-2To^-1Tp^3br^-2su^2v^2y +4D^-2To^-3Tp^2Tqbr^-2su^2v^2y -4D^-2To^-3Tp^4Tqbr^-2su^2v^2y -0.5D^-1To^-2Tq^4br^-2u^2v^2xy +1D^-1To^-3TpTq^2br^-2u^2v^2xy -1D^-1To^-1TpTq^2br^-2u^2v^2xy -1D^-1To^-3Tq^3br^-2u^2v^2xy +1D^-1To^-3Tp^2Tq^3br^-2u^2v^2xy +2D^-2To^-2Tq^4br^-2u^2v^2xy -4D^-2To^-3TpTq^2br^-2u^2v^2xy +4D^-2To^-1TpTq^2br^-2u^2v^2xy +4D^-2To^-3Tq^3br^-2u^2v^2xy -4D^-2To^-3Tp^2Tq^3br^-2u^2v^2xy +0.5D^-1To^-2Tq^4br^-2su^2v^2y -1D^-1To^-3TpTq^2br^-2su^2v^2y +1D^-1To^-1TpTq^2br^-2su^2v^2y +1D^-1To^-3Tq^3br^-2su^2v^2y -1D^-1To^-3Tp^2Tq^3br^-2su^2v^2y -2D^-2To^-2Tq^4br^-2su^2v^2y +4D^-2To^-3TpTq^2br^-2su^2v^2y -4D^-2To^-1TpTq^2br^-2su^2v^2y -4D^-2To^-3Tq^3br^-2su^2v^2y +4D^-2To^-3Tp^2Tq^3br^-2su^2v^2y -0.5D^-1To^-4Tp^2br^-2u^2v^2xy +1D^-1To^-2Tp^2br^-2u^2v^2xy +1D^-1To^-4TpTqbr^-2u^2v^2xy -1D^-1To^-4Tp^3Tqbr^-2u^2v^2xy +2D^-2To^-4Tp^2br^-2u^2v^2xy -4D^-2To^-2Tp^2br^-2u^2v^2xy -4D^-2To^-4TpTqbr^-2u^2v^2xy +4D^-2To^-4Tp^3Tqbr^-2u^2v^2xy +0.5D^-1To^-4Tp^2br^-2su^2v^2y -1D^-1To^-2Tp^2br^-2su^2v^2y -1D^-1To^-4TpTqbr^-2su^2v^2y +1D^-1To^-4Tp^3Tqbr^-2su^2v^2y -2D^-2To^-4Tp^2br^-2su^2v^2y +4D^-2To^-2Tp^2br^-2su^2v^2y +4D^-2To^-4TpTqbr^-2su^2v^2y -4D^-2To^-4Tp^3Tqbr^-2su^2v^2y -0.5D^-1Tp^2br^-2u^2v^2xy -1D^-1To^-2TpTqbr^-2u^2v^2xy +1D^-1To^-2Tp^3Tqbr^-2u^2v^2xy +2D^-2Tp^2br^-2u^2v^2xy +4D^-2To^-2TpTqbr^-2u^2v^2xy -4D^-2To^-2Tp^3Tqbr^-2u^2v^2xy +0.5D^-1Tp^2br^-2su^2v^2y +1D^-1To^-2TpTqbr^-2su^2v^2y -1D^-1To^-2Tp^3Tqbr^-2su^2v^2y -2D^-2Tp^2br^-2su^2v^2y -4D^-2To^-2TpTqbr^-2su^2v^2y +4D^-2To^-2Tp^3Tqbr^-2su^2v^2y -0.5D^-1To^-4Tq^2br^-2u^2v^2xy +1D^-1To^-4Tp^2Tq^2br^-2u^2v^2xy +2D^-2To^-4Tq^2br^-2u^2v^2xy -4D^-2To^-4Tp^2Tq^2br^-2u^2v^2xy +0.5D^-1To^-4Tq^2br^-2su^2v^2y -1D^-1To^-4Tp^2Tq^2br^-2su^2v^2y -2D^-2To^-4Tq^2br^-2su^2v^2y +4D^-2To^-4Tp^2Tq^2br^-2su^2v^2y -0.5D^-1To^-4Tp^4Tq^2br^-2u^2v^2xy +2D^-2To^-4Tp^4Tq^2br^-2u^2v^2xy +0.5D^-1To^-4Tp^4Tq^2br^-2su^2v^2y -2D^-2To^-4Tp^4Tq^2br^-2su^2v^2y',\n",
       "  '-2D^-1To^-2Tp^2fr^-2u^2v^2y^2 +4D^-1Tp^2fr^-2u^2v^2y^2 +8D^-1To^-1Tpfr^-2u^2v^2y^2 -4D^-1To^-1Tp^3fr^-2u^2v^2y^2 -1D^-1To^-2Tp^4r^-2u^2v^2y^2 +2D^-1To^-2Tp^2Tq^2r^-2u^2v^2y^2 -2D^-1To^-3Tp^3r^-2u^2v^2y^2 +2D^-1To^-1Tp^3r^-2u^2v^2y^2 +2D^-1To^-3Tp^2Tqr^-2u^2v^2y^2 -2D^-1To^-3Tp^4Tqr^-2u^2v^2y^2 -2D^-1To^-1Tp^2fr^-3uv^2y^2 -2D^-1To^-1Tp^2fr^-1uv^2 +4D^-1To^-2Tq^2fr^-2u^2v^2y^2 -2D^-1Tq^2fr^-2u^2v^2y^2 -8D^-1To^-1Tqfr^-2u^2v^2y^2 +4D^-1To^-1Tq^3fr^-2u^2v^2y^2 -1D^-1To^-2Tq^4r^-2u^2v^2y^2 +2D^-1To^-3TpTq^2r^-2u^2v^2y^2 -2D^-1To^-1TpTq^2r^-2u^2v^2y^2 -2D^-1To^-3Tq^3r^-2u^2v^2y^2 +2D^-1To^-3Tp^2Tq^3r^-2u^2v^2y^2 +2D^-1To^-1Tq^2fr^-3uv^2y^2 +2D^-1To^-1Tq^2fr^-1uv^2 -4D^-1To^-3Tpfr^-2u^2v^2y^2 -1D^-1To^-4Tp^2r^-2u^2v^2y^2 +2D^-1To^-2Tp^2r^-2u^2v^2y^2 +2D^-1To^-4TpTqr^-2u^2v^2y^2 -2D^-1To^-4Tp^3Tqr^-2u^2v^2y^2 -2D^-1To^-2Tpfr^-3uv^2y^2 -2D^-1To^-2Tpfr^-1uv^2 -2D^-1fr^-2u^2v^2y^2 -1D^-1Tp^2r^-2u^2v^2y^2 -2D^-1To^-2TpTqr^-2u^2v^2y^2 +2D^-1To^-2Tp^3Tqr^-2u^2v^2y^2 +2D^-1Tpfr^-3uv^2y^2 +2D^-1Tpfr^-1uv^2 +4D^-1To^-3Tqfr^-2u^2v^2y^2 -1D^-1To^-4Tq^2r^-2u^2v^2y^2 +2D^-1To^-4Tp^2Tq^2r^-2u^2v^2y^2 +2D^-1To^-2Tqfr^-3uv^2y^2 +2D^-1To^-2Tqfr^-1uv^2 -4D^-1To^-3Tp^2Tqfr^-2u^2v^2y^2 +4D^-1To^-1Tp^2Tqfr^-2u^2v^2y^2 +4D^-1To^-2TpTqfr^-2u^2v^2y^2 -4D^-1To^-2Tp^3Tqfr^-2u^2v^2y^2 -2D^-1To^-2Tp^2Tq^2fr^-2u^2v^2y^2 -1D^-1To^-4Tp^4Tq^2r^-2u^2v^2y^2 -2D^-1To^-2Tp^2Tqfr^-3uv^2y^2 -2D^-1To^-2Tp^2Tqfr^-1uv^2 -2D^-2To^-2Tp^4f^2r^-2u^2v^4y^2 +4D^-2To^-2Tp^2Tq^2f^2r^-2u^2v^4y^2 -4D^-2To^-3Tp^3f^2r^-2u^2v^4y^2 +4D^-2To^-1Tp^3f^2r^-2u^2v^4y^2 +4D^-2To^-3Tp^2Tqf^2r^-2u^2v^4y^2 -4D^-2To^-3Tp^4Tqf^2r^-2u^2v^4y^2 -2D^-2To^-2Tq^4f^2r^-2u^2v^4y^2 +4D^-2To^-3TpTq^2f^2r^-2u^2v^4y^2 -4D^-2To^-1TpTq^2f^2r^-2u^2v^4y^2 -4D^-2To^-3Tq^3f^2r^-2u^2v^4y^2 +4D^-2To^-3Tp^2Tq^3f^2r^-2u^2v^4y^2 -2D^-2To^-4Tp^2f^2r^-2u^2v^4y^2 +4D^-2To^-2Tp^2f^2r^-2u^2v^4y^2 +4D^-2To^-4TpTqf^2r^-2u^2v^4y^2 -4D^-2To^-4Tp^3Tqf^2r^-2u^2v^4y^2 -2D^-2Tp^2f^2r^-2u^2v^4y^2 -4D^-2To^-2TpTqf^2r^-2u^2v^4y^2 +4D^-2To^-2Tp^3Tqf^2r^-2u^2v^4y^2 -2D^-2To^-4Tq^2f^2r^-2u^2v^4y^2 +4D^-2To^-4Tp^2Tq^2f^2r^-2u^2v^4y^2 -2D^-2To^-4Tp^4Tq^2f^2r^-2u^2v^4y^2 -0.5D^-1To^-2Tp^4br^-2u^2v^2y^2 +1D^-1To^-2Tp^2Tq^2br^-2u^2v^2y^2 -1D^-1To^-3Tp^3br^-2u^2v^2y^2 +1D^-1To^-1Tp^3br^-2u^2v^2y^2 +1D^-1To^-3Tp^2Tqbr^-2u^2v^2y^2 -1D^-1To^-3Tp^4Tqbr^-2u^2v^2y^2 -0.5D^-1To^-2Tq^4br^-2u^2v^2y^2 +1D^-1To^-3TpTq^2br^-2u^2v^2y^2 -1D^-1To^-1TpTq^2br^-2u^2v^2y^2 -1D^-1To^-3Tq^3br^-2u^2v^2y^2 +1D^-1To^-3Tp^2Tq^3br^-2u^2v^2y^2 -0.5D^-1To^-4Tp^2br^-2u^2v^2y^2 +1D^-1To^-2Tp^2br^-2u^2v^2y^2 +1D^-1To^-4TpTqbr^-2u^2v^2y^2 -1D^-1To^-4Tp^3Tqbr^-2u^2v^2y^2 -0.5D^-1Tp^2br^-2u^2v^2y^2 -1D^-1To^-2TpTqbr^-2u^2v^2y^2 +1D^-1To^-2Tp^3Tqbr^-2u^2v^2y^2 -0.5D^-1To^-4Tq^2br^-2u^2v^2y^2 +1D^-1To^-4Tp^2Tq^2br^-2u^2v^2y^2 -0.5D^-1To^-4Tp^4Tq^2br^-2u^2v^2y^2 +2D^-2To^-2Tp^4br^-2u^2v^2y^2 -4D^-2To^-2Tp^2Tq^2br^-2u^2v^2y^2 +4D^-2To^-3Tp^3br^-2u^2v^2y^2 -4D^-2To^-1Tp^3br^-2u^2v^2y^2 -4D^-2To^-3Tp^2Tqbr^-2u^2v^2y^2 +4D^-2To^-3Tp^4Tqbr^-2u^2v^2y^2 +2D^-2To^-2Tq^4br^-2u^2v^2y^2 -4D^-2To^-3TpTq^2br^-2u^2v^2y^2 +4D^-2To^-1TpTq^2br^-2u^2v^2y^2 +4D^-2To^-3Tq^3br^-2u^2v^2y^2 -4D^-2To^-3Tp^2Tq^3br^-2u^2v^2y^2 +2D^-2To^-4Tp^2br^-2u^2v^2y^2 -4D^-2To^-2Tp^2br^-2u^2v^2y^2 -4D^-2To^-4TpTqbr^-2u^2v^2y^2 +4D^-2To^-4Tp^3Tqbr^-2u^2v^2y^2 +2D^-2Tp^2br^-2u^2v^2y^2 +4D^-2To^-2TpTqbr^-2u^2v^2y^2 -4D^-2To^-2Tp^3Tqbr^-2u^2v^2y^2 +2D^-2To^-4Tq^2br^-2u^2v^2y^2 -4D^-2To^-4Tp^2Tq^2br^-2u^2v^2y^2 +2D^-2To^-4Tp^4Tq^2br^-2u^2v^2y^2',\n",
       "  '-2D^-1To^-2Tp^2fr^-2u^2v^2yz +4D^-1Tp^2fr^-2u^2v^2yz +8D^-1To^-1Tpfr^-2u^2v^2yz -4D^-1To^-1Tp^3fr^-2u^2v^2yz -1D^-1To^-2Tp^4r^-2u^2v^2yz +2D^-1To^-2Tp^2Tq^2r^-2u^2v^2yz -2D^-1To^-3Tp^3r^-2u^2v^2yz +2D^-1To^-1Tp^3r^-2u^2v^2yz +2D^-1To^-3Tp^2Tqr^-2u^2v^2yz -2D^-1To^-3Tp^4Tqr^-2u^2v^2yz -2D^-1To^-1Tp^2fr^-3uv^2yz +4D^-1To^-2Tq^2fr^-2u^2v^2yz -2D^-1Tq^2fr^-2u^2v^2yz -8D^-1To^-1Tqfr^-2u^2v^2yz +4D^-1To^-1Tq^3fr^-2u^2v^2yz -1D^-1To^-2Tq^4r^-2u^2v^2yz +2D^-1To^-3TpTq^2r^-2u^2v^2yz -2D^-1To^-1TpTq^2r^-2u^2v^2yz -2D^-1To^-3Tq^3r^-2u^2v^2yz +2D^-1To^-3Tp^2Tq^3r^-2u^2v^2yz +2D^-1To^-1Tq^2fr^-3uv^2yz -4D^-1To^-3Tpfr^-2u^2v^2yz -1D^-1To^-4Tp^2r^-2u^2v^2yz +2D^-1To^-2Tp^2r^-2u^2v^2yz +2D^-1To^-4TpTqr^-2u^2v^2yz -2D^-1To^-4Tp^3Tqr^-2u^2v^2yz -2D^-1To^-2Tpfr^-3uv^2yz -2D^-1fr^-2u^2v^2yz -1D^-1Tp^2r^-2u^2v^2yz -2D^-1To^-2TpTqr^-2u^2v^2yz +2D^-1To^-2Tp^3Tqr^-2u^2v^2yz +2D^-1Tpfr^-3uv^2yz +4D^-1To^-3Tqfr^-2u^2v^2yz -1D^-1To^-4Tq^2r^-2u^2v^2yz +2D^-1To^-4Tp^2Tq^2r^-2u^2v^2yz +2D^-1To^-2Tqfr^-3uv^2yz -4D^-1To^-3Tp^2Tqfr^-2u^2v^2yz +4D^-1To^-1Tp^2Tqfr^-2u^2v^2yz +4D^-1To^-2TpTqfr^-2u^2v^2yz -4D^-1To^-2Tp^3Tqfr^-2u^2v^2yz -2D^-1To^-2Tp^2Tq^2fr^-2u^2v^2yz -1D^-1To^-4Tp^4Tq^2r^-2u^2v^2yz -2D^-1To^-2Tp^2Tqfr^-3uv^2yz -2D^-2To^-2Tp^4f^2r^-2u^2v^4yz +4D^-2To^-2Tp^2Tq^2f^2r^-2u^2v^4yz -4D^-2To^-3Tp^3f^2r^-2u^2v^4yz +4D^-2To^-1Tp^3f^2r^-2u^2v^4yz +4D^-2To^-3Tp^2Tqf^2r^-2u^2v^4yz -4D^-2To^-3Tp^4Tqf^2r^-2u^2v^4yz -2D^-2To^-2Tq^4f^2r^-2u^2v^4yz +4D^-2To^-3TpTq^2f^2r^-2u^2v^4yz -4D^-2To^-1TpTq^2f^2r^-2u^2v^4yz -4D^-2To^-3Tq^3f^2r^-2u^2v^4yz +4D^-2To^-3Tp^2Tq^3f^2r^-2u^2v^4yz -2D^-2To^-4Tp^2f^2r^-2u^2v^4yz +4D^-2To^-2Tp^2f^2r^-2u^2v^4yz +4D^-2To^-4TpTqf^2r^-2u^2v^4yz -4D^-2To^-4Tp^3Tqf^2r^-2u^2v^4yz -2D^-2Tp^2f^2r^-2u^2v^4yz -4D^-2To^-2TpTqf^2r^-2u^2v^4yz +4D^-2To^-2Tp^3Tqf^2r^-2u^2v^4yz -2D^-2To^-4Tq^2f^2r^-2u^2v^4yz +4D^-2To^-4Tp^2Tq^2f^2r^-2u^2v^4yz -2D^-2To^-4Tp^4Tq^2f^2r^-2u^2v^4yz -0.5D^-1To^-2Tp^4br^-2u^2v^2yz +1D^-1To^-2Tp^2Tq^2br^-2u^2v^2yz -1D^-1To^-3Tp^3br^-2u^2v^2yz +1D^-1To^-1Tp^3br^-2u^2v^2yz +1D^-1To^-3Tp^2Tqbr^-2u^2v^2yz -1D^-1To^-3Tp^4Tqbr^-2u^2v^2yz -0.5D^-1To^-2Tq^4br^-2u^2v^2yz +1D^-1To^-3TpTq^2br^-2u^2v^2yz -1D^-1To^-1TpTq^2br^-2u^2v^2yz -1D^-1To^-3Tq^3br^-2u^2v^2yz +1D^-1To^-3Tp^2Tq^3br^-2u^2v^2yz -0.5D^-1To^-4Tp^2br^-2u^2v^2yz +1D^-1To^-2Tp^2br^-2u^2v^2yz +1D^-1To^-4TpTqbr^-2u^2v^2yz -1D^-1To^-4Tp^3Tqbr^-2u^2v^2yz -0.5D^-1Tp^2br^-2u^2v^2yz -1D^-1To^-2TpTqbr^-2u^2v^2yz +1D^-1To^-2Tp^3Tqbr^-2u^2v^2yz -0.5D^-1To^-4Tq^2br^-2u^2v^2yz +1D^-1To^-4Tp^2Tq^2br^-2u^2v^2yz -0.5D^-1To^-4Tp^4Tq^2br^-2u^2v^2yz +2D^-2To^-2Tp^4br^-2u^2v^2yz -4D^-2To^-2Tp^2Tq^2br^-2u^2v^2yz +4D^-2To^-3Tp^3br^-2u^2v^2yz -4D^-2To^-1Tp^3br^-2u^2v^2yz -4D^-2To^-3Tp^2Tqbr^-2u^2v^2yz +4D^-2To^-3Tp^4Tqbr^-2u^2v^2yz +2D^-2To^-2Tq^4br^-2u^2v^2yz -4D^-2To^-3TpTq^2br^-2u^2v^2yz +4D^-2To^-1TpTq^2br^-2u^2v^2yz +4D^-2To^-3Tq^3br^-2u^2v^2yz -4D^-2To^-3Tp^2Tq^3br^-2u^2v^2yz +2D^-2To^-4Tp^2br^-2u^2v^2yz -4D^-2To^-2Tp^2br^-2u^2v^2yz -4D^-2To^-4TpTqbr^-2u^2v^2yz +4D^-2To^-4Tp^3Tqbr^-2u^2v^2yz +2D^-2Tp^2br^-2u^2v^2yz +4D^-2To^-2TpTqbr^-2u^2v^2yz -4D^-2To^-2Tp^3Tqbr^-2u^2v^2yz +2D^-2To^-4Tq^2br^-2u^2v^2yz -4D^-2To^-4Tp^2Tq^2br^-2u^2v^2yz +2D^-2To^-4Tp^4Tq^2br^-2u^2v^2yz'],\n",
       " ['-1D^-1To^-2Tp^2fr^-2su^2v^3z +1D^-1To^-2Tp^2fr^-2u^2v^3xz +2D^-1Tp^2fr^-2su^2v^3z -2D^-1Tp^2fr^-2u^2v^3xz +4D^-1To^-1Tpfr^-2su^2v^3z -4D^-1To^-1Tpfr^-2u^2v^3xz -2D^-1To^-1Tp^3fr^-2su^2v^3z +2D^-1To^-1Tp^3fr^-2u^2v^3xz -0.5D^-1To^-2Tp^4r^-2su^2v^3z +0.5D^-1To^-2Tp^4r^-2u^2v^3xz +1D^-1To^-2Tp^2Tq^2r^-2su^2v^3z -1D^-1To^-2Tp^2Tq^2r^-2u^2v^3xz -1D^-1To^-3Tp^3r^-2su^2v^3z +1D^-1To^-3Tp^3r^-2u^2v^3xz +1D^-1To^-1Tp^3r^-2su^2v^3z -1D^-1To^-1Tp^3r^-2u^2v^3xz +1D^-1To^-3Tp^2Tqr^-2su^2v^3z -1D^-1To^-3Tp^2Tqr^-2u^2v^3xz -1D^-1To^-3Tp^4Tqr^-2su^2v^3z +1D^-1To^-3Tp^4Tqr^-2u^2v^3xz -1D^-1To^-1Tp^2fr^-3suv^3z +1D^-1To^-1Tp^2fr^-3uv^3xz -2D^-1To^-1Tp^2fr^-1uvv_tz +2D^-1To^-2Tq^2fr^-2su^2v^3z -2D^-1To^-2Tq^2fr^-2u^2v^3xz -1D^-1Tq^2fr^-2su^2v^3z +1D^-1Tq^2fr^-2u^2v^3xz -4D^-1To^-1Tqfr^-2su^2v^3z +4D^-1To^-1Tqfr^-2u^2v^3xz +2D^-1To^-1Tq^3fr^-2su^2v^3z -2D^-1To^-1Tq^3fr^-2u^2v^3xz -0.5D^-1To^-2Tq^4r^-2su^2v^3z +0.5D^-1To^-2Tq^4r^-2u^2v^3xz +1D^-1To^-3TpTq^2r^-2su^2v^3z -1D^-1To^-3TpTq^2r^-2u^2v^3xz -1D^-1To^-1TpTq^2r^-2su^2v^3z +1D^-1To^-1TpTq^2r^-2u^2v^3xz -1D^-1To^-3Tq^3r^-2su^2v^3z +1D^-1To^-3Tq^3r^-2u^2v^3xz +1D^-1To^-3Tp^2Tq^3r^-2su^2v^3z -1D^-1To^-3Tp^2Tq^3r^-2u^2v^3xz +1D^-1To^-1Tq^2fr^-3suv^3z -1D^-1To^-1Tq^2fr^-3uv^3xz +2D^-1To^-1Tq^2fr^-1uvv_tz -2D^-1To^-3Tpfr^-2su^2v^3z +2D^-1To^-3Tpfr^-2u^2v^3xz -0.5D^-1To^-4Tp^2r^-2su^2v^3z +0.5D^-1To^-4Tp^2r^-2u^2v^3xz +1D^-1To^-2Tp^2r^-2su^2v^3z -1D^-1To^-2Tp^2r^-2u^2v^3xz +1D^-1To^-4TpTqr^-2su^2v^3z -1D^-1To^-4TpTqr^-2u^2v^3xz -1D^-1To^-4Tp^3Tqr^-2su^2v^3z +1D^-1To^-4Tp^3Tqr^-2u^2v^3xz -1D^-1To^-2Tpfr^-3suv^3z +1D^-1To^-2Tpfr^-3uv^3xz -2D^-1To^-2Tpfr^-1uvv_tz -1D^-1fr^-2su^2v^3z +1D^-1fr^-2u^2v^3xz -0.5D^-1Tp^2r^-2su^2v^3z +0.5D^-1Tp^2r^-2u^2v^3xz -1D^-1To^-2TpTqr^-2su^2v^3z +1D^-1To^-2TpTqr^-2u^2v^3xz +1D^-1To^-2Tp^3Tqr^-2su^2v^3z -1D^-1To^-2Tp^3Tqr^-2u^2v^3xz +1D^-1Tpfr^-3suv^3z -1D^-1Tpfr^-3uv^3xz +2D^-1Tpfr^-1uvv_tz +2D^-1To^-3Tqfr^-2su^2v^3z -2D^-1To^-3Tqfr^-2u^2v^3xz -0.5D^-1To^-4Tq^2r^-2su^2v^3z +0.5D^-1To^-4Tq^2r^-2u^2v^3xz +1D^-1To^-4Tp^2Tq^2r^-2su^2v^3z -1D^-1To^-4Tp^2Tq^2r^-2u^2v^3xz +1D^-1To^-2Tqfr^-3suv^3z -1D^-1To^-2Tqfr^-3uv^3xz +2D^-1To^-2Tqfr^-1uvv_tz -2D^-1To^-3Tp^2Tqfr^-2su^2v^3z +2D^-1To^-3Tp^2Tqfr^-2u^2v^3xz +2D^-1To^-1Tp^2Tqfr^-2su^2v^3z -2D^-1To^-1Tp^2Tqfr^-2u^2v^3xz +2D^-1To^-2TpTqfr^-2su^2v^3z -2D^-1To^-2TpTqfr^-2u^2v^3xz -2D^-1To^-2Tp^3Tqfr^-2su^2v^3z +2D^-1To^-2Tp^3Tqfr^-2u^2v^3xz -1D^-1To^-2Tp^2Tq^2fr^-2su^2v^3z +1D^-1To^-2Tp^2Tq^2fr^-2u^2v^3xz -0.5D^-1To^-4Tp^4Tq^2r^-2su^2v^3z +0.5D^-1To^-4Tp^4Tq^2r^-2u^2v^3xz -1D^-1To^-2Tp^2Tqfr^-3suv^3z +1D^-1To^-2Tp^2Tqfr^-3uv^3xz -2D^-1To^-2Tp^2Tqfr^-1uvv_tz +0.5To^-2Tp^2br^-2u^2vxz -0.5To^-2Tp^2br^-2su^2vz -1Tp^2br^-2u^2vxz +1Tp^2br^-2su^2vz -2To^-1Tpbr^-2u^2vxz +2To^-1Tpbr^-2su^2vz +1To^-1Tp^3br^-2u^2vxz -1To^-1Tp^3br^-2su^2vz +0.5To^-1Tp^2br^-3uvxz -0.5To^-1Tp^2br^-3suvz -1To^-2Tq^2br^-2u^2vxz +1To^-2Tq^2br^-2su^2vz +0.5Tq^2br^-2u^2vxz -0.5Tq^2br^-2su^2vz +2To^-1Tqbr^-2u^2vxz -2To^-1Tqbr^-2su^2vz -1To^-1Tq^3br^-2u^2vxz +1To^-1Tq^3br^-2su^2vz -0.5To^-1Tq^2br^-3uvxz +0.5To^-1Tq^2br^-3suvz +1To^-3Tpbr^-2u^2vxz -1To^-3Tpbr^-2su^2vz +0.5To^-2Tpbr^-3uvxz -0.5To^-2Tpbr^-3suvz +0.5br^-2u^2vxz -0.5br^-2su^2vz -0.5Tpbr^-3uvxz +0.5Tpbr^-3suvz -1To^-3Tqbr^-2u^2vxz +1To^-3Tqbr^-2su^2vz -0.5To^-2Tqbr^-3uvxz +0.5To^-2Tqbr^-3suvz +1To^-3Tp^2Tqbr^-2u^2vxz -1To^-3Tp^2Tqbr^-2su^2vz -1To^-1Tp^2Tqbr^-2u^2vxz +1To^-1Tp^2Tqbr^-2su^2vz -1To^-2TpTqbr^-2u^2vxz +1To^-2TpTqbr^-2su^2vz +1To^-2Tp^3Tqbr^-2u^2vxz -1To^-2Tp^3Tqbr^-2su^2vz +0.5To^-2Tp^2Tq^2br^-2u^2vxz -0.5To^-2Tp^2Tq^2br^-2su^2vz +0.5To^-2Tp^2Tqbr^-3uvxz -0.5To^-2Tp^2Tqbr^-3suvz -2D^-1To^-2Tp^2br^-2u^2vxz +2D^-1To^-2Tp^2br^-2su^2vz +4D^-1Tp^2br^-2u^2vxz -4D^-1Tp^2br^-2su^2vz +8D^-1To^-1Tpbr^-2u^2vxz -8D^-1To^-1Tpbr^-2su^2vz -4D^-1To^-1Tp^3br^-2u^2vxz +4D^-1To^-1Tp^3br^-2su^2vz -2D^-1To^-1Tp^2br^-3uvxz +2D^-1To^-1Tp^2br^-3suvz +4D^-1To^-2Tq^2br^-2u^2vxz -4D^-1To^-2Tq^2br^-2su^2vz -2D^-1Tq^2br^-2u^2vxz +2D^-1Tq^2br^-2su^2vz -8D^-1To^-1Tqbr^-2u^2vxz +8D^-1To^-1Tqbr^-2su^2vz +4D^-1To^-1Tq^3br^-2u^2vxz -4D^-1To^-1Tq^3br^-2su^2vz +2D^-1To^-1Tq^2br^-3uvxz -2D^-1To^-1Tq^2br^-3suvz -4D^-1To^-3Tpbr^-2u^2vxz +4D^-1To^-3Tpbr^-2su^2vz -2D^-1To^-2Tpbr^-3uvxz +2D^-1To^-2Tpbr^-3suvz -2D^-1br^-2u^2vxz +2D^-1br^-2su^2vz +2D^-1Tpbr^-3uvxz -2D^-1Tpbr^-3suvz +4D^-1To^-3Tqbr^-2u^2vxz -4D^-1To^-3Tqbr^-2su^2vz +2D^-1To^-2Tqbr^-3uvxz -2D^-1To^-2Tqbr^-3suvz -4D^-1To^-3Tp^2Tqbr^-2u^2vxz +4D^-1To^-3Tp^2Tqbr^-2su^2vz +4D^-1To^-1Tp^2Tqbr^-2u^2vxz -4D^-1To^-1Tp^2Tqbr^-2su^2vz +4D^-1To^-2TpTqbr^-2u^2vxz -4D^-1To^-2TpTqbr^-2su^2vz -4D^-1To^-2Tp^3Tqbr^-2u^2vxz +4D^-1To^-2Tp^3Tqbr^-2su^2vz -2D^-1To^-2Tp^2Tq^2br^-2u^2vxz +2D^-1To^-2Tp^2Tq^2br^-2su^2vz -2D^-1To^-2Tp^2Tqbr^-3uvxz +2D^-1To^-2Tp^2Tqbr^-3suvz +1D^-1To^-2Tp^4bfr^-2u^2v^3xz -2D^-1To^-2Tp^2Tq^2bfr^-2u^2v^3xz +2D^-1To^-3Tp^3bfr^-2u^2v^3xz -2D^-1To^-1Tp^3bfr^-2u^2v^3xz -2D^-1To^-3Tp^2Tqbfr^-2u^2v^3xz +2D^-1To^-3Tp^4Tqbfr^-2u^2v^3xz -4D^-2To^-2Tp^4bfr^-2u^2v^3xz +8D^-2To^-2Tp^2Tq^2bfr^-2u^2v^3xz -8D^-2To^-3Tp^3bfr^-2u^2v^3xz +8D^-2To^-1Tp^3bfr^-2u^2v^3xz +8D^-2To^-3Tp^2Tqbfr^-2u^2v^3xz -8D^-2To^-3Tp^4Tqbfr^-2u^2v^3xz -1D^-1To^-2Tp^4bfr^-2su^2v^3z +2D^-1To^-2Tp^2Tq^2bfr^-2su^2v^3z -2D^-1To^-3Tp^3bfr^-2su^2v^3z +2D^-1To^-1Tp^3bfr^-2su^2v^3z +2D^-1To^-3Tp^2Tqbfr^-2su^2v^3z -2D^-1To^-3Tp^4Tqbfr^-2su^2v^3z +4D^-2To^-2Tp^4bfr^-2su^2v^3z -8D^-2To^-2Tp^2Tq^2bfr^-2su^2v^3z +8D^-2To^-3Tp^3bfr^-2su^2v^3z -8D^-2To^-1Tp^3bfr^-2su^2v^3z -8D^-2To^-3Tp^2Tqbfr^-2su^2v^3z +8D^-2To^-3Tp^4Tqbfr^-2su^2v^3z +1D^-1To^-2Tq^4bfr^-2u^2v^3xz -2D^-1To^-3TpTq^2bfr^-2u^2v^3xz +2D^-1To^-1TpTq^2bfr^-2u^2v^3xz +2D^-1To^-3Tq^3bfr^-2u^2v^3xz -2D^-1To^-3Tp^2Tq^3bfr^-2u^2v^3xz -4D^-2To^-2Tq^4bfr^-2u^2v^3xz +8D^-2To^-3TpTq^2bfr^-2u^2v^3xz -8D^-2To^-1TpTq^2bfr^-2u^2v^3xz -8D^-2To^-3Tq^3bfr^-2u^2v^3xz +8D^-2To^-3Tp^2Tq^3bfr^-2u^2v^3xz -1D^-1To^-2Tq^4bfr^-2su^2v^3z +2D^-1To^-3TpTq^2bfr^-2su^2v^3z -2D^-1To^-1TpTq^2bfr^-2su^2v^3z -2D^-1To^-3Tq^3bfr^-2su^2v^3z +2D^-1To^-3Tp^2Tq^3bfr^-2su^2v^3z +4D^-2To^-2Tq^4bfr^-2su^2v^3z -8D^-2To^-3TpTq^2bfr^-2su^2v^3z +8D^-2To^-1TpTq^2bfr^-2su^2v^3z +8D^-2To^-3Tq^3bfr^-2su^2v^3z -8D^-2To^-3Tp^2Tq^3bfr^-2su^2v^3z +1D^-1To^-4Tp^2bfr^-2u^2v^3xz -2D^-1To^-2Tp^2bfr^-2u^2v^3xz -2D^-1To^-4TpTqbfr^-2u^2v^3xz +2D^-1To^-4Tp^3Tqbfr^-2u^2v^3xz -4D^-2To^-4Tp^2bfr^-2u^2v^3xz +8D^-2To^-2Tp^2bfr^-2u^2v^3xz +8D^-2To^-4TpTqbfr^-2u^2v^3xz -8D^-2To^-4Tp^3Tqbfr^-2u^2v^3xz -1D^-1To^-4Tp^2bfr^-2su^2v^3z +2D^-1To^-2Tp^2bfr^-2su^2v^3z +2D^-1To^-4TpTqbfr^-2su^2v^3z -2D^-1To^-4Tp^3Tqbfr^-2su^2v^3z +4D^-2To^-4Tp^2bfr^-2su^2v^3z -8D^-2To^-2Tp^2bfr^-2su^2v^3z -8D^-2To^-4TpTqbfr^-2su^2v^3z +8D^-2To^-4Tp^3Tqbfr^-2su^2v^3z +1D^-1Tp^2bfr^-2u^2v^3xz +2D^-1To^-2TpTqbfr^-2u^2v^3xz -2D^-1To^-2Tp^3Tqbfr^-2u^2v^3xz -4D^-2Tp^2bfr^-2u^2v^3xz -8D^-2To^-2TpTqbfr^-2u^2v^3xz +8D^-2To^-2Tp^3Tqbfr^-2u^2v^3xz -1D^-1Tp^2bfr^-2su^2v^3z -2D^-1To^-2TpTqbfr^-2su^2v^3z +2D^-1To^-2Tp^3Tqbfr^-2su^2v^3z +4D^-2Tp^2bfr^-2su^2v^3z +8D^-2To^-2TpTqbfr^-2su^2v^3z -8D^-2To^-2Tp^3Tqbfr^-2su^2v^3z +1D^-1To^-4Tq^2bfr^-2u^2v^3xz -2D^-1To^-4Tp^2Tq^2bfr^-2u^2v^3xz -4D^-2To^-4Tq^2bfr^-2u^2v^3xz +8D^-2To^-4Tp^2Tq^2bfr^-2u^2v^3xz -1D^-1To^-4Tq^2bfr^-2su^2v^3z +2D^-1To^-4Tp^2Tq^2bfr^-2su^2v^3z +4D^-2To^-4Tq^2bfr^-2su^2v^3z -8D^-2To^-4Tp^2Tq^2bfr^-2su^2v^3z +1D^-1To^-4Tp^4Tq^2bfr^-2u^2v^3xz -4D^-2To^-4Tp^4Tq^2bfr^-2u^2v^3xz -1D^-1To^-4Tp^4Tq^2bfr^-2su^2v^3z +4D^-2To^-4Tp^4Tq^2bfr^-2su^2v^3z -0.5D^-1To^-2Tp^4br^-2su^2v^3z +1D^-1To^-2Tp^2Tq^2br^-2su^2v^3z -1D^-1To^-3Tp^3br^-2su^2v^3z +1D^-1To^-1Tp^3br^-2su^2v^3z +1D^-1To^-3Tp^2Tqbr^-2su^2v^3z -1D^-1To^-3Tp^4Tqbr^-2su^2v^3z +0.5D^-1To^-2Tp^4br^-2u^2v^3xz -1D^-1To^-2Tp^2Tq^2br^-2u^2v^3xz +1D^-1To^-3Tp^3br^-2u^2v^3xz -1D^-1To^-1Tp^3br^-2u^2v^3xz -1D^-1To^-3Tp^2Tqbr^-2u^2v^3xz +1D^-1To^-3Tp^4Tqbr^-2u^2v^3xz -0.5D^-1To^-2Tq^4br^-2su^2v^3z +1D^-1To^-3TpTq^2br^-2su^2v^3z -1D^-1To^-1TpTq^2br^-2su^2v^3z -1D^-1To^-3Tq^3br^-2su^2v^3z +1D^-1To^-3Tp^2Tq^3br^-2su^2v^3z +0.5D^-1To^-2Tq^4br^-2u^2v^3xz -1D^-1To^-3TpTq^2br^-2u^2v^3xz +1D^-1To^-1TpTq^2br^-2u^2v^3xz +1D^-1To^-3Tq^3br^-2u^2v^3xz -1D^-1To^-3Tp^2Tq^3br^-2u^2v^3xz -0.5D^-1To^-4Tp^2br^-2su^2v^3z +1D^-1To^-2Tp^2br^-2su^2v^3z +1D^-1To^-4TpTqbr^-2su^2v^3z -1D^-1To^-4Tp^3Tqbr^-2su^2v^3z +0.5D^-1To^-4Tp^2br^-2u^2v^3xz -1D^-1To^-2Tp^2br^-2u^2v^3xz -1D^-1To^-4TpTqbr^-2u^2v^3xz +1D^-1To^-4Tp^3Tqbr^-2u^2v^3xz -0.5D^-1Tp^2br^-2su^2v^3z -1D^-1To^-2TpTqbr^-2su^2v^3z +1D^-1To^-2Tp^3Tqbr^-2su^2v^3z +0.5D^-1Tp^2br^-2u^2v^3xz +1D^-1To^-2TpTqbr^-2u^2v^3xz -1D^-1To^-2Tp^3Tqbr^-2u^2v^3xz -0.5D^-1To^-4Tq^2br^-2su^2v^3z +1D^-1To^-4Tp^2Tq^2br^-2su^2v^3z +0.5D^-1To^-4Tq^2br^-2u^2v^3xz -1D^-1To^-4Tp^2Tq^2br^-2u^2v^3xz -0.5D^-1To^-4Tp^4Tq^2br^-2su^2v^3z +0.5D^-1To^-4Tp^4Tq^2br^-2u^2v^3xz -1D^-1To^-1Tp^2bfr^-1uvv_tz +1D^-1To^-1Tq^2bfr^-1uvv_tz -1D^-1To^-2Tpbfr^-1uvv_tz +1D^-1Tpbfr^-1uvv_tz +1D^-1To^-2Tqbfr^-1uvv_tz -1D^-1To^-2Tp^2Tqbfr^-1uvv_tz +2D^-2To^-2Tp^4br^-2su^2v^3z -4D^-2To^-2Tp^2Tq^2br^-2su^2v^3z +4D^-2To^-3Tp^3br^-2su^2v^3z -4D^-2To^-1Tp^3br^-2su^2v^3z -4D^-2To^-3Tp^2Tqbr^-2su^2v^3z +4D^-2To^-3Tp^4Tqbr^-2su^2v^3z -2D^-2To^-2Tp^4br^-2u^2v^3xz +4D^-2To^-2Tp^2Tq^2br^-2u^2v^3xz -4D^-2To^-3Tp^3br^-2u^2v^3xz +4D^-2To^-1Tp^3br^-2u^2v^3xz +4D^-2To^-3Tp^2Tqbr^-2u^2v^3xz -4D^-2To^-3Tp^4Tqbr^-2u^2v^3xz +2D^-2To^-2Tq^4br^-2su^2v^3z -4D^-2To^-3TpTq^2br^-2su^2v^3z +4D^-2To^-1TpTq^2br^-2su^2v^3z +4D^-2To^-3Tq^3br^-2su^2v^3z -4D^-2To^-3Tp^2Tq^3br^-2su^2v^3z -2D^-2To^-2Tq^4br^-2u^2v^3xz +4D^-2To^-3TpTq^2br^-2u^2v^3xz -4D^-2To^-1TpTq^2br^-2u^2v^3xz -4D^-2To^-3Tq^3br^-2u^2v^3xz +4D^-2To^-3Tp^2Tq^3br^-2u^2v^3xz +2D^-2To^-4Tp^2br^-2su^2v^3z -4D^-2To^-2Tp^2br^-2su^2v^3z -4D^-2To^-4TpTqbr^-2su^2v^3z +4D^-2To^-4Tp^3Tqbr^-2su^2v^3z -2D^-2To^-4Tp^2br^-2u^2v^3xz +4D^-2To^-2Tp^2br^-2u^2v^3xz +4D^-2To^-4TpTqbr^-2u^2v^3xz -4D^-2To^-4Tp^3Tqbr^-2u^2v^3xz +2D^-2Tp^2br^-2su^2v^3z +4D^-2To^-2TpTqbr^-2su^2v^3z -4D^-2To^-2Tp^3Tqbr^-2su^2v^3z -2D^-2Tp^2br^-2u^2v^3xz -4D^-2To^-2TpTqbr^-2u^2v^3xz +4D^-2To^-2Tp^3Tqbr^-2u^2v^3xz +2D^-2To^-4Tq^2br^-2su^2v^3z -4D^-2To^-4Tp^2Tq^2br^-2su^2v^3z -2D^-2To^-4Tq^2br^-2u^2v^3xz +4D^-2To^-4Tp^2Tq^2br^-2u^2v^3xz +2D^-2To^-4Tp^4Tq^2br^-2su^2v^3z -2D^-2To^-4Tp^4Tq^2br^-2u^2v^3xz +4D^-2To^-1Tp^2bfr^-1uvv_tz -4D^-2To^-1Tq^2bfr^-1uvv_tz +4D^-2To^-2Tpbfr^-1uvv_tz -4D^-2Tpbfr^-1uvv_tz -4D^-2To^-2Tqbfr^-1uvv_tz +4D^-2To^-2Tp^2Tqbfr^-1uvv_tz',\n",
       "  '-0.5D^-1To^-2Tp^2r^-2su^2v^2z +0.5D^-1To^-2Tp^2r^-2u^2v^2xz -0.5D^-1Tp^2r^-2su^2v^2z +0.5D^-1Tp^2r^-2u^2v^2xz -2D^-1To^-1Tpr^-2su^2v^2z +2D^-1To^-1Tpr^-2u^2v^2xz +0.5D^-1To^-1Tp^2r^-3suv^2z -0.5D^-1To^-1Tp^2r^-3uv^2xz +0.5D^-1To^-1Tp^2r^-1uv_tz -1D^-1To^-2Tq^2r^-2su^2v^2z +1D^-1To^-2Tq^2r^-2u^2v^2xz +0.5D^-1Tq^2r^-2su^2v^2z -0.5D^-1Tq^2r^-2u^2v^2xz +2D^-1To^-1Tqr^-2su^2v^2z -2D^-1To^-1Tqr^-2u^2v^2xz -1D^-1To^-1Tq^3r^-2su^2v^2z +1D^-1To^-1Tq^3r^-2u^2v^2xz -0.5D^-1To^-1Tq^2r^-3suv^2z +0.5D^-1To^-1Tq^2r^-3uv^2xz -0.5D^-1To^-1Tq^2r^-1uv_tz +1D^-1To^-3Tpr^-2su^2v^2z -1D^-1To^-3Tpr^-2u^2v^2xz +0.5D^-1To^-2Tpr^-3suv^2z -0.5D^-1To^-2Tpr^-3uv^2xz +0.5D^-1To^-2Tpr^-1uv_tz +0.5D^-1r^-2su^2v^2z -0.5D^-1r^-2u^2v^2xz -0.5D^-1Tpr^-3suv^2z +0.5D^-1Tpr^-3uv^2xz -0.5D^-1Tpr^-1uv_tz -1D^-1To^-3Tqr^-2su^2v^2z +1D^-1To^-3Tqr^-2u^2v^2xz -0.5D^-1To^-2Tqr^-3suv^2z +0.5D^-1To^-2Tqr^-3uv^2xz -0.5D^-1To^-2Tqr^-1uv_tz -1D^-1To^-1Tp^2Tqr^-2su^2v^2z +1D^-1To^-1Tp^2Tqr^-2u^2v^2xz -0.5D^-1To^-2Tp^2Tq^2r^-2su^2v^2z +0.5D^-1To^-2Tp^2Tq^2r^-2u^2v^2xz +0.5D^-1To^-2Tp^2Tqr^-3suv^2z -0.5D^-1To^-2Tp^2Tqr^-3uv^2xz +0.5D^-1To^-2Tp^2Tqr^-1uv_tz -1D^-1To^-2Tp^2fr^-2u^2v^2xz +1D^-1To^-2Tp^2fr^-2su^2v^2z +2D^-1Tp^2fr^-2u^2v^2xz -2D^-1Tp^2fr^-2su^2v^2z +4D^-1To^-1Tpfr^-2u^2v^2xz -4D^-1To^-1Tpfr^-2su^2v^2z -2D^-1To^-1Tp^3fr^-2u^2v^2xz +2D^-1To^-1Tp^3fr^-2su^2v^2z -0.5D^-1To^-2Tp^4r^-2u^2v^2xz +0.5D^-1To^-2Tp^4r^-2su^2v^2z -1D^-1To^-3Tp^3r^-2u^2v^2xz +1D^-1To^-3Tp^3r^-2su^2v^2z -1D^-1To^-3Tp^4Tqr^-2u^2v^2xz +1D^-1To^-3Tp^4Tqr^-2su^2v^2z -1D^-1To^-1Tp^2fr^-3uv^2xz +1D^-1To^-1Tp^2fr^-3suv^2z +2D^-1To^-2Tq^2fr^-2u^2v^2xz -2D^-1To^-2Tq^2fr^-2su^2v^2z -1D^-1Tq^2fr^-2u^2v^2xz +1D^-1Tq^2fr^-2su^2v^2z -4D^-1To^-1Tqfr^-2u^2v^2xz +4D^-1To^-1Tqfr^-2su^2v^2z +2D^-1To^-1Tq^3fr^-2u^2v^2xz -2D^-1To^-1Tq^3fr^-2su^2v^2z -0.5D^-1To^-2Tq^4r^-2u^2v^2xz +0.5D^-1To^-2Tq^4r^-2su^2v^2z +1D^-1To^-3TpTq^2r^-2u^2v^2xz -1D^-1To^-3TpTq^2r^-2su^2v^2z -1D^-1To^-1TpTq^2r^-2u^2v^2xz +1D^-1To^-1TpTq^2r^-2su^2v^2z -1D^-1To^-3Tq^3r^-2u^2v^2xz +1D^-1To^-3Tq^3r^-2su^2v^2z +1D^-1To^-3Tp^2Tq^3r^-2u^2v^2xz -1D^-1To^-3Tp^2Tq^3r^-2su^2v^2z +1D^-1To^-1Tq^2fr^-3uv^2xz -1D^-1To^-1Tq^2fr^-3suv^2z -2D^-1To^-3Tpfr^-2u^2v^2xz +2D^-1To^-3Tpfr^-2su^2v^2z -0.5D^-1To^-4Tp^2r^-2u^2v^2xz +0.5D^-1To^-4Tp^2r^-2su^2v^2z +1D^-1To^-4TpTqr^-2u^2v^2xz -1D^-1To^-4TpTqr^-2su^2v^2z -1D^-1To^-4Tp^3Tqr^-2u^2v^2xz +1D^-1To^-4Tp^3Tqr^-2su^2v^2z -1D^-1To^-2Tpfr^-3uv^2xz +1D^-1To^-2Tpfr^-3suv^2z -1D^-1fr^-2u^2v^2xz +1D^-1fr^-2su^2v^2z +1D^-1Tpfr^-3uv^2xz -1D^-1Tpfr^-3suv^2z +2D^-1To^-3Tqfr^-2u^2v^2xz -2D^-1To^-3Tqfr^-2su^2v^2z -0.5D^-1To^-4Tq^2r^-2u^2v^2xz +0.5D^-1To^-4Tq^2r^-2su^2v^2z +1D^-1To^-4Tp^2Tq^2r^-2u^2v^2xz -1D^-1To^-4Tp^2Tq^2r^-2su^2v^2z +1D^-1To^-2Tqfr^-3uv^2xz -1D^-1To^-2Tqfr^-3suv^2z -2D^-1To^-3Tp^2Tqfr^-2u^2v^2xz +2D^-1To^-3Tp^2Tqfr^-2su^2v^2z +2D^-1To^-1Tp^2Tqfr^-2u^2v^2xz -2D^-1To^-1Tp^2Tqfr^-2su^2v^2z +2D^-1To^-2TpTqfr^-2u^2v^2xz -2D^-1To^-2TpTqfr^-2su^2v^2z -2D^-1To^-2Tp^3Tqfr^-2u^2v^2xz +2D^-1To^-2Tp^3Tqfr^-2su^2v^2z -1D^-1To^-2Tp^2Tq^2fr^-2u^2v^2xz +1D^-1To^-2Tp^2Tq^2fr^-2su^2v^2z -0.5D^-1To^-4Tp^4Tq^2r^-2u^2v^2xz +0.5D^-1To^-4Tp^4Tq^2r^-2su^2v^2z -1D^-1To^-2Tp^2Tqfr^-3uv^2xz +1D^-1To^-2Tp^2Tqfr^-3suv^2z +1D^-2To^-2Tp^4fr^-2su^2v^4z -2D^-2To^-2Tp^2Tq^2fr^-2su^2v^4z +2D^-2To^-3Tp^3fr^-2su^2v^4z -2D^-2To^-1Tp^3fr^-2su^2v^4z -2D^-2To^-3Tp^2Tqfr^-2su^2v^4z +2D^-2To^-3Tp^4Tqfr^-2su^2v^4z -1D^-2To^-2Tp^4fr^-2u^2v^4xz +2D^-2To^-2Tp^2Tq^2fr^-2u^2v^4xz -2D^-2To^-3Tp^3fr^-2u^2v^4xz +2D^-2To^-1Tp^3fr^-2u^2v^4xz +2D^-2To^-3Tp^2Tqfr^-2u^2v^4xz -2D^-2To^-3Tp^4Tqfr^-2u^2v^4xz +1D^-2To^-2Tq^4fr^-2su^2v^4z -2D^-2To^-3TpTq^2fr^-2su^2v^4z +2D^-2To^-1TpTq^2fr^-2su^2v^4z +2D^-2To^-3Tq^3fr^-2su^2v^4z -2D^-2To^-3Tp^2Tq^3fr^-2su^2v^4z -1D^-2To^-2Tq^4fr^-2u^2v^4xz +2D^-2To^-3TpTq^2fr^-2u^2v^4xz -2D^-2To^-1TpTq^2fr^-2u^2v^4xz -2D^-2To^-3Tq^3fr^-2u^2v^4xz +2D^-2To^-3Tp^2Tq^3fr^-2u^2v^4xz +1D^-2To^-4Tp^2fr^-2su^2v^4z -2D^-2To^-2Tp^2fr^-2su^2v^4z -2D^-2To^-4TpTqfr^-2su^2v^4z +2D^-2To^-4Tp^3Tqfr^-2su^2v^4z -1D^-2To^-4Tp^2fr^-2u^2v^4xz +2D^-2To^-2Tp^2fr^-2u^2v^4xz +2D^-2To^-4TpTqfr^-2u^2v^4xz -2D^-2To^-4Tp^3Tqfr^-2u^2v^4xz +1D^-2Tp^2fr^-2su^2v^4z +2D^-2To^-2TpTqfr^-2su^2v^4z -2D^-2To^-2Tp^3Tqfr^-2su^2v^4z -1D^-2Tp^2fr^-2u^2v^4xz -2D^-2To^-2TpTqfr^-2u^2v^4xz +2D^-2To^-2Tp^3Tqfr^-2u^2v^4xz +1D^-2To^-4Tq^2fr^-2su^2v^4z -2D^-2To^-4Tp^2Tq^2fr^-2su^2v^4z -1D^-2To^-4Tq^2fr^-2u^2v^4xz +2D^-2To^-4Tp^2Tq^2fr^-2u^2v^4xz +1D^-2To^-4Tp^4Tq^2fr^-2su^2v^4z -1D^-2To^-4Tp^4Tq^2fr^-2u^2v^4xz +2D^-2To^-1Tp^2f^2r^-1uv^2v_tz -2D^-2To^-1Tq^2f^2r^-1uv^2v_tz +2D^-2To^-2Tpf^2r^-1uv^2v_tz -2D^-2Tpf^2r^-1uv^2v_tz -2D^-2To^-2Tqf^2r^-1uv^2v_tz +2D^-2To^-2Tp^2Tqf^2r^-1uv^2v_tz -0.5D^-1To^-2Tp^4br^-2u^2v^2xz +1D^-1To^-2Tp^2Tq^2br^-2u^2v^2xz -1D^-1To^-3Tp^3br^-2u^2v^2xz +1D^-1To^-1Tp^3br^-2u^2v^2xz +1D^-1To^-3Tp^2Tqbr^-2u^2v^2xz -1D^-1To^-3Tp^4Tqbr^-2u^2v^2xz +2D^-2To^-2Tp^4br^-2u^2v^2xz -4D^-2To^-2Tp^2Tq^2br^-2u^2v^2xz +4D^-2To^-3Tp^3br^-2u^2v^2xz -4D^-2To^-1Tp^3br^-2u^2v^2xz -4D^-2To^-3Tp^2Tqbr^-2u^2v^2xz +4D^-2To^-3Tp^4Tqbr^-2u^2v^2xz +0.5D^-1To^-2Tp^4br^-2su^2v^2z -1D^-1To^-2Tp^2Tq^2br^-2su^2v^2z +1D^-1To^-3Tp^3br^-2su^2v^2z -1D^-1To^-1Tp^3br^-2su^2v^2z -1D^-1To^-3Tp^2Tqbr^-2su^2v^2z +1D^-1To^-3Tp^4Tqbr^-2su^2v^2z -2D^-2To^-2Tp^4br^-2su^2v^2z +4D^-2To^-2Tp^2Tq^2br^-2su^2v^2z -4D^-2To^-3Tp^3br^-2su^2v^2z +4D^-2To^-1Tp^3br^-2su^2v^2z +4D^-2To^-3Tp^2Tqbr^-2su^2v^2z -4D^-2To^-3Tp^4Tqbr^-2su^2v^2z -0.5D^-1To^-2Tq^4br^-2u^2v^2xz +1D^-1To^-3TpTq^2br^-2u^2v^2xz -1D^-1To^-1TpTq^2br^-2u^2v^2xz -1D^-1To^-3Tq^3br^-2u^2v^2xz +1D^-1To^-3Tp^2Tq^3br^-2u^2v^2xz +2D^-2To^-2Tq^4br^-2u^2v^2xz -4D^-2To^-3TpTq^2br^-2u^2v^2xz +4D^-2To^-1TpTq^2br^-2u^2v^2xz +4D^-2To^-3Tq^3br^-2u^2v^2xz -4D^-2To^-3Tp^2Tq^3br^-2u^2v^2xz +0.5D^-1To^-2Tq^4br^-2su^2v^2z -1D^-1To^-3TpTq^2br^-2su^2v^2z +1D^-1To^-1TpTq^2br^-2su^2v^2z +1D^-1To^-3Tq^3br^-2su^2v^2z -1D^-1To^-3Tp^2Tq^3br^-2su^2v^2z -2D^-2To^-2Tq^4br^-2su^2v^2z +4D^-2To^-3TpTq^2br^-2su^2v^2z -4D^-2To^-1TpTq^2br^-2su^2v^2z -4D^-2To^-3Tq^3br^-2su^2v^2z +4D^-2To^-3Tp^2Tq^3br^-2su^2v^2z -0.5D^-1To^-4Tp^2br^-2u^2v^2xz +1D^-1To^-2Tp^2br^-2u^2v^2xz +1D^-1To^-4TpTqbr^-2u^2v^2xz -1D^-1To^-4Tp^3Tqbr^-2u^2v^2xz +2D^-2To^-4Tp^2br^-2u^2v^2xz -4D^-2To^-2Tp^2br^-2u^2v^2xz -4D^-2To^-4TpTqbr^-2u^2v^2xz +4D^-2To^-4Tp^3Tqbr^-2u^2v^2xz +0.5D^-1To^-4Tp^2br^-2su^2v^2z -1D^-1To^-2Tp^2br^-2su^2v^2z -1D^-1To^-4TpTqbr^-2su^2v^2z +1D^-1To^-4Tp^3Tqbr^-2su^2v^2z -2D^-2To^-4Tp^2br^-2su^2v^2z +4D^-2To^-2Tp^2br^-2su^2v^2z +4D^-2To^-4TpTqbr^-2su^2v^2z -4D^-2To^-4Tp^3Tqbr^-2su^2v^2z -0.5D^-1Tp^2br^-2u^2v^2xz -1D^-1To^-2TpTqbr^-2u^2v^2xz +1D^-1To^-2Tp^3Tqbr^-2u^2v^2xz +2D^-2Tp^2br^-2u^2v^2xz +4D^-2To^-2TpTqbr^-2u^2v^2xz -4D^-2To^-2Tp^3Tqbr^-2u^2v^2xz +0.5D^-1Tp^2br^-2su^2v^2z +1D^-1To^-2TpTqbr^-2su^2v^2z -1D^-1To^-2Tp^3Tqbr^-2su^2v^2z -2D^-2Tp^2br^-2su^2v^2z -4D^-2To^-2TpTqbr^-2su^2v^2z +4D^-2To^-2Tp^3Tqbr^-2su^2v^2z -0.5D^-1To^-4Tq^2br^-2u^2v^2xz +1D^-1To^-4Tp^2Tq^2br^-2u^2v^2xz +2D^-2To^-4Tq^2br^-2u^2v^2xz -4D^-2To^-4Tp^2Tq^2br^-2u^2v^2xz +0.5D^-1To^-4Tq^2br^-2su^2v^2z -1D^-1To^-4Tp^2Tq^2br^-2su^2v^2z -2D^-2To^-4Tq^2br^-2su^2v^2z +4D^-2To^-4Tp^2Tq^2br^-2su^2v^2z -0.5D^-1To^-4Tp^4Tq^2br^-2u^2v^2xz +2D^-2To^-4Tp^4Tq^2br^-2u^2v^2xz +0.5D^-1To^-4Tp^4Tq^2br^-2su^2v^2z -2D^-2To^-4Tp^4Tq^2br^-2su^2v^2z',\n",
       "  '-2D^-1To^-2Tp^2fr^-2u^2v^2yz +4D^-1Tp^2fr^-2u^2v^2yz +8D^-1To^-1Tpfr^-2u^2v^2yz -4D^-1To^-1Tp^3fr^-2u^2v^2yz -1D^-1To^-2Tp^4r^-2u^2v^2yz +2D^-1To^-2Tp^2Tq^2r^-2u^2v^2yz -2D^-1To^-3Tp^3r^-2u^2v^2yz +2D^-1To^-1Tp^3r^-2u^2v^2yz +2D^-1To^-3Tp^2Tqr^-2u^2v^2yz -2D^-1To^-3Tp^4Tqr^-2u^2v^2yz -2D^-1To^-1Tp^2fr^-3uv^2yz +4D^-1To^-2Tq^2fr^-2u^2v^2yz -2D^-1Tq^2fr^-2u^2v^2yz -8D^-1To^-1Tqfr^-2u^2v^2yz +4D^-1To^-1Tq^3fr^-2u^2v^2yz -1D^-1To^-2Tq^4r^-2u^2v^2yz +2D^-1To^-3TpTq^2r^-2u^2v^2yz -2D^-1To^-1TpTq^2r^-2u^2v^2yz -2D^-1To^-3Tq^3r^-2u^2v^2yz +2D^-1To^-3Tp^2Tq^3r^-2u^2v^2yz +2D^-1To^-1Tq^2fr^-3uv^2yz -4D^-1To^-3Tpfr^-2u^2v^2yz -1D^-1To^-4Tp^2r^-2u^2v^2yz +2D^-1To^-2Tp^2r^-2u^2v^2yz +2D^-1To^-4TpTqr^-2u^2v^2yz -2D^-1To^-4Tp^3Tqr^-2u^2v^2yz -2D^-1To^-2Tpfr^-3uv^2yz -2D^-1fr^-2u^2v^2yz -1D^-1Tp^2r^-2u^2v^2yz -2D^-1To^-2TpTqr^-2u^2v^2yz +2D^-1To^-2Tp^3Tqr^-2u^2v^2yz +2D^-1Tpfr^-3uv^2yz +4D^-1To^-3Tqfr^-2u^2v^2yz -1D^-1To^-4Tq^2r^-2u^2v^2yz +2D^-1To^-4Tp^2Tq^2r^-2u^2v^2yz +2D^-1To^-2Tqfr^-3uv^2yz -4D^-1To^-3Tp^2Tqfr^-2u^2v^2yz +4D^-1To^-1Tp^2Tqfr^-2u^2v^2yz +4D^-1To^-2TpTqfr^-2u^2v^2yz -4D^-1To^-2Tp^3Tqfr^-2u^2v^2yz -2D^-1To^-2Tp^2Tq^2fr^-2u^2v^2yz -1D^-1To^-4Tp^4Tq^2r^-2u^2v^2yz -2D^-1To^-2Tp^2Tqfr^-3uv^2yz -2D^-2To^-2Tp^4f^2r^-2u^2v^4yz +4D^-2To^-2Tp^2Tq^2f^2r^-2u^2v^4yz -4D^-2To^-3Tp^3f^2r^-2u^2v^4yz +4D^-2To^-1Tp^3f^2r^-2u^2v^4yz +4D^-2To^-3Tp^2Tqf^2r^-2u^2v^4yz -4D^-2To^-3Tp^4Tqf^2r^-2u^2v^4yz -2D^-2To^-2Tq^4f^2r^-2u^2v^4yz +4D^-2To^-3TpTq^2f^2r^-2u^2v^4yz -4D^-2To^-1TpTq^2f^2r^-2u^2v^4yz -4D^-2To^-3Tq^3f^2r^-2u^2v^4yz +4D^-2To^-3Tp^2Tq^3f^2r^-2u^2v^4yz -2D^-2To^-4Tp^2f^2r^-2u^2v^4yz +4D^-2To^-2Tp^2f^2r^-2u^2v^4yz +4D^-2To^-4TpTqf^2r^-2u^2v^4yz -4D^-2To^-4Tp^3Tqf^2r^-2u^2v^4yz -2D^-2Tp^2f^2r^-2u^2v^4yz -4D^-2To^-2TpTqf^2r^-2u^2v^4yz +4D^-2To^-2Tp^3Tqf^2r^-2u^2v^4yz -2D^-2To^-4Tq^2f^2r^-2u^2v^4yz +4D^-2To^-4Tp^2Tq^2f^2r^-2u^2v^4yz -2D^-2To^-4Tp^4Tq^2f^2r^-2u^2v^4yz -0.5D^-1To^-2Tp^4br^-2u^2v^2yz +1D^-1To^-2Tp^2Tq^2br^-2u^2v^2yz -1D^-1To^-3Tp^3br^-2u^2v^2yz +1D^-1To^-1Tp^3br^-2u^2v^2yz +1D^-1To^-3Tp^2Tqbr^-2u^2v^2yz -1D^-1To^-3Tp^4Tqbr^-2u^2v^2yz -0.5D^-1To^-2Tq^4br^-2u^2v^2yz +1D^-1To^-3TpTq^2br^-2u^2v^2yz -1D^-1To^-1TpTq^2br^-2u^2v^2yz -1D^-1To^-3Tq^3br^-2u^2v^2yz +1D^-1To^-3Tp^2Tq^3br^-2u^2v^2yz -0.5D^-1To^-4Tp^2br^-2u^2v^2yz +1D^-1To^-2Tp^2br^-2u^2v^2yz +1D^-1To^-4TpTqbr^-2u^2v^2yz -1D^-1To^-4Tp^3Tqbr^-2u^2v^2yz -0.5D^-1Tp^2br^-2u^2v^2yz -1D^-1To^-2TpTqbr^-2u^2v^2yz +1D^-1To^-2Tp^3Tqbr^-2u^2v^2yz -0.5D^-1To^-4Tq^2br^-2u^2v^2yz +1D^-1To^-4Tp^2Tq^2br^-2u^2v^2yz -0.5D^-1To^-4Tp^4Tq^2br^-2u^2v^2yz +2D^-2To^-2Tp^4br^-2u^2v^2yz -4D^-2To^-2Tp^2Tq^2br^-2u^2v^2yz +4D^-2To^-3Tp^3br^-2u^2v^2yz -4D^-2To^-1Tp^3br^-2u^2v^2yz -4D^-2To^-3Tp^2Tqbr^-2u^2v^2yz +4D^-2To^-3Tp^4Tqbr^-2u^2v^2yz +2D^-2To^-2Tq^4br^-2u^2v^2yz -4D^-2To^-3TpTq^2br^-2u^2v^2yz +4D^-2To^-1TpTq^2br^-2u^2v^2yz +4D^-2To^-3Tq^3br^-2u^2v^2yz -4D^-2To^-3Tp^2Tq^3br^-2u^2v^2yz +2D^-2To^-4Tp^2br^-2u^2v^2yz -4D^-2To^-2Tp^2br^-2u^2v^2yz -4D^-2To^-4TpTqbr^-2u^2v^2yz +4D^-2To^-4Tp^3Tqbr^-2u^2v^2yz +2D^-2Tp^2br^-2u^2v^2yz +4D^-2To^-2TpTqbr^-2u^2v^2yz -4D^-2To^-2Tp^3Tqbr^-2u^2v^2yz +2D^-2To^-4Tq^2br^-2u^2v^2yz -4D^-2To^-4Tp^2Tq^2br^-2u^2v^2yz +2D^-2To^-4Tp^4Tq^2br^-2u^2v^2yz',\n",
       "  '-2D^-1To^-2Tp^2fr^-2u^2v^2z^2 +4D^-1Tp^2fr^-2u^2v^2z^2 +8D^-1To^-1Tpfr^-2u^2v^2z^2 -4D^-1To^-1Tp^3fr^-2u^2v^2z^2 -1D^-1To^-2Tp^4r^-2u^2v^2z^2 +2D^-1To^-2Tp^2Tq^2r^-2u^2v^2z^2 -2D^-1To^-3Tp^3r^-2u^2v^2z^2 +2D^-1To^-1Tp^3r^-2u^2v^2z^2 +2D^-1To^-3Tp^2Tqr^-2u^2v^2z^2 -2D^-1To^-3Tp^4Tqr^-2u^2v^2z^2 -2D^-1To^-1Tp^2fr^-3uv^2z^2 -2D^-1To^-1Tp^2fr^-1uv^2 +4D^-1To^-2Tq^2fr^-2u^2v^2z^2 -2D^-1Tq^2fr^-2u^2v^2z^2 -8D^-1To^-1Tqfr^-2u^2v^2z^2 +4D^-1To^-1Tq^3fr^-2u^2v^2z^2 -1D^-1To^-2Tq^4r^-2u^2v^2z^2 +2D^-1To^-3TpTq^2r^-2u^2v^2z^2 -2D^-1To^-1TpTq^2r^-2u^2v^2z^2 -2D^-1To^-3Tq^3r^-2u^2v^2z^2 +2D^-1To^-3Tp^2Tq^3r^-2u^2v^2z^2 +2D^-1To^-1Tq^2fr^-3uv^2z^2 +2D^-1To^-1Tq^2fr^-1uv^2 -4D^-1To^-3Tpfr^-2u^2v^2z^2 -1D^-1To^-4Tp^2r^-2u^2v^2z^2 +2D^-1To^-2Tp^2r^-2u^2v^2z^2 +2D^-1To^-4TpTqr^-2u^2v^2z^2 -2D^-1To^-4Tp^3Tqr^-2u^2v^2z^2 -2D^-1To^-2Tpfr^-3uv^2z^2 -2D^-1To^-2Tpfr^-1uv^2 -2D^-1fr^-2u^2v^2z^2 -1D^-1Tp^2r^-2u^2v^2z^2 -2D^-1To^-2TpTqr^-2u^2v^2z^2 +2D^-1To^-2Tp^3Tqr^-2u^2v^2z^2 +2D^-1Tpfr^-3uv^2z^2 +2D^-1Tpfr^-1uv^2 +4D^-1To^-3Tqfr^-2u^2v^2z^2 -1D^-1To^-4Tq^2r^-2u^2v^2z^2 +2D^-1To^-4Tp^2Tq^2r^-2u^2v^2z^2 +2D^-1To^-2Tqfr^-3uv^2z^2 +2D^-1To^-2Tqfr^-1uv^2 -4D^-1To^-3Tp^2Tqfr^-2u^2v^2z^2 +4D^-1To^-1Tp^2Tqfr^-2u^2v^2z^2 +4D^-1To^-2TpTqfr^-2u^2v^2z^2 -4D^-1To^-2Tp^3Tqfr^-2u^2v^2z^2 -2D^-1To^-2Tp^2Tq^2fr^-2u^2v^2z^2 -1D^-1To^-4Tp^4Tq^2r^-2u^2v^2z^2 -2D^-1To^-2Tp^2Tqfr^-3uv^2z^2 -2D^-1To^-2Tp^2Tqfr^-1uv^2 -2D^-2To^-2Tp^4f^2r^-2u^2v^4z^2 +4D^-2To^-2Tp^2Tq^2f^2r^-2u^2v^4z^2 -4D^-2To^-3Tp^3f^2r^-2u^2v^4z^2 +4D^-2To^-1Tp^3f^2r^-2u^2v^4z^2 +4D^-2To^-3Tp^2Tqf^2r^-2u^2v^4z^2 -4D^-2To^-3Tp^4Tqf^2r^-2u^2v^4z^2 -2D^-2To^-2Tq^4f^2r^-2u^2v^4z^2 +4D^-2To^-3TpTq^2f^2r^-2u^2v^4z^2 -4D^-2To^-1TpTq^2f^2r^-2u^2v^4z^2 -4D^-2To^-3Tq^3f^2r^-2u^2v^4z^2 +4D^-2To^-3Tp^2Tq^3f^2r^-2u^2v^4z^2 -2D^-2To^-4Tp^2f^2r^-2u^2v^4z^2 +4D^-2To^-2Tp^2f^2r^-2u^2v^4z^2 +4D^-2To^-4TpTqf^2r^-2u^2v^4z^2 -4D^-2To^-4Tp^3Tqf^2r^-2u^2v^4z^2 -2D^-2Tp^2f^2r^-2u^2v^4z^2 -4D^-2To^-2TpTqf^2r^-2u^2v^4z^2 +4D^-2To^-2Tp^3Tqf^2r^-2u^2v^4z^2 -2D^-2To^-4Tq^2f^2r^-2u^2v^4z^2 +4D^-2To^-4Tp^2Tq^2f^2r^-2u^2v^4z^2 -2D^-2To^-4Tp^4Tq^2f^2r^-2u^2v^4z^2 -0.5D^-1To^-2Tp^4br^-2u^2v^2z^2 +1D^-1To^-2Tp^2Tq^2br^-2u^2v^2z^2 -1D^-1To^-3Tp^3br^-2u^2v^2z^2 +1D^-1To^-1Tp^3br^-2u^2v^2z^2 +1D^-1To^-3Tp^2Tqbr^-2u^2v^2z^2 -1D^-1To^-3Tp^4Tqbr^-2u^2v^2z^2 -0.5D^-1To^-2Tq^4br^-2u^2v^2z^2 +1D^-1To^-3TpTq^2br^-2u^2v^2z^2 -1D^-1To^-1TpTq^2br^-2u^2v^2z^2 -1D^-1To^-3Tq^3br^-2u^2v^2z^2 +1D^-1To^-3Tp^2Tq^3br^-2u^2v^2z^2 -0.5D^-1To^-4Tp^2br^-2u^2v^2z^2 +1D^-1To^-2Tp^2br^-2u^2v^2z^2 +1D^-1To^-4TpTqbr^-2u^2v^2z^2 -1D^-1To^-4Tp^3Tqbr^-2u^2v^2z^2 -0.5D^-1Tp^2br^-2u^2v^2z^2 -1D^-1To^-2TpTqbr^-2u^2v^2z^2 +1D^-1To^-2Tp^3Tqbr^-2u^2v^2z^2 -0.5D^-1To^-4Tq^2br^-2u^2v^2z^2 +1D^-1To^-4Tp^2Tq^2br^-2u^2v^2z^2 -0.5D^-1To^-4Tp^4Tq^2br^-2u^2v^2z^2 +2D^-2To^-2Tp^4br^-2u^2v^2z^2 -4D^-2To^-2Tp^2Tq^2br^-2u^2v^2z^2 +4D^-2To^-3Tp^3br^-2u^2v^2z^2 -4D^-2To^-1Tp^3br^-2u^2v^2z^2 -4D^-2To^-3Tp^2Tqbr^-2u^2v^2z^2 +4D^-2To^-3Tp^4Tqbr^-2u^2v^2z^2 +2D^-2To^-2Tq^4br^-2u^2v^2z^2 -4D^-2To^-3TpTq^2br^-2u^2v^2z^2 +4D^-2To^-1TpTq^2br^-2u^2v^2z^2 +4D^-2To^-3Tq^3br^-2u^2v^2z^2 -4D^-2To^-3Tp^2Tq^3br^-2u^2v^2z^2 +2D^-2To^-4Tp^2br^-2u^2v^2z^2 -4D^-2To^-2Tp^2br^-2u^2v^2z^2 -4D^-2To^-4TpTqbr^-2u^2v^2z^2 +4D^-2To^-4Tp^3Tqbr^-2u^2v^2z^2 +2D^-2Tp^2br^-2u^2v^2z^2 +4D^-2To^-2TpTqbr^-2u^2v^2z^2 -4D^-2To^-2Tp^3Tqbr^-2u^2v^2z^2 +2D^-2To^-4Tq^2br^-2u^2v^2z^2 -4D^-2To^-4Tp^2Tq^2br^-2u^2v^2z^2 +2D^-2To^-4Tp^4Tq^2br^-2u^2v^2z^2']]"
      ]
     },
     "execution_count": 76,
     "metadata": {},
     "output_type": "execute_result"
    }
   ],
   "source": [
    "matrix_convert(Ricci_Tensor(Alc,Alc_con))"
   ]
  },
  {
   "cell_type": "code",
   "execution_count": 77,
   "metadata": {},
   "outputs": [
    {
     "data": {
      "text/plain": [
       "'-4D^-1To^-2Tp^2br^-2su^2v^2x +2D^-1To^-2Tp^2br^-2s^2u^2v^2 +8D^-1Tp^2br^-2su^2v^2x -4D^-1Tp^2br^-2s^2u^2v^2 +16D^-1To^-1Tpbr^-2su^2v^2x -8D^-1To^-1Tpbr^-2s^2u^2v^2 -8D^-1To^-1Tp^3br^-2su^2v^2x +4D^-1To^-1Tp^3br^-2s^2u^2v^2 -4D^-1To^-1Tp^2br^-3suv^2x +2D^-1To^-1Tp^2br^-3s^2uv^2 +2D^-1To^-2Tp^2br^-2u^2v^2x^2 -4D^-1Tp^2br^-2u^2v^2x^2 -8D^-1To^-1Tpbr^-2u^2v^2x^2 +4D^-1To^-1Tp^3br^-2u^2v^2x^2 +2D^-1To^-1Tp^2br^-3uv^2x^2 +2D^-1To^-1Tp^2br^-1uv^2 +8D^-1To^-2Tq^2br^-2su^2v^2x -4D^-1To^-2Tq^2br^-2s^2u^2v^2 -4D^-1Tq^2br^-2su^2v^2x +2D^-1Tq^2br^-2s^2u^2v^2 -16D^-1To^-1Tqbr^-2su^2v^2x +8D^-1To^-1Tqbr^-2s^2u^2v^2 +8D^-1To^-1Tq^3br^-2su^2v^2x -4D^-1To^-1Tq^3br^-2s^2u^2v^2 +4D^-1To^-1Tq^2br^-3suv^2x -2D^-1To^-1Tq^2br^-3s^2uv^2 -4D^-1To^-2Tq^2br^-2u^2v^2x^2 +2D^-1Tq^2br^-2u^2v^2x^2 +8D^-1To^-1Tqbr^-2u^2v^2x^2 -4D^-1To^-1Tq^3br^-2u^2v^2x^2 -2D^-1To^-1Tq^2br^-3uv^2x^2 -2D^-1To^-1Tq^2br^-1uv^2 -8D^-1To^-3Tpbr^-2su^2v^2x +4D^-1To^-3Tpbr^-2s^2u^2v^2 -4D^-1To^-2Tpbr^-3suv^2x +2D^-1To^-2Tpbr^-3s^2uv^2 +4D^-1To^-3Tpbr^-2u^2v^2x^2 +2D^-1To^-2Tpbr^-3uv^2x^2 +2D^-1To^-2Tpbr^-1uv^2 -4D^-1br^-2su^2v^2x +2D^-1br^-2s^2u^2v^2 +4D^-1Tpbr^-3suv^2x -2D^-1Tpbr^-3s^2uv^2 +2D^-1br^-2u^2v^2x^2 -2D^-1Tpbr^-3uv^2x^2 -2D^-1Tpbr^-1uv^2 +8D^-1To^-3Tqbr^-2su^2v^2x -4D^-1To^-3Tqbr^-2s^2u^2v^2 +4D^-1To^-2Tqbr^-3suv^2x -2D^-1To^-2Tqbr^-3s^2uv^2 -4D^-1To^-3Tqbr^-2u^2v^2x^2 -2D^-1To^-2Tqbr^-3uv^2x^2 -2D^-1To^-2Tqbr^-1uv^2 -8D^-1To^-3Tp^2Tqbr^-2su^2v^2x +4D^-1To^-3Tp^2Tqbr^-2s^2u^2v^2 +8D^-1To^-1Tp^2Tqbr^-2su^2v^2x -4D^-1To^-1Tp^2Tqbr^-2s^2u^2v^2 +8D^-1To^-2TpTqbr^-2su^2v^2x -4D^-1To^-2TpTqbr^-2s^2u^2v^2 -8D^-1To^-2Tp^3Tqbr^-2su^2v^2x +4D^-1To^-2Tp^3Tqbr^-2s^2u^2v^2 -4D^-1To^-2Tp^2Tq^2br^-2su^2v^2x +2D^-1To^-2Tp^2Tq^2br^-2s^2u^2v^2 -4D^-1To^-2Tp^2Tqbr^-3suv^2x +2D^-1To^-2Tp^2Tqbr^-3s^2uv^2 +4D^-1To^-3Tp^2Tqbr^-2u^2v^2x^2 -4D^-1To^-1Tp^2Tqbr^-2u^2v^2x^2 -4D^-1To^-2TpTqbr^-2u^2v^2x^2 +4D^-1To^-2Tp^3Tqbr^-2u^2v^2x^2 +2D^-1To^-2Tp^2Tq^2br^-2u^2v^2x^2 +2D^-1To^-2Tp^2Tqbr^-3uv^2x^2 +2D^-1To^-2Tp^2Tqbr^-1uv^2 -2D^-1To^-1Tp^2br^-1uv_tx +2D^-1To^-1Tp^2br^-1suv_t +2D^-1To^-1Tq^2br^-1uv_tx -2D^-1To^-1Tq^2br^-1suv_t -2D^-1To^-2Tpbr^-1uv_tx +2D^-1To^-2Tpbr^-1suv_t +2D^-1Tpbr^-1uv_tx -2D^-1Tpbr^-1suv_t +2D^-1To^-2Tqbr^-1uv_tx -2D^-1To^-2Tqbr^-1suv_t -2D^-1To^-2Tp^2Tqbr^-1uv_tx +2D^-1To^-2Tp^2Tqbr^-1suv_t +16D^-2To^-2Tp^2br^-2su^2v^2x -8D^-2To^-2Tp^2br^-2s^2u^2v^2 -32D^-2Tp^2br^-2su^2v^2x +16D^-2Tp^2br^-2s^2u^2v^2 -64D^-2To^-1Tpbr^-2su^2v^2x +32D^-2To^-1Tpbr^-2s^2u^2v^2 +32D^-2To^-1Tp^3br^-2su^2v^2x -16D^-2To^-1Tp^3br^-2s^2u^2v^2 +16D^-2To^-1Tp^2br^-3suv^2x -8D^-2To^-1Tp^2br^-3s^2uv^2 -8D^-2To^-2Tp^2br^-2u^2v^2x^2 +16D^-2Tp^2br^-2u^2v^2x^2 +32D^-2To^-1Tpbr^-2u^2v^2x^2 -16D^-2To^-1Tp^3br^-2u^2v^2x^2 -8D^-2To^-1Tp^2br^-3uv^2x^2 -8D^-2To^-1Tp^2br^-1uv^2 -32D^-2To^-2Tq^2br^-2su^2v^2x +16D^-2To^-2Tq^2br^-2s^2u^2v^2 +16D^-2Tq^2br^-2su^2v^2x -8D^-2Tq^2br^-2s^2u^2v^2 +64D^-2To^-1Tqbr^-2su^2v^2x -32D^-2To^-1Tqbr^-2s^2u^2v^2 -32D^-2To^-1Tq^3br^-2su^2v^2x +16D^-2To^-1Tq^3br^-2s^2u^2v^2 -16D^-2To^-1Tq^2br^-3suv^2x +8D^-2To^-1Tq^2br^-3s^2uv^2 +16D^-2To^-2Tq^2br^-2u^2v^2x^2 -8D^-2Tq^2br^-2u^2v^2x^2 -32D^-2To^-1Tqbr^-2u^2v^2x^2 +16D^-2To^-1Tq^3br^-2u^2v^2x^2 +8D^-2To^-1Tq^2br^-3uv^2x^2 +8D^-2To^-1Tq^2br^-1uv^2 +32D^-2To^-3Tpbr^-2su^2v^2x -16D^-2To^-3Tpbr^-2s^2u^2v^2 +16D^-2To^-2Tpbr^-3suv^2x -8D^-2To^-2Tpbr^-3s^2uv^2 -16D^-2To^-3Tpbr^-2u^2v^2x^2 -8D^-2To^-2Tpbr^-3uv^2x^2 -8D^-2To^-2Tpbr^-1uv^2 +16D^-2br^-2su^2v^2x -8D^-2br^-2s^2u^2v^2 -16D^-2Tpbr^-3suv^2x +8D^-2Tpbr^-3s^2uv^2 -8D^-2br^-2u^2v^2x^2 +8D^-2Tpbr^-3uv^2x^2 +8D^-2Tpbr^-1uv^2 -32D^-2To^-3Tqbr^-2su^2v^2x +16D^-2To^-3Tqbr^-2s^2u^2v^2 -16D^-2To^-2Tqbr^-3suv^2x +8D^-2To^-2Tqbr^-3s^2uv^2 +16D^-2To^-3Tqbr^-2u^2v^2x^2 +8D^-2To^-2Tqbr^-3uv^2x^2 +8D^-2To^-2Tqbr^-1uv^2 +32D^-2To^-3Tp^2Tqbr^-2su^2v^2x -16D^-2To^-3Tp^2Tqbr^-2s^2u^2v^2 -32D^-2To^-1Tp^2Tqbr^-2su^2v^2x +16D^-2To^-1Tp^2Tqbr^-2s^2u^2v^2 -32D^-2To^-2TpTqbr^-2su^2v^2x +16D^-2To^-2TpTqbr^-2s^2u^2v^2 +32D^-2To^-2Tp^3Tqbr^-2su^2v^2x -16D^-2To^-2Tp^3Tqbr^-2s^2u^2v^2 +16D^-2To^-2Tp^2Tq^2br^-2su^2v^2x -8D^-2To^-2Tp^2Tq^2br^-2s^2u^2v^2 +16D^-2To^-2Tp^2Tqbr^-3suv^2x -8D^-2To^-2Tp^2Tqbr^-3s^2uv^2 -16D^-2To^-3Tp^2Tqbr^-2u^2v^2x^2 +16D^-2To^-1Tp^2Tqbr^-2u^2v^2x^2 +16D^-2To^-2TpTqbr^-2u^2v^2x^2 -16D^-2To^-2Tp^3Tqbr^-2u^2v^2x^2 -8D^-2To^-2Tp^2Tq^2br^-2u^2v^2x^2 -8D^-2To^-2Tp^2Tqbr^-3uv^2x^2 -8D^-2To^-2Tp^2Tqbr^-1uv^2 +8D^-2To^-1Tp^2br^-1uv_tx -8D^-2To^-1Tp^2br^-1suv_t -8D^-2To^-1Tq^2br^-1uv_tx +8D^-2To^-1Tq^2br^-1suv_t +8D^-2To^-2Tpbr^-1uv_tx -8D^-2To^-2Tpbr^-1suv_t -8D^-2Tpbr^-1uv_tx +8D^-2Tpbr^-1suv_t -8D^-2To^-2Tqbr^-1uv_tx +8D^-2To^-2Tqbr^-1suv_t +8D^-2To^-2Tp^2Tqbr^-1uv_tx -8D^-2To^-2Tp^2Tqbr^-1suv_t +0.5D^-1To^-2Tp^4br^-2u^2v^2y^2 -1D^-1To^-2Tp^2Tq^2br^-2u^2v^2y^2 +1D^-1To^-3Tp^3br^-2u^2v^2y^2 -1D^-1To^-1Tp^3br^-2u^2v^2y^2 -1D^-1To^-3Tp^2Tqbr^-2u^2v^2y^2 +1D^-1To^-3Tp^4Tqbr^-2u^2v^2y^2 -2D^-2To^-2Tp^4br^-2u^2v^2y^2 +4D^-2To^-2Tp^2Tq^2br^-2u^2v^2y^2 -4D^-2To^-3Tp^3br^-2u^2v^2y^2 +4D^-2To^-1Tp^3br^-2u^2v^2y^2 +4D^-2To^-3Tp^2Tqbr^-2u^2v^2y^2 -4D^-2To^-3Tp^4Tqbr^-2u^2v^2y^2 +0.5D^-1To^-2Tq^4br^-2u^2v^2y^2 -1D^-1To^-3TpTq^2br^-2u^2v^2y^2 +1D^-1To^-1TpTq^2br^-2u^2v^2y^2 +1D^-1To^-3Tq^3br^-2u^2v^2y^2 -1D^-1To^-3Tp^2Tq^3br^-2u^2v^2y^2 -2D^-2To^-2Tq^4br^-2u^2v^2y^2 +4D^-2To^-3TpTq^2br^-2u^2v^2y^2 -4D^-2To^-1TpTq^2br^-2u^2v^2y^2 -4D^-2To^-3Tq^3br^-2u^2v^2y^2 +4D^-2To^-3Tp^2Tq^3br^-2u^2v^2y^2 +0.5D^-1To^-4Tp^2br^-2u^2v^2y^2 -1D^-1To^-2Tp^2br^-2u^2v^2y^2 -1D^-1To^-4TpTqbr^-2u^2v^2y^2 +1D^-1To^-4Tp^3Tqbr^-2u^2v^2y^2 -2D^-2To^-4Tp^2br^-2u^2v^2y^2 +4D^-2To^-2Tp^2br^-2u^2v^2y^2 +4D^-2To^-4TpTqbr^-2u^2v^2y^2 -4D^-2To^-4Tp^3Tqbr^-2u^2v^2y^2 +0.5D^-1Tp^2br^-2u^2v^2y^2 +1D^-1To^-2TpTqbr^-2u^2v^2y^2 -1D^-1To^-2Tp^3Tqbr^-2u^2v^2y^2 -2D^-2Tp^2br^-2u^2v^2y^2 -4D^-2To^-2TpTqbr^-2u^2v^2y^2 +4D^-2To^-2Tp^3Tqbr^-2u^2v^2y^2 +0.5D^-1To^-4Tq^2br^-2u^2v^2y^2 -1D^-1To^-4Tp^2Tq^2br^-2u^2v^2y^2 -2D^-2To^-4Tq^2br^-2u^2v^2y^2 +4D^-2To^-4Tp^2Tq^2br^-2u^2v^2y^2 +0.5D^-1To^-4Tp^4Tq^2br^-2u^2v^2y^2 -2D^-2To^-4Tp^4Tq^2br^-2u^2v^2y^2 +0.5D^-1To^-2Tp^4br^-2u^2v^2z^2 -1D^-1To^-2Tp^2Tq^2br^-2u^2v^2z^2 +1D^-1To^-3Tp^3br^-2u^2v^2z^2 -1D^-1To^-1Tp^3br^-2u^2v^2z^2 -1D^-1To^-3Tp^2Tqbr^-2u^2v^2z^2 +1D^-1To^-3Tp^4Tqbr^-2u^2v^2z^2 -2D^-2To^-2Tp^4br^-2u^2v^2z^2 +4D^-2To^-2Tp^2Tq^2br^-2u^2v^2z^2 -4D^-2To^-3Tp^3br^-2u^2v^2z^2 +4D^-2To^-1Tp^3br^-2u^2v^2z^2 +4D^-2To^-3Tp^2Tqbr^-2u^2v^2z^2 -4D^-2To^-3Tp^4Tqbr^-2u^2v^2z^2 +0.5D^-1To^-2Tq^4br^-2u^2v^2z^2 -1D^-1To^-3TpTq^2br^-2u^2v^2z^2 +1D^-1To^-1TpTq^2br^-2u^2v^2z^2 +1D^-1To^-3Tq^3br^-2u^2v^2z^2 -1D^-1To^-3Tp^2Tq^3br^-2u^2v^2z^2 -2D^-2To^-2Tq^4br^-2u^2v^2z^2 +4D^-2To^-3TpTq^2br^-2u^2v^2z^2 -4D^-2To^-1TpTq^2br^-2u^2v^2z^2 -4D^-2To^-3Tq^3br^-2u^2v^2z^2 +4D^-2To^-3Tp^2Tq^3br^-2u^2v^2z^2 +0.5D^-1To^-4Tp^2br^-2u^2v^2z^2 -1D^-1To^-2Tp^2br^-2u^2v^2z^2 -1D^-1To^-4TpTqbr^-2u^2v^2z^2 +1D^-1To^-4Tp^3Tqbr^-2u^2v^2z^2 -2D^-2To^-4Tp^2br^-2u^2v^2z^2 +4D^-2To^-2Tp^2br^-2u^2v^2z^2 +4D^-2To^-4TpTqbr^-2u^2v^2z^2 -4D^-2To^-4Tp^3Tqbr^-2u^2v^2z^2 +0.5D^-1Tp^2br^-2u^2v^2z^2 +1D^-1To^-2TpTqbr^-2u^2v^2z^2 -1D^-1To^-2Tp^3Tqbr^-2u^2v^2z^2 -2D^-2Tp^2br^-2u^2v^2z^2 -4D^-2To^-2TpTqbr^-2u^2v^2z^2 +4D^-2To^-2Tp^3Tqbr^-2u^2v^2z^2 +0.5D^-1To^-4Tq^2br^-2u^2v^2z^2 -1D^-1To^-4Tp^2Tq^2br^-2u^2v^2z^2 -2D^-2To^-4Tq^2br^-2u^2v^2z^2 +4D^-2To^-4Tp^2Tq^2br^-2u^2v^2z^2 +0.5D^-1To^-4Tp^4Tq^2br^-2u^2v^2z^2 -2D^-2To^-4Tp^4Tq^2br^-2u^2v^2z^2 -4D^-1To^-2Tp^2fr^-2u^2v^2y^2 +8D^-1Tp^2fr^-2u^2v^2y^2 +16D^-1To^-1Tpfr^-2u^2v^2y^2 -8D^-1To^-1Tp^3fr^-2u^2v^2y^2 -4D^-1To^-1Tp^2fr^-3uv^2y^2 -8D^-1To^-1Tp^2fr^-1uv^2 +8D^-1To^-2Tq^2fr^-2u^2v^2y^2 -4D^-1Tq^2fr^-2u^2v^2y^2 -16D^-1To^-1Tqfr^-2u^2v^2y^2 +8D^-1To^-1Tq^3fr^-2u^2v^2y^2 +4D^-1To^-1Tq^2fr^-3uv^2y^2 +8D^-1To^-1Tq^2fr^-1uv^2 -8D^-1To^-3Tpfr^-2u^2v^2y^2 -4D^-1To^-2Tpfr^-3uv^2y^2 -8D^-1To^-2Tpfr^-1uv^2 -4D^-1fr^-2u^2v^2y^2 +4D^-1Tpfr^-3uv^2y^2 +8D^-1Tpfr^-1uv^2 +8D^-1To^-3Tqfr^-2u^2v^2y^2 +4D^-1To^-2Tqfr^-3uv^2y^2 +8D^-1To^-2Tqfr^-1uv^2 -8D^-1To^-3Tp^2Tqfr^-2u^2v^2y^2 +8D^-1To^-1Tp^2Tqfr^-2u^2v^2y^2 +8D^-1To^-2TpTqfr^-2u^2v^2y^2 -8D^-1To^-2Tp^3Tqfr^-2u^2v^2y^2 -4D^-1To^-2Tp^2Tq^2fr^-2u^2v^2y^2 -4D^-1To^-2Tp^2Tqfr^-3uv^2y^2 -8D^-1To^-2Tp^2Tqfr^-1uv^2 -4D^-1To^-2Tp^2fr^-2u^2v^2z^2 +8D^-1Tp^2fr^-2u^2v^2z^2 +16D^-1To^-1Tpfr^-2u^2v^2z^2 -8D^-1To^-1Tp^3fr^-2u^2v^2z^2 -4D^-1To^-1Tp^2fr^-3uv^2z^2 +8D^-1To^-2Tq^2fr^-2u^2v^2z^2 -4D^-1Tq^2fr^-2u^2v^2z^2 -16D^-1To^-1Tqfr^-2u^2v^2z^2 +8D^-1To^-1Tq^3fr^-2u^2v^2z^2 +4D^-1To^-1Tq^2fr^-3uv^2z^2 -8D^-1To^-3Tpfr^-2u^2v^2z^2 -4D^-1To^-2Tpfr^-3uv^2z^2 -4D^-1fr^-2u^2v^2z^2 +4D^-1Tpfr^-3uv^2z^2 +8D^-1To^-3Tqfr^-2u^2v^2z^2 +4D^-1To^-2Tqfr^-3uv^2z^2 -8D^-1To^-3Tp^2Tqfr^-2u^2v^2z^2 +8D^-1To^-1Tp^2Tqfr^-2u^2v^2z^2 +8D^-1To^-2TpTqfr^-2u^2v^2z^2 -8D^-1To^-2Tp^3Tqfr^-2u^2v^2z^2 -4D^-1To^-2Tp^2Tq^2fr^-2u^2v^2z^2 -4D^-1To^-2Tp^2Tqfr^-3uv^2z^2 +16D^-2To^-2Tp^2f^2r^-2su^2v^4x -8D^-2To^-2Tp^2f^2r^-2s^2u^2v^4 -32D^-2Tp^2f^2r^-2su^2v^4x +16D^-2Tp^2f^2r^-2s^2u^2v^4 -64D^-2To^-1Tpf^2r^-2su^2v^4x +32D^-2To^-1Tpf^2r^-2s^2u^2v^4 +32D^-2To^-1Tp^3f^2r^-2su^2v^4x -16D^-2To^-1Tp^3f^2r^-2s^2u^2v^4 +8D^-2To^-2Tp^4fr^-2su^2v^4x -4D^-2To^-2Tp^4fr^-2s^2u^2v^4 -16D^-2To^-2Tp^2Tq^2fr^-2su^2v^4x +8D^-2To^-2Tp^2Tq^2fr^-2s^2u^2v^4 +16D^-2To^-3Tp^3fr^-2su^2v^4x -8D^-2To^-3Tp^3fr^-2s^2u^2v^4 -16D^-2To^-1Tp^3fr^-2su^2v^4x +8D^-2To^-1Tp^3fr^-2s^2u^2v^4 -16D^-2To^-3Tp^2Tqfr^-2su^2v^4x +8D^-2To^-3Tp^2Tqfr^-2s^2u^2v^4 +16D^-2To^-3Tp^4Tqfr^-2su^2v^4x -8D^-2To^-3Tp^4Tqfr^-2s^2u^2v^4 +16D^-2To^-1Tp^2f^2r^-3suv^4x -8D^-2To^-1Tp^2f^2r^-3s^2uv^4 -8D^-2To^-2Tp^2f^2r^-2u^2v^4x^2 +16D^-2Tp^2f^2r^-2u^2v^4x^2 +32D^-2To^-1Tpf^2r^-2u^2v^4x^2 -16D^-2To^-1Tp^3f^2r^-2u^2v^4x^2 -4D^-2To^-2Tp^4fr^-2u^2v^4x^2 +8D^-2To^-2Tp^2Tq^2fr^-2u^2v^4x^2 -8D^-2To^-3Tp^3fr^-2u^2v^4x^2 +8D^-2To^-1Tp^3fr^-2u^2v^4x^2 +8D^-2To^-3Tp^2Tqfr^-2u^2v^4x^2 -8D^-2To^-3Tp^4Tqfr^-2u^2v^4x^2 -8D^-2To^-1Tp^2f^2r^-3uv^4x^2 -8D^-2To^-1Tp^2f^2r^-1uv^4 -32D^-2To^-2Tq^2f^2r^-2su^2v^4x +16D^-2To^-2Tq^2f^2r^-2s^2u^2v^4 +16D^-2Tq^2f^2r^-2su^2v^4x -8D^-2Tq^2f^2r^-2s^2u^2v^4 +64D^-2To^-1Tqf^2r^-2su^2v^4x -32D^-2To^-1Tqf^2r^-2s^2u^2v^4 -32D^-2To^-1Tq^3f^2r^-2su^2v^4x +16D^-2To^-1Tq^3f^2r^-2s^2u^2v^4 +8D^-2To^-2Tq^4fr^-2su^2v^4x -4D^-2To^-2Tq^4fr^-2s^2u^2v^4 -16D^-2To^-3TpTq^2fr^-2su^2v^4x +8D^-2To^-3TpTq^2fr^-2s^2u^2v^4 +16D^-2To^-1TpTq^2fr^-2su^2v^4x -8D^-2To^-1TpTq^2fr^-2s^2u^2v^4 +16D^-2To^-3Tq^3fr^-2su^2v^4x -8D^-2To^-3Tq^3fr^-2s^2u^2v^4 -16D^-2To^-3Tp^2Tq^3fr^-2su^2v^4x +8D^-2To^-3Tp^2Tq^3fr^-2s^2u^2v^4 -16D^-2To^-1Tq^2f^2r^-3suv^4x +8D^-2To^-1Tq^2f^2r^-3s^2uv^4 +16D^-2To^-2Tq^2f^2r^-2u^2v^4x^2 -8D^-2Tq^2f^2r^-2u^2v^4x^2 -32D^-2To^-1Tqf^2r^-2u^2v^4x^2 +16D^-2To^-1Tq^3f^2r^-2u^2v^4x^2 -4D^-2To^-2Tq^4fr^-2u^2v^4x^2 +8D^-2To^-3TpTq^2fr^-2u^2v^4x^2 -8D^-2To^-1TpTq^2fr^-2u^2v^4x^2 -8D^-2To^-3Tq^3fr^-2u^2v^4x^2 +8D^-2To^-3Tp^2Tq^3fr^-2u^2v^4x^2 +8D^-2To^-1Tq^2f^2r^-3uv^4x^2 +8D^-2To^-1Tq^2f^2r^-1uv^4 +32D^-2To^-3Tpf^2r^-2su^2v^4x -16D^-2To^-3Tpf^2r^-2s^2u^2v^4 +8D^-2To^-4Tp^2fr^-2su^2v^4x -4D^-2To^-4Tp^2fr^-2s^2u^2v^4 -16D^-2To^-2Tp^2fr^-2su^2v^4x +8D^-2To^-2Tp^2fr^-2s^2u^2v^4 -16D^-2To^-4TpTqfr^-2su^2v^4x +8D^-2To^-4TpTqfr^-2s^2u^2v^4 +16D^-2To^-4Tp^3Tqfr^-2su^2v^4x -8D^-2To^-4Tp^3Tqfr^-2s^2u^2v^4 +16D^-2To^-2Tpf^2r^-3suv^4x -8D^-2To^-2Tpf^2r^-3s^2uv^4 -16D^-2To^-3Tpf^2r^-2u^2v^4x^2 -4D^-2To^-4Tp^2fr^-2u^2v^4x^2 +8D^-2To^-2Tp^2fr^-2u^2v^4x^2 +8D^-2To^-4TpTqfr^-2u^2v^4x^2 -8D^-2To^-4Tp^3Tqfr^-2u^2v^4x^2 -8D^-2To^-2Tpf^2r^-3uv^4x^2 -8D^-2To^-2Tpf^2r^-1uv^4 +16D^-2f^2r^-2su^2v^4x -8D^-2f^2r^-2s^2u^2v^4 +8D^-2Tp^2fr^-2su^2v^4x -4D^-2Tp^2fr^-2s^2u^2v^4 +16D^-2To^-2TpTqfr^-2su^2v^4x -8D^-2To^-2TpTqfr^-2s^2u^2v^4 -16D^-2To^-2Tp^3Tqfr^-2su^2v^4x +8D^-2To^-2Tp^3Tqfr^-2s^2u^2v^4 -16D^-2Tpf^2r^-3suv^4x +8D^-2Tpf^2r^-3s^2uv^4 -8D^-2f^2r^-2u^2v^4x^2 -4D^-2Tp^2fr^-2u^2v^4x^2 -8D^-2To^-2TpTqfr^-2u^2v^4x^2 +8D^-2To^-2Tp^3Tqfr^-2u^2v^4x^2 +8D^-2Tpf^2r^-3uv^4x^2 +8D^-2Tpf^2r^-1uv^4 -32D^-2To^-3Tqf^2r^-2su^2v^4x +16D^-2To^-3Tqf^2r^-2s^2u^2v^4 +8D^-2To^-4Tq^2fr^-2su^2v^4x -4D^-2To^-4Tq^2fr^-2s^2u^2v^4 -16D^-2To^-4Tp^2Tq^2fr^-2su^2v^4x +8D^-2To^-4Tp^2Tq^2fr^-2s^2u^2v^4 -16D^-2To^-2Tqf^2r^-3suv^4x +8D^-2To^-2Tqf^2r^-3s^2uv^4 +16D^-2To^-3Tqf^2r^-2u^2v^4x^2 -4D^-2To^-4Tq^2fr^-2u^2v^4x^2 +8D^-2To^-4Tp^2Tq^2fr^-2u^2v^4x^2 +8D^-2To^-2Tqf^2r^-3uv^4x^2 +8D^-2To^-2Tqf^2r^-1uv^4 +32D^-2To^-3Tp^2Tqf^2r^-2su^2v^4x -16D^-2To^-3Tp^2Tqf^2r^-2s^2u^2v^4 -32D^-2To^-1Tp^2Tqf^2r^-2su^2v^4x +16D^-2To^-1Tp^2Tqf^2r^-2s^2u^2v^4 -32D^-2To^-2TpTqf^2r^-2su^2v^4x +16D^-2To^-2TpTqf^2r^-2s^2u^2v^4 +32D^-2To^-2Tp^3Tqf^2r^-2su^2v^4x -16D^-2To^-2Tp^3Tqf^2r^-2s^2u^2v^4 +16D^-2To^-2Tp^2Tq^2f^2r^-2su^2v^4x -8D^-2To^-2Tp^2Tq^2f^2r^-2s^2u^2v^4 +8D^-2To^-4Tp^4Tq^2fr^-2su^2v^4x -4D^-2To^-4Tp^4Tq^2fr^-2s^2u^2v^4 +16D^-2To^-2Tp^2Tqf^2r^-3suv^4x -8D^-2To^-2Tp^2Tqf^2r^-3s^2uv^4 -16D^-2To^-3Tp^2Tqf^2r^-2u^2v^4x^2 +16D^-2To^-1Tp^2Tqf^2r^-2u^2v^4x^2 +16D^-2To^-2TpTqf^2r^-2u^2v^4x^2 -16D^-2To^-2Tp^3Tqf^2r^-2u^2v^4x^2 -8D^-2To^-2Tp^2Tq^2f^2r^-2u^2v^4x^2 -4D^-2To^-4Tp^4Tq^2fr^-2u^2v^4x^2 -8D^-2To^-2Tp^2Tqf^2r^-3uv^4x^2 -8D^-2To^-2Tp^2Tqf^2r^-1uv^4 +16D^-2To^-1Tp^2f^2r^-1uv^2v_tx -16D^-2To^-1Tp^2f^2r^-1suv^2v_t -16D^-2To^-1Tq^2f^2r^-1uv^2v_tx +16D^-2To^-1Tq^2f^2r^-1suv^2v_t +16D^-2To^-2Tpf^2r^-1uv^2v_tx -16D^-2To^-2Tpf^2r^-1suv^2v_t -16D^-2Tpf^2r^-1uv^2v_tx +16D^-2Tpf^2r^-1suv^2v_t -16D^-2To^-2Tqf^2r^-1uv^2v_tx +16D^-2To^-2Tqf^2r^-1suv^2v_t +16D^-2To^-2Tp^2Tqf^2r^-1uv^2v_tx -16D^-2To^-2Tp^2Tqf^2r^-1suv^2v_t -1D^-1To^-2Tp^4r^-2u^2v^2y^2 +2D^-1To^-2Tp^2Tq^2r^-2u^2v^2y^2 -2D^-1To^-3Tp^3r^-2u^2v^2y^2 +2D^-1To^-1Tp^3r^-2u^2v^2y^2 +2D^-1To^-3Tp^2Tqr^-2u^2v^2y^2 -2D^-1To^-3Tp^4Tqr^-2u^2v^2y^2 -1D^-1To^-2Tq^4r^-2u^2v^2y^2 +2D^-1To^-3TpTq^2r^-2u^2v^2y^2 -2D^-1To^-1TpTq^2r^-2u^2v^2y^2 -2D^-1To^-3Tq^3r^-2u^2v^2y^2 +2D^-1To^-3Tp^2Tq^3r^-2u^2v^2y^2 -1D^-1To^-4Tp^2r^-2u^2v^2y^2 +2D^-1To^-2Tp^2r^-2u^2v^2y^2 +2D^-1To^-4TpTqr^-2u^2v^2y^2 -2D^-1To^-4Tp^3Tqr^-2u^2v^2y^2 -1D^-1Tp^2r^-2u^2v^2y^2 -2D^-1To^-2TpTqr^-2u^2v^2y^2 +2D^-1To^-2Tp^3Tqr^-2u^2v^2y^2 -1D^-1To^-4Tq^2r^-2u^2v^2y^2 +2D^-1To^-4Tp^2Tq^2r^-2u^2v^2y^2 -1D^-1To^-4Tp^4Tq^2r^-2u^2v^2y^2 -2D^-2To^-2Tp^4f^2r^-2u^2v^4y^2 +4D^-2To^-2Tp^2Tq^2f^2r^-2u^2v^4y^2 -4D^-2To^-3Tp^3f^2r^-2u^2v^4y^2 +4D^-2To^-1Tp^3f^2r^-2u^2v^4y^2 +4D^-2To^-3Tp^2Tqf^2r^-2u^2v^4y^2 -4D^-2To^-3Tp^4Tqf^2r^-2u^2v^4y^2 -2D^-2To^-2Tq^4f^2r^-2u^2v^4y^2 +4D^-2To^-3TpTq^2f^2r^-2u^2v^4y^2 -4D^-2To^-1TpTq^2f^2r^-2u^2v^4y^2 -4D^-2To^-3Tq^3f^2r^-2u^2v^4y^2 +4D^-2To^-3Tp^2Tq^3f^2r^-2u^2v^4y^2 -2D^-2To^-4Tp^2f^2r^-2u^2v^4y^2 +4D^-2To^-2Tp^2f^2r^-2u^2v^4y^2 +4D^-2To^-4TpTqf^2r^-2u^2v^4y^2 -4D^-2To^-4Tp^3Tqf^2r^-2u^2v^4y^2 -2D^-2Tp^2f^2r^-2u^2v^4y^2 -4D^-2To^-2TpTqf^2r^-2u^2v^4y^2 +4D^-2To^-2Tp^3Tqf^2r^-2u^2v^4y^2 -2D^-2To^-4Tq^2f^2r^-2u^2v^4y^2 +4D^-2To^-4Tp^2Tq^2f^2r^-2u^2v^4y^2 -2D^-2To^-4Tp^4Tq^2f^2r^-2u^2v^4y^2 -1D^-1To^-2Tp^4r^-2u^2v^2z^2 +2D^-1To^-2Tp^2Tq^2r^-2u^2v^2z^2 -2D^-1To^-3Tp^3r^-2u^2v^2z^2 +2D^-1To^-1Tp^3r^-2u^2v^2z^2 +2D^-1To^-3Tp^2Tqr^-2u^2v^2z^2 -2D^-1To^-3Tp^4Tqr^-2u^2v^2z^2 -1D^-1To^-2Tq^4r^-2u^2v^2z^2 +2D^-1To^-3TpTq^2r^-2u^2v^2z^2 -2D^-1To^-1TpTq^2r^-2u^2v^2z^2 -2D^-1To^-3Tq^3r^-2u^2v^2z^2 +2D^-1To^-3Tp^2Tq^3r^-2u^2v^2z^2 -1D^-1To^-4Tp^2r^-2u^2v^2z^2 +2D^-1To^-2Tp^2r^-2u^2v^2z^2 +2D^-1To^-4TpTqr^-2u^2v^2z^2 -2D^-1To^-4Tp^3Tqr^-2u^2v^2z^2 -1D^-1Tp^2r^-2u^2v^2z^2 -2D^-1To^-2TpTqr^-2u^2v^2z^2 +2D^-1To^-2Tp^3Tqr^-2u^2v^2z^2 -1D^-1To^-4Tq^2r^-2u^2v^2z^2 +2D^-1To^-4Tp^2Tq^2r^-2u^2v^2z^2 -1D^-1To^-4Tp^4Tq^2r^-2u^2v^2z^2 -2D^-2To^-2Tp^4f^2r^-2u^2v^4z^2 +4D^-2To^-2Tp^2Tq^2f^2r^-2u^2v^4z^2 -4D^-2To^-3Tp^3f^2r^-2u^2v^4z^2 +4D^-2To^-1Tp^3f^2r^-2u^2v^4z^2 +4D^-2To^-3Tp^2Tqf^2r^-2u^2v^4z^2 -4D^-2To^-3Tp^4Tqf^2r^-2u^2v^4z^2 -2D^-2To^-2Tq^4f^2r^-2u^2v^4z^2 +4D^-2To^-3TpTq^2f^2r^-2u^2v^4z^2 -4D^-2To^-1TpTq^2f^2r^-2u^2v^4z^2 -4D^-2To^-3Tq^3f^2r^-2u^2v^4z^2 +4D^-2To^-3Tp^2Tq^3f^2r^-2u^2v^4z^2 -2D^-2To^-4Tp^2f^2r^-2u^2v^4z^2 +4D^-2To^-2Tp^2f^2r^-2u^2v^4z^2 +4D^-2To^-4TpTqf^2r^-2u^2v^4z^2 -4D^-2To^-4Tp^3Tqf^2r^-2u^2v^4z^2 -2D^-2Tp^2f^2r^-2u^2v^4z^2 -4D^-2To^-2TpTqf^2r^-2u^2v^4z^2 +4D^-2To^-2Tp^3Tqf^2r^-2u^2v^4z^2 -2D^-2To^-4Tq^2f^2r^-2u^2v^4z^2 +4D^-2To^-4Tp^2Tq^2f^2r^-2u^2v^4z^2 -2D^-2To^-4Tp^4Tq^2f^2r^-2u^2v^4z^2'"
      ]
     },
     "execution_count": 77,
     "metadata": {},
     "output_type": "execute_result"
    }
   ],
   "source": [
    "warp_scalar = Ricci_Scalar(Alc,Alc_con)\n",
    "contract(warp_scalar)"
   ]
  },
  {
   "cell_type": "code",
   "execution_count": 78,
   "metadata": {},
   "outputs": [
    {
     "ename": "KeyboardInterrupt",
     "evalue": "",
     "output_type": "error",
     "traceback": [
      "\u001b[0;31m---------------------------------------------------------------------------\u001b[0m",
      "\u001b[0;31mKeyboardInterrupt\u001b[0m                         Traceback (most recent call last)",
      "\u001b[0;32m<ipython-input-78-f219ff83ebf9>\u001b[0m in \u001b[0;36m<module>\u001b[0;34m\u001b[0m\n\u001b[1;32m      3\u001b[0m \u001b[0mwarp_simplified\u001b[0m \u001b[0;34m=\u001b[0m \u001b[0msubstitute\u001b[0m\u001b[0;34m(\u001b[0m\u001b[0mwarp_simplified\u001b[0m\u001b[0;34m,\u001b[0m\u001b[0;34m'f'\u001b[0m\u001b[0;34m,\u001b[0m\u001b[0mf\u001b[0m\u001b[0;34m)\u001b[0m \u001b[0;31m#replace F with (Tp-Tq)/2To\u001b[0m\u001b[0;34m\u001b[0m\u001b[0;34m\u001b[0m\u001b[0m\n\u001b[1;32m      4\u001b[0m \u001b[0mwarp_simplified\u001b[0m \u001b[0;34m=\u001b[0m \u001b[0mmulti\u001b[0m\u001b[0;34m(\u001b[0m\u001b[0;34m[\u001b[0m\u001b[0mP\u001b[0m\u001b[0;34m(\u001b[0m\u001b[0;34m'r^-2'\u001b[0m\u001b[0;34m)\u001b[0m\u001b[0;34m,\u001b[0m\u001b[0mr_squared\u001b[0m\u001b[0;34m,\u001b[0m\u001b[0mwarp_simplified\u001b[0m\u001b[0;34m]\u001b[0m\u001b[0;34m)\u001b[0m \u001b[0;31m# replace r^2\u001b[0m\u001b[0;34m\u001b[0m\u001b[0;34m\u001b[0m\u001b[0m\n\u001b[0;32m----> 5\u001b[0;31m \u001b[0mwarp_simplified\u001b[0m \u001b[0;34m=\u001b[0m \u001b[0msubstitute\u001b[0m\u001b[0;34m(\u001b[0m\u001b[0mwarp_simplified\u001b[0m\u001b[0;34m,\u001b[0m\u001b[0;34m'b'\u001b[0m\u001b[0;34m,\u001b[0m\u001b[0mP\u001b[0m\u001b[0;34m(\u001b[0m\u001b[0;34m'{}'\u001b[0m\u001b[0;34m.\u001b[0m\u001b[0mformat\u001b[0m\u001b[0;34m(\u001b[0m\u001b[0;36m1\u001b[0m\u001b[0;34m/\u001b[0m\u001b[0;36m3\u001b[0m\u001b[0;34m)\u001b[0m\u001b[0;34m)\u001b[0m\u001b[0;34m)\u001b[0m \u001b[0;31m#replace b with 1/3\u001b[0m\u001b[0;34m\u001b[0m\u001b[0;34m\u001b[0m\u001b[0m\n\u001b[0m\u001b[1;32m      6\u001b[0m \u001b[0;34m\u001b[0m\u001b[0m\n\u001b[1;32m      7\u001b[0m \u001b[0mprint\u001b[0m \u001b[0;34m(\u001b[0m\u001b[0;34m'1/D^2 * ...'\u001b[0m\u001b[0;34m)\u001b[0m\u001b[0;34m\u001b[0m\u001b[0;34m\u001b[0m\u001b[0m\n",
      "\u001b[0;32m<ipython-input-13-c04112456508>\u001b[0m in \u001b[0;36msubstitute\u001b[0;34m(P1, function, substitution)\u001b[0m\n\u001b[1;32m    304\u001b[0m             \u001b[0;32mfor\u001b[0m \u001b[0mj\u001b[0m \u001b[0;32min\u001b[0m \u001b[0mrange\u001b[0m\u001b[0;34m(\u001b[0m\u001b[0mpower\u001b[0m\u001b[0;34m)\u001b[0m\u001b[0;34m:\u001b[0m\u001b[0;34m\u001b[0m\u001b[0;34m\u001b[0m\u001b[0m\n\u001b[1;32m    305\u001b[0m                 \u001b[0mnew_P\u001b[0m \u001b[0;34m=\u001b[0m \u001b[0mmult\u001b[0m\u001b[0;34m(\u001b[0m\u001b[0mnew_P\u001b[0m\u001b[0;34m,\u001b[0m\u001b[0msubstitution\u001b[0m\u001b[0;34m)\u001b[0m\u001b[0;34m\u001b[0m\u001b[0;34m\u001b[0m\u001b[0m\n\u001b[0;32m--> 306\u001b[0;31m         \u001b[0msubstituted\u001b[0m \u001b[0;34m=\u001b[0m \u001b[0madd\u001b[0m\u001b[0;34m(\u001b[0m\u001b[0msubstituted\u001b[0m\u001b[0;34m,\u001b[0m\u001b[0mnew_P\u001b[0m\u001b[0;34m)\u001b[0m\u001b[0;34m\u001b[0m\u001b[0;34m\u001b[0m\u001b[0m\n\u001b[0m\u001b[1;32m    307\u001b[0m     \u001b[0;32mreturn\u001b[0m \u001b[0msimplify\u001b[0m\u001b[0;34m(\u001b[0m\u001b[0msubstituted\u001b[0m\u001b[0;34m)\u001b[0m\u001b[0;34m\u001b[0m\u001b[0;34m\u001b[0m\u001b[0m\n\u001b[1;32m    308\u001b[0m \u001b[0;34m\u001b[0m\u001b[0m\n",
      "\u001b[0;32m<ipython-input-13-c04112456508>\u001b[0m in \u001b[0;36madd\u001b[0;34m(P1, P2)\u001b[0m\n\u001b[1;32m    115\u001b[0m     \u001b[0;32mfor\u001b[0m \u001b[0meach\u001b[0m \u001b[0;32min\u001b[0m \u001b[0mP2\u001b[0m\u001b[0;34m:\u001b[0m\u001b[0;34m\u001b[0m\u001b[0;34m\u001b[0m\u001b[0m\n\u001b[1;32m    116\u001b[0m         \u001b[0madded\u001b[0m\u001b[0;34m.\u001b[0m\u001b[0mappend\u001b[0m\u001b[0;34m(\u001b[0m\u001b[0meach\u001b[0m\u001b[0;34m)\u001b[0m\u001b[0;34m\u001b[0m\u001b[0;34m\u001b[0m\u001b[0m\n\u001b[0;32m--> 117\u001b[0;31m     \u001b[0;32mreturn\u001b[0m \u001b[0msimplify\u001b[0m\u001b[0;34m(\u001b[0m\u001b[0madded\u001b[0m\u001b[0;34m)\u001b[0m\u001b[0;34m\u001b[0m\u001b[0;34m\u001b[0m\u001b[0m\n\u001b[0m\u001b[1;32m    118\u001b[0m \u001b[0;34m\u001b[0m\u001b[0m\n\u001b[1;32m    119\u001b[0m \u001b[0;32mdef\u001b[0m \u001b[0maddi\u001b[0m\u001b[0;34m(\u001b[0m\u001b[0mpolys\u001b[0m\u001b[0;34m)\u001b[0m\u001b[0;34m:\u001b[0m\u001b[0;34m\u001b[0m\u001b[0;34m\u001b[0m\u001b[0m\n",
      "\u001b[0;32m<ipython-input-13-c04112456508>\u001b[0m in \u001b[0;36msimplify\u001b[0;34m(P)\u001b[0m\n\u001b[1;32m    198\u001b[0m     \u001b[0mP\u001b[0m \u001b[0;34m=\u001b[0m \u001b[0msplit_complex\u001b[0m\u001b[0;34m(\u001b[0m\u001b[0mP\u001b[0m\u001b[0;34m)\u001b[0m\u001b[0;34m\u001b[0m\u001b[0;34m\u001b[0m\u001b[0m\n\u001b[1;32m    199\u001b[0m     \u001b[0mP\u001b[0m \u001b[0;34m=\u001b[0m \u001b[0mremove_raised_0\u001b[0m\u001b[0;34m(\u001b[0m\u001b[0mP\u001b[0m\u001b[0;34m)\u001b[0m\u001b[0;34m\u001b[0m\u001b[0;34m\u001b[0m\u001b[0m\n\u001b[0;32m--> 200\u001b[0;31m     \u001b[0mP\u001b[0m \u001b[0;34m=\u001b[0m \u001b[0mcombine_like_terms\u001b[0m\u001b[0;34m(\u001b[0m\u001b[0mP\u001b[0m\u001b[0;34m)\u001b[0m\u001b[0;34m\u001b[0m\u001b[0;34m\u001b[0m\u001b[0m\n\u001b[0m\u001b[1;32m    201\u001b[0m     \u001b[0;32mreturn\u001b[0m \u001b[0mP\u001b[0m\u001b[0;34m\u001b[0m\u001b[0;34m\u001b[0m\u001b[0m\n\u001b[1;32m    202\u001b[0m \u001b[0;34m\u001b[0m\u001b[0m\n",
      "\u001b[0;32m<ipython-input-13-c04112456508>\u001b[0m in \u001b[0;36mcombine_like_terms\u001b[0;34m(P)\u001b[0m\n\u001b[1;32m    190\u001b[0m             \u001b[0mcoeff\u001b[0m \u001b[0;34m=\u001b[0m \u001b[0mint\u001b[0m\u001b[0;34m(\u001b[0m\u001b[0mcoeff\u001b[0m\u001b[0;34m.\u001b[0m\u001b[0mimag\u001b[0m\u001b[0;34m)\u001b[0m\u001b[0;34m*\u001b[0m\u001b[0;36m1j\u001b[0m\u001b[0;34m\u001b[0m\u001b[0;34m\u001b[0m\u001b[0m\n\u001b[1;32m    191\u001b[0m         \u001b[0;32mif\u001b[0m \u001b[0mlike_terms\u001b[0m\u001b[0;34m[\u001b[0m\u001b[0meach\u001b[0m\u001b[0;34m]\u001b[0m \u001b[0;34m!=\u001b[0m \u001b[0;36m0\u001b[0m\u001b[0;34m:\u001b[0m\u001b[0;34m\u001b[0m\u001b[0;34m\u001b[0m\u001b[0m\n\u001b[0;32m--> 192\u001b[0;31m             \u001b[0mcollapsed\u001b[0m\u001b[0;34m.\u001b[0m\u001b[0mappend\u001b[0m\u001b[0;34m(\u001b[0m\u001b[0;34m[\u001b[0m\u001b[0mcoeff\u001b[0m\u001b[0;34m,\u001b[0m\u001b[0mvarpow\u001b[0m\u001b[0;34m[\u001b[0m\u001b[0;36m0\u001b[0m\u001b[0;34m]\u001b[0m\u001b[0;34m,\u001b[0m\u001b[0mvarpow\u001b[0m\u001b[0;34m[\u001b[0m\u001b[0;36m1\u001b[0m\u001b[0;34m]\u001b[0m\u001b[0;34m]\u001b[0m\u001b[0;34m)\u001b[0m\u001b[0;34m\u001b[0m\u001b[0;34m\u001b[0m\u001b[0m\n\u001b[0m\u001b[1;32m    193\u001b[0m     \u001b[0;32mif\u001b[0m \u001b[0mcollapsed\u001b[0m \u001b[0;34m==\u001b[0m \u001b[0;34m[\u001b[0m\u001b[0;34m]\u001b[0m\u001b[0;34m:\u001b[0m\u001b[0;34m\u001b[0m\u001b[0;34m\u001b[0m\u001b[0m\n\u001b[1;32m    194\u001b[0m         \u001b[0;32mreturn\u001b[0m \u001b[0;34m[\u001b[0m\u001b[0;34m[\u001b[0m\u001b[0;36m0\u001b[0m\u001b[0;34m,\u001b[0m\u001b[0;34m[\u001b[0m\u001b[0;34m]\u001b[0m\u001b[0;34m,\u001b[0m\u001b[0;34m[\u001b[0m\u001b[0;34m]\u001b[0m\u001b[0;34m]\u001b[0m\u001b[0;34m]\u001b[0m\u001b[0;34m\u001b[0m\u001b[0;34m\u001b[0m\u001b[0m\n",
      "\u001b[0;31mKeyboardInterrupt\u001b[0m: "
     ]
    }
   ],
   "source": [
    "warp_simplified = warp_scalar\n",
    "warp_simplified = substitute(mult(P('D^2'),warp_simplified),'D',P('3v^2f^2')) #factor out a 1/D^2\n",
    "warp_simplified = substitute(warp_simplified,'f',f) #replace F with (Tp-Tq)/2To\n",
    "warp_simplified = multi([P('r^-2'),r_squared,warp_simplified]) # replace r^2\n",
    "warp_simplified = substitute(warp_simplified,'b',P('{}'.format(1/3))) #replace b with 1/3\n",
    "\n",
    "print ('1/D^2 * ...')\n",
    "print(contract(warp_simplified))"
   ]
  },
  {
   "cell_type": "code",
   "execution_count": null,
   "metadata": {},
   "outputs": [],
   "source": []
  },
  {
   "cell_type": "code",
   "execution_count": null,
   "metadata": {},
   "outputs": [],
   "source": []
  },
  {
   "cell_type": "markdown",
   "metadata": {},
   "source": [
    "# Same but keeping in terms of $ \\frac{df}{dr_s} = F \\hspace{3pc} (\\det(g_{\\mu\\nu}))^2 = D^2$"
   ]
  },
  {
   "cell_type": "code",
   "execution_count": 79,
   "metadata": {},
   "outputs": [],
   "source": [
    "#c = 1\n",
    "alc0 = [['1bD - 4b', '-2vf', '0', '0'], \\\n",
    "        [ '-2vf', '1', '0', '0'], \\\n",
    "        [ '0', '0', '1', '0'], \\\n",
    "        [ '0', '0', '0', '1']]\n",
    "\n",
    "alc_con0 = [['-1D^-1', '-2vfD^-1', '0', '0'], \\\n",
    "            [ '-2vfD^-1', '-1b + 4bD^-1', '0', '0'], \\\n",
    "            [ '0', '0', '1', '0'], \\\n",
    "            [ '0', '0', '0', '1']]\n",
    "\n",
    "#================\n",
    "\n",
    "r_squared = P('x^2+s^2-2sx+y^2+z^2')\n",
    "\n",
    "Chains = {'t':{'s':'v','v':'v_t', 'v_t':'v_tt'}, 'x':{}, 'y':{}, 'z':{}}\n",
    "\n",
    "dt_r = mult( [[-.5,['r'],[-1]]] , partial('t',r_squared) )\n",
    "dx_r = mult( [[-.5,['r'],[-1]]] , partial('x',r_squared) )\n",
    "dy_r = mult( [[-.5,['r'],[-1]]] , partial('y',r_squared) )\n",
    "dz_r = mult( [[-.5,['r'],[-1]]] , partial('z',r_squared) )\n",
    "\n",
    "dt_f = mult(dt_r,[[1,['F'],[1]]])\n",
    "dx_f = mult(dx_r,[[1,['F'],[1]]])\n",
    "dy_f = mult(dy_r,[[1,['F'],[1]]])\n",
    "dz_f = mult(dz_r,[[1,['F'],[1]]])\n",
    "\n",
    "#================\n",
    "\n",
    "Chains = { \\\n",
    "             't':{'s':'v', 'v':'v_t', 'v_t':'v_tt',\\\n",
    "                  'f':dt_f},\\\n",
    "             'x':{'f':dx_f},\\\n",
    "             'y':{'f':dy_f},\\\n",
    "             'z':{'f':dz_f} \\\n",
    "             }\n",
    "\n",
    "Alc     = matrix_convert(alc0)\n",
    "Alc_con = matrix_convert(alc_con0)"
   ]
  },
  {
   "cell_type": "code",
   "execution_count": 80,
   "metadata": {},
   "outputs": [
    {
     "data": {
      "text/plain": [
       "[['-4D^-1Ffr^-1sv^3 +4D^-1Ffr^-1v^3x +4D^-1f^2vv_t',\n",
       "  '0',\n",
       "  '-2D^-1Ffr^-1v^2y',\n",
       "  '-2D^-1Ffr^-1v^2z'],\n",
       " ['0', '-2D^-1Fr^-1vx +2D^-1Fr^-1sv', '-1D^-1Fr^-1vy', '-1D^-1Fr^-1vz'],\n",
       " ['-2D^-1Ffr^-1v^2y', '-1D^-1Fr^-1vy', '0', '0'],\n",
       " ['-2D^-1Ffr^-1v^2z', '-1D^-1Fr^-1vz', '0', '0']]"
      ]
     },
     "execution_count": 80,
     "metadata": {},
     "output_type": "execute_result"
    }
   ],
   "source": [
    "matrix_convert(Christoffel(Alc,Alc_con)[0])"
   ]
  },
  {
   "cell_type": "code",
   "execution_count": 81,
   "metadata": {},
   "outputs": [
    {
     "data": {
      "text/plain": [
       "[['-2Fbr^-1sv^2 +2Fbr^-1v^2x +2bfv_t +8D^-1Fbr^-1sv^2 -8D^-1Fbr^-1v^2x -8D^-1bfv_t',\n",
       "  '0',\n",
       "  '-1Fbr^-1vy +4D^-1Fbr^-1vy',\n",
       "  '-1Fbr^-1vz +4D^-1Fbr^-1vz'],\n",
       " ['0',\n",
       "  '-4D^-1Ffr^-1v^2x +4D^-1Ffr^-1sv^2',\n",
       "  '-2D^-1Ffr^-1v^2y',\n",
       "  '-2D^-1Ffr^-1v^2z'],\n",
       " ['-1Fbr^-1vy +4D^-1Fbr^-1vy', '-2D^-1Ffr^-1v^2y', '0', '0'],\n",
       " ['-1Fbr^-1vz +4D^-1Fbr^-1vz', '-2D^-1Ffr^-1v^2z', '0', '0']]"
      ]
     },
     "execution_count": 81,
     "metadata": {},
     "output_type": "execute_result"
    }
   ],
   "source": [
    "matrix_convert(Christoffel(Alc,Alc_con)[1])"
   ]
  },
  {
   "cell_type": "code",
   "execution_count": 82,
   "metadata": {},
   "outputs": [
    {
     "data": {
      "text/plain": [
       "[['0', '-1Fr^-1vy', '0', '0'],\n",
       " ['-1Fr^-1vy', '0', '0', '0'],\n",
       " ['0', '0', '0', '0'],\n",
       " ['0', '0', '0', '0']]"
      ]
     },
     "execution_count": 82,
     "metadata": {},
     "output_type": "execute_result"
    }
   ],
   "source": [
    "matrix_convert(Christoffel(Alc,Alc_con)[2])"
   ]
  },
  {
   "cell_type": "code",
   "execution_count": 83,
   "metadata": {},
   "outputs": [
    {
     "data": {
      "text/plain": [
       "[['0', '-1Fr^-1vz', '0', '0'],\n",
       " ['-1Fr^-1vz', '0', '0', '0'],\n",
       " ['0', '0', '0', '0'],\n",
       " ['0', '0', '0', '0']]"
      ]
     },
     "execution_count": 83,
     "metadata": {},
     "output_type": "execute_result"
    }
   ],
   "source": [
    "matrix_convert(Christoffel(Alc,Alc_con)[3])"
   ]
  },
  {
   "cell_type": "code",
   "execution_count": 84,
   "metadata": {},
   "outputs": [
    {
     "data": {
      "text/plain": [
       "[['2Fbr^-1v^2 -2Fbr^-1v_tx +2Fbr^-1sv_t -8D^-1Fbr^-1v^2 +8D^-1Fbr^-1v_tx -8D^-1Fbr^-1sv_t +16D^-1F^2bfr^-2sv^4x -8D^-1F^2bfr^-2v^4x^2 -8D^-1Fbf^2r^-1v^2v_tx -64D^-2F^2bfr^-2sv^4x +32D^-2F^2bfr^-2v^4x^2 +32D^-2Fbf^2r^-1v^2v_tx -8D^-1F^2bfr^-2s^2v^4 +8D^-1Fbf^2r^-1sv^2v_t +32D^-2F^2bfr^-2s^2v^4 -32D^-2Fbf^2r^-1sv^2v_t -2F^2br^-2v^2y^2 +8D^-1F^2br^-2v^2y^2 -2F^2br^-2v^2z^2 +8D^-1F^2br^-2v^2z^2',\n",
       "  '-2Fr^-1v -8D^-1F^2r^-2sv^3x +4D^-1F^2r^-2s^2v^3 +4D^-1F^2r^-2v^3x^2 -4D^-1Ffr^-1v^3 +8D^-1Ffr^-1vv_tx -8D^-1Ffr^-1svv_t -8D^-1F^2br^-2sv^3x +4D^-1F^2br^-2v^3x^2 +4D^-1Fbfr^-1vv_tx +32D^-2F^2br^-2sv^3x -16D^-2F^2br^-2v^3x^2 -16D^-2Fbfr^-1vv_tx +4D^-1F^2br^-2s^2v^3 -4D^-1Fbfr^-1svv_t -16D^-2F^2br^-2s^2v^3 +16D^-2Fbfr^-1svv_t',\n",
       "  '-2D^-1F^2r^-2sv^3y +2D^-1F^2r^-2v^3xy +4D^-1Ffr^-1vv_ty +4D^-1F^2bfr^-2v^3xy -16D^-2F^2bfr^-2v^3xy -4D^-1F^2bfr^-2sv^3y +16D^-2F^2bfr^-2sv^3y -2D^-1F^2br^-2sv^3y +2D^-1F^2br^-2v^3xy +2D^-1Fbfr^-1vv_ty +8D^-2F^2br^-2sv^3y -8D^-2F^2br^-2v^3xy -8D^-2Fbfr^-1vv_ty',\n",
       "  '-2D^-1F^2r^-2sv^3z +2D^-1F^2r^-2v^3xz +4D^-1Ffr^-1vv_tz +4D^-1F^2bfr^-2v^3xz -16D^-2F^2bfr^-2v^3xz -4D^-1F^2bfr^-2sv^3z +16D^-2F^2bfr^-2sv^3z -2D^-1F^2br^-2sv^3z +2D^-1F^2br^-2v^3xz +2D^-1Fbfr^-1vv_tz +8D^-2F^2br^-2sv^3z -8D^-2F^2br^-2v^3xz -8D^-2Fbfr^-1vv_tz'],\n",
       " ['-2Fr^-1v -8D^-1F^2r^-2sv^3x +4D^-1F^2r^-2v^3x^2 +8D^-1Ffr^-1vv_tx +4D^-1F^2r^-2s^2v^3 -4D^-1Ffr^-1v^3 -8D^-1Ffr^-1svv_t -8D^-1F^2br^-2sv^3x +4D^-1F^2br^-2s^2v^3 +4D^-1F^2br^-2v^3x^2 +4D^-1Fbfr^-1vv_tx -4D^-1Fbfr^-1svv_t +32D^-2F^2br^-2sv^3x -16D^-2F^2br^-2s^2v^3 -16D^-2F^2br^-2v^3x^2 -16D^-2Fbfr^-1vv_tx +16D^-2Fbfr^-1svv_t',\n",
       "  '-2D^-1Fr^-1v_tx +2D^-1Fr^-1v^2 +2D^-1Fr^-1sv_t +16D^-2F^2fr^-2sv^4x -8D^-2F^2fr^-2s^2v^4 -8D^-2F^2fr^-2v^4x^2 -8D^-2Ff^2r^-1v^2v_tx +8D^-2Ff^2r^-1sv^2v_t -2D^-1F^2r^-2v^2y^2 -2D^-1F^2r^-2v^2z^2',\n",
       "  '-1D^-1Fr^-1v_ty -2D^-1F^2r^-2v^2xy +2D^-1F^2r^-2sv^2y +4D^-2F^2fr^-2sv^4y -4D^-2F^2fr^-2v^4xy -4D^-2Ff^2r^-1v^2v_ty -2D^-1F^2br^-2v^2xy +2D^-1F^2br^-2sv^2y +8D^-2F^2br^-2v^2xy -8D^-2F^2br^-2sv^2y',\n",
       "  '-1D^-1Fr^-1v_tz -2D^-1F^2r^-2v^2xz +2D^-1F^2r^-2sv^2z +4D^-2F^2fr^-2sv^4z -4D^-2F^2fr^-2v^4xz -4D^-2Ff^2r^-1v^2v_tz -2D^-1F^2br^-2v^2xz +2D^-1F^2br^-2sv^2z +8D^-2F^2br^-2v^2xz -8D^-2F^2br^-2sv^2z'],\n",
       " ['-2D^-1F^2r^-2sv^3y +2D^-1F^2r^-2v^3xy +4D^-1Ffr^-1vv_ty +4D^-1F^2bfr^-2v^3xy -16D^-2F^2bfr^-2v^3xy -4D^-1F^2bfr^-2sv^3y +16D^-2F^2bfr^-2sv^3y -2D^-1F^2br^-2sv^3y +2D^-1F^2br^-2v^3xy +2D^-1Fbfr^-1vv_ty +8D^-2F^2br^-2sv^3y -8D^-2F^2br^-2v^3xy -8D^-2Fbfr^-1vv_ty',\n",
       "  '-1D^-1Fr^-1v_ty -2D^-1F^2r^-2v^2xy +2D^-1F^2r^-2sv^2y +4D^-2F^2fr^-2sv^4y -4D^-2F^2fr^-2v^4xy -4D^-2Ff^2r^-1v^2v_ty -2D^-1F^2br^-2v^2xy +8D^-2F^2br^-2v^2xy +2D^-1F^2br^-2sv^2y -8D^-2F^2br^-2sv^2y',\n",
       "  '-4D^-1F^2r^-2v^2y^2 +4D^-1Ffr^-1v^2 -8D^-2F^2f^2r^-2v^4y^2 -2D^-1F^2br^-2v^2y^2 +8D^-2F^2br^-2v^2y^2',\n",
       "  '-4D^-1F^2r^-2v^2yz -8D^-2F^2f^2r^-2v^4yz -2D^-1F^2br^-2v^2yz +8D^-2F^2br^-2v^2yz'],\n",
       " ['-2D^-1F^2r^-2sv^3z +2D^-1F^2r^-2v^3xz +4D^-1Ffr^-1vv_tz +4D^-1F^2bfr^-2v^3xz -16D^-2F^2bfr^-2v^3xz -4D^-1F^2bfr^-2sv^3z +16D^-2F^2bfr^-2sv^3z -2D^-1F^2br^-2sv^3z +2D^-1F^2br^-2v^3xz +2D^-1Fbfr^-1vv_tz +8D^-2F^2br^-2sv^3z -8D^-2F^2br^-2v^3xz -8D^-2Fbfr^-1vv_tz',\n",
       "  '-1D^-1Fr^-1v_tz -2D^-1F^2r^-2v^2xz +2D^-1F^2r^-2sv^2z +4D^-2F^2fr^-2sv^4z -4D^-2F^2fr^-2v^4xz -4D^-2Ff^2r^-1v^2v_tz -2D^-1F^2br^-2v^2xz +8D^-2F^2br^-2v^2xz +2D^-1F^2br^-2sv^2z -8D^-2F^2br^-2sv^2z',\n",
       "  '-4D^-1F^2r^-2v^2yz -8D^-2F^2f^2r^-2v^4yz -2D^-1F^2br^-2v^2yz +8D^-2F^2br^-2v^2yz',\n",
       "  '-4D^-1F^2r^-2v^2z^2 +4D^-1Ffr^-1v^2 -8D^-2F^2f^2r^-2v^4z^2 -2D^-1F^2br^-2v^2z^2 +8D^-2F^2br^-2v^2z^2']]"
      ]
     },
     "execution_count": 84,
     "metadata": {},
     "output_type": "execute_result"
    }
   ],
   "source": [
    "R_Tensor = Ricci_Tensor(Alc,Alc_con)\n",
    "matrix_convert(R_Tensor)"
   ]
  },
  {
   "cell_type": "code",
   "execution_count": 85,
   "metadata": {},
   "outputs": [
    {
     "data": {
      "text/plain": [
       "'-4D^-1Fbr^-1v^2 +4D^-1Fbr^-1v_tx -4D^-1Fbr^-1sv_t +16D^-2Fbr^-1v^2 -16D^-2Fbr^-1v_tx +16D^-2Fbr^-1sv_t +2D^-1F^2br^-2v^2y^2 -8D^-2F^2br^-2v^2y^2 +2D^-1F^2br^-2v^2z^2 -8D^-2F^2br^-2v^2z^2 +16D^-1Ffr^-1v^2 +32D^-2F^2fr^-2sv^4x -16D^-2F^2fr^-2s^2v^4 -16D^-2F^2fr^-2v^4x^2 +16D^-2Ff^2r^-1v^4 -32D^-2Ff^2r^-1v^2v_tx +32D^-2Ff^2r^-1sv^2v_t -4D^-1F^2r^-2v^2y^2 -8D^-2F^2f^2r^-2v^4y^2 -4D^-1F^2r^-2v^2z^2 -8D^-2F^2f^2r^-2v^4z^2'"
      ]
     },
     "execution_count": 85,
     "metadata": {},
     "output_type": "execute_result"
    }
   ],
   "source": [
    "warp_scalar = Ricci_Scalar(Alc,Alc_con)\n",
    "contract(warp_scalar)"
   ]
  },
  {
   "cell_type": "code",
   "execution_count": 86,
   "metadata": {},
   "outputs": [
    {
     "name": "stdout",
     "output_type": "stream",
     "text": [
      "1/(rD)^2 * (12Ff^2rv^4 -28Ff^2rv^2v_tx +28Ff^2rsv^2v_t +5.333333333333333Frv^2 -5.333333333333333Frv_tx +5.333333333333333Frsv_t -18F^2f^2v^4y^2 -2.6666666666666665F^2v^2y^2 -18F^2f^2v^4z^2 -2.6666666666666665F^2v^2z^2 +48Ff^3rv^4 +32F^2fsv^4x -16F^2fs^2v^4 -16F^2fv^4x^2)\n",
      "\n"
     ]
    }
   ],
   "source": [
    "warp_simplified = warp_scalar\n",
    "warp_simplified = substitute(mult(P('D^2'),warp_simplified),'D',P('3v^2f^2')) #factor out a 1/D^2\n",
    "warp_simplified = mult(P('r^2'),warp_simplified) #factor out a 1/r^2\n",
    "warp_simplified = substitute(warp_simplified,'b',P('{}'.format(1/3))) #replace b with 1/3\n",
    "\n",
    "print ('1/(rD)^2 * (' + contract(warp_simplified) +')')\n",
    "print()"
   ]
  },
  {
   "cell_type": "code",
   "execution_count": 87,
   "metadata": {},
   "outputs": [
    {
     "data": {
      "text/plain": [
       "[['2Fbr^-1v^2 -2Fbr^-1v_tx +2Fbr^-1sv_t -8D^-1Fbr^-1v^2 +8D^-1Fbr^-1v_tx -8D^-1Fbr^-1sv_t +8D^-1Fbf^2r^-1v^2v_tx -32D^-2Fbf^2r^-1v^2v_tx -8D^-1Fbf^2r^-1sv^2v_t +32D^-2Fbf^2r^-1sv^2v_t +2Fb^2r^-1v^2 -2Fb^2r^-1v_tx +2Fb^2r^-1sv_t -16D^-1Fb^2r^-1v^2 +16D^-1Fb^2r^-1v_tx -16D^-1Fb^2r^-1sv_t -1F^2b^2r^-2v^2y^2 +8D^-1F^2b^2r^-2v^2y^2 -1F^2b^2r^-2v^2z^2 +8D^-1F^2b^2r^-2v^2z^2 -8Fbfr^-1v^2 -8D^-1Fbf^2r^-1v^4 +4D^-1F^2bf^2r^-2v^4y^2 +4D^-1F^2bf^2r^-2v^4z^2 +32D^-2Fb^2r^-1v^2 -32D^-2Fb^2r^-1v_tx +32D^-2Fb^2r^-1sv_t -16D^-2F^2b^2r^-2v^2y^2 -16D^-2F^2b^2r^-2v^2z^2 +32D^-1Fbfr^-1v^2 +32D^-2Fbf^2r^-1v^4 -16D^-2F^2bf^2r^-2v^4y^2 -16D^-2F^2bf^2r^-2v^4z^2',\n",
       "  '-2Fr^-1v -8D^-1F^2r^-2sv^3x +4D^-1F^2r^-2s^2v^3 +4D^-1F^2r^-2v^3x^2 -4D^-1Ffr^-1v^3 +8D^-1Ffr^-1vv_tx -8D^-1Ffr^-1svv_t -8D^-1F^2br^-2sv^3x +4D^-1F^2br^-2v^3x^2 +8D^-1Fbfr^-1vv_tx +32D^-2F^2br^-2sv^3x -16D^-2F^2br^-2v^3x^2 -32D^-2Fbfr^-1vv_tx +4D^-1F^2br^-2s^2v^3 -8D^-1Fbfr^-1svv_t -16D^-2F^2br^-2s^2v^3 +32D^-2Fbfr^-1svv_t -4D^-1Fbfr^-1v^3 +16D^-2Fbfr^-1v^3 +2D^-1F^2bfr^-2v^3y^2 -8D^-2F^2bfr^-2v^3y^2 +2D^-1F^2bfr^-2v^3z^2 -8D^-2F^2bfr^-2v^3z^2 +16D^-1Ff^2r^-1v^3 +32D^-2F^2f^2r^-2sv^5x -16D^-2F^2f^2r^-2s^2v^5 -16D^-2F^2f^2r^-2v^5x^2 +16D^-2Ff^3r^-1v^5 -32D^-2Ff^3r^-1v^3v_tx +32D^-2Ff^3r^-1sv^3v_t -4D^-1F^2fr^-2v^3y^2 -8D^-2F^2f^3r^-2v^5y^2 -4D^-1F^2fr^-2v^3z^2 -8D^-2F^2f^3r^-2v^5z^2',\n",
       "  '-2D^-1F^2r^-2sv^3y +2D^-1F^2r^-2v^3xy +4D^-1Ffr^-1vv_ty +4D^-1F^2bfr^-2v^3xy -16D^-2F^2bfr^-2v^3xy -4D^-1F^2bfr^-2sv^3y +16D^-2F^2bfr^-2sv^3y -2D^-1F^2br^-2sv^3y +2D^-1F^2br^-2v^3xy +2D^-1Fbfr^-1vv_ty +8D^-2F^2br^-2sv^3y -8D^-2F^2br^-2v^3xy -8D^-2Fbfr^-1vv_ty',\n",
       "  '-2D^-1F^2r^-2sv^3z +2D^-1F^2r^-2v^3xz +4D^-1Ffr^-1vv_tz +4D^-1F^2bfr^-2v^3xz -16D^-2F^2bfr^-2v^3xz -4D^-1F^2bfr^-2sv^3z +16D^-2F^2bfr^-2sv^3z -2D^-1F^2br^-2sv^3z +2D^-1F^2br^-2v^3xz +2D^-1Fbfr^-1vv_tz +8D^-2F^2br^-2sv^3z -8D^-2F^2br^-2v^3xz -8D^-2Fbfr^-1vv_tz'],\n",
       " ['-2Fr^-1v -8D^-1F^2r^-2sv^3x +4D^-1F^2r^-2v^3x^2 +8D^-1Ffr^-1vv_tx +4D^-1F^2r^-2s^2v^3 -4D^-1Ffr^-1v^3 -8D^-1Ffr^-1svv_t -8D^-1F^2br^-2sv^3x +4D^-1F^2br^-2s^2v^3 +4D^-1F^2br^-2v^3x^2 +8D^-1Fbfr^-1vv_tx -8D^-1Fbfr^-1svv_t +32D^-2F^2br^-2sv^3x -16D^-2F^2br^-2s^2v^3 -16D^-2F^2br^-2v^3x^2 -32D^-2Fbfr^-1vv_tx +32D^-2Fbfr^-1svv_t -4D^-1Fbfr^-1v^3 +16D^-2Fbfr^-1v^3 +2D^-1F^2bfr^-2v^3y^2 -8D^-2F^2bfr^-2v^3y^2 +2D^-1F^2bfr^-2v^3z^2 -8D^-2F^2bfr^-2v^3z^2 +16D^-1Ff^2r^-1v^3 +32D^-2F^2f^2r^-2sv^5x -16D^-2F^2f^2r^-2s^2v^5 -16D^-2F^2f^2r^-2v^5x^2 +16D^-2Ff^3r^-1v^5 -32D^-2Ff^3r^-1v^3v_tx +32D^-2Ff^3r^-1sv^3v_t -4D^-1F^2fr^-2v^3y^2 -8D^-2F^2f^3r^-2v^5y^2 -4D^-1F^2fr^-2v^3z^2 -8D^-2F^2f^3r^-2v^5z^2',\n",
       "  '-2D^-1Fr^-1v_tx +2D^-1Fr^-1v^2 +2D^-1Fr^-1sv_t +8D^-2Ff^2r^-1v^2v_tx -8D^-2Ff^2r^-1sv^2v_t +2D^-1Fbr^-1v^2 -2D^-1Fbr^-1v_tx +2D^-1Fbr^-1sv_t -8D^-2Fbr^-1v^2 +8D^-2Fbr^-1v_tx -8D^-2Fbr^-1sv_t -1D^-1F^2br^-2v^2y^2 +4D^-2F^2br^-2v^2y^2 -1D^-1F^2br^-2v^2z^2 +4D^-2F^2br^-2v^2z^2 -8D^-1Ffr^-1v^2 -8D^-2Ff^2r^-1v^4 +4D^-2F^2f^2r^-2v^4y^2 +4D^-2F^2f^2r^-2v^4z^2',\n",
       "  '-1D^-1Fr^-1v_ty -2D^-1F^2r^-2v^2xy +2D^-1F^2r^-2sv^2y +4D^-2F^2fr^-2sv^4y -4D^-2F^2fr^-2v^4xy -4D^-2Ff^2r^-1v^2v_ty -2D^-1F^2br^-2v^2xy +2D^-1F^2br^-2sv^2y +8D^-2F^2br^-2v^2xy -8D^-2F^2br^-2sv^2y',\n",
       "  '-1D^-1Fr^-1v_tz -2D^-1F^2r^-2v^2xz +2D^-1F^2r^-2sv^2z +4D^-2F^2fr^-2sv^4z -4D^-2F^2fr^-2v^4xz -4D^-2Ff^2r^-1v^2v_tz -2D^-1F^2br^-2v^2xz +2D^-1F^2br^-2sv^2z +8D^-2F^2br^-2v^2xz -8D^-2F^2br^-2sv^2z'],\n",
       " ['-2D^-1F^2r^-2sv^3y +2D^-1F^2r^-2v^3xy +4D^-1Ffr^-1vv_ty +4D^-1F^2bfr^-2v^3xy -16D^-2F^2bfr^-2v^3xy -4D^-1F^2bfr^-2sv^3y +16D^-2F^2bfr^-2sv^3y -2D^-1F^2br^-2sv^3y +2D^-1F^2br^-2v^3xy +2D^-1Fbfr^-1vv_ty +8D^-2F^2br^-2sv^3y -8D^-2F^2br^-2v^3xy -8D^-2Fbfr^-1vv_ty',\n",
       "  '-1D^-1Fr^-1v_ty -2D^-1F^2r^-2v^2xy +2D^-1F^2r^-2sv^2y +4D^-2F^2fr^-2sv^4y -4D^-2F^2fr^-2v^4xy -4D^-2Ff^2r^-1v^2v_ty -2D^-1F^2br^-2v^2xy +8D^-2F^2br^-2v^2xy +2D^-1F^2br^-2sv^2y -8D^-2F^2br^-2sv^2y',\n",
       "  '-2D^-1F^2r^-2v^2y^2 -4D^-1Ffr^-1v^2 -4D^-2F^2f^2r^-2v^4y^2 -3D^-1F^2br^-2v^2y^2 +12D^-2F^2br^-2v^2y^2 +2D^-1Fbr^-1v^2 -2D^-1Fbr^-1v_tx +2D^-1Fbr^-1sv_t -8D^-2Fbr^-1v^2 +8D^-2Fbr^-1v_tx -8D^-2Fbr^-1sv_t -1D^-1F^2br^-2v^2z^2 +4D^-2F^2br^-2v^2z^2 -16D^-2F^2fr^-2sv^4x +8D^-2F^2fr^-2s^2v^4 +8D^-2F^2fr^-2v^4x^2 -8D^-2Ff^2r^-1v^4 +16D^-2Ff^2r^-1v^2v_tx -16D^-2Ff^2r^-1sv^2v_t +2D^-1F^2r^-2v^2z^2 +4D^-2F^2f^2r^-2v^4z^2',\n",
       "  '-4D^-1F^2r^-2v^2yz -8D^-2F^2f^2r^-2v^4yz -2D^-1F^2br^-2v^2yz +8D^-2F^2br^-2v^2yz'],\n",
       " ['-2D^-1F^2r^-2sv^3z +2D^-1F^2r^-2v^3xz +4D^-1Ffr^-1vv_tz +4D^-1F^2bfr^-2v^3xz -16D^-2F^2bfr^-2v^3xz -4D^-1F^2bfr^-2sv^3z +16D^-2F^2bfr^-2sv^3z -2D^-1F^2br^-2sv^3z +2D^-1F^2br^-2v^3xz +2D^-1Fbfr^-1vv_tz +8D^-2F^2br^-2sv^3z -8D^-2F^2br^-2v^3xz -8D^-2Fbfr^-1vv_tz',\n",
       "  '-1D^-1Fr^-1v_tz -2D^-1F^2r^-2v^2xz +2D^-1F^2r^-2sv^2z +4D^-2F^2fr^-2sv^4z -4D^-2F^2fr^-2v^4xz -4D^-2Ff^2r^-1v^2v_tz -2D^-1F^2br^-2v^2xz +8D^-2F^2br^-2v^2xz +2D^-1F^2br^-2sv^2z -8D^-2F^2br^-2sv^2z',\n",
       "  '-4D^-1F^2r^-2v^2yz -8D^-2F^2f^2r^-2v^4yz -2D^-1F^2br^-2v^2yz +8D^-2F^2br^-2v^2yz',\n",
       "  '-2D^-1F^2r^-2v^2z^2 -4D^-1Ffr^-1v^2 -4D^-2F^2f^2r^-2v^4z^2 -3D^-1F^2br^-2v^2z^2 +12D^-2F^2br^-2v^2z^2 +2D^-1Fbr^-1v^2 -2D^-1Fbr^-1v_tx +2D^-1Fbr^-1sv_t -8D^-2Fbr^-1v^2 +8D^-2Fbr^-1v_tx -8D^-2Fbr^-1sv_t -1D^-1F^2br^-2v^2y^2 +4D^-2F^2br^-2v^2y^2 -16D^-2F^2fr^-2sv^4x +8D^-2F^2fr^-2s^2v^4 +8D^-2F^2fr^-2v^4x^2 -8D^-2Ff^2r^-1v^4 +16D^-2Ff^2r^-1v^2v_tx -16D^-2Ff^2r^-1sv^2v_t +2D^-1F^2r^-2v^2y^2 +4D^-2F^2f^2r^-2v^4y^2']]"
      ]
     },
     "execution_count": 87,
     "metadata": {},
     "output_type": "execute_result"
    }
   ],
   "source": [
    "E_Tensor = Einstein_Tensor(R_Tensor,warp_scalar,Alc)\n",
    "matrix_convert(E_Tensor)"
   ]
  },
  {
   "cell_type": "code",
   "execution_count": 88,
   "metadata": {},
   "outputs": [
    {
     "name": "stdout",
     "output_type": "stream",
     "text": [
      "1/(rD)^2 * (-14.666666666666668Ff^2rv^4 +30.666666666666668Ff^2rv^2v_tx -30.666666666666668Ff^2rsv^2v_t +3F^2f^4v^6y^2 -3.666666666666666F^2f^2v^4y^2 +3F^2f^4v^6z^2 -3.666666666666666F^2f^2v^4z^2 -24Ff^5rv^6 -4.444444444444445Frv^2 +4.444444444444445Frv_tx -4.444444444444445Frsv_t +4.888888888888888F^2v^2y^2 +4.888888888888888F^2v^2z^2 -16Ff^3rv^4 -32F^2fsv^4x +16F^2fs^2v^4 +16F^2fv^4x^2)\n",
      "\n"
     ]
    }
   ],
   "source": [
    "trace = addi([E_Tensor[0][0],E_Tensor[1][1],E_Tensor[2][2],E_Tensor[3][3]])\n",
    "\n",
    "trace_simplified = trace\n",
    "trace_simplified = substitute(mult(P('D^2'),trace_simplified),'D',P('3v^2f^2')) #factor out a 1/D^2\n",
    "trace_simplified = mult(P('r^2'),trace_simplified) #factor out a 1/r^2\n",
    "trace_simplified = substitute(trace_simplified,'b',P('{}'.format(1/3))) #replace b with 1/3\n",
    "\n",
    "print ('1/(rD)^2 * (' + contract(trace_simplified) +')')\n",
    "print()"
   ]
  },
  {
   "cell_type": "code",
   "execution_count": null,
   "metadata": {},
   "outputs": [],
   "source": []
  },
  {
   "cell_type": "code",
   "execution_count": null,
   "metadata": {},
   "outputs": [],
   "source": []
  },
  {
   "cell_type": "code",
   "execution_count": null,
   "metadata": {},
   "outputs": [],
   "source": []
  }
 ],
 "metadata": {
  "kernelspec": {
   "display_name": "Python 3",
   "language": "python",
   "name": "python3"
  },
  "language_info": {
   "codemirror_mode": {
    "name": "ipython",
    "version": 3
   },
   "file_extension": ".py",
   "mimetype": "text/x-python",
   "name": "python",
   "nbconvert_exporter": "python",
   "pygments_lexer": "ipython3",
   "version": "3.7.1"
  }
 },
 "nbformat": 4,
 "nbformat_minor": 2
}
